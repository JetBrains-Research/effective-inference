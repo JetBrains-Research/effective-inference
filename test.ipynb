{
 "cells": [
  {
   "cell_type": "markdown",
   "source": [],
   "metadata": {
    "collapsed": false
   }
  },
  {
   "cell_type": "code",
   "execution_count": null,
   "outputs": [],
   "source": [],
   "metadata": {
    "collapsed": false
   }
  },
  {
   "cell_type": "code",
   "execution_count": 3,
   "outputs": [
    {
     "name": "stdout",
     "output_type": "stream",
     "text": [
      "Modified Attention:\n",
      "tensor([[[0.1667, 0.1667, 0.1667, 0.1667, 0.1667, 0.1667]],\n",
      "\n",
      "        [[0.1667, 0.1667, 0.1667, 0.1667, 0.1667, 0.1667]],\n",
      "\n",
      "        [[0.1667, 0.1667, 0.1667, 0.1667, 0.1667, 0.1667]],\n",
      "\n",
      "        [[0.1667, 0.1667, 0.1667, 0.1667, 0.1667, 0.1667]],\n",
      "\n",
      "        [[0.1667, 0.1667, 0.1667, 0.1667, 0.1667, 0.1667]],\n",
      "\n",
      "        [[0.1667, 0.1667, 0.1667, 0.1667, 0.1667, 0.1667]],\n",
      "\n",
      "        [[0.1667, 0.1667, 0.1667, 0.1667, 0.1667, 0.1667]],\n",
      "\n",
      "        [[0.1667, 0.1667, 0.1667, 0.1667, 0.1667, 0.1667]],\n",
      "\n",
      "        [[0.1667, 0.1667, 0.1667, 0.1667, 0.1667, 0.1667]],\n",
      "\n",
      "        [[0.1667, 0.1667, 0.1667, 0.1667, 0.1667, 0.1667]],\n",
      "\n",
      "        [[0.1667, 0.1667, 0.1667, 0.1667, 0.1667, 0.1667]],\n",
      "\n",
      "        [[0.1667, 0.1667, 0.1667, 0.1667, 0.1667, 0.1667]]])\n",
      "Mean Original Attention:\n",
      "tensor([[[0.1667, 0.1667, 0.1667, 0.1667, 0.1667, 0.1667]],\n",
      "\n",
      "        [[0.1667, 0.1667, 0.1667, 0.1667, 0.1667, 0.1667]],\n",
      "\n",
      "        [[0.1667, 0.1667, 0.1667, 0.1667, 0.1667, 0.1667]],\n",
      "\n",
      "        [[0.1667, 0.1667, 0.1667, 0.1667, 0.1667, 0.1667]],\n",
      "\n",
      "        [[0.1667, 0.1667, 0.1667, 0.1667, 0.1667, 0.1667]],\n",
      "\n",
      "        [[0.1667, 0.1667, 0.1667, 0.1667, 0.1667, 0.1667]],\n",
      "\n",
      "        [[0.1667, 0.1667, 0.1667, 0.1667, 0.1667, 0.1667]],\n",
      "\n",
      "        [[0.1667, 0.1667, 0.1667, 0.1667, 0.1667, 0.1667]],\n",
      "\n",
      "        [[0.1667, 0.1667, 0.1667, 0.1667, 0.1667, 0.1667]],\n",
      "\n",
      "        [[0.1667, 0.1667, 0.1667, 0.1667, 0.1667, 0.1667]],\n",
      "\n",
      "        [[0.1667, 0.1667, 0.1667, 0.1667, 0.1667, 0.1667]],\n",
      "\n",
      "        [[0.1667, 0.1667, 0.1667, 0.1667, 0.1667, 0.1667]]])\n",
      "Mean Attention Equal: True\n"
     ]
    }
   ],
   "source": [
    "from gpt2_attentions_aproximations import GPT2Wrapper\n",
    "import torch\n",
    "from transformers import GPT2Tokenizer, GPT2Model\n",
    "\n",
    "# Load the pretrained GPT2 model and tokenizer\n",
    "model_name = \"gpt2\"\n",
    "model = GPT2Model.from_pretrained(model_name)\n",
    "tokenizer = GPT2Tokenizer.from_pretrained(model_name)\n",
    "\n",
    "# Input sequence\n",
    "text = \"Hello, how are you?\"\n",
    "\n",
    "# Tokenize the input sequence\n",
    "input_ids = tokenizer.encode(text, return_tensors=\"pt\")\n",
    "\n",
    "# Get the attention mask\n",
    "attention_mask = torch.ones_like(input_ids)\n",
    "\n",
    "# Forward pass through the original GPT2 model\n",
    "with torch.no_grad():\n",
    "    original_outputs = model(input_ids, attention_mask=attention_mask, output_attentions=True)\n",
    "\n",
    "# Print the original attention values for the first layer and first head\n",
    "original_attention = original_outputs.attentions[0][0]\n",
    "\n",
    "# Modify the GPT2 model with MeanGPT2Attention\n",
    "modified_model = GPT2Wrapper(model)\n",
    "\n",
    "# Forward pass through the modified GPT2 model\n",
    "with torch.no_grad():\n",
    "    modified_outputs = modified_model(input_ids, attention_mask=attention_mask, output_attentions=True)\n",
    "\n",
    "# Print the modified attention values for the first layer\n",
    "modified_attention = modified_outputs.attentions[0][0].mean(dim=-1).unsqueeze(1)\n",
    "print(\"Modified Attention:\")\n",
    "print(modified_attention)\n",
    "\n",
    "# Calculate the mean of the original attention values\n",
    "mean_original_attention = original_attention.mean(dim=-1).unsqueeze(1)\n",
    "print(\"Mean Original Attention:\")\n",
    "print(mean_original_attention)\n",
    "\n",
    "# Check if mean of the modified attention values match the mean of the original attention values\n",
    "mean_equal = torch.allclose(modified_attention, mean_original_attention)\n",
    "print(\"Mean Attention Equal:\", mean_equal)\n"
   ],
   "metadata": {
    "collapsed": false
   }
  },
  {
   "cell_type": "code",
   "execution_count": null,
   "outputs": [],
   "source": [],
   "metadata": {
    "collapsed": false
   }
  }
 ],
 "metadata": {
  "kernelspec": {
   "display_name": "Python 3",
   "language": "python",
   "name": "python3"
  },
  "language_info": {
   "codemirror_mode": {
    "name": "ipython",
    "version": 2
   },
   "file_extension": ".py",
   "mimetype": "text/x-python",
   "name": "python",
   "nbconvert_exporter": "python",
   "pygments_lexer": "ipython2",
   "version": "2.7.6"
  }
 },
 "nbformat": 4,
 "nbformat_minor": 0
}
