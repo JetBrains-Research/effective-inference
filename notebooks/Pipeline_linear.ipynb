{
 "cells": [
  {
<<<<<<< HEAD
   "cell_type": "code",
   "execution_count": 118,
   "metadata": {},
   "outputs": [
    {
     "name": "stdout",
     "output_type": "stream",
     "text": [
      "/home/sasha/effective-inference\n"
     ]
    }
   ],
   "source": [
    "%cd .."
   ]
  },
  {
=======
>>>>>>> d3bbfca52417847ccaee0378ff159983aa8d5ad5
   "cell_type": "markdown",
   "metadata": {
    "id": "86wQfzJliobb"
   },
   "source": [
    "## Modules"
   ]
  },
  {
   "cell_type": "code",
<<<<<<< HEAD
   "execution_count": 122,
=======
   "execution_count": 1,
>>>>>>> d3bbfca52417847ccaee0378ff159983aa8d5ad5
   "metadata": {
    "id": "ILzAfs53jDU7"
   },
   "outputs": [],
   "source": [
    "from typing import Tuple, List, Dict, Optional, Union\n",
    "from datasets import load_dataset\n",
    "from datasets.arrow_dataset import Dataset\n",
    "from datasets.dataset_dict import DatasetDict\n",
    "\n",
<<<<<<< HEAD
    "from utils.prepare_dataset import load_datasets, cut_datasets\n",
    "from utils.attention_patterns.bert_module_linear import LinearClassifierBertAttention, BertWrapperLin\n",
    "# from utils.attention_patterns.gpt2_module_linear import "
=======
    "def load_datasets(benchmark_name: str, dataset_names: List[str], cut_len=None):\n",
    "    ans = {}\n",
    "    for name in dataset_names:\n",
    "        dataset = load_dataset(benchmark_name, name)\n",
    "        ans[f'{name}'] = dataset\n",
    "    if cut_len is not None:\n",
    "        ans = cut_datasets(ans, cut_len)\n",
    "    return ans\n",
    "\n",
    "def cut_datasets(\n",
    "    datasets: Dict[str, Union[DatasetDict, Dict[str, Dataset], Dict[str, Dataset]]],\n",
    "    cut_len:int = 100\n",
    "):\n",
    "    for dataset_name, dataset in datasets.items():\n",
    "        for dataset_split_name, dataset_split in dataset.items():\n",
    "            new_split = dataset_split[:cut_len]\n",
    "            if isinstance(new_split, dict):\n",
    "                new_split = [dict(zip(new_split,t)) for t in zip(*new_split.values())]\n",
    "            datasets[dataset_name][dataset_split_name] = new_split\n",
    "    return datasets\n"
>>>>>>> d3bbfca52417847ccaee0378ff159983aa8d5ad5
   ]
  },
  {
   "cell_type": "code",
<<<<<<< HEAD
   "execution_count": 2,
   "metadata": {
    "id": "ZbPmgLCYi0rf"
   },
   "outputs": [],
   "source": [
    "# from datasets import load_dataset\n",
    "# from transformers import AutoTokenizer, AutoModel, GPT2LMHeadModel\n",
    "# from sklearn.linear_model import LinearRegression, LogisticRegression\n",
    "# from sklearn.metrics import accuracy_score, f1_score, precision_score, recall_score, roc_auc_score\n",
    "# from sklearn.metrics import classification_report\n",
    "# from nltk.translate.bleu_score import corpus_bleu, SmoothingFunction\n",
    "# import torch\n",
    "# #from progressbar import progressbar\n",
    "# from tqdm.auto import tqdm\n",
    "# from collections import defaultdict\n",
    "\n",
    "# import seaborn as sns\n",
    "# import matplotlib.pyplot as plt\n",
    "# from transformers.models.bert.modeling_bert import BertSelfAttention, BertModel, BaseModelOutputWithPastAndCrossAttentions\n",
    "# from typing import Optional, Tuple, Union, List\n",
    "# from torch import nn\n",
    "# from copy import deepcopy\n",
    "# import joblib\n",
    "\n",
    "\n",
    "# WINDOW_SIZE = 10\n",
    "\n",
    "# class LinearClassifierBertAttention(BertSelfAttention):\n",
    "#     \"\"\"\n",
    "#     Idea: attention weights are predicted by Linear Classifier\n",
    "#     \"\"\"\n",
    "#     def set_models(self, coefs, layer):\n",
    "#         # print(coefs.size)\n",
    "#         # print(coefs[768])\n",
    "#         self.hidden_pred = torch.nn.Linear(\n",
    "#             in_features=768,\n",
    "#             out_features=1\n",
    "#         )\n",
    "#         self.hidden_pred.data = torch.tensor(coefs[:768]).view(1, -1).to(DEVICE)\n",
    "#         self.pos_i_coef = coefs[768]\n",
    "#         self.pos_j_coef = coefs[769]\n",
    "#         self.relev_pos_i_coef = coefs[770]\n",
    "#         self.relev_pos_j_coef = coefs[771]\n",
    "#         self.inv_pos_i_coef = coefs[772]\n",
    "#         self.inv_pos_j_coef = coefs[773]\n",
    "#         self.inv_relev_pos_i_coef = coefs[774]\n",
    "#         self.inv_relev_pos_j_coef = coefs[775]\n",
    "#         self.seq_len_coef = coefs[776]\n",
    "#         self.inv_seq_len_coef = coefs[777]\n",
    "#         self.layer_coef = coefs[778]\n",
    "#         self.layer = layer\n",
    "\n",
    "#     def set_window_size(self, window_size):\n",
    "#         self.WINDOW_SIZE = window_size\n",
    "\n",
    "#     def forward(\n",
    "#         self,\n",
    "#         hidden_states: torch.Tensor,\n",
    "#         attention_mask: Optional[torch.FloatTensor] = None,\n",
    "#         head_mask: Optional[torch.FloatTensor] = None,\n",
    "#         encoder_hidden_states: Optional[torch.FloatTensor] = None,\n",
    "#         encoder_attention_mask: Optional[torch.FloatTensor] = None,\n",
    "#         past_key_value: Optional[Tuple[Tuple[torch.FloatTensor]]] = None,\n",
    "#         output_attentions: Optional[bool] = False,\n",
    "#         special_tokens_idxs: Optional[List[int]] = [0]\n",
    "#     ) -> Tuple[torch.Tensor]:\n",
    "#         mixed_query_layer = self.query(hidden_states)\n",
    "\n",
    "#         # If this is instantiated as a cross-attention module, the keys\n",
    "#         # and values come from an encoder; the attention mask needs to be\n",
    "#         # such that the encoder's padding tokens are not attended to.\n",
    "#         is_cross_attention = encoder_hidden_states is not None\n",
    "\n",
    "#         if is_cross_attention and past_key_value is not None:\n",
    "#             # reuse k,v, cross_attentions\n",
    "#             key_layer = past_key_value[0]\n",
    "#             value_layer = past_key_value[1]\n",
    "#             attention_mask = encoder_attention_mask\n",
    "#             special_tokens_idxs = (encoder_hidden_states[0] < 103).nonzero().squeeze()\n",
    "#         elif is_cross_attention:\n",
    "#             key_layer = self.transpose_for_scores(self.key(encoder_hidden_states))\n",
    "#             value_layer = self.transpose_for_scores(self.value(encoder_hidden_states))\n",
    "#             attention_mask = encoder_attention_mask\n",
    "#             special_tokens_idxs = (encoder_hidden_states[0] < 103).nonzero().squeeze()\n",
    "#         elif past_key_value is not None:\n",
    "#             key_layer = self.transpose_for_scores(self.key(hidden_states))\n",
    "#             value_layer = self.transpose_for_scores(self.value(hidden_states))\n",
    "#             key_layer = torch.cat([past_key_value[0], key_layer], dim=2)\n",
    "#             value_layer = torch.cat([past_key_value[1], value_layer], dim=2)\n",
    "#         else:\n",
    "\n",
    "#             key_layer = self.transpose_for_scores(self.key(hidden_states))\n",
    "#             value_layer = self.transpose_for_scores(self.value(hidden_states))\n",
    "    \n",
    "#         seq_len = hidden_states.shape[1]\n",
    "#         hidden_states_attention_features = self.hidden_pred(hidden_states)\n",
    "        \n",
    "\n",
    "#         predicted_attention = hidden_states_attention_features.repeat(1, 1, seq_len) #.transpose(1, 2) # bs, seq_len, 1        \n",
    "#         positions = torch.arange(seq_len)\n",
    "\n",
    "#         # add i, j pos features\n",
    "#         positions_features_from = positions * self.pos_i_coef # seq_len\n",
    "#         positions_features_out = positions * self.pos_j_coef # seq_len\n",
    "#         predicted_attention += positions_features_from.T\n",
    "#         predicted_attention += positions_features_out\n",
    "\n",
    "#         # add relev i, j pos features\n",
    "#         relev_positions_features_from = (seq_len - positions) * self.relev_pos_i_coef # seq_len\n",
    "#         relev_positions_features_out = (seq_len - positions) * self.relev_pos_j_coef # seq_len\n",
    "#         predicted_attention += relev_positions_features_from.T\n",
    "#         predicted_attention += relev_positions_features_out\n",
    "       \n",
    "\n",
    "#         inv_positions_features_from = (positions / seq_len) * self.inv_pos_i_coef # seq_len\n",
    "#         inv_positions_features_out = (positions / seq_len) * self.inv_pos_j_coef # seq_len\n",
    "#         predicted_attention += inv_positions_features_from.T\n",
    "#         predicted_attention += inv_positions_features_out\n",
    "        \n",
    "        \n",
    "#         inv_relev_positions_features_from = ((seq_len - positions) / seq_len) * self.inv_relev_pos_i_coef # seq_len\n",
    "#         inv_relev_positions_features_out = ((seq_len - positions) / seq_len) * self.inv_relev_pos_j_coef # seq_len\n",
    "#         predicted_attention += inv_relev_positions_features_from.T\n",
    "#         predicted_attention += inv_relev_positions_features_out\n",
    "\n",
    "#         seq_len_feature = self.seq_len_coef * seq_len # 1\n",
    "#         inv_seq_len_feature = self.inv_seq_len_coef * (1 / seq_len) # 1\n",
    "#         layer_feature = self.layer * self.layer_coef # 1\n",
    "#         predicted_attention += seq_len_feature\n",
    "#         predicted_attention += inv_seq_len_feature\n",
    "#         predicted_attention += layer_feature\n",
    "        \n",
    "#         predicted_attention = torch.clamp(predicted_attention, min=-10, max=10)\n",
    "#         # print(predicted_attention)\n",
    "#         attention_probs = torch.exp(predicted_attention) #torch.nn.functional.softmax(predicted_attention, dim=-1)\n",
    "#         # print(attention_probs)\n",
    "#         # print(value_layer.squeeze(1).size())\n",
    "#         context_layer = torch.matmul(attention_probs, value_layer.squeeze(1))\n",
    "#         # print(context_layer.size())\n",
    "#         context_layer = context_layer.permute(0, 2, 1, 3).contiguous()\n",
    "#         new_context_layer_shape = context_layer.size()[:-2] + (self.all_head_size,)\n",
    "#         context_layer = context_layer.view(new_context_layer_shape)\n",
    "\n",
    "    \n",
    "#         outputs = (context_layer, attention_probs) if output_attentions else (context_layer,)\n",
    "\n",
    "#         if self.is_decoder:\n",
    "#             outputs = outputs + (past_key_value,)\n",
    "#         return outputs\n",
    "\n",
    "\n",
    "# class BertWrapperLin(nn.Module):\n",
    "#     def __init__(self, model, new_attention_class, final_model_weights_dict,  layer_nums=None, window_size=2):\n",
    "#         super().__init__()\n",
    "\n",
    "#         self.bert_model = deepcopy(model)\n",
    "#         self.layer_nums = layer_nums\n",
    "#         self.final_model_weights_dict = final_model_weights_dict\n",
    "\n",
    "\n",
    "#         # Create a list of modules to modify\n",
    "#         modules_to_modify = []\n",
    "#         for i in final_model_weights_dict.keys():\n",
    "#             if (layer_nums is not None and i in layer_nums) or (layer_nums is None):\n",
    "#                 mean_attention = new_attention_class(self.bert_model.config)\n",
    "#                 mean_attention.set_window_size(window_size)\n",
    "#                 mean_attention.load_state_dict(self.bert_model.encoder.layer[i].attention.self.state_dict())\n",
    "#                 # mean_attention.encoder_hidden_states = self.bert_model.encoder.layer[i].attention.self.encoder_hidden_states\n",
    "#                 if self.final_model_weights_dict is not None: # and i in final_model_weights_dict.keys():\n",
    "#                     mean_attention.set_models(self.final_model_weights_dict[i], i)\n",
    "#                 self.bert_model.encoder.layer[i].attention.self = mean_attention\n",
    "\n",
    "#     def forward(self, *args, **kwargs):\n",
    "#         return self.bert_model(*args, **kwargs)"
=======
   "execution_count": 17,
   "metadata": {},
   "outputs": [],
   "source": [
    "from datasets import load_dataset\n",
    "from transformers import AutoTokenizer, AutoModel, GPT2LMHeadModel\n",
    "from sklearn.linear_model import LinearRegression, LogisticRegression\n",
    "from sklearn.metrics import accuracy_score, f1_score, precision_score, recall_score, roc_auc_score\n",
    "from sklearn.metrics import classification_report\n",
    "from nltk.translate.bleu_score import corpus_bleu, SmoothingFunction\n",
    "import torch\n",
    "#from progressbar import progressbar\n",
    "from tqdm.auto import tqdm\n",
    "from collections import defaultdict\n",
    "\n",
    "import seaborn as sns\n",
    "import matplotlib.pyplot as plt\n",
    "from transformers.models.bert.modeling_bert import BertSelfAttention, BertModel, BaseModelOutputWithPastAndCrossAttentions\n",
    "from typing import Optional, Tuple, Union, List\n",
    "from torch import nn\n",
    "from copy import deepcopy\n",
    "import joblib\n",
    "\n",
    "\n",
    "WINDOW_SIZE = 10\n",
    "\n",
    "class LinearClassifierBertAttention(BertSelfAttention):\n",
    "    \"\"\"\n",
    "    Idea: attention weights are predicted by Linear Classifier\n",
    "    \"\"\"\n",
    "    def set_models(self, coefs, layer):\n",
    "        # print(coefs.size)\n",
    "        # print(coefs[768])\n",
    "        self.hidden_pred = torch.nn.Linear(\n",
    "            in_features=768,\n",
    "            out_features=1\n",
    "        )\n",
    "        self.hidden_pred.data = torch.tensor(coefs[:768]).view(1, -1).to(DEVICE)\n",
    "        self.pos_i_coef = coefs[768]\n",
    "        self.pos_j_coef = coefs[769]\n",
    "        self.relev_pos_i_coef = coefs[770]\n",
    "        self.relev_pos_j_coef = coefs[771]\n",
    "        self.inv_pos_i_coef = coefs[772]\n",
    "        self.inv_pos_j_coef = coefs[773]\n",
    "        self.inv_relev_pos_i_coef = coefs[774]\n",
    "        self.inv_relev_pos_j_coef = coefs[775]\n",
    "        self.seq_len_coef = coefs[776]\n",
    "        self.inv_seq_len_coef = coefs[777]\n",
    "        self.layer_coef = coefs[778]\n",
    "        self.layer = layer\n",
    "\n",
    "    def set_window_size(self, window_size):\n",
    "        self.WINDOW_SIZE = window_size\n",
    "\n",
    "    def forward(\n",
    "        self,\n",
    "        hidden_states: torch.Tensor,\n",
    "        attention_mask: Optional[torch.FloatTensor] = None,\n",
    "        head_mask: Optional[torch.FloatTensor] = None,\n",
    "        encoder_hidden_states: Optional[torch.FloatTensor] = None,\n",
    "        encoder_attention_mask: Optional[torch.FloatTensor] = None,\n",
    "        past_key_value: Optional[Tuple[Tuple[torch.FloatTensor]]] = None,\n",
    "        output_attentions: Optional[bool] = False,\n",
    "        special_tokens_idxs: Optional[List[int]] = [0]\n",
    "    ) -> Tuple[torch.Tensor]:\n",
    "        mixed_query_layer = self.query(hidden_states)\n",
    "\n",
    "        # If this is instantiated as a cross-attention module, the keys\n",
    "        # and values come from an encoder; the attention mask needs to be\n",
    "        # such that the encoder's padding tokens are not attended to.\n",
    "        is_cross_attention = encoder_hidden_states is not None\n",
    "\n",
    "        if is_cross_attention and past_key_value is not None:\n",
    "            # reuse k,v, cross_attentions\n",
    "            key_layer = past_key_value[0]\n",
    "            value_layer = past_key_value[1]\n",
    "            attention_mask = encoder_attention_mask\n",
    "            special_tokens_idxs = (encoder_hidden_states[0] < 103).nonzero().squeeze()\n",
    "        elif is_cross_attention:\n",
    "            key_layer = self.transpose_for_scores(self.key(encoder_hidden_states))\n",
    "            value_layer = self.transpose_for_scores(self.value(encoder_hidden_states))\n",
    "            attention_mask = encoder_attention_mask\n",
    "            special_tokens_idxs = (encoder_hidden_states[0] < 103).nonzero().squeeze()\n",
    "        elif past_key_value is not None:\n",
    "            key_layer = self.transpose_for_scores(self.key(hidden_states))\n",
    "            value_layer = self.transpose_for_scores(self.value(hidden_states))\n",
    "            key_layer = torch.cat([past_key_value[0], key_layer], dim=2)\n",
    "            value_layer = torch.cat([past_key_value[1], value_layer], dim=2)\n",
    "        else:\n",
    "\n",
    "            key_layer = self.transpose_for_scores(self.key(hidden_states))\n",
    "            value_layer = self.transpose_for_scores(self.value(hidden_states))\n",
    "    \n",
    "        seq_len = hidden_states.shape[1]\n",
    "        hidden_states_attention_features = self.hidden_pred(hidden_states)\n",
    "\n",
    "        predicted_attention = hidden_states_attention_features.repeat(1, 1, seq_len) #.transpose(1, 2) # bs, seq_len, 1\n",
    "        positions = torch.arange(seq_len)\n",
    "        \n",
    "\n",
    "        # add i, j pos features\n",
    "        positions_features_from = positions * self.pos_i_coef # seq_len\n",
    "        positions_features_out = positions * self.pos_j_coef # seq_len\n",
    "        predicted_attention += positions_features_from.T\n",
    "        predicted_attention += positions_features_out\n",
    "\n",
    "        # add relev i, j pos features\n",
    "        relev_positions_features_from = (seq_len - positions) * self.relev_pos_i_coef # seq_len\n",
    "        relev_positions_features_out = (seq_len - positions) * self.relev_pos_j_coef # seq_len\n",
    "        predicted_attention += relev_positions_features_from.T\n",
    "        predicted_attention += relev_positions_features_out\n",
    "\n",
    "        inv_positions_features_from = (positions / seq_len) * self.inv_pos_i_coef # seq_len\n",
    "        inv_positions_features_out = (positions / seq_len) * self.inv_pos_j_coef # seq_len\n",
    "        predicted_attention += inv_positions_features_from.T\n",
    "        predicted_attention += inv_positions_features_out\n",
    "\n",
    "        inv_relev_positions_features_from = ((seq_len - positions) / seq_len) * self.inv_relev_pos_i_coef # seq_len\n",
    "        inv_relev_positions_features_out = ((seq_len - positions) / seq_len) * self.inv_relev_pos_j_coef # seq_len\n",
    "        predicted_attention += inv_relev_positions_features_from.T\n",
    "        predicted_attention += inv_relev_positions_features_out\n",
    "\n",
    "        seq_len_feature = self.seq_len_coef * seq_len # 1\n",
    "        inv_seq_len_feature = self.inv_seq_len_coef * (1 / seq_len) # 1\n",
    "        layer_feature = self.layer * self.layer_coef # 1\n",
    "        predicted_attention += seq_len_feature\n",
    "        predicted_attention += inv_seq_len_feature\n",
    "        predicted_attention += layer_feature\n",
    "        attention_probs = torch.exp(predicted_attention) #torch.nn.functional.softmax(predicted_attention, dim=-1)\n",
    "        # print(attention_probs.size())\n",
    "        # print(value_layer.squeeze(1).size())\n",
    "        context_layer = torch.matmul(attention_probs, value_layer.squeeze(1))\n",
    "        # print(context_layer.size())\n",
    "        context_layer = context_layer.permute(0, 2, 1, 3).contiguous()\n",
    "        new_context_layer_shape = context_layer.size()[:-2] + (self.all_head_size,)\n",
    "        context_layer = context_layer.view(new_context_layer_shape)\n",
    "\n",
    "    \n",
    "        outputs = (context_layer, attention_probs) if output_attentions else (context_layer,)\n",
    "\n",
    "        if self.is_decoder:\n",
    "            outputs = outputs + (past_key_value,)\n",
    "        return outputs\n",
    "\n",
    "\n",
    "class BertWrapperLin(nn.Module):\n",
    "    def __init__(self, model, new_attention_class, final_model_weights_dict,  layer_nums=None, window_size=2):\n",
    "        super().__init__()\n",
    "\n",
    "        self.bert_model = deepcopy(model)\n",
    "        self.layer_nums = layer_nums\n",
    "        self.final_model_weights_dict = final_model_weights_dict\n",
    "\n",
    "\n",
    "        # Create a list of modules to modify\n",
    "        modules_to_modify = []\n",
    "        for i in final_model_weights_dict.keys():\n",
    "            if (layer_nums is not None and i in layer_nums) or (layer_nums is None):\n",
    "                mean_attention = new_attention_class(self.bert_model.config)\n",
    "                mean_attention.set_window_size(window_size)\n",
    "                mean_attention.load_state_dict(self.bert_model.encoder.layer[i].attention.self.state_dict())\n",
    "                # mean_attention.encoder_hidden_states = self.bert_model.encoder.layer[i].attention.self.encoder_hidden_states\n",
    "                if self.final_model_weights_dict is not None: # and i in final_model_weights_dict.keys():\n",
    "                    mean_attention.set_models(self.final_model_weights_dict[i], i)\n",
    "                self.bert_model.encoder.layer[i].attention.self = mean_attention\n",
    "\n",
    "    def forward(self, *args, **kwargs):\n",
    "        return self.bert_model(*args, **kwargs)"
>>>>>>> d3bbfca52417847ccaee0378ff159983aa8d5ad5
   ]
  },
  {
   "cell_type": "code",
   "execution_count": 3,
   "metadata": {},
   "outputs": [],
   "source": [
    "from transformers import Conv1D\n",
    "from transformers.models.gpt2.modeling_gpt2 import GPT2Attention, GPT2Model\n",
    "import math\n",
    "import os\n",
    "import warnings\n",
    "from dataclasses import dataclass\n",
    "from typing import Optional, Tuple, Union\n",
    "from copy import deepcopy\n",
    "\n",
    "import torch\n",
    "import torch.utils.checkpoint\n",
    "from torch import nn\n",
    "from torch.cuda.amp import autocast\n",
    "from torch.nn import BCEWithLogitsLoss, CrossEntropyLoss, MSELoss\n",
    "from transformers.pytorch_utils import prune_conv1d_layer, find_pruneable_heads_and_indices\n",
    "\n",
    "WINDOW_SIZE = 5\n",
    "    \n",
    "class LinearClassifierGPT2Attention(GPT2Attention):\n",
    "\n",
    "    def set_models(self, coefs, layer):\n",
    "        # print(coefs.size)\n",
    "        # print(coefs[768])\n",
    "        self.hidden_pred = torch.nn.Linear(\n",
    "            in_features=768,\n",
    "            out_features=1\n",
    "        )\n",
    "        self.hidden_pred.data = torch.tensor(coefs[:768]).view(1, -1).to(DEVICE)\n",
    "        self.pos_i_coef = coefs[768]\n",
    "        self.pos_j_coef = coefs[769]\n",
    "        self.relev_pos_i_coef = coefs[770]\n",
    "        self.relev_pos_j_coef = coefs[771]\n",
    "        self.inv_pos_i_coef = coefs[772]\n",
    "        self.inv_pos_j_coef = coefs[773]\n",
    "        self.inv_relev_pos_i_coef = coefs[774]\n",
    "        self.inv_relev_pos_j_coef = coefs[775]\n",
    "        self.seq_len_coef = coefs[776]\n",
    "        self.inv_seq_len_coef = coefs[777]\n",
    "        self.layer_coef = coefs[778]\n",
    "        self.layer = layer\n",
    "\n",
    "    def set_window_size(self, window_size):\n",
    "        self.WINDOW_SIZE = window_size\n",
    "    def forward(\n",
    "            self,\n",
    "            hidden_states: Optional[Tuple[torch.FloatTensor]],\n",
    "            layer_past: Optional[Tuple[torch.Tensor]] = None,\n",
    "            attention_mask: Optional[torch.FloatTensor] = None, \n",
    "            head_mask: Optional[torch.FloatTensor] = None,\n",
    "            encoder_hidden_states: Optional[torch.Tensor] = None,\n",
    "            encoder_attention_mask: Optional[torch.FloatTensor] = None,\n",
    "            use_cache: Optional[bool] = False,\n",
    "            output_attentions: Optional[bool] = False) -> Tuple[Union[torch.Tensor, Tuple[torch.Tensor]], ...]:\n",
    "\n",
    "        if encoder_hidden_states is not None:\n",
    "            if not hasattr(self, \"q_attn\"):\n",
    "                raise ValueError(\n",
    "                    \"If class is used as cross attention, the weights `q_attn` have to be defined. \"\n",
    "                    \"Please make sure to instantiate class with `GPT2Attention(..., is_cross_attention=True)`.\"\n",
    "                )\n",
    "\n",
    "            query = self.q_attn(hidden_states)\n",
    "            key, value = self.c_attn(encoder_hidden_states).split(self.split_size, dim=2)\n",
    "            attention_mask = encoder_attention_mask\n",
    "        else:\n",
    "            query, key, value = self.c_attn(hidden_states).split(self.split_size, dim=2)\n",
    "\n",
    "        seq_len = hidden_states.shape[1]\n",
    "        hidden_states_attention_features = self.hidden_pred(hidden_states)\n",
    "        \n",
    "        predicted_attention = hidden_states_attention_features.repeat(1, 1, seq_len) # bs, seq_len, 1\n",
    "        positions = torch.arange(seq_len)\n",
    "\n",
    "        #special tokens\n",
    "        # special_tokens_idxs = (encoder_hidden_states[0] < 103).nonzero().squeeze()\n",
    "        \n",
    "        # add i, j pos features\n",
    "        positions_features_from = positions * self.pos_i_coef # seq_len\n",
    "        positions_features_out = positions * self.pos_j_coef # seq_len\n",
    "        predicted_attention += positions_features_from.T\n",
    "        predicted_attention += positions_features_out\n",
    "        \n",
    "        # add relev i, j pos features\n",
    "        relev_positions_features_from = (seq_len - positions) * self.relev_pos_i_coef # seq_len\n",
    "        relev_positions_features_out = (seq_len - positions) * self.relev_pos_j_coef # seq_len\n",
    "        predicted_attention += relev_positions_features_from.T\n",
    "        predicted_attention += relev_positions_features_out\n",
    "        \n",
    "        inv_positions_features_from = (positions / seq_len) * self.inv_pos_i_coef # seq_len\n",
    "        inv_positions_features_out = (positions / seq_len) * self.inv_pos_j_coef # seq_len\n",
    "        predicted_attention += inv_positions_features_from.T\n",
    "        predicted_attention += inv_positions_features_out\n",
    "        \n",
    "        inv_relev_positions_features_from = ((seq_len - positions) / seq_len) * self.inv_relev_pos_i_coef # seq_len\n",
    "        inv_relev_positions_features_out = ((seq_len - positions) / seq_len) * self.inv_relev_pos_j_coef # seq_len\n",
    "        predicted_attention += inv_relev_positions_features_from.T\n",
    "        predicted_attention += inv_relev_positions_features_out\n",
    "\n",
    "        \n",
    "        seq_len_feature = self.seq_len_coef * seq_len # 1\n",
    "        inv_seq_len_feature = self.inv_seq_len_coef * (1 / seq_len) # 1\n",
    "        layer_feature = self.layer * self.layer_coef # 1\n",
    "        predicted_attention += seq_len_feature\n",
    "        predicted_attention += inv_seq_len_feature\n",
    "        predicted_attention += layer_feature\n",
    "\n",
    "        attention_probs = torch.exp(predicted_attention) #torch.nn.functional.softmax(predicted_attention, dim=-1)\n",
    "        # print(value_layer.squeeze(1).size())\n",
    "        context_layer = torch.matmul(attention_probs, value.squeeze(1))\n",
    "        print(attention_probs.size())\n",
    "        print(value.squeeze(1).size())\n",
    "        context_layer = context_layer.permute(0, 2, 1).contiguous()\n",
    "        new_context_layer_shape = context_layer.size()[:-2] + (self.all_head_size,)\n",
    "        context_layer = context_layer.view(new_context_layer_shape)\n",
    "        \n",
    "        outputs = (context_layer, attention_probs) if output_attentions else (context_layer,)\n",
    "\n",
    "        return outputs\n",
    "    \n",
    "\n",
    "\n",
    "class GPT2WrapperLin(nn.Module):\n",
    "    def __init__(self, model, new_attention_class, final_model_weights, layer_nums=None, window_size=2):\n",
    "        super().__init__()\n",
    "\n",
    "        self.gpt2_model = deepcopy(model)\n",
    "        self.layer_nums = layer_nums\n",
    "        self.final_model_weights_dict = final_model_weights\n",
    "\n",
    "\n",
    "        # Create a list of modules to modify\n",
    "        modules_to_modify = []\n",
    "\n",
    "        for i in layer_nums:\n",
    "            if (layer_nums is not None and i in layer_nums) or (layer_nums is None):\n",
    "                mean_attention = new_attention_class(self.gpt2_model.config)\n",
    "                mean_attention.set_window_size(window_size)\n",
    "                mean_attention.load_state_dict(self.gpt2_model.h[i].attn.state_dict())\n",
    "                if self.final_model_weights_dict is not None: # and i in final_model_weights_dict.keys():\n",
    "                    mean_attention.set_models(self.final_model_weights_dict[i], i)\n",
    "                self.gpt2_model.h[i].attn = mean_attention\n",
    "           \n",
    "            \n",
    "\n",
    "    def forward(self, *args, **kwargs):\n",
    "        return self.gpt2_model(*args, **kwargs)\n"
   ]
  },
  {
   "cell_type": "markdown",
   "metadata": {
    "id": "QVOIZqpqit0K"
   },
   "source": [
    "## Pipeline"
   ]
  },
  {
   "cell_type": "code",
<<<<<<< HEAD
   "execution_count": 123,
=======
   "execution_count": 4,
>>>>>>> d3bbfca52417847ccaee0378ff159983aa8d5ad5
   "metadata": {
    "id": "Rg9YAtGJiVDX"
   },
   "outputs": [],
   "source": [
    "from datasets import load_dataset\n",
    "from transformers import AutoTokenizer, AutoModel, GPT2LMHeadModel\n",
    "from sklearn.linear_model import LinearRegression, LogisticRegression\n",
    "from sklearn.metrics import accuracy_score, f1_score, precision_score, recall_score, roc_auc_score\n",
    "from sklearn.metrics import classification_report\n",
    "from nltk.translate.bleu_score import corpus_bleu, SmoothingFunction\n",
    "import torch\n",
    "#from progressbar import progressbar\n",
    "from tqdm.auto import tqdm\n",
    "\n",
    "from collections import defaultdict\n",
    "\n",
    "import seaborn as sns\n",
    "from sklearn.linear_model import SGDRegressor\n",
    "import matplotlib.pyplot as plt\n",
    "sns.set(style='darkgrid')\n",
    "import numpy as np\n",
    "import json\n",
    "import h5py\n",
    "import os\n",
    "from tqdm import tqdm\n",
    "from sklearn.preprocessing import StandardScaler\n",
    "from sklearn.preprocessing import PolynomialFeatures"
   ]
  },
  {
   "cell_type": "markdown",
   "metadata": {},
   "source": [
    "### Define Parameters"
   ]
  },
  {
   "cell_type": "code",
<<<<<<< HEAD
   "execution_count": 124,
=======
   "execution_count": 5,
>>>>>>> d3bbfca52417847ccaee0378ff159983aa8d5ad5
   "metadata": {
    "colab": {
     "base_uri": "https://localhost:8080/",
     "height": 496,
     "referenced_widgets": [
      "407ac00e86a741b3a2cce20cb2e3a25b",
      "85765b5c71ad4d91947b29e69fdd49f4",
      "f439505bc9fc4df8a60ce6d0b2bda93e",
      "3cd37bdf025846f5bb0e1c25c461ab01",
      "b7322d55ddca4728a636ef96fa360532",
      "963e1648d20b4723930c1287a56cef42",
      "4ff55303f9154bd3a70467b83ae11667",
      "17b86a1713d64b6fbb74fa1f620c28b6",
      "326ac6354bce4d55bca435a5b9f4e149",
      "eacb5fae3b4d411dae7d93193085ab67",
      "1935d451e05c4c4fa9e520523bb49a0f",
      "2111e57c9ad34142817ff09523328239",
      "96b593dd44464b91a3c48a0795cf7076",
      "046d7c461ebf4ccab93ad4e669d28ef9",
      "0597d9cd22b44603a8192630036c8fd9",
      "35b41e673a7e43548f3e70231984c5d8",
      "8760e8b43d994f09baaac56af792ad42",
      "66093d46f7f44dae98a578208af05bb2",
      "de2f3d46bf9e4df49567e0fcf5d3b579",
      "106ea3c1bc314ccca015632af2158fb0",
      "7237c183499446b3bff47406038bd794",
      "2d73f6ab59e345dc8e5ad425d8a6fc06",
      "58864177ce3046728dd570a7cb0b10f4",
      "32009a4659b64f5c9e4f7eb3bd45320f",
      "16ff718b08fe4a918853a90d1607f543",
      "4cf2ad8f8fcc4aa882a5d9c1b8781906",
      "f38db671db984755b969661721fc0925",
      "93fffcb963af4e199b3951163a2270d2",
      "d302f29623f54ba39157c9b1f4e47adc",
      "3d066c63d79e4c40a4b4c20ffe360f13",
      "eeb6e5275c3b4f5ea685752cd1fee5bc",
      "5ba2e628158a4232ac2a988cc86d6c7a",
      "079bc1f6dbd9404da05fc990bb6647d7",
      "dea71ddf39514f8f8cc0edec1ffe9d0a",
      "43b0cc13632c4ad78cb7709abe968b43",
      "552c166ae52d4c5a8683d3e2f6cbb661",
      "b5c4aa87a52546bcb1c7fc0343b94a10",
      "9f023bcb1b5348cc9f262b283920b1a5",
      "c29b0638dc414a6ea55853dcce3793e5",
      "2e309e0573f64f5daffde86d4e3be928",
      "a431c00f47f349dd8145ee94f88d3d9e",
      "962cef3284b94b8886b62f1aa6e08039",
      "8ea6132453084090bc5cb2a9649164ed",
      "18071841efad4c77a0a6a4e84a1c04d4",
      "1602f036835c4a818656dc50ed064c05",
      "b6fcadb66a1247c498b703bde90b1382",
      "adc1bf6aa34342edbcb3e1846bdef924",
      "e2a3078f4f744952b398d1f1b912bdb2",
      "39d077ba2bce4d53a5853c65c2e6c15b",
      "41e31be0416e47da98ccb2bd86b704cd",
      "70183855d47e4088835f37affa7c8f7a",
      "680de18fa9f4488d9aa7743e13656b52",
      "bbe6f032d61444a28ea3c83dc4684794",
      "1e5b790639d24b1b964afcda5e652915",
      "8d21b9fa9ebc4ed786d8047c0cddaac7",
      "f18a44e37f404ab9b5250ecd4a02ac0b",
      "5d6b75b347e94f3dafd896a00a193dd1",
      "ba880041e28040719a1744126203c04c",
      "182411aa8f824b4cb9376dbf4dd94b13",
      "dad8ef6a45854057b809896564f42635",
      "9772b105ad184c77b01cc81997bfa969",
      "89498f1164054c999f1ba9f6593af9bc",
      "22fcf64527504cba865ac0c15a07b58c",
      "1ea67387f0e847218d48544be2d82d67",
      "fcc600f5f7c64c7985d65f57e118b1f9",
      "ae490feadd2141c581c1077b17a42f64",
      "d5c5ea268d554b638d910a49530cff99",
      "13e2e5ea9016470aaa3d38d72f011340",
      "0e3dc6469af646ef8b562e5acf50f94e",
      "b1ebc9dc349a4c81a80cbc4369382a27",
      "bf7a3069c4d947d289b413499c3da294",
      "5fdf854197e44352a5ec4d8697060b88",
      "76931ac0a1c641edb38a24a240ca9235",
      "a1dba63282514ad3a37d7f701a1eae9c",
      "b7f52df5fe0540689526d115290133a8",
      "d4d0e1de54d04deea989314b00db841c",
      "1ad4992394304e78b09c7011f6bdca49",
      "dbeda1ce13774b438574d337effb8579",
      "ae5a99c37c9d4ba7b3c9183486ba3634",
      "fdbdd52fe20e4d1287ce5e1581ccf16e",
      "831c630ab6ec49f8a54e496e14f77ac0",
      "e3719a9b42654c28b37bfd1eeccb9283",
      "fed1c41f1198450d9618813a3b3ea4b8",
      "d7361e340f7a452a9728692171dbced0",
      "f2bf19a7dfe243a2ba46b45854b525b2",
      "3fa61f1c283146668aa13efc6f436eff",
      "4ad86401b66645e9bbd26fb54a49b341",
      "42114227bcd549168c400ab24af60296",
      "1998f547f1ef4c8187ba28f9ba3e680d",
      "62ba9094a894433eb31684b36650f6e0",
      "b6fadba69cc44d8388f00b6375096c31",
      "38dbd40bc1f64391afe250b3deb93ed2",
      "693a3c8ad0f84396896254567ad4f2e1",
      "07d59e8917604585a6bac9a19f50a6f7",
      "6e6552c01b3f48018de32fb0ef57474c",
      "ac8b38da240048eead2b9a4509b7dfe0",
      "0c0a509f0ed04196b5fa176eec0358c0",
      "4798080dd7364ef6ad4fc1a636947576",
      "2cc91db41f22412193c1830eec4e8a05",
      "0bad45364f53427a8b305cd52ff96328",
      "fc66821a463b486dbf8ecf4af12fba92",
      "0b9c7fb0dce7423a9745c7b23e920aff",
      "bd31b6645ba6409fbedcd28aafc6599e",
      "df59e4c553944fd4a2c3e148d0e5dd88",
      "77d79843fc4d4d25841520a1787ac92c",
      "198cf0f476c74d4fb1d999a9501a6471",
      "90778459d3bf4e77bca69334e57d868e",
      "6e517ff031be4c128203932be9ff7cbd",
      "ee1eda18559c4749827586cc5c0a3cb1",
      "c38b4c51cd4d4e5386a854c34b41fa23",
      "01b5e74c1c9540bb841659a8b50b683a",
      "06b6f1da7d4445edb20d6b07c4ef708b",
      "8bd82470392544e0947e732a4b165f1f",
      "184ad5b3e44b40d19ef1d81f5ff7835b",
      "15df50f3d3f74801b853e0812e3bcb16",
      "0c63d52a83464114ad35e31c851b9504",
      "d767679b3ca2403ebb924e8fe62ddea9",
      "c2454cef005c4b7e8cd0ef35a77dd4a4",
      "0d1cc33ab9764f0cbd21ecfc84e8c2ed",
      "1bcd5e0baf7f4dc5a61cfb487b40073c",
      "009ff019dbb74528b706bae0e062b79c",
      "ff5380252feb4b80af46508820762529",
      "55d5580a3c6642969e7ea4b1af6f062d",
      "2898aab6763d4a679a2c69e02b6df257",
      "1e112e32605d41a9b3dd1f53b547ac45",
      "5b6b3f31dd62472fb1bab5ca596badc5",
      "118cae38dd7041b6886c38a178d77879",
      "48798ad0fdff4348aac1a6f8c3b2575b",
      "219279654d0c497ea6a3a197a8aea1a9",
      "07538e54e3c84b7e9c728ae32b93e233",
      "2f25472a2ea147dc878dd999088124ce",
      "545770119b9a4acbb38db71489ded4be",
      "e0bf3e9a752c49e188bd1512d5338216",
      "932210500e2c47c896a8c9c32bf2666f",
      "97ad056ff7da4bde8154962f76325798",
      "f1210ef5bf614918b15a471ea4eae104",
      "78ef8f80c0a8447e806bcfd095cd7d82",
      "e3df6ff6023f48c3917dbe7de23bc537",
      "3fff2217019b4ebcb668e36c7b2bb108",
      "d5349e06c71d4347a87000105b7b9597",
      "ee2be9e50e384a72bac10da09bc4081a",
      "eb2ccf72e522484ab77fcd97c08e928e",
      "458d6f9570f8463fa1a3e0d6af4322ca",
      "f77b7d2aed774a9faf2812f6157a30f2",
      "06e556e706e942969121e3ac2f2e6fc9",
      "c0cf2f3c207e4e10800a914f20e01d0a",
      "4d9e0eebdb3d4bcc9cb27d5e73d10ff1",
      "628033cedd2644ee9713f7e85a49068a",
      "abb9c44b42754f538f94cb2dea672555",
      "776ad86d9e9942e18244f4a0e00335c8",
      "2e924fca6a63480ebef9c60cef3a8a4c",
      "8a499d435bed43e281aacc7b67abf453",
      "7f1976b582db492c9c4c0818079bc237",
      "c32583c455414d92aaa695cc8fbee472",
      "70b91738935f4edfa486344f4908b25e",
      "d03bcef512b04fd991df2d9e99bb3c59",
      "c421fc09f86c4371ba271194b67200c3",
      "91f757f113524759a4d9da137d95ec01",
      "ce3a20bb9a5b4b0eb47ca3781ec0c96f",
      "a434a69053474672ba201f0a057e74c4",
      "ffe4bbaa59d74a04a412de68703f52ca",
      "3082644216064b2f858e27f89be4ab89",
      "2d2f5f126e114ba798d499c1540fab29",
      "dca4a766f34f4d97a1cd51b8acbd29b2",
      "1119118ef5f84458aaa3d04172a8da69"
     ]
    },
    "id": "3oglqIvZfb4B",
    "outputId": "d310074c-1feb-472e-a4c9-1e4c5fd16aea"
   },
   "outputs": [],
   "source": [
    "# Define dataset\n",
    "glue_classification = {'mrpc': ['sentence1', 'sentence2']}\n",
    "\n",
    "# Define model (bert or gpt2)\n",
<<<<<<< HEAD
    "model = 'bert' \n",
    "# model = 'gpt2' "
=======
    "# model = 'bert' \n",
    "model = 'gpt2' "
>>>>>>> d3bbfca52417847ccaee0378ff159983aa8d5ad5
   ]
  },
  {
   "cell_type": "markdown",
   "metadata": {},
   "source": [
    "### Load Data"
   ]
  },
  {
   "cell_type": "code",
<<<<<<< HEAD
   "execution_count": 125,
   "metadata": {},
   "outputs": [],
   "source": [
    "if model == 'bert':\n",
    "    model_name = 'bert-base-uncased'\n",
    "elif model == 'gpt2':\n",
    "    model_name = 'gpt2'\n",
    "else: model_name = 'bert-base-uncased'\n",
    "\n",
    "DEBUG_FLAG = False\n",
    "CUT_SIZE = None if not DEBUG_FLAG else 200\n",
    "\n",
    "try:\n",
    "    dataset_name = list(glue_classification.keys())[0]\n",
    "    glue_datasets = load_datasets('glue', list(glue_classification), CUT_SIZE)\n",
    "except:\n",
    "    glue_classification = {'mrpc': ['sentence1', 'sentence2']}\n",
    "    dataset_name = 'mrpc'\n",
    "    glue_datasets = load_datasets('glue', list(glue_classification), CUT_SIZE)\n",
    "    \n",
    "tokenizer = AutoTokenizer.from_pretrained(model_name, max_length=1024)\n",
    "initial_model = AutoModel.from_pretrained(model_name)\n",
    "initial_model.eval()\n",
    "\n",
    "# Define the device\n",
    "device = 'cpu'#torch.device(\"cuda\" if torch.cuda.is_available() else \"cpu\")\n",
    "if device == 'cpu':\n",
    "    device = torch.device(\"mps\" if torch.backends.mps.is_available() else \"cpu\")\n",
    "DEVICE=device\n",
    "initial_model.to(device)\n",
    "\n",
    "None"
   ]
  },
  {
   "cell_type": "code",
   "execution_count": 126,
   "metadata": {
    "colab": {
     "base_uri": "https://localhost:8080/"
    },
    "id": "XbLo_Td_q7Yu",
    "outputId": "7225eb4e-54ac-47f7-e35c-0619d1fb6ca9"
   },
   "outputs": [
    {
     "name": "stderr",
     "output_type": "stream",
     "text": [
      "3668it [12:57,  4.72it/s]\n"
     ]
    }
   ],
   "source": [
    "for ex_idx, ex in tqdm(enumerate(glue_datasets[dataset_name]['train'])):\n",
    "    encoded_inputs = tokenizer.encode(\n",
    "                    ex['sentence1'],\n",
    "                    ex['sentence2'],\n",
    "                    truncation=True,\n",
    "                    return_tensors='pt'\n",
    "                ).to(device)\n",
    "    aa = initial_model(encoded_inputs, output_hidden_states=True, output_attentions=True)\n",
    "\n",
    "    for layer in  range(12):\n",
    "        if not os.path.exists(f'notebooks/{dataset_name}/layer_{layer}'):\n",
    "            os.makedirs(f'notebooks/{dataset_name}/layer_{layer}')\n",
    "\n",
    "        for head_num in range(12): #range(aa.attentions[0].shape[1]):\n",
    "            if not os.path.exists(f'notebooks/{dataset_name}/layer_{layer}/head_{head_num}'):\n",
    "                os.makedirs(f'notebooks/{dataset_name}/layer_{layer}/head_{head_num}')\n",
    "\n",
    "            current_hidden_states = aa.hidden_states[layer][0].detach().cpu().numpy()\n",
    "            next_hidden_states = aa.hidden_states[layer + 1][0].detach().cpu().numpy()\n",
    "            attentions = aa.attentions[layer][0][head_num].detach().cpu().numpy() # .item()\n",
    "\n",
    "            cur_emb = aa.hidden_states[layer][0]\n",
    "\n",
    "            with h5py.File(f'notebooks/{dataset_name}/layer_{layer}/head_{head_num}/{ex_idx}.hdf5', 'w') as f:\n",
    "                f.create_dataset(\"current_hidden_states\", data=current_hidden_states)\n",
    "                f.create_dataset(\"next_hidden_states\", data=next_hidden_states)\n",
    "                f.create_dataset(\"attentions\", data=attentions)"
   ]
  },
  {
   "cell_type": "code",
   "execution_count": 7,
   "metadata": {
    "id": "2UWf_sFEUwy_"
   },
   "outputs": [],
   "source": [
    "def get_dataset_for_regression(prob_of_take=0.01, layer=0, head_num=0):\n",
    "    X_train, y_train = [], []\n",
    "    X_test, y_test = [], []\n",
    "    for ex_idx, ex in tqdm(enumerate(glue_datasets[dataset_name]['train'][:100])):\n",
    "    # for ex_idx, ex in enumerate(glue_datasets[dataset_name]['train'][:50]):\n",
    "        if np.random.choice([0, 1], size=1, p=[0.8, 0.2])[0] > 0.2:\n",
    "            encoded_inputs = tokenizer.encode(\n",
    "                                        ex['sentence1'],\n",
    "                                        ex['sentence2'],\n",
    "                                        truncation=True,\n",
    "                                        return_tensors='pt'\n",
    "                                    )\n",
    "            # special_symbols = (encoded_inputs[0] < 103).nonzero().squeeze()\n",
    "            # for head_num in range(12):\n",
    "            with h5py.File(f'{dataset_name}/layer_{layer}/head_{head_num}/{ex_idx}.hdf5', 'r') as f:\n",
    "    \n",
    "                current_hidden_states = f['current_hidden_states'][()]\n",
    "                next_hidden_states = f['next_hidden_states'][()]\n",
    "                attentions = f['attentions'][()]\n",
    "        \n",
    "                len_of_seq = attentions.shape[0]\n",
    "                for from_ in range(len_of_seq):\n",
    "                    for to_ in range(len_of_seq):\n",
    "                        if np.random.choice([0, 1], size=1, p=[1-prob_of_take, prob_of_take])[0] > 0.2:\n",
    "                                        #feature_vector = []\n",
    "                                        # (pos form, pos to, is_from_special_token, is_to_special_token,\n",
    "                                        # len_of_seq, rel_position_from, rel_position_to, rev_pos_from, rev_pos_to, to_emb)\n",
    "        \n",
    "        \n",
    "                            feature_vector = list(current_hidden_states[to_])\n",
    "                            feature_vector.append(from_) # from_ pos\n",
    "                            feature_vector.append(to_) # to_ pos\n",
    "        \n",
    "                            feature_vector.append(len_of_seq - from_) # from_ pos\n",
    "                            feature_vector.append(len_of_seq - to_) # to_ pos\n",
    "        \n",
    "                            feature_vector.append(from_ / len_of_seq) # from_ pos\n",
    "                            feature_vector.append(to_ / len_of_seq) # to_ pos\n",
    "        \n",
    "                            feature_vector.append((len_of_seq - from_) / len_of_seq) # from_ pos\n",
    "                            feature_vector.append((len_of_seq - to_) / len_of_seq) # to_ pos\n",
    "        \n",
    "                            feature_vector.append(len_of_seq)\n",
    "                            feature_vector.append(1/len_of_seq)\n",
    "        \n",
    "                            feature_vector.append(layer)\n",
    "        \n",
    "                                        #X_train.append(feature_vector)\n",
    "                                        # y_train.append(np.log(max(attentions[from_, to_], 1e-10)))\n",
    "        \n",
    "                            X_train.append(feature_vector)\n",
    "                            y_train.append(np.log(attentions[from_, to_]))\n",
    "                        \n",
    "    l = round(len(X_train)*0.95)\n",
    "    X_test = X_train[l:]\n",
    "    y_test = y_train[l:]\n",
    "    X_train = X_train[:l]\n",
    "    y_train = y_train[:l]\n",
    "    \n",
    "    return X_train, y_train, X_test, y_test"
   ]
  },
  {
   "cell_type": "markdown",
   "metadata": {},
   "source": [
    "### Fit Linear Models"
   ]
  },
  {
   "cell_type": "code",
   "execution_count": 60,
   "metadata": {},
   "outputs": [
    {
     "ename": "NameError",
     "evalue": "name 'CustomLinearRegression' is not defined",
     "output_type": "error",
     "traceback": [
      "\u001b[0;31m---------------------------------------------------------------------------\u001b[0m",
      "\u001b[0;31mNameError\u001b[0m                                 Traceback (most recent call last)",
      "Cell \u001b[0;32mIn[60], line 1\u001b[0m\n\u001b[0;32m----> 1\u001b[0m \u001b[43mCustomLinearRegression\u001b[49m\n",
      "\u001b[0;31mNameError\u001b[0m: name 'CustomLinearRegression' is not defined"
     ]
    }
   ],
   "source": [
    "CustomLinearRegression"
   ]
  },
  {
   "cell_type": "code",
   "execution_count": 103,
   "metadata": {},
   "outputs": [],
   "source": [
    "\n",
    "import numpy as np\n",
    "\n",
    "class CustomLinearRegression:\n",
    "    def __init__(self, learning_rate=0.0001, num_iterations=1000):\n",
    "        self.learning_rate = learning_rate\n",
    "        self.num_iterations = num_iterations\n",
    "        self.weights = None\n",
    "        self.bias = None\n",
    "\n",
    "    def _initialize_weights(self, num_features):\n",
    "        self.weights = np.zeros(num_features)\n",
    "        self.bias = 0\n",
    "\n",
    "    def fit(self, X, y):\n",
    "        X = np.array(X)  # Convert X to a NumPy array\n",
    "        y = np.array(y)  # Convert y to a NumPy array\n",
    "        num_samples, num_features = X.shape\n",
    "        if self.weights is None:\n",
    "            self._initialize_weights(num_features)\n",
    "\n",
    "        for _ in range(self.num_iterations):\n",
    "            y_pred = np.dot(X, self.weights) + self.bias\n",
    "            dw = (1 / num_samples) * np.dot(X.T, (y_pred - y))\n",
    "            db = (1 / num_samples) * np.sum(y_pred - y)\n",
    "\n",
    "            self.weights -= self.learning_rate * dw\n",
    "            self.bias -= self.learning_rate * db\n",
    "\n",
    "    def partial_fit(self, X, y):\n",
    "        X = np.array(X)  # Convert X to a NumPy array\n",
    "        y = np.array(y)  # Convert y to a NumPy array\n",
    "        num_samples, num_features = X.shape\n",
    "        if self.weights is None:\n",
    "            self._initialize_weights(num_features)\n",
    "\n",
    "        y_pred = np.dot(X, self.weights) + self.bias\n",
    "        dw = (1 / num_samples) * np.dot(X.T, (y_pred - y))\n",
    "        db = (1 / num_samples) * np.sum(y_pred - y)\n",
    "\n",
    "        self.weights -= self.learning_rate * dw\n",
    "        self.bias -= self.learning_rate * db\n",
    "\n",
    "    def predict(self, X):\n",
    "        X = np.array(X)  # Convert X to a NumPy array\n",
    "        return np.dot(X, self.weights) + self.bias\n",
    "\n",
    "        \n",
    "    def coef_(self):\n",
    "        if self.weights is None:\n",
    "            raise ValueError(\"The model has not been fitted yet.\")\n",
    "        return self.weights"
   ]
  },
  {
   "cell_type": "code",
   "execution_count": 110,
   "metadata": {
    "id": "Dv9BD_HNCgjc"
   },
   "outputs": [],
   "source": [
    "from sklearn.linear_model import Ridge, Lasso\n",
    "from sklearn.pipeline import Pipeline\n",
    "from sklearn.preprocessing import StandardScaler\n",
    "import matplotlib.pyplot as plt\n",
    "from sklearn.metrics import r2_score\n",
    "from statistics import mean\n",
    "    \n",
    "def learn_linear(model, y_scaler, reverse_scaler, X_train, y_train, X_test, y_test, num_examples = 5):\n",
    "    # y_scaler = StandardScaler()\n",
    "    y_train_scaled = y_scaler(y_train) \n",
    "    y_test_scaled = y_scaler(y_test) \n",
    "\n",
    "    print('Y train mean scaled:', np.mean(y_train_scaled), ', Y test mean scaled:', np.mean(y_test_scaled))\n",
    "    \n",
    "    model.partial_fit(X_train, y_train_scaled)\n",
    "\n",
    "    return model\n",
    "\n",
    "pipe_linear = CustomLinearRegression()\n",
    "id_scaler = lambda x: [el for el in x]\n"
   ]
  },
  {
   "cell_type": "code",
   "execution_count": 111,
   "metadata": {
    "colab": {
     "base_uri": "https://localhost:8080/"
    },
    "editable": true,
    "id": "EtGvQ2_aVHCS",
    "outputId": "944c1fbf-42b4-42c0-95ac-04fb5e75838e",
    "slideshow": {
     "slide_type": ""
    },
    "tags": []
   },
   "outputs": [
    {
     "name": "stdout",
     "output_type": "stream",
     "text": [
      "Layer 11\n"
     ]
    },
    {
     "name": "stderr",
     "output_type": "stream",
     "text": [
      "100it [00:04, 22.29it/s]\n"
     ]
    },
    {
     "name": "stdout",
     "output_type": "stream",
     "text": [
      "12.9\n",
      "Train: 23219, Test: 1222\n",
      "Y train mean scaled: -6.186728 , Y test mean scaled: -6.1282406\n",
      "Test R2: -1.008\n"
     ]
    },
    {
     "name": "stderr",
     "output_type": "stream",
     "text": [
      "100it [00:02, 45.58it/s]\n"
     ]
    },
    {
     "name": "stdout",
     "output_type": "stream",
     "text": [
      "12.9\n",
      "Train: 11389, Test: 599\n",
      "Y train mean scaled: -6.198215 , Y test mean scaled: -5.9748087\n",
      "Test R2: -0.124\n"
     ]
    },
    {
     "name": "stderr",
     "output_type": "stream",
     "text": [
      "100it [00:03, 27.57it/s]\n"
     ]
    },
    {
     "name": "stdout",
     "output_type": "stream",
     "text": [
      "12.7\n",
      "Train: 18421, Test: 970\n",
      "Y train mean scaled: -5.038317 , Y test mean scaled: -4.894526\n",
      "Test R2: -0.074\n"
     ]
    },
    {
     "name": "stderr",
     "output_type": "stream",
     "text": [
      "100it [00:03, 28.20it/s]\n"
     ]
    },
    {
     "name": "stdout",
     "output_type": "stream",
     "text": [
      "12.7\n",
      "Train: 15773, Test: 830\n",
      "Y train mean scaled: -6.70521 , Y test mean scaled: -6.5336742\n",
      "Test R2: -0.012\n"
     ]
    },
    {
     "name": "stderr",
     "output_type": "stream",
     "text": [
      "100it [00:02, 35.72it/s]\n"
     ]
    },
    {
     "name": "stdout",
     "output_type": "stream",
     "text": [
      "13.0\n",
      "Train: 14228, Test: 749\n",
      "Y train mean scaled: -5.944972 , Y test mean scaled: -6.444599\n",
      "Test R2: 0.01\n"
     ]
    },
    {
     "name": "stderr",
     "output_type": "stream",
     "text": [
      "100it [00:02, 33.66it/s]\n"
     ]
    },
    {
     "name": "stdout",
     "output_type": "stream",
     "text": [
      "13.0\n",
      "Train: 15015, Test: 790\n",
      "Y train mean scaled: -5.86114 , Y test mean scaled: -6.5988083\n",
      "Test R2: -0.105\n"
     ]
    },
    {
     "name": "stderr",
     "output_type": "stream",
     "text": [
      "100it [00:02, 36.16it/s]\n"
     ]
    },
    {
     "name": "stdout",
     "output_type": "stream",
     "text": [
      "13.0\n",
      "Train: 13921, Test: 733\n",
      "Y train mean scaled: -6.070483 , Y test mean scaled: -5.8939204\n",
      "Test R2: -0.158\n"
     ]
    },
    {
     "name": "stderr",
     "output_type": "stream",
     "text": [
      "100it [00:02, 35.93it/s]\n"
     ]
    },
    {
     "name": "stdout",
     "output_type": "stream",
     "text": [
      "12.8\n",
      "Train: 14078, Test: 741\n",
      "Y train mean scaled: -6.9023232 , Y test mean scaled: -7.0095625\n",
      "Test R2: -0.064\n"
     ]
    },
    {
     "name": "stderr",
     "output_type": "stream",
     "text": [
      "100it [00:02, 43.70it/s]\n"
     ]
    },
    {
     "name": "stdout",
     "output_type": "stream",
     "text": [
      "12.9\n",
      "Train: 11683, Test: 615\n",
      "Y train mean scaled: -6.1529098 , Y test mean scaled: -6.7317176\n",
      "Test R2: -0.045\n"
     ]
    },
    {
     "name": "stderr",
     "output_type": "stream",
     "text": [
      "100it [00:03, 32.97it/s]\n"
     ]
    },
    {
     "name": "stdout",
     "output_type": "stream",
     "text": [
      "12.5\n",
      "Train: 15347, Test: 808\n",
      "Y train mean scaled: -4.8388886 , Y test mean scaled: -5.3305097\n",
      "Test R2: -0.04\n"
     ]
    },
    {
     "name": "stderr",
     "output_type": "stream",
     "text": [
      "100it [00:03, 26.82it/s]\n"
     ]
    },
    {
     "name": "stdout",
     "output_type": "stream",
     "text": [
      "12.7\n",
      "Train: 19026, Test: 1001\n",
      "Y train mean scaled: -6.323392 , Y test mean scaled: -6.784726\n",
      "Test R2: 0.035\n"
     ]
    },
    {
     "name": "stderr",
     "output_type": "stream",
     "text": [
      "100it [00:04, 24.85it/s]\n"
     ]
    },
    {
     "name": "stdout",
     "output_type": "stream",
     "text": [
      "12.8\n",
      "Train: 17262, Test: 909\n",
      "Y train mean scaled: -6.9150276 , Y test mean scaled: -5.941297\n",
      "Test R2: -0.489\n",
      "\n",
      "Layer 10\n"
     ]
    },
    {
     "name": "stderr",
     "output_type": "stream",
     "text": [
      "100it [00:03, 27.20it/s]\n"
     ]
    },
    {
     "name": "stdout",
     "output_type": "stream",
     "text": [
      "13.0\n",
      "Train: 18562, Test: 977\n",
      "Y train mean scaled: -5.326645 , Y test mean scaled: -5.151484\n",
      "Test R2: -0.49\n"
     ]
    },
    {
     "name": "stderr",
     "output_type": "stream",
     "text": [
      "100it [00:02, 35.27it/s]\n"
     ]
    },
    {
     "name": "stdout",
     "output_type": "stream",
     "text": [
      "12.8\n",
      "Train: 14897, Test: 784\n",
      "Y train mean scaled: -8.219106 , Y test mean scaled: -7.315703\n",
      "Test R2: -0.491\n"
     ]
    },
    {
     "name": "stderr",
     "output_type": "stream",
     "text": [
      "100it [00:03, 25.34it/s]\n"
     ]
    },
    {
     "name": "stdout",
     "output_type": "stream",
     "text": [
      "12.9\n",
      "Train: 19322, Test: 1017\n",
      "Y train mean scaled: -6.301921 , Y test mean scaled: -6.3090186\n",
      "Test R2: -0.057\n"
     ]
    },
    {
     "name": "stderr",
     "output_type": "stream",
     "text": [
      "100it [00:04, 20.68it/s]\n"
     ]
    },
    {
     "name": "stdout",
     "output_type": "stream",
     "text": [
      "12.9\n",
      "Train: 24449, Test: 1287\n",
      "Y train mean scaled: -5.667146 , Y test mean scaled: -5.2359486\n",
      "Test R2: -0.434\n"
     ]
    },
    {
     "name": "stderr",
     "output_type": "stream",
     "text": [
      "100it [00:03, 33.14it/s]\n"
     ]
    },
    {
     "name": "stdout",
     "output_type": "stream",
     "text": [
      "12.9\n",
      "Train: 15539, Test: 818\n",
      "Y train mean scaled: -6.4123335 , Y test mean scaled: -6.043535\n",
      "Test R2: -0.01\n"
     ]
    },
    {
     "name": "stderr",
     "output_type": "stream",
     "text": [
      "100it [00:02, 33.41it/s]\n"
     ]
    },
    {
     "name": "stdout",
     "output_type": "stream",
     "text": [
      "12.9\n",
      "Train: 15414, Test: 811\n",
      "Y train mean scaled: -6.855699 , Y test mean scaled: -6.5598607\n",
      "Test R2: -0.103\n"
     ]
    },
    {
     "name": "stderr",
     "output_type": "stream",
     "text": [
      "100it [00:04, 21.96it/s]\n"
     ]
    },
    {
     "name": "stdout",
     "output_type": "stream",
     "text": [
      "12.8\n",
      "Train: 20069, Test: 1056\n",
      "Y train mean scaled: -7.1861196 , Y test mean scaled: -7.060021\n",
      "Test R2: -0.69\n"
     ]
    },
    {
     "name": "stderr",
     "output_type": "stream",
     "text": [
      "100it [00:01, 53.85it/s]\n"
     ]
    },
    {
     "name": "stdout",
     "output_type": "stream",
     "text": [
      "12.7\n",
      "Train: 9535, Test: 502\n",
      "Y train mean scaled: -5.645461 , Y test mean scaled: -4.798152\n",
      "Test R2: -0.14\n"
     ]
    },
    {
     "name": "stderr",
     "output_type": "stream",
     "text": [
      "100it [00:02, 40.10it/s]\n"
     ]
    },
    {
     "name": "stdout",
     "output_type": "stream",
     "text": [
      "13.0\n",
      "Train: 12459, Test: 656\n",
      "Y train mean scaled: -6.014718 , Y test mean scaled: -5.4191036\n",
      "Test R2: -0.095\n"
     ]
    },
    {
     "name": "stderr",
     "output_type": "stream",
     "text": [
      "100it [00:02, 35.93it/s]\n"
     ]
    },
    {
     "name": "stdout",
     "output_type": "stream",
     "text": [
      "12.8\n",
      "Train: 13951, Test: 734\n",
      "Y train mean scaled: -7.0700994 , Y test mean scaled: -7.6807494\n",
      "Test R2: 0.022\n"
     ]
    },
    {
     "name": "stderr",
     "output_type": "stream",
     "text": [
      "100it [00:02, 35.00it/s]\n"
     ]
    },
    {
     "name": "stdout",
     "output_type": "stream",
     "text": [
      "12.7\n",
      "Train: 14588, Test: 768\n",
      "Y train mean scaled: -8.0584955 , Y test mean scaled: -6.822941\n",
      "Test R2: -0.23\n"
     ]
    },
    {
     "name": "stderr",
     "output_type": "stream",
     "text": [
      "100it [00:02, 33.81it/s]\n"
     ]
    },
    {
     "name": "stdout",
     "output_type": "stream",
     "text": [
      "12.8\n",
      "Train: 15125, Test: 796\n",
      "Y train mean scaled: -5.7611103 , Y test mean scaled: -5.3186464\n",
      "Test R2: 0.004\n",
      "\n",
      "Layer 9\n"
     ]
    },
    {
     "name": "stderr",
     "output_type": "stream",
     "text": [
      "100it [00:03, 25.19it/s]\n"
     ]
    },
    {
     "name": "stdout",
     "output_type": "stream",
     "text": [
      "12.7\n",
      "Train: 19940, Test: 1050\n",
      "Y train mean scaled: -7.020406 , Y test mean scaled: -7.116934\n",
      "Test R2: 0.001\n"
     ]
    },
    {
     "name": "stderr",
     "output_type": "stream",
     "text": [
      "100it [00:03, 29.12it/s]\n"
     ]
    },
    {
     "name": "stdout",
     "output_type": "stream",
     "text": [
      "12.7\n",
      "Train: 17527, Test: 922\n",
      "Y train mean scaled: -6.5709248 , Y test mean scaled: -6.1746125\n",
      "Test R2: -0.032\n"
     ]
    },
    {
     "name": "stderr",
     "output_type": "stream",
     "text": [
      "100it [00:02, 33.37it/s]\n"
     ]
    },
    {
     "name": "stdout",
     "output_type": "stream",
     "text": [
      "12.9\n",
      "Train: 15478, Test: 815\n",
      "Y train mean scaled: -5.738598 , Y test mean scaled: -5.718191\n",
      "Test R2: -0.011\n"
     ]
    },
    {
     "name": "stderr",
     "output_type": "stream",
     "text": [
      "100it [00:04, 20.69it/s]\n"
     ]
    },
    {
     "name": "stdout",
     "output_type": "stream",
     "text": [
      "12.7\n",
      "Train: 21885, Test: 1152\n",
      "Y train mean scaled: -6.535544 , Y test mean scaled: -6.5495105\n",
      "Test R2: -0.216\n"
     ]
    },
    {
     "name": "stderr",
     "output_type": "stream",
     "text": [
      "100it [00:02, 40.36it/s]\n"
     ]
    },
    {
     "name": "stdout",
     "output_type": "stream",
     "text": [
      "12.7\n",
      "Train: 12915, Test: 680\n",
      "Y train mean scaled: -6.879319 , Y test mean scaled: -6.7145395\n",
      "Test R2: 0.02\n"
     ]
    },
    {
     "name": "stderr",
     "output_type": "stream",
     "text": [
      "100it [00:02, 38.44it/s]\n"
     ]
    },
    {
     "name": "stdout",
     "output_type": "stream",
     "text": [
      "12.7\n",
      "Train: 13021, Test: 685\n",
      "Y train mean scaled: -5.418636 , Y test mean scaled: -5.4369025\n",
      "Test R2: -0.162\n"
     ]
    },
    {
     "name": "stderr",
     "output_type": "stream",
     "text": [
      "100it [00:03, 30.51it/s]\n"
     ]
    },
    {
     "name": "stdout",
     "output_type": "stream",
     "text": [
      "12.6\n",
      "Train: 16920, Test: 891\n",
      "Y train mean scaled: -6.733641 , Y test mean scaled: -6.2398376\n",
      "Test R2: -0.199\n"
     ]
    },
    {
     "name": "stderr",
     "output_type": "stream",
     "text": [
      "100it [00:03, 28.61it/s]\n"
     ]
    },
    {
     "name": "stdout",
     "output_type": "stream",
     "text": [
      "12.9\n",
      "Train: 17724, Test: 933\n",
      "Y train mean scaled: -7.1487594 , Y test mean scaled: -6.6163116\n",
      "Test R2: -0.251\n"
     ]
    },
    {
     "name": "stderr",
     "output_type": "stream",
     "text": [
      "100it [00:03, 25.39it/s]\n"
     ]
    },
    {
     "name": "stdout",
     "output_type": "stream",
     "text": [
      "12.9\n",
      "Train: 20184, Test: 1062\n",
      "Y train mean scaled: -5.758688 , Y test mean scaled: -5.8918767\n",
      "Test R2: 0.037\n"
     ]
    },
    {
     "name": "stderr",
     "output_type": "stream",
     "text": [
      "100it [00:03, 33.19it/s]\n"
     ]
    },
    {
     "name": "stdout",
     "output_type": "stream",
     "text": [
      "12.9\n",
      "Train: 15315, Test: 806\n",
      "Y train mean scaled: -6.509727 , Y test mean scaled: -6.8242464\n",
      "Test R2: 0.007\n"
     ]
    },
    {
     "name": "stderr",
     "output_type": "stream",
     "text": [
      "100it [00:04, 21.70it/s]\n"
     ]
    },
    {
     "name": "stdout",
     "output_type": "stream",
     "text": [
      "12.9\n",
      "Train: 19813, Test: 1043\n",
      "Y train mean scaled: -5.897925 , Y test mean scaled: -5.4086146\n",
      "Test R2: -0.001\n"
     ]
    },
    {
     "name": "stderr",
     "output_type": "stream",
     "text": [
      "100it [00:03, 29.79it/s]\n"
     ]
    },
    {
     "name": "stdout",
     "output_type": "stream",
     "text": [
      "12.9\n",
      "Train: 17233, Test: 907\n",
      "Y train mean scaled: -5.5472665 , Y test mean scaled: -5.411666\n",
      "Test R2: -0.311\n",
      "\n",
      "Layer 8\n"
     ]
    },
    {
     "name": "stderr",
     "output_type": "stream",
     "text": [
      "100it [00:02, 44.29it/s]\n"
     ]
    },
    {
     "name": "stdout",
     "output_type": "stream",
     "text": [
      "13.0\n",
      "Train: 11655, Test: 613\n",
      "Y train mean scaled: -6.892391 , Y test mean scaled: -7.4800625\n",
      "Test R2: -0.051\n"
     ]
    },
    {
     "name": "stderr",
     "output_type": "stream",
     "text": [
      "100it [00:03, 32.27it/s]\n"
     ]
    },
    {
     "name": "stdout",
     "output_type": "stream",
     "text": [
      "12.7\n",
      "Train: 15753, Test: 829\n",
      "Y train mean scaled: -5.559081 , Y test mean scaled: -5.422483\n",
      "Test R2: -0.82\n"
     ]
    },
    {
     "name": "stderr",
     "output_type": "stream",
     "text": [
      "100it [00:04, 23.56it/s]\n"
     ]
    },
    {
     "name": "stdout",
     "output_type": "stream",
     "text": [
      "13.0\n",
      "Train: 21369, Test: 1125\n",
      "Y train mean scaled: -8.459669 , Y test mean scaled: -7.0962577\n",
      "Test R2: -0.721\n"
     ]
    },
    {
     "name": "stderr",
     "output_type": "stream",
     "text": [
      "100it [00:03, 25.54it/s]\n"
     ]
    },
    {
     "name": "stdout",
     "output_type": "stream",
     "text": [
      "12.7\n",
      "Train: 20308, Test: 1069\n",
      "Y train mean scaled: -6.2066627 , Y test mean scaled: -6.2990546\n",
      "Test R2: -0.027\n"
     ]
    },
    {
     "name": "stderr",
     "output_type": "stream",
     "text": [
      "100it [00:03, 30.17it/s]\n"
     ]
    },
    {
     "name": "stdout",
     "output_type": "stream",
     "text": [
      "12.6\n",
      "Train: 16646, Test: 876\n",
      "Y train mean scaled: -6.9474416 , Y test mean scaled: -7.0860825\n",
      "Test R2: -0.05\n"
     ]
    },
    {
     "name": "stderr",
     "output_type": "stream",
     "text": [
      "100it [00:02, 38.65it/s]\n"
     ]
    },
    {
     "name": "stdout",
     "output_type": "stream",
     "text": [
      "12.8\n",
      "Train: 13537, Test: 712\n",
      "Y train mean scaled: -7.4489374 , Y test mean scaled: -7.1952314\n",
      "Test R2: 0.007\n"
     ]
    },
    {
     "name": "stderr",
     "output_type": "stream",
     "text": [
      "100it [00:03, 25.20it/s]\n"
     ]
    },
    {
     "name": "stdout",
     "output_type": "stream",
     "text": [
      "12.9\n",
      "Train: 17257, Test: 908\n",
      "Y train mean scaled: -6.9983706 , Y test mean scaled: -7.272069\n",
      "Test R2: -0.011\n"
     ]
    },
    {
     "name": "stderr",
     "output_type": "stream",
     "text": [
      "100it [00:02, 36.46it/s]\n"
     ]
    },
    {
     "name": "stdout",
     "output_type": "stream",
     "text": [
      "12.9\n",
      "Train: 13714, Test: 722\n",
      "Y train mean scaled: -5.293312 , Y test mean scaled: -4.6939096\n",
      "Test R2: -0.171\n"
     ]
    },
    {
     "name": "stderr",
     "output_type": "stream",
     "text": [
      "100it [00:03, 31.24it/s]\n"
     ]
    },
    {
     "name": "stdout",
     "output_type": "stream",
     "text": [
      "12.9\n",
      "Train: 16440, Test: 865\n",
      "Y train mean scaled: -5.100819 , Y test mean scaled: -5.257935\n",
      "Test R2: -0.046\n"
     ]
    },
    {
     "name": "stderr",
     "output_type": "stream",
     "text": [
      "100it [00:04, 20.34it/s]\n"
     ]
    },
    {
     "name": "stdout",
     "output_type": "stream",
     "text": [
      "12.9\n",
      "Train: 24866, Test: 1309\n",
      "Y train mean scaled: -5.8422112 , Y test mean scaled: -5.419503\n",
      "Test R2: -0.065\n"
     ]
    },
    {
     "name": "stderr",
     "output_type": "stream",
     "text": [
      "100it [00:02, 36.78it/s]\n"
     ]
    },
    {
     "name": "stdout",
     "output_type": "stream",
     "text": [
      "12.9\n",
      "Train: 13830, Test: 728\n",
      "Y train mean scaled: -6.5947223 , Y test mean scaled: -8.205712\n",
      "Test R2: -0.025\n"
     ]
    },
    {
     "name": "stderr",
     "output_type": "stream",
     "text": [
      "100it [00:03, 27.25it/s]\n"
     ]
    },
    {
     "name": "stdout",
     "output_type": "stream",
     "text": [
      "12.9\n",
      "Train: 18858, Test: 993\n",
      "Y train mean scaled: -6.3897376 , Y test mean scaled: -6.763321\n",
      "Test R2: -0.063\n",
      "\n",
      "Layer 7\n"
     ]
    },
    {
     "name": "stderr",
     "output_type": "stream",
     "text": [
      "100it [00:02, 34.32it/s]\n"
     ]
    },
    {
     "name": "stdout",
     "output_type": "stream",
     "text": [
      "12.7\n",
      "Train: 14722, Test: 775\n",
      "Y train mean scaled: -5.99794 , Y test mean scaled: -5.988207\n",
      "Test R2: -0.262\n"
     ]
    },
    {
     "name": "stderr",
     "output_type": "stream",
     "text": [
      "100it [00:03, 25.64it/s]\n"
     ]
    },
    {
     "name": "stdout",
     "output_type": "stream",
     "text": [
      "12.7\n",
      "Train: 20392, Test: 1073\n",
      "Y train mean scaled: -6.543882 , Y test mean scaled: -6.3178735\n",
      "Test R2: -0.136\n"
     ]
    },
    {
     "name": "stderr",
     "output_type": "stream",
     "text": [
      "100it [00:03, 25.88it/s]\n"
     ]
    },
    {
     "name": "stdout",
     "output_type": "stream",
     "text": [
      "12.7\n",
      "Train: 17191, Test: 905\n",
      "Y train mean scaled: -6.833245 , Y test mean scaled: -6.780808\n",
      "Test R2: 0.003\n"
     ]
    },
    {
     "name": "stderr",
     "output_type": "stream",
     "text": [
      "100it [00:03, 32.36it/s]\n"
     ]
    },
    {
     "name": "stdout",
     "output_type": "stream",
     "text": [
      "12.5\n",
      "Train: 15894, Test: 837\n",
      "Y train mean scaled: -8.027991 , Y test mean scaled: -8.123905\n",
      "Test R2: 0.016\n"
     ]
    },
    {
     "name": "stderr",
     "output_type": "stream",
     "text": [
      "100it [00:04, 21.73it/s]\n"
     ]
    },
    {
     "name": "stdout",
     "output_type": "stream",
     "text": [
      "12.9\n",
      "Train: 23507, Test: 1237\n",
      "Y train mean scaled: -8.227485 , Y test mean scaled: -8.248926\n",
      "Test R2: 0.006\n"
     ]
    },
    {
     "name": "stderr",
     "output_type": "stream",
     "text": [
      "100it [00:03, 27.98it/s]\n"
     ]
    },
    {
     "name": "stdout",
     "output_type": "stream",
     "text": [
      "13.0\n",
      "Train: 18142, Test: 955\n",
      "Y train mean scaled: -5.600401 , Y test mean scaled: -4.742744\n",
      "Test R2: -0.182\n"
     ]
    },
    {
     "name": "stderr",
     "output_type": "stream",
     "text": [
      "100it [00:03, 29.21it/s]\n"
     ]
    },
    {
     "name": "stdout",
     "output_type": "stream",
     "text": [
      "12.8\n",
      "Train: 17926, Test: 944\n",
      "Y train mean scaled: -7.9805503 , Y test mean scaled: -8.001132\n",
      "Test R2: -0.393\n"
     ]
    },
    {
     "name": "stderr",
     "output_type": "stream",
     "text": [
      "100it [00:02, 33.84it/s]\n"
     ]
    },
    {
     "name": "stdout",
     "output_type": "stream",
     "text": [
      "12.8\n",
      "Train: 14845, Test: 781\n",
      "Y train mean scaled: -8.399451 , Y test mean scaled: -7.7798834\n",
      "Test R2: -0.498\n"
     ]
    },
    {
     "name": "stderr",
     "output_type": "stream",
     "text": [
      "100it [00:03, 29.77it/s]\n"
     ]
    },
    {
     "name": "stdout",
     "output_type": "stream",
     "text": [
      "12.9\n",
      "Train: 17250, Test: 908\n",
      "Y train mean scaled: -6.172819 , Y test mean scaled: -5.3339176\n",
      "Test R2: -0.091\n"
     ]
    },
    {
     "name": "stderr",
     "output_type": "stream",
     "text": [
      "100it [00:02, 36.76it/s]\n"
     ]
    },
    {
     "name": "stdout",
     "output_type": "stream",
     "text": [
      "12.9\n",
      "Train: 11111, Test: 585\n",
      "Y train mean scaled: -6.649334 , Y test mean scaled: -6.014172\n",
      "Test R2: -0.517\n"
     ]
    },
    {
     "name": "stderr",
     "output_type": "stream",
     "text": [
      "100it [00:04, 23.58it/s]\n"
     ]
    },
    {
     "name": "stdout",
     "output_type": "stream",
     "text": [
      "13.0\n",
      "Train: 21537, Test: 1134\n",
      "Y train mean scaled: -7.039782 , Y test mean scaled: -7.0008507\n",
      "Test R2: 0.009\n"
     ]
    },
    {
     "name": "stderr",
     "output_type": "stream",
     "text": [
      "100it [00:03, 26.92it/s]\n"
     ]
    },
    {
     "name": "stdout",
     "output_type": "stream",
     "text": [
      "13.0\n",
      "Train: 18606, Test: 979\n",
      "Y train mean scaled: -7.4805446 , Y test mean scaled: -6.8748918\n",
      "Test R2: -0.541\n",
      "\n",
      "Layer 6\n"
     ]
    },
    {
     "name": "stderr",
     "output_type": "stream",
     "text": [
      "100it [00:03, 25.67it/s]\n"
     ]
    },
    {
     "name": "stdout",
     "output_type": "stream",
     "text": [
      "12.7\n",
      "Train: 20054, Test: 1055\n",
      "Y train mean scaled: -7.1638894 , Y test mean scaled: -6.6596446\n",
      "Test R2: -0.597\n"
     ]
    },
    {
     "name": "stderr",
     "output_type": "stream",
     "text": [
      "100it [00:03, 27.14it/s]\n"
     ]
    },
    {
     "name": "stdout",
     "output_type": "stream",
     "text": [
      "12.9\n",
      "Train: 19130, Test: 1007\n",
      "Y train mean scaled: -6.275624 , Y test mean scaled: -6.3530436\n",
      "Test R2: -0.189\n"
     ]
    },
    {
     "name": "stderr",
     "output_type": "stream",
     "text": [
      "100it [00:04, 20.84it/s]\n"
     ]
    },
    {
     "name": "stdout",
     "output_type": "stream",
     "text": [
      "12.8\n",
      "Train: 24794, Test: 1305\n",
      "Y train mean scaled: -6.687418 , Y test mean scaled: -6.825711\n",
      "Test R2: 0.003\n"
     ]
    },
    {
     "name": "stderr",
     "output_type": "stream",
     "text": [
      "100it [00:03, 32.46it/s]\n"
     ]
    },
    {
     "name": "stdout",
     "output_type": "stream",
     "text": [
      "12.9\n",
      "Train: 15722, Test: 827\n",
      "Y train mean scaled: -8.124662 , Y test mean scaled: -8.256959\n",
      "Test R2: -0.006\n"
     ]
    },
    {
     "name": "stderr",
     "output_type": "stream",
     "text": [
      "100it [00:04, 20.42it/s]\n"
     ]
    },
    {
     "name": "stdout",
     "output_type": "stream",
     "text": [
      "12.7\n",
      "Train: 22613, Test: 1190\n",
      "Y train mean scaled: -6.9491057 , Y test mean scaled: -6.8723216\n",
      "Test R2: -0.086\n"
     ]
    },
    {
     "name": "stderr",
     "output_type": "stream",
     "text": [
      "100it [00:02, 46.25it/s]\n"
     ]
    },
    {
     "name": "stdout",
     "output_type": "stream",
     "text": [
      "13.1\n",
      "Train: 10922, Test: 575\n",
      "Y train mean scaled: -6.7160826 , Y test mean scaled: -6.3440833\n",
      "Test R2: -0.208\n"
     ]
    },
    {
     "name": "stderr",
     "output_type": "stream",
     "text": [
      "100it [00:03, 28.33it/s]\n"
     ]
    },
    {
     "name": "stdout",
     "output_type": "stream",
     "text": [
      "13.1\n",
      "Train: 18301, Test: 963\n",
      "Y train mean scaled: -7.187249 , Y test mean scaled: -7.2534757\n",
      "Test R2: -0.044\n"
     ]
    },
    {
     "name": "stderr",
     "output_type": "stream",
     "text": [
      "100it [00:03, 26.98it/s]\n"
     ]
    },
    {
     "name": "stdout",
     "output_type": "stream",
     "text": [
      "12.8\n",
      "Train: 18645, Test: 981\n",
      "Y train mean scaled: -5.442858 , Y test mean scaled: -5.48975\n",
      "Test R2: 0.011\n"
     ]
    },
    {
     "name": "stderr",
     "output_type": "stream",
     "text": [
      "100it [00:04, 24.98it/s]\n"
     ]
    },
    {
     "name": "stdout",
     "output_type": "stream",
     "text": [
      "12.7\n",
      "Train: 20841, Test: 1097\n",
      "Y train mean scaled: -6.053044 , Y test mean scaled: -5.854913\n",
      "Test R2: -0.172\n"
     ]
    },
    {
     "name": "stderr",
     "output_type": "stream",
     "text": [
      "100it [00:02, 43.91it/s]\n"
     ]
    },
    {
     "name": "stdout",
     "output_type": "stream",
     "text": [
      "12.8\n",
      "Train: 11334, Test: 597\n",
      "Y train mean scaled: -6.752754 , Y test mean scaled: -6.5208535\n",
      "Test R2: -0.348\n"
     ]
    },
    {
     "name": "stderr",
     "output_type": "stream",
     "text": [
      "100it [00:01, 70.56it/s]\n"
     ]
    },
    {
     "name": "stdout",
     "output_type": "stream",
     "text": [
      "13.0\n",
      "Train: 7050, Test: 371\n",
      "Y train mean scaled: -7.6462646 , Y test mean scaled: -7.150234\n",
      "Test R2: -0.125\n"
     ]
    },
    {
     "name": "stderr",
     "output_type": "stream",
     "text": [
      "100it [00:02, 34.25it/s]\n"
     ]
    },
    {
     "name": "stdout",
     "output_type": "stream",
     "text": [
      "12.8\n",
      "Train: 15254, Test: 803\n",
      "Y train mean scaled: -8.725429 , Y test mean scaled: -9.191112\n",
      "Test R2: -0.002\n",
      "\n",
      "Layer 5\n"
     ]
    },
    {
     "name": "stderr",
     "output_type": "stream",
     "text": [
      "100it [00:03, 31.95it/s]\n"
     ]
    },
    {
     "name": "stdout",
     "output_type": "stream",
     "text": [
      "12.9\n",
      "Train: 12460, Test: 656\n",
      "Y train mean scaled: -6.647916 , Y test mean scaled: -7.3490257\n",
      "Test R2: -0.223\n"
     ]
    },
    {
     "name": "stderr",
     "output_type": "stream",
     "text": [
      "100it [00:03, 29.24it/s]\n"
     ]
    },
    {
     "name": "stdout",
     "output_type": "stream",
     "text": [
      "12.8\n",
      "Train: 17435, Test: 918\n",
      "Y train mean scaled: -8.241637 , Y test mean scaled: -7.693972\n",
      "Test R2: -0.429\n"
     ]
    },
    {
     "name": "stderr",
     "output_type": "stream",
     "text": [
      "100it [00:02, 34.52it/s]\n"
     ]
    },
    {
     "name": "stdout",
     "output_type": "stream",
     "text": [
      "12.7\n",
      "Train: 14599, Test: 768\n",
      "Y train mean scaled: -5.491567 , Y test mean scaled: -4.9308486\n",
      "Test R2: -0.108\n"
     ]
    },
    {
     "name": "stderr",
     "output_type": "stream",
     "text": [
      "100it [00:03, 30.26it/s]\n"
     ]
    },
    {
     "name": "stdout",
     "output_type": "stream",
     "text": [
      "12.6\n",
      "Train: 16926, Test: 891\n",
      "Y train mean scaled: -6.397276 , Y test mean scaled: -5.876164\n",
      "Test R2: -0.232\n"
     ]
    },
    {
     "name": "stderr",
     "output_type": "stream",
     "text": [
      "100it [00:03, 31.53it/s]\n"
     ]
    },
    {
     "name": "stdout",
     "output_type": "stream",
     "text": [
      "12.9\n",
      "Train: 16056, Test: 845\n",
      "Y train mean scaled: -5.212708 , Y test mean scaled: -5.405449\n",
      "Test R2: -0.464\n"
     ]
    },
    {
     "name": "stderr",
     "output_type": "stream",
     "text": [
      "100it [00:01, 54.52it/s]\n"
     ]
    },
    {
     "name": "stdout",
     "output_type": "stream",
     "text": [
      "12.9\n",
      "Train: 9142, Test: 481\n",
      "Y train mean scaled: -6.932823 , Y test mean scaled: -6.0764055\n",
      "Test R2: -1.028\n"
     ]
    },
    {
     "name": "stderr",
     "output_type": "stream",
     "text": [
      "100it [00:03, 27.53it/s]\n"
     ]
    },
    {
     "name": "stdout",
     "output_type": "stream",
     "text": [
      "12.8\n",
      "Train: 18683, Test: 983\n",
      "Y train mean scaled: -8.329793 , Y test mean scaled: -8.209622\n",
      "Test R2: 0.006\n"
     ]
    },
    {
     "name": "stderr",
     "output_type": "stream",
     "text": [
      "100it [00:01, 73.09it/s]\n"
     ]
    },
    {
     "name": "stdout",
     "output_type": "stream",
     "text": [
      "12.7\n",
      "Train: 6613, Test: 348\n",
      "Y train mean scaled: -7.750837 , Y test mean scaled: -7.1024346\n",
      "Test R2: -0.328\n"
     ]
    },
    {
     "name": "stderr",
     "output_type": "stream",
     "text": [
      "100it [00:03, 28.07it/s]\n"
     ]
    },
    {
     "name": "stdout",
     "output_type": "stream",
     "text": [
      "12.8\n",
      "Train: 17846, Test: 939\n",
      "Y train mean scaled: -5.8673763 , Y test mean scaled: -5.0567374\n",
      "Test R2: -0.108\n"
     ]
    },
    {
     "name": "stderr",
     "output_type": "stream",
     "text": [
      "100it [00:04, 22.68it/s]\n"
     ]
    },
    {
     "name": "stdout",
     "output_type": "stream",
     "text": [
      "13.0\n",
      "Train: 19408, Test: 1021\n",
      "Y train mean scaled: -8.899689 , Y test mean scaled: -9.375191\n",
      "Test R2: -0.039\n"
     ]
    },
    {
     "name": "stderr",
     "output_type": "stream",
     "text": [
      "100it [00:02, 35.52it/s]\n"
     ]
    },
    {
     "name": "stdout",
     "output_type": "stream",
     "text": [
      "12.8\n",
      "Train: 14173, Test: 746\n",
      "Y train mean scaled: -6.939997 , Y test mean scaled: -6.6794014\n",
      "Test R2: -0.086\n"
     ]
    },
    {
     "name": "stderr",
     "output_type": "stream",
     "text": [
      "100it [00:02, 46.73it/s]\n"
     ]
    },
    {
     "name": "stdout",
     "output_type": "stream",
     "text": [
      "12.7\n",
      "Train: 11014, Test: 580\n",
      "Y train mean scaled: -6.743492 , Y test mean scaled: -6.2982826\n",
      "Test R2: -0.17\n",
      "\n",
      "Layer 4\n"
     ]
    },
    {
     "name": "stderr",
     "output_type": "stream",
     "text": [
      "100it [00:03, 32.70it/s]\n"
     ]
    },
    {
     "name": "stdout",
     "output_type": "stream",
     "text": [
      "12.8\n",
      "Train: 15635, Test: 823\n",
      "Y train mean scaled: -5.9636497 , Y test mean scaled: -6.509457\n",
      "Test R2: -0.288\n"
     ]
    },
    {
     "name": "stderr",
     "output_type": "stream",
     "text": [
      "100it [00:03, 28.32it/s]\n"
     ]
    },
    {
     "name": "stdout",
     "output_type": "stream",
     "text": [
      "12.9\n",
      "Train: 17854, Test: 940\n",
      "Y train mean scaled: -4.8078814 , Y test mean scaled: -4.9955664\n",
      "Test R2: -0.295\n"
     ]
    },
    {
     "name": "stderr",
     "output_type": "stream",
     "text": [
      "100it [00:03, 31.69it/s]\n"
     ]
    },
    {
     "name": "stdout",
     "output_type": "stream",
     "text": [
      "12.6\n",
      "Train: 16117, Test: 848\n",
      "Y train mean scaled: -6.03347 , Y test mean scaled: -6.0588527\n",
      "Test R2: 0.011\n"
     ]
    },
    {
     "name": "stderr",
     "output_type": "stream",
     "text": [
      "100it [00:02, 33.47it/s]\n"
     ]
    },
    {
     "name": "stdout",
     "output_type": "stream",
     "text": [
      "13.1\n",
      "Train: 15296, Test: 805\n",
      "Y train mean scaled: -9.204643 , Y test mean scaled: -9.999305\n",
      "Test R2: -0.084\n"
     ]
    },
    {
     "name": "stderr",
     "output_type": "stream",
     "text": [
      "100it [00:03, 27.65it/s]\n"
     ]
    },
    {
     "name": "stdout",
     "output_type": "stream",
     "text": [
      "13.0\n",
      "Train: 18542, Test: 976\n",
      "Y train mean scaled: -5.0096908 , Y test mean scaled: -5.2403235\n",
      "Test R2: 0.045\n"
     ]
    },
    {
     "name": "stderr",
     "output_type": "stream",
     "text": [
      "100it [00:04, 22.97it/s]\n"
     ]
    },
    {
     "name": "stdout",
     "output_type": "stream",
     "text": [
      "13.1\n",
      "Train: 18461, Test: 972\n",
      "Y train mean scaled: -7.2571216 , Y test mean scaled: -6.630917\n",
      "Test R2: -0.143\n"
     ]
    },
    {
     "name": "stderr",
     "output_type": "stream",
     "text": [
      "100it [00:04, 24.80it/s]\n"
     ]
    },
    {
     "name": "stdout",
     "output_type": "stream",
     "text": [
      "12.7\n",
      "Train: 20977, Test: 1104\n",
      "Y train mean scaled: -6.016713 , Y test mean scaled: -6.3314366\n",
      "Test R2: 0.002\n"
     ]
    },
    {
     "name": "stderr",
     "output_type": "stream",
     "text": [
      "100it [00:03, 25.25it/s]\n"
     ]
    },
    {
     "name": "stdout",
     "output_type": "stream",
     "text": [
      "12.8\n",
      "Train: 19508, Test: 1027\n",
      "Y train mean scaled: -7.3321676 , Y test mean scaled: -7.974147\n",
      "Test R2: 0.023\n"
     ]
    },
    {
     "name": "stderr",
     "output_type": "stream",
     "text": [
      "100it [00:01, 54.72it/s]\n"
     ]
    },
    {
     "name": "stdout",
     "output_type": "stream",
     "text": [
      "12.9\n",
      "Train: 9229, Test: 486\n",
      "Y train mean scaled: -5.9417624 , Y test mean scaled: -7.061999\n",
      "Test R2: 0.042\n"
     ]
    },
    {
     "name": "stderr",
     "output_type": "stream",
     "text": [
      "100it [00:03, 27.06it/s]\n"
     ]
    },
    {
     "name": "stdout",
     "output_type": "stream",
     "text": [
      "12.9\n",
      "Train: 18587, Test: 978\n",
      "Y train mean scaled: -5.077766 , Y test mean scaled: -5.217996\n",
      "Test R2: -0.277\n"
     ]
    },
    {
     "name": "stderr",
     "output_type": "stream",
     "text": [
      "100it [00:04, 24.40it/s]\n"
     ]
    },
    {
     "name": "stdout",
     "output_type": "stream",
     "text": [
      "12.9\n",
      "Train: 20491, Test: 1078\n",
      "Y train mean scaled: -6.4728503 , Y test mean scaled: -6.5697036\n",
      "Test R2: -0.006\n"
     ]
    },
    {
     "name": "stderr",
     "output_type": "stream",
     "text": [
      "100it [00:03, 28.25it/s]\n"
     ]
    },
    {
     "name": "stdout",
     "output_type": "stream",
     "text": [
      "12.9\n",
      "Train: 18100, Test: 953\n",
      "Y train mean scaled: -7.3176994 , Y test mean scaled: -7.654686\n",
      "Test R2: -0.006\n",
      "\n",
      "Layer 3\n"
     ]
    },
    {
     "name": "stderr",
     "output_type": "stream",
     "text": [
      "100it [00:05, 17.61it/s]\n"
     ]
    },
    {
     "name": "stdout",
     "output_type": "stream",
     "text": [
      "12.7\n",
      "Train: 25170, Test: 1325\n",
      "Y train mean scaled: -8.047003 , Y test mean scaled: -8.160339\n",
      "Test R2: -0.04\n"
     ]
    },
    {
     "name": "stderr",
     "output_type": "stream",
     "text": [
      "100it [00:03, 25.37it/s]\n"
     ]
    },
    {
     "name": "stdout",
     "output_type": "stream",
     "text": [
      "12.7\n",
      "Train: 19972, Test: 1051\n",
      "Y train mean scaled: -4.788353 , Y test mean scaled: -4.9018855\n",
      "Test R2: -0.298\n"
     ]
    },
    {
     "name": "stderr",
     "output_type": "stream",
     "text": [
      "100it [00:03, 27.02it/s]\n"
     ]
    },
    {
     "name": "stdout",
     "output_type": "stream",
     "text": [
      "12.8\n",
      "Train: 19128, Test: 1007\n",
      "Y train mean scaled: -5.1970787 , Y test mean scaled: -5.416038\n",
      "Test R2: -0.072\n"
     ]
    },
    {
     "name": "stderr",
     "output_type": "stream",
     "text": [
      "100it [00:02, 47.91it/s]\n"
     ]
    },
    {
     "name": "stdout",
     "output_type": "stream",
     "text": [
      "12.8\n",
      "Train: 10803, Test: 569\n",
      "Y train mean scaled: -6.469029 , Y test mean scaled: -7.6465907\n",
      "Test R2: 0.006\n"
     ]
    },
    {
     "name": "stderr",
     "output_type": "stream",
     "text": [
      "100it [00:04, 24.36it/s]\n"
     ]
    },
    {
     "name": "stdout",
     "output_type": "stream",
     "text": [
      "13.0\n",
      "Train: 20947, Test: 1102\n",
      "Y train mean scaled: -4.9979477 , Y test mean scaled: -5.551494\n",
      "Test R2: -0.116\n"
     ]
    },
    {
     "name": "stderr",
     "output_type": "stream",
     "text": [
      "100it [00:02, 41.13it/s]\n"
     ]
    },
    {
     "name": "stdout",
     "output_type": "stream",
     "text": [
      "12.5\n",
      "Train: 12525, Test: 659\n",
      "Y train mean scaled: -9.196377 , Y test mean scaled: -8.861623\n",
      "Test R2: -0.389\n"
     ]
    },
    {
     "name": "stderr",
     "output_type": "stream",
     "text": [
      "100it [00:03, 25.85it/s]\n"
     ]
    },
    {
     "name": "stdout",
     "output_type": "stream",
     "text": [
      "12.8\n",
      "Train: 19401, Test: 1021\n",
      "Y train mean scaled: -5.0120425 , Y test mean scaled: -5.4836354\n",
      "Test R2: -0.348\n"
     ]
    },
    {
     "name": "stderr",
     "output_type": "stream",
     "text": [
      "100it [00:03, 27.56it/s]\n"
     ]
    },
    {
     "name": "stdout",
     "output_type": "stream",
     "text": [
      "12.7\n",
      "Train: 14615, Test: 769\n",
      "Y train mean scaled: -4.9467354 , Y test mean scaled: -5.0981727\n",
      "Test R2: -0.441\n"
     ]
    },
    {
     "name": "stderr",
     "output_type": "stream",
     "text": [
      "100it [00:03, 27.38it/s]\n"
     ]
    },
    {
     "name": "stdout",
     "output_type": "stream",
     "text": [
      "12.9\n",
      "Train: 18793, Test: 989\n",
      "Y train mean scaled: -5.1331253 , Y test mean scaled: -5.3216443\n",
      "Test R2: 0.008\n"
     ]
    },
    {
     "name": "stderr",
     "output_type": "stream",
     "text": [
      "100it [00:03, 30.69it/s]\n"
     ]
    },
    {
     "name": "stdout",
     "output_type": "stream",
     "text": [
      "12.6\n",
      "Train: 16727, Test: 880\n",
      "Y train mean scaled: -8.7867775 , Y test mean scaled: -9.021634\n",
      "Test R2: -0.063\n"
     ]
    },
    {
     "name": "stderr",
     "output_type": "stream",
     "text": [
      "100it [00:08, 12.23it/s]\n"
     ]
    },
    {
     "name": "stdout",
     "output_type": "stream",
     "text": [
      "100.0\n",
      "Train: 18157, Test: 956\n",
      "Y train mean scaled: -5.8295274 , Y test mean scaled: -6.0111165\n",
      "Test R2: -0.418\n"
     ]
    },
    {
     "name": "stderr",
     "output_type": "stream",
     "text": [
      "100it [00:06, 16.53it/s]\n"
     ]
    },
    {
     "name": "stdout",
     "output_type": "stream",
     "text": [
      "100.0\n",
      "Train: 14248, Test: 750\n",
      "Y train mean scaled: -6.90047 , Y test mean scaled: -6.855547\n",
      "Test R2: -0.08\n",
      "\n",
      "Layer 2\n"
     ]
    },
    {
     "name": "stderr",
     "output_type": "stream",
     "text": [
      "100it [00:05, 17.06it/s]\n"
     ]
    },
    {
     "name": "stdout",
     "output_type": "stream",
     "text": [
      "12.8\n",
      "Train: 18022, Test: 948\n",
      "Y train mean scaled: -22.074894 , Y test mean scaled: -21.88268\n",
      "Test R2: -0.051\n"
     ]
    },
    {
     "name": "stderr",
     "output_type": "stream",
     "text": [
      "100it [00:03, 27.02it/s]\n"
     ]
    },
    {
     "name": "stdout",
     "output_type": "stream",
     "text": [
      "12.8\n",
      "Train: 18694, Test: 984\n",
      "Y train mean scaled: -7.419952 , Y test mean scaled: -6.291172\n",
      "Test R2: -0.036\n"
     ]
    },
    {
     "name": "stderr",
     "output_type": "stream",
     "text": [
      "100it [00:02, 35.06it/s]\n"
     ]
    },
    {
     "name": "stdout",
     "output_type": "stream",
     "text": [
      "13.0\n",
      "Train: 14941, Test: 786\n",
      "Y train mean scaled: -5.72321 , Y test mean scaled: -5.902532\n",
      "Test R2: -0.418\n"
     ]
    },
    {
     "name": "stderr",
     "output_type": "stream",
     "text": [
      "100it [00:03, 28.88it/s]\n"
     ]
    },
    {
     "name": "stdout",
     "output_type": "stream",
     "text": [
      "13.0\n",
      "Train: 14276, Test: 751\n",
      "Y train mean scaled: -4.708477 , Y test mean scaled: -4.9800687\n",
      "Test R2: -2.159\n"
     ]
    },
    {
     "name": "stderr",
     "output_type": "stream",
     "text": [
      "100it [00:03, 25.29it/s]\n"
     ]
    },
    {
     "name": "stdout",
     "output_type": "stream",
     "text": [
      "12.9\n",
      "Train: 20031, Test: 1054\n",
      "Y train mean scaled: -5.2038608 , Y test mean scaled: -5.1878815\n",
      "Test R2: -0.157\n"
     ]
    },
    {
     "name": "stderr",
     "output_type": "stream",
     "text": [
      "100it [00:03, 26.69it/s]\n"
     ]
    },
    {
     "name": "stdout",
     "output_type": "stream",
     "text": [
      "13.1\n",
      "Train: 19282, Test: 1015\n",
      "Y train mean scaled: -4.8314133 , Y test mean scaled: -4.810382\n",
      "Test R2: -0.928\n"
     ]
    },
    {
     "name": "stderr",
     "output_type": "stream",
     "text": [
      "100it [00:03, 28.35it/s]\n"
     ]
    },
    {
     "name": "stdout",
     "output_type": "stream",
     "text": [
      "13.0\n",
      "Train: 18340, Test: 965\n",
      "Y train mean scaled: -6.337575 , Y test mean scaled: -6.4876738\n",
      "Test R2: -0.023\n"
     ]
    },
    {
     "name": "stderr",
     "output_type": "stream",
     "text": [
      "100it [00:03, 28.12it/s]\n"
     ]
    },
    {
     "name": "stdout",
     "output_type": "stream",
     "text": [
      "13.0\n",
      "Train: 18114, Test: 953\n",
      "Y train mean scaled: -4.84919 , Y test mean scaled: -4.9551396\n",
      "Test R2: -0.249\n"
     ]
    },
    {
     "name": "stderr",
     "output_type": "stream",
     "text": [
      "100it [00:04, 23.14it/s]\n"
     ]
    },
    {
     "name": "stdout",
     "output_type": "stream",
     "text": [
      "12.9\n",
      "Train: 22100, Test: 1163\n",
      "Y train mean scaled: -5.3583984 , Y test mean scaled: -5.490078\n",
      "Test R2: -0.015\n"
     ]
    },
    {
     "name": "stderr",
     "output_type": "stream",
     "text": [
      "100it [00:03, 29.85it/s]\n"
     ]
    },
    {
     "name": "stdout",
     "output_type": "stream",
     "text": [
      "12.9\n",
      "Train: 17025, Test: 896\n",
      "Y train mean scaled: -21.790148 , Y test mean scaled: -23.984814\n",
      "Test R2: -0.575\n"
     ]
    },
    {
     "name": "stderr",
     "output_type": "stream",
     "text": [
      "100it [00:03, 30.66it/s]\n"
     ]
    },
    {
     "name": "stdout",
     "output_type": "stream",
     "text": [
      "12.8\n",
      "Train: 12924, Test: 680\n",
      "Y train mean scaled: -4.877991 , Y test mean scaled: -5.2303467\n",
      "Test R2: -17.52\n"
     ]
    },
    {
     "name": "stderr",
     "output_type": "stream",
     "text": [
      "100it [00:03, 26.40it/s]\n"
     ]
    },
    {
     "name": "stdout",
     "output_type": "stream",
     "text": [
      "12.8\n",
      "Train: 19203, Test: 1011\n",
      "Y train mean scaled: -5.3789153 , Y test mean scaled: -5.237807\n",
      "Test R2: -1.536\n",
      "\n",
      "Layer 1\n"
     ]
    },
    {
     "name": "stderr",
     "output_type": "stream",
     "text": [
      "100it [00:03, 31.09it/s]\n"
     ]
    },
    {
     "name": "stdout",
     "output_type": "stream",
     "text": [
      "12.9\n",
      "Train: 16426, Test: 864\n",
      "Y train mean scaled: -4.6945744 , Y test mean scaled: -5.0093985\n",
      "Test R2: -0.783\n"
     ]
    },
    {
     "name": "stderr",
     "output_type": "stream",
     "text": [
      "100it [00:04, 24.29it/s]\n"
     ]
    },
    {
     "name": "stdout",
     "output_type": "stream",
     "text": [
      "12.8\n",
      "Train: 20830, Test: 1096\n",
      "Y train mean scaled: -8.508676 , Y test mean scaled: -8.480797\n",
      "Test R2: -0.014\n"
     ]
    },
    {
     "name": "stderr",
     "output_type": "stream",
     "text": [
      "100it [00:02, 44.87it/s]\n"
     ]
    },
    {
     "name": "stdout",
     "output_type": "stream",
     "text": [
      "12.9\n",
      "Train: 11362, Test: 598\n",
      "Y train mean scaled: -4.7599597 , Y test mean scaled: -4.8749194\n",
      "Test R2: -1.168\n"
     ]
    },
    {
     "name": "stderr",
     "output_type": "stream",
     "text": [
      "100it [00:02, 40.05it/s]\n"
     ]
    },
    {
     "name": "stdout",
     "output_type": "stream",
     "text": [
      "12.6\n",
      "Train: 12273, Test: 646\n",
      "Y train mean scaled: -4.8554525 , Y test mean scaled: -4.636252\n",
      "Test R2: 0.018\n"
     ]
    },
    {
     "name": "stderr",
     "output_type": "stream",
     "text": [
      "100it [00:04, 24.52it/s]\n"
     ]
    },
    {
     "name": "stdout",
     "output_type": "stream",
     "text": [
      "12.7\n",
      "Train: 20782, Test: 1094\n",
      "Y train mean scaled: -8.956051 , Y test mean scaled: -9.550288\n",
      "Test R2: -0.187\n"
     ]
    },
    {
     "name": "stderr",
     "output_type": "stream",
     "text": [
      "100it [00:02, 34.03it/s]\n"
     ]
    },
    {
     "name": "stdout",
     "output_type": "stream",
     "text": [
      "13.0\n",
      "Train: 14695, Test: 773\n",
      "Y train mean scaled: -5.251787 , Y test mean scaled: -4.677947\n",
      "Test R2: -0.459\n"
     ]
    },
    {
     "name": "stderr",
     "output_type": "stream",
     "text": [
      "100it [00:04, 21.67it/s]\n"
     ]
    },
    {
     "name": "stdout",
     "output_type": "stream",
     "text": [
      "13.0\n",
      "Train: 20050, Test: 1055\n",
      "Y train mean scaled: -11.595909 , Y test mean scaled: -11.945087\n",
      "Test R2: -0.14\n"
     ]
    },
    {
     "name": "stderr",
     "output_type": "stream",
     "text": [
      "100it [00:02, 48.61it/s]\n"
     ]
    },
    {
     "name": "stdout",
     "output_type": "stream",
     "text": [
      "12.9\n",
      "Train: 10272, Test: 541\n",
      "Y train mean scaled: -4.5032964 , Y test mean scaled: -5.122165\n",
      "Test R2: -8.636\n"
     ]
    },
    {
     "name": "stderr",
     "output_type": "stream",
     "text": [
      "100it [00:02, 40.05it/s]\n"
     ]
    },
    {
     "name": "stdout",
     "output_type": "stream",
     "text": [
      "13.2\n",
      "Train: 12829, Test: 675\n",
      "Y train mean scaled: -4.492594 , Y test mean scaled: -4.8110366\n",
      "Test R2: -1.659\n"
     ]
    },
    {
     "name": "stderr",
     "output_type": "stream",
     "text": [
      "100it [00:03, 27.03it/s]\n"
     ]
    },
    {
     "name": "stdout",
     "output_type": "stream",
     "text": [
      "12.8\n",
      "Train: 18567, Test: 977\n",
      "Y train mean scaled: -4.5752473 , Y test mean scaled: -4.858539\n",
      "Test R2: -1.006\n"
     ]
    },
    {
     "name": "stderr",
     "output_type": "stream",
     "text": [
      "100it [00:02, 33.64it/s]\n"
     ]
    },
    {
     "name": "stdout",
     "output_type": "stream",
     "text": [
      "12.8\n",
      "Train: 15100, Test: 795\n",
      "Y train mean scaled: -6.1908903 , Y test mean scaled: -6.5490036\n",
      "Test R2: -0.064\n"
     ]
=======
   "execution_count": 14,
   "metadata": {},
   "outputs": [
    {
     "name": "stderr",
     "output_type": "stream",
     "text": [
      "Found cached dataset glue (/Users/sashafedorova/.cache/huggingface/datasets/glue/mrpc/1.0.0/dacbe3125aa31d7f70367a07a8a9e72a5a0bfeb5fc42e75c9db75b96da6053ad)\n"
     ]
    },
    {
     "data": {
      "application/vnd.jupyter.widget-view+json": {
       "model_id": "70f00c24ee4f46fba8ba16568ec1f864",
       "version_major": 2,
       "version_minor": 0
      },
      "text/plain": [
       "  0%|          | 0/3 [00:00<?, ?it/s]"
      ]
     },
     "metadata": {},
     "output_type": "display_data"
    }
   ],
   "source": [
    "if model == 'bert':\n",
    "    model_name = 'bert-base-uncased'\n",
    "elif model == 'gpt2':\n",
    "    model_name = 'gpt2'\n",
    "else: model_name = 'bert-base-uncased'\n",
    "\n",
    "try:\n",
    "    dataset_name = list(glue_classification.keys())[0]\n",
    "    glue_datasets = load_datasets('glue', list(glue_classification), 25)\n",
    "except:\n",
    "    glue_classification = {'mrpc': ['sentence1', 'sentence2']}\n",
    "    dataset_name = 'mrpc'\n",
    "    glue_datasets = load_datasets('glue', list(glue_classification), 25)\n",
    "    \n",
    "tokenizer = AutoTokenizer.from_pretrained(model_name, max_length=1024)\n",
    "initial_model = AutoModel.from_pretrained(model_name)\n",
    "initial_model.eval()\n",
    "\n",
    "# Define the device\n",
    "device = torch.device(\"cuda\" if torch.cuda.is_available() else \"cpu\")\n",
    "if device == 'cpu':\n",
    "    device = torch.device(\"mps\" if torch.backends.mps.is_available() else \"cpu\")\n",
    "\n",
    "initial_model.to(device)\n",
    "DEVICE = device\n",
    "DEBUG_FLAG = True\n",
    "CUT_SIZE = None if not DEBUG_FLAG else 400\n",
    "None"
   ]
  },
  {
   "cell_type": "code",
   "execution_count": 7,
   "metadata": {
    "colab": {
     "base_uri": "https://localhost:8080/"
>>>>>>> d3bbfca52417847ccaee0378ff159983aa8d5ad5
    },
    "id": "XbLo_Td_q7Yu",
    "outputId": "7225eb4e-54ac-47f7-e35c-0619d1fb6ca9"
   },
   "outputs": [
    {
     "name": "stderr",
     "output_type": "stream",
     "text": [
<<<<<<< HEAD
      "100it [00:03, 30.96it/s]\n"
     ]
=======
      "25it [00:02, 11.23it/s]\n"
     ]
    }
   ],
   "source": [
    "for ex_idx, ex in tqdm(enumerate(glue_datasets[dataset_name]['train'])):\n",
    "    encoded_inputs = tokenizer.encode(\n",
    "                    ex['sentence1'],\n",
    "                    ex['sentence2'],\n",
    "                    truncation=True,\n",
    "                    return_tensors='pt'\n",
    "                ).to(device)\n",
    "    aa = initial_model(encoded_inputs, output_hidden_states=True, output_attentions=True)\n",
    "\n",
    "    for layer in  range(12):\n",
    "        if not os.path.exists(f'{dataset_name}/layer_{layer}'):\n",
    "            os.makedirs(f'{dataset_name}/layer_{layer}')\n",
    "\n",
    "        for head_num in [0, 2, 4, 6, 8, 11]: #range(aa.attentions[0].shape[1]):\n",
    "            if not os.path.exists(f'{dataset_name}/layer_{layer}/head_{head_num}'):\n",
    "                os.makedirs(f'{dataset_name}/layer_{layer}/head_{head_num}')\n",
    "\n",
    "            current_hidden_states = aa.hidden_states[layer][0].detach().cpu().numpy()\n",
    "            next_hidden_states = aa.hidden_states[layer + 1][0].detach().cpu().numpy()\n",
    "            attentions = aa.attentions[layer][0][head_num].detach().cpu().numpy() # .item()\n",
    "\n",
    "            cur_emb = aa.hidden_states[layer][0]\n",
    "\n",
    "            with h5py.File(f'{dataset_name}/layer_{layer}/head_{head_num}/{ex_idx}.hdf5', 'w') as f:\n",
    "                f.create_dataset(\"current_hidden_states\", data=current_hidden_states)\n",
    "                f.create_dataset(\"next_hidden_states\", data=next_hidden_states)\n",
    "                f.create_dataset(\"attentions\", data=attentions)"
   ]
  },
  {
   "cell_type": "code",
   "execution_count": 8,
   "metadata": {
    "id": "2UWf_sFEUwy_"
   },
   "outputs": [],
   "source": [
    "def get_dataset_for_regression(prob_of_take=0.01, layer=0, head_num=0):\n",
    "    X_train, y_train = [], []\n",
    "    X_test, y_test = [], []\n",
    "    length = len(glue_datasets[dataset_name]['train'])\n",
    "\n",
    "    for ex_idx, ex in tqdm(enumerate(glue_datasets[dataset_name]['train'])):\n",
    "        if np.random.choice([0, 1], size=1, p=[0.8, 0.2])[0] > 0:\n",
    "            encoded_inputs = tokenizer.encode(\n",
    "                                        ex['sentence1'],\n",
    "                                        ex['sentence2'],\n",
    "                                        truncation=True,\n",
    "                                        return_tensors='pt'\n",
    "                                    )\n",
    "            # special_symbols = (encoded_inputs[0] < 103).nonzero().squeeze()\n",
    "            for head_num in  [0, 2, 4, 6, 8, 11]:\n",
    "              with h5py.File(f'{dataset_name}/layer_{layer}/head_{head_num}/{ex_idx}.hdf5', 'r') as f:\n",
    "\n",
    "                current_hidden_states = f['current_hidden_states'][()]\n",
    "                next_hidden_states = f['next_hidden_states'][()]\n",
    "                attentions = f['attentions'][()]\n",
    "\n",
    "                len_of_seq = attentions.shape[0]\n",
    "                for from_ in range(len_of_seq):\n",
    "                    for to_ in range(len_of_seq):\n",
    "                        if np.random.choice([0, 1], size=1, p=[1-prob_of_take, prob_of_take])[0] > 0.5:\n",
    "                                    #feature_vector = []\n",
    "                                    # (pos form, pos to, is_from_special_token, is_to_special_token,\n",
    "                                    # len_of_seq, rel_position_from, rel_position_to, rev_pos_from, rev_pos_to, to_emb)\n",
    "\n",
    "\n",
    "                            feature_vector = list(current_hidden_states[to_])\n",
    "                            feature_vector.append(from_) # from_ pos\n",
    "                            feature_vector.append(to_) # to_ pos\n",
    "\n",
    "                            feature_vector.append(len_of_seq - from_) # from_ pos\n",
    "                            feature_vector.append(len_of_seq - to_) # to_ pos\n",
    "\n",
    "                            feature_vector.append(from_ / len_of_seq) # from_ pos\n",
    "                            feature_vector.append(to_ / len_of_seq) # to_ pos\n",
    "\n",
    "                            feature_vector.append((len_of_seq - from_) / len_of_seq) # from_ pos\n",
    "                            feature_vector.append((len_of_seq - to_) / len_of_seq) # to_ pos\n",
    "\n",
    "                            feature_vector.append(len_of_seq)\n",
    "                            feature_vector.append(1/len_of_seq)\n",
    "\n",
    "                            feature_vector.append(layer)\n",
    "\n",
    "                                #X_train.append(feature_vector)\n",
    "                                # y_train.append(np.log(max(attentions[from_, to_], 1e-10)))\n",
    "\n",
    "                            X_train.append(feature_vector)\n",
    "                            y_train.append(attentions[from_, to_])\n",
    "    l = round(len(X_train)*0.95)\n",
    "    X_test = X_train[l:]\n",
    "    y_test = y_train[l:]\n",
    "    X_train = X_train[:l]\n",
    "    y_train = y_train[:l]\n",
    "\n",
    "    print(len(X_train), len(X_test))\n",
    "    return X_train, y_train, X_test, y_test"
   ]
  },
  {
   "cell_type": "markdown",
   "metadata": {},
   "source": [
    "### Fit Linear Models"
   ]
  },
  {
   "cell_type": "code",
   "execution_count": 9,
   "metadata": {
    "id": "Dv9BD_HNCgjc"
   },
   "outputs": [],
   "source": [
    "from sklearn.linear_model import Ridge, Lasso\n",
    "from sklearn.pipeline import Pipeline\n",
    "from sklearn.preprocessing import StandardScaler\n",
    "import matplotlib.pyplot as plt\n",
    "from sklearn.metrics import r2_score\n",
    "from statistics import mean\n",
    "\n",
    "def learn_linear(model, y_scaler, reverse_scaler, X_train, y_train, X_test, y_test, num_examples = 5):\n",
    "    # y_scaler = StandardScaler()\n",
    "    y_train_scaled = y_scaler(y_train) # .reshape(-1, 1)\n",
    "    y_test_scaled = y_scaler(y_test) # .reshape(-1, 1)\n",
    "\n",
    "    print('Y train mean scaled:', np.mean(y_train_scaled), ', Y test mean scaled:', np.mean(y_test_scaled))\n",
    "\n",
    "    model.fit(X_train, y_train_scaled)\n",
    "\n",
    "    return model\n",
    "\n",
    "pipe_linear = Pipeline([('scaler', StandardScaler()), ('model', Ridge())])\n",
    "id_scaler = lambda x: [el for el in x]\n"
   ]
  },
  {
   "cell_type": "code",
   "execution_count": 10,
   "metadata": {
    "colab": {
     "base_uri": "https://localhost:8080/"
>>>>>>> d3bbfca52417847ccaee0378ff159983aa8d5ad5
    },
    "id": "EtGvQ2_aVHCS",
    "outputId": "944c1fbf-42b4-42c0-95ac-04fb5e75838e"
   },
   "outputs": [
    {
     "name": "stdout",
     "output_type": "stream",
     "text": [
<<<<<<< HEAD
      "12.8\n",
      "Train: 16274, Test: 856\n",
      "Y train mean scaled: -5.435952 , Y test mean scaled: -5.666124\n",
      "Test R2: -0.05\n",
      "\n",
      "Layer 0\n"
=======
      "Layer 11\n"
>>>>>>> d3bbfca52417847ccaee0378ff159983aa8d5ad5
     ]
    },
    {
     "name": "stderr",
     "output_type": "stream",
     "text": [
<<<<<<< HEAD
      "100it [00:04, 23.94it/s]\n"
=======
      "25it [00:00, 26.01it/s]\n"
>>>>>>> d3bbfca52417847ccaee0378ff159983aa8d5ad5
     ]
    },
    {
     "name": "stdout",
     "output_type": "stream",
     "text": [
<<<<<<< HEAD
      "12.9\n",
      "Train: 21339, Test: 1123\n",
      "Y train mean scaled: -4.2425013 , Y test mean scaled: -4.371718\n",
      "Test R2: -0.9\n"
=======
      "12616 664\n",
      "1.0\n",
      "Y train mean scaled: 0.019640189 , Y test mean scaled: 0.026930772\n",
      "Test R2: 0.6282462692755989\n",
      "\n",
      "Layer 10\n"
>>>>>>> d3bbfca52417847ccaee0378ff159983aa8d5ad5
     ]
    },
    {
     "name": "stderr",
     "output_type": "stream",
     "text": [
<<<<<<< HEAD
      "100it [00:03, 28.95it/s]\n"
=======
      "25it [00:01, 21.96it/s]\n"
>>>>>>> d3bbfca52417847ccaee0378ff159983aa8d5ad5
     ]
    },
    {
     "name": "stdout",
     "output_type": "stream",
     "text": [
<<<<<<< HEAD
      "12.8\n",
      "Train: 17623, Test: 928\n",
      "Y train mean scaled: -4.726729 , Y test mean scaled: -4.3570843\n",
      "Test R2: -0.893\n"
=======
      "14004 737\n",
      "0.0\n",
      "Y train mean scaled: 0.019890875 , Y test mean scaled: 0.018958757\n",
      "Test R2: -0.32524997124226895\n",
      "\n",
      "Layer 9\n"
>>>>>>> d3bbfca52417847ccaee0378ff159983aa8d5ad5
     ]
    },
    {
     "name": "stderr",
     "output_type": "stream",
     "text": [
<<<<<<< HEAD
      "100it [00:04, 20.26it/s]\n"
=======
      "25it [00:02, 11.57it/s]\n"
>>>>>>> d3bbfca52417847ccaee0378ff159983aa8d5ad5
     ]
    },
    {
     "name": "stdout",
     "output_type": "stream",
     "text": [
<<<<<<< HEAD
      "13.0\n",
      "Train: 21958, Test: 1156\n",
      "Y train mean scaled: -6.5458674 , Y test mean scaled: -6.738506\n",
      "Test R2: -0.08\n"
=======
      "26851 1413\n",
      "0.0\n",
      "Y train mean scaled: 0.020016972 , Y test mean scaled: 0.013783181\n",
      "Test R2: 0.7227039299321456\n",
      "\n",
      "Layer 8\n"
>>>>>>> d3bbfca52417847ccaee0378ff159983aa8d5ad5
     ]
    },
    {
     "name": "stderr",
     "output_type": "stream",
     "text": [
<<<<<<< HEAD
      "100it [00:03, 33.02it/s]\n"
=======
      "25it [00:01, 21.66it/s]\n"
>>>>>>> d3bbfca52417847ccaee0378ff159983aa8d5ad5
     ]
    },
    {
     "name": "stdout",
     "output_type": "stream",
     "text": [
<<<<<<< HEAD
      "12.7\n",
      "Train: 15032, Test: 791\n",
      "Y train mean scaled: -6.9723516 , Y test mean scaled: -7.290356\n",
      "Test R2: -0.062\n"
=======
      "13903 732\n",
      "1.0\n",
      "Y train mean scaled: 0.026136413 , Y test mean scaled: 0.034960795\n",
      "Test R2: 0.8381984463550289\n",
      "\n",
      "Layer 7\n"
>>>>>>> d3bbfca52417847ccaee0378ff159983aa8d5ad5
     ]
    },
    {
     "name": "stderr",
     "output_type": "stream",
     "text": [
<<<<<<< HEAD
      "100it [00:03, 32.13it/s]\n"
=======
      "25it [00:01, 15.40it/s]\n"
>>>>>>> d3bbfca52417847ccaee0378ff159983aa8d5ad5
     ]
    },
    {
     "name": "stdout",
     "output_type": "stream",
     "text": [
<<<<<<< HEAD
      "13.3\n",
      "Train: 15555, Test: 819\n",
      "Y train mean scaled: -4.268551 , Y test mean scaled: -4.1351013\n",
      "Test R2: -0.449\n"
=======
      "18510 974\n",
      "1.0\n",
      "Y train mean scaled: 0.018407984 , Y test mean scaled: 0.020885425\n",
      "Test R2: 0.8307672975720994\n",
      "\n",
      "Layer 6\n"
>>>>>>> d3bbfca52417847ccaee0378ff159983aa8d5ad5
     ]
    },
    {
     "name": "stderr",
     "output_type": "stream",
     "text": [
<<<<<<< HEAD
      "100it [00:03, 28.78it/s]\n"
=======
      "25it [00:00, 34.22it/s]\n"
>>>>>>> d3bbfca52417847ccaee0378ff159983aa8d5ad5
     ]
    },
    {
     "name": "stdout",
     "output_type": "stream",
     "text": [
<<<<<<< HEAD
      "12.9\n",
      "Train: 17389, Test: 915\n",
      "Y train mean scaled: -4.618765 , Y test mean scaled: -4.7573314\n",
      "Test R2: -0.022\n"
     ]
    },
    {
     "name": "stderr",
     "output_type": "stream",
     "text": [
      "100it [00:03, 29.92it/s]\n"
     ]
    },
    {
     "name": "stdout",
     "output_type": "stream",
     "text": [
      "12.9\n",
      "Train: 17167, Test: 904\n",
      "Y train mean scaled: -4.3370414 , Y test mean scaled: -3.9738817\n",
      "Test R2: -1.686\n"
     ]
=======
      "8637 455\n",
      "0.0\n",
      "Y train mean scaled: 0.019134482 , Y test mean scaled: 0.024304122\n",
      "Test R2: 0.39961288050868937\n",
      "\n",
      "Layer 5\n"
     ]
    },
    {
     "name": "stderr",
     "output_type": "stream",
     "text": [
      "25it [00:02, 12.04it/s]\n"
     ]
    },
    {
     "name": "stdout",
     "output_type": "stream",
     "text": [
      "26932 1418\n",
      "0.0\n",
      "Y train mean scaled: 0.017715154 , Y test mean scaled: 0.014954966\n",
      "Test R2: 0.8908722254595356\n",
      "\n",
      "Layer 4\n"
     ]
    },
    {
     "name": "stderr",
     "output_type": "stream",
     "text": [
      "25it [00:02,  9.83it/s]\n"
     ]
    },
    {
     "name": "stdout",
     "output_type": "stream",
     "text": [
      "31606 1663\n",
      "1.0\n",
      "Y train mean scaled: 0.02050595 , Y test mean scaled: 0.016651804\n",
      "Test R2: -0.1277241047746005\n",
      "\n",
      "Layer 3\n"
     ]
    },
    {
     "name": "stderr",
     "output_type": "stream",
     "text": [
      "25it [00:03,  8.20it/s]\n"
     ]
    },
    {
     "name": "stdout",
     "output_type": "stream",
     "text": [
      "34018 1790\n",
      "1.0\n",
      "Y train mean scaled: 0.017080747 , Y test mean scaled: 0.016388038\n",
      "Test R2: 0.33561567565828043\n",
      "\n",
      "Layer 2\n"
     ]
    },
    {
     "name": "stderr",
     "output_type": "stream",
     "text": [
      "25it [00:02,  8.54it/s]\n"
     ]
    },
    {
     "name": "stdout",
     "output_type": "stream",
     "text": [
      "36906 1942\n",
      "1.0\n",
      "Y train mean scaled: 0.017962597 , Y test mean scaled: 0.023309551\n",
      "Test R2: 0.2599764531540786\n",
      "\n",
      "Layer 1\n"
     ]
    },
    {
     "name": "stderr",
     "output_type": "stream",
     "text": [
      "25it [00:02, 12.49it/s]\n"
     ]
    },
    {
     "name": "stdout",
     "output_type": "stream",
     "text": [
      "24553 1292\n",
      "0.0\n",
      "Y train mean scaled: 0.0182159 , Y test mean scaled: 0.02269929\n",
      "Test R2: -0.023403083139909242\n",
      "\n",
      "Layer 0\n"
     ]
    },
    {
     "name": "stderr",
     "output_type": "stream",
     "text": [
      "25it [00:02, 10.20it/s]\n"
     ]
    },
    {
     "name": "stdout",
     "output_type": "stream",
     "text": [
      "29903 1574\n",
      "0.0\n",
      "Y train mean scaled: 0.018082213 , Y test mean scaled: 0.014699388\n",
      "Test R2: 0.13821438619708803\n",
      "\n"
     ]
    }
   ],
   "source": [
    "from sklearn.metrics import r2_score\n",
    "final_models = {}\n",
    "final_coefs= {}\n",
    "r2_list = {i: None for i in range(12)}\n",
    "\n",
    "\n",
    "for layer in [11, 10, 9, 8, 7, 6, 5, 4, 3, 2, 1, 0]:\n",
    "    print(f'Layer {layer}')\n",
    "\n",
    "    X_train, y_train, X_test, y_test = get_dataset_for_regression(prob_of_take=0.3, layer=layer)\n",
    "    print(y_train[0])\n",
    "    # if len(X_test)>0:\n",
    "    #   data_list[layer] = [X_train, y_train, X_test, y_test]\n",
    "    mod=learn_linear(pipe_linear, id_scaler, id_scaler, X_train, np.array(y_train).reshape(-1, 1), X_test, np.array(y_test).reshape(-1, 1))\n",
    "    final_coefs[layer] = mod['model'].coef_[0]\n",
    "    preds_scaled = mod.predict(X_test)\n",
    "    preds = id_scaler(preds_scaled)\n",
    "    r2_score_test = r2_score(y_test, preds)\n",
    "    r2_list[layer] = r2_score_test\n",
    "    print('Test R2:', r2_score_test)\n",
    "    print()"
   ]
  },
  {
   "cell_type": "code",
   "execution_count": 11,
   "metadata": {},
   "outputs": [
    {
     "name": "stdout",
     "output_type": "stream",
     "text": [
      "Inflection points: [6, 9]\n"
     ]
    },
    {
     "data": {
      "image/png": "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",
      "text/plain": [
       "<Figure size 640x480 with 1 Axes>"
      ]
     },
     "metadata": {},
     "output_type": "display_data"
    }
   ],
   "source": [
    "ans = {}\n",
    "for k, v in r2_list.items():\n",
    "    if v != None and v > 0 :\n",
    "        ans[k] = v\n",
    "        \n",
    "second_derivatives = []\n",
    "first_derivatives = []\n",
    "data = list(ans.values())\n",
    "for i in range(1, len(data)-1):\n",
    "    first_derivatives.append(data[i-1] - data[i])\n",
    "    second_derivative = data[i+1] - 2 * data[i] + data[i-1]\n",
    "    second_derivatives.append(second_derivative)\n",
    "inflection_points = [i+1 for i, value in enumerate(second_derivatives) if value > 0 and first_derivatives[i]>0]\n",
    "inflection_points = [list(ans.keys())[inflection_points[i]] for i in range(len(inflection_points))]\n",
    "\n",
    "print(\"Inflection points:\", inflection_points)\n",
    "\n",
    "linear_layers = {}\n",
    "linear_layers_r2 = {}\n",
    "n = 12\n",
    "for k, v in ans.items():\n",
    "    if v>np.array(list(ans.values())).mean():\n",
    "        n = k\n",
    "    if  k >= n or k>inflection_points[0]:# and k not in inflection_points:\n",
    "        linear_layers[k] = final_coefs[k]\n",
    "        linear_layers_r2[k] = v\n",
    "\n",
    "# Create x-axis values (e.g., epochs, iterations, etc.)\n",
    "x_values = list(ans.keys())\n",
    "y_values = list(ans.values())\n",
    "x_values1 = list(linear_layers_r2.keys())\n",
    "y_values1 = list(linear_layers_r2.values())\n",
    "# Plot the line graphic\n",
    "plt.plot(x_values, y_values, marker='o', linestyle='-', color='b')\n",
    "plt.plot(x_values1, y_values1, marker='o', linestyle='-', color='r')\n",
    "\n",
    "# Add labels and title\n",
    "plt.xlabel('Epochs')\n",
    "plt.ylabel('R2 Score')\n",
    "plt.title('R2 Score Progression')\n",
    "plt.grid()\n",
    "plt.show()\n",
    "# linear_layers"
   ]
  },
  {
   "cell_type": "markdown",
   "metadata": {},
   "source": [
    "### Evaluate Results"
   ]
  },
  {
   "cell_type": "code",
   "execution_count": 12,
   "metadata": {
    "id": "60CfLk3j8Mp4"
   },
   "outputs": [
    {
     "name": "stderr",
     "output_type": "stream",
     "text": [
      "Found cached dataset glue (/Users/sashafedorova/.cache/huggingface/datasets/glue/mrpc/1.0.0/dacbe3125aa31d7f70367a07a8a9e72a5a0bfeb5fc42e75c9db75b96da6053ad)\n"
     ]
    },
    {
     "data": {
      "application/vnd.jupyter.widget-view+json": {
       "model_id": "f76146d404fe47aa80a435162f32dc8e",
       "version_major": 2,
       "version_minor": 0
      },
      "text/plain": [
       "  0%|          | 0/3 [00:00<?, ?it/s]"
      ]
     },
     "metadata": {},
     "output_type": "display_data"
>>>>>>> d3bbfca52417847ccaee0378ff159983aa8d5ad5
    },
    {
     "name": "stderr",
     "output_type": "stream",
     "text": [
<<<<<<< HEAD
      "100it [00:02, 35.82it/s]\n"
     ]
    },
    {
     "name": "stdout",
     "output_type": "stream",
     "text": [
      "13.0\n",
      "Train: 14032, Test: 738\n",
      "Y train mean scaled: -4.6216226 , Y test mean scaled: -4.4497294\n",
      "Test R2: -0.437\n"
=======
      "Found cached dataset super_glue (/Users/sashafedorova/.cache/huggingface/datasets/super_glue/wic/1.0.3/bb9675f958ebfee0d5d6dc5476fafe38c79123727a7258d515c450873dbdbbed)\n"
     ]
    },
    {
     "data": {
      "application/vnd.jupyter.widget-view+json": {
       "model_id": "40bcde29ea00429cb4cd3f3795813def",
       "version_major": 2,
       "version_minor": 0
      },
      "text/plain": [
       "  0%|          | 0/3 [00:00<?, ?it/s]"
      ]
     },
     "metadata": {},
     "output_type": "display_data"
    }
   ],
   "source": [
    "tqdm_pbar = lambda x, y: tqdm(x, leave=True, position=0, total=len(x), desc=f'{y}')\n",
    "def get_cls_embeddings_for_dataset(dataset_name, dataset, \n",
    "                                   feature_names, model, tokenizer, \n",
    "                                   pbar_func=tqdm_pbar, device=device, CUT_SIZE=CUT_SIZE):\n",
    "    collected_embeddings = defaultdict(list)\n",
    "\n",
    "    for split, data in dataset.items():\n",
    "        \n",
    "        pbar = pbar_func(data, f\"{split} {dataset_name}\") if pbar_func is not None else data\n",
    "        for example in pbar:\n",
    "            # Encode the input sentences\n",
    "            if len(feature_names) == 2:\n",
    "                encoded_inputs = tokenizer.encode(\n",
    "                    example[feature_names[0]], \n",
    "                    example[feature_names[1]], \n",
    "                    truncation=True, \n",
    "                    return_tensors='pt'\n",
    "                )\n",
    "            else:\n",
    "                encoded_inputs = tokenizer.encode(*list(map(lambda x: example[x] , feature_names)), \n",
    "                                              truncation=True, \n",
    "                                              return_tensors='pt')\n",
    "            \n",
    "            special_token_positions = (encoded_inputs[0] < 103).nonzero().squeeze()\n",
    "            encoded_inputs = encoded_inputs.to(device)\n",
    "            \n",
    "            # Forward pass through the model\n",
    "            with torch.no_grad():\n",
    "                outputs = model(encoded_inputs)\n",
    "\n",
    "            # Get the embedding of the [CLS] token\n",
    "            cls_embedding = outputs.last_hidden_state[:, 0, :]\n",
    "\n",
    "            # Append the [CLS] embedding to the list\n",
    "            collected_embeddings[split].append(cls_embedding)\n",
    "         \n",
    "    return collected_embeddings\n",
    "\n",
    "def train_linear(X_train, y_train):\n",
    "    classifier = LogisticRegression(solver='lbfgs', max_iter=3000)\n",
    "    classifier.fit(X_train, y_train)\n",
    "    return classifier\n",
    "\n",
    "def evaluate_classifier(classifier, X, y=None):\n",
    "    predictions = classifier.predict(X)\n",
    "    return predictions\n",
    "\n",
    "def get_metrics_report(y_true, y_pred):\n",
    "    accuracy = accuracy_score(y_true, y_pred)\n",
    "    f1 = f1_score(y_true, y_pred,  average='weighted')\n",
    "    print('Weighted F1', f1)\n",
    "    print('Accuracy', accuracy)\n",
    "    print('-------------------------------')\n",
    "\n",
    "glue_classification = {'mrpc': ['sentence1', 'sentence2']} # , 'sst2':  ['sentence']}\n",
    "superglue_classification = {'wic': ['sentence1', 'sentence2']}\n",
    "all_classification = {'glue': glue_classification, 'superglue': superglue_classification}\n",
    "\n",
    "\n",
    "glue_datasets = load_datasets('glue', list(glue_classification), 200)\n",
    "superglue_datasets = load_datasets('super_glue', list(superglue_classification), 200)\n",
    "\n",
    "all_datasets = {'glue': glue_datasets, 'superglue': superglue_datasets}\n",
    "\n",
    "def check_results(custom_model, initial_model):\n",
    "\n",
    "    for dn, datasets in all_datasets.items():\n",
    "        for dataset_name, dataset in datasets.items():\n",
    "            print(f\"{dn.upper()} / {dataset_name}\\n\")\n",
    "            print('\\nLinear:')\n",
    "            dataset_embeddings_custom = get_cls_embeddings_for_dataset(\n",
    "                dataset_name,\n",
    "                dataset, \n",
    "                all_classification[dn][dataset_name], \n",
    "                custom_model, \n",
    "                tokenizer)\n",
    "            \n",
    "            train_dataset_embeddings = torch.cat(dataset_embeddings_custom['train'], dim=0).cpu()\n",
    "            valid_dataset_embeddings = torch.cat(dataset_embeddings_custom['validation'], dim=0).cpu()\n",
    "            test_dataset_embeddings = torch.cat(dataset_embeddings_custom['test'], dim=0).cpu()\n",
    "            \n",
    "            classif = train_linear(train_dataset_embeddings, [el['label'] for el in dataset['train']])\n",
    "            valid_preds = evaluate_classifier(classif, valid_dataset_embeddings)\n",
    "            print('Validation evaluation:\\n')\n",
    "            get_metrics_report([el['label'] for el in dataset['validation']], valid_preds)\n",
    "            print('Original')\n",
    "            dataset_embeddings_orig = get_cls_embeddings_for_dataset(\n",
    "                dataset_name,\n",
    "                dataset, \n",
    "                all_classification[dn][dataset_name], \n",
    "                initial_model, \n",
    "                tokenizer)\n",
    "            \n",
    "            train_dataset_embeddings = torch.cat(dataset_embeddings_orig['train'], dim=0).cpu()\n",
    "            valid_dataset_embeddings = torch.cat(dataset_embeddings_orig['validation'], dim=0).cpu()\n",
    "            test_dataset_embeddings = torch.cat(dataset_embeddings_orig['test'], dim=0).cpu()\n",
    "            \n",
    "            classif = train_linear(train_dataset_embeddings, [el['label'] for el in dataset['train']])\n",
    "            valid_preds = evaluate_classifier(classif, valid_dataset_embeddings)\n",
    "            print('Validation evaluation:\\n')\n",
    "            get_metrics_report([el['label'] for el in dataset['validation']], valid_preds)\n",
    "            # print(train_dataset_embeddings.shape)"
   ]
  },
  {
   "cell_type": "code",
   "execution_count": 15,
   "metadata": {},
   "outputs": [
    {
     "name": "stdout",
     "output_type": "stream",
     "text": [
      "GLUE / mrpc\n",
      "\n",
      "\n",
      "Linear:\n"
>>>>>>> d3bbfca52417847ccaee0378ff159983aa8d5ad5
     ]
    },
    {
     "name": "stderr",
     "output_type": "stream",
     "text": [
<<<<<<< HEAD
      "100it [00:02, 34.52it/s]\n"
=======
      "train mrpc:   0%|          | 0/200 [00:00<?, ?it/s]/var/folders/qp/h1zlfvy13szgps2dksx_2hwc0000gn/T/ipykernel_1222/3185828370.py:80: UserWarning: The use of `x.T` on tensors of dimension other than 2 to reverse their shape is deprecated and it will throw an error in a future release. Consider `x.mT` to transpose batches of matrices or `x.permute(*torch.arange(x.ndim - 1, -1, -1))` to reverse the dimensions of a tensor. (Triggered internally at /Users/runner/work/pytorch/pytorch/pytorch/aten/src/ATen/native/TensorShape.cpp:3575.)\n",
      "  predicted_attention += positions_features_from.T\n",
      "train mrpc:   0%|          | 0/200 [00:00<?, ?it/s]"
>>>>>>> d3bbfca52417847ccaee0378ff159983aa8d5ad5
     ]
    },
    {
     "name": "stdout",
     "output_type": "stream",
     "text": [
<<<<<<< HEAD
      "12.8\n",
      "Train: 14588, Test: 768\n",
      "Y train mean scaled: -4.7169604 , Y test mean scaled: -4.476914\n",
      "Test R2: -0.505\n"
=======
      "torch.Size([1, 46, 46])\n",
      "torch.Size([1, 46, 768])\n"
>>>>>>> d3bbfca52417847ccaee0378ff159983aa8d5ad5
     ]
    },
    {
     "name": "stderr",
     "output_type": "stream",
     "text": [
<<<<<<< HEAD
      "100it [00:02, 36.61it/s]\n"
     ]
    },
    {
     "name": "stdout",
     "output_type": "stream",
     "text": [
      "13.0\n",
      "Train: 14088, Test: 742\n",
      "Y train mean scaled: -4.4361467 , Y test mean scaled: -4.248286\n",
      "Test R2: -0.571\n"
     ]
    },
    {
     "name": "stderr",
     "output_type": "stream",
     "text": [
      "100it [00:05, 19.81it/s]\n"
     ]
    },
    {
     "name": "stdout",
     "output_type": "stream",
     "text": [
      "12.8\n",
      "Train: 22622, Test: 1191\n",
      "Y train mean scaled: -7.5627823 , Y test mean scaled: -7.6331944\n",
      "Test R2: -0.072\n"
     ]
    },
    {
     "name": "stderr",
     "output_type": "stream",
     "text": [
      "100it [00:04, 22.20it/s]\n"
     ]
    },
    {
     "name": "stdout",
     "output_type": "stream",
     "text": [
      "12.8\n",
      "Train: 22649, Test: 1192\n",
      "Y train mean scaled: -5.149957 , Y test mean scaled: -5.2368336\n",
      "Test R2: -0.299\n",
      "\n"
     ]
    }
   ],
   "source": [
    "from sklearn.metrics import r2_score, mean_squared_error\n",
    "import psutil\n",
    "\n",
    "final_models = {}\n",
    "final_coefs= {}\n",
    "r2_list = {i: None for i in range(12)}\n",
    "\n",
    "for layer in [11, 10, 9, 8, 7, 6, 5, 4, 3, 2, 1, 0]:\n",
    "    r2_scores = 0\n",
    "    print(f'Layer {layer}')\n",
    "    model = pipe_linear\n",
    "    for i in range(12):\n",
    "        X_train, y_train, X_test, y_test = get_dataset_for_regression(prob_of_take=0.3, layer=layer, head_num = i)\n",
    "        print(psutil.cpu_percent(interval=1))\n",
    "        print(f'Train: {len(X_train)}, Test: {len(X_test)}')\n",
    "        model =learn_linear(model, id_scaler, id_scaler, X_train, y_train, X_test, y_test)\n",
    "        preds_scaled = model.predict(X_test)\n",
    "        preds = id_scaler(preds_scaled)\n",
    "        r2_score_test = r2_score(y_test, preds)\n",
    "        print('Test R2:', round(r2_score_test, 3))\n",
    "    final_coefs[layer] = model.coef_()\n",
    "    final_models[layer] = model\n",
    "    r2_list[layer] = r2_score_test\n",
    "    \n",
    "    print()"
   ]
  },
  {
   "cell_type": "code",
   "execution_count": 209,
   "metadata": {},
   "outputs": [
    {
     "name": "stdout",
     "output_type": "stream",
     "text": [
      "Layer 11\n",
      "Test R2: \n",
      "-1.0338381813009373e+24, -2.1101127252327927e+24, -2.0353485597593304e+24, -1.7591164549034864e+24, -1.2388599466091317e+24, -1.2340844244053877e+24, -1.9185620298777632e+24, -5.946332183638694e+23, -1.264311068759002e+24, -2.7897430988708833e+24, -6.850136038467682e+23, -7.864703418000219e+23, Test R2: -1.4541744711441144e+24, Layer 10\n",
      "Test R2: \n",
      "-1.930780146482044e+24, -6.728117166708672e+23, -2.3404864692550047e+24, -2.857305334276575e+24, -7.844373885954184e+23, -1.1268574522097496e+24, -1.7219426042377604e+24, -1.3391284802697502e+24, -2.628425764195192e+24, -8.055951352843256e+23, -4.1712393142078396e+23, -1.9392115089570737e+24, Test R2: -1.547008827654545e+24, Layer 9\n",
      "Test R2: \n",
      "-8.199368476739781e+22, -2.3460751201718052e+23, -3.309640574320522e+23, -2.5884143354347348e+23, -2.7125862176735987e+23, -4.65437818949259e+23, -2.131544547908298e+23, -2.4239245141191015e+23, -3.1090214231561537e+23, -2.04881328193862e+23, -2.4336594759826523e+23, -5.4531156398755355e+23, Test R2: -2.835925847312299e+23, Layer 8\n",
      "Test R2: \n",
      "-1.1941889367792886e+24, -4.1116484319537086e+24, -5.839486128340529e+23, -1.667764384551111e+24, -1.8057592830236344e+24, -1.7376715522683188e+24, -1.4693777762735587e+24, -1.855118822793432e+24, -4.1301960397981265e+24, -2.1519099426319115e+24, -2.1748723732332134e+24, -1.4685664690595644e+24, Test R2: -2.0292518854333268e+24, Layer 7\n",
      "Test R2: \n",
      "-1.5619318606652938e+24, -1.340826246904109e+24, -4.556996943420587e+23, -1.38901760486447e+24, -2.296422647151648e+23, -7.857622600288503e+23, -1.0382952076003432e+24, -3.373273332894119e+23, -6.42529699089168e+23, -1.6541086795615108e+24, -9.479175003351595e+23, -4.51075276151143e+23, Test R2: -9.028444689622235e+23, Layer 6\n",
      "Test R2: \n",
      "-2.9794570406797894e+24, -4.120618809377055e+24, -2.5784363402796933e+24, -2.0426298849237087e+24, -2.132739771622988e+24, -1.0848723161563631e+24, -9.188875182156668e+23, -3.5286785307599246e+24, -4.0028734486575796e+24, -9.894735827386044e+23, -2.2830734754558755e+24, -6.757517524588479e+23, Test R2: -2.278124372610508e+24, Layer 5\n",
      "Test R2: \n",
      "-9.266801556169076e+22, -5.707354712543794e+22, -1.7697497978738317e+23, -1.1202214497344722e+23, -7.777379140339988e+23, -8.428607076441176e+22, -1.784939800833104e+23, -8.742032358226605e+22, -4.8020025754328234e+23, -2.7958600365151432e+22, -1.852430858231895e+23, -1.6975135867524802e+23, Test R2: -2.0248585652656815e+23, Layer 4\n",
      "Test R2: \n",
      "-2.5928506221947613e+24, -8.86676206265569e+24, -1.9011040272753306e+24, -1.1801886568546798e+24, -2.1589203665040518e+24, -8.924710301971186e+23, -7.394506446231022e+23, -4.9018269587248814e+23, -1.5885088457275982e+24, -2.711017871754728e+24, -1.5500759321554202e+24, -1.660628520327541e+24, Test R2: -2.1943467730118753e+24, Layer 3\n",
      "Test R2: \n",
      "-1.3332266252892299e+23, -4.947485450822733e+23, -2.4923769454365036e+23, -1.0255789621582759e+23, -4.830740083430486e+23, -5.421216997834677e+22, -4.309119922126665e+23, -4.1513730615198656e+23, -3.343722247458237e+23, -5.968014336120933e+22, -1.3603525785101064e+23, -1.6824720614087945e+23, Test R2: -2.5512809226297047e+23, Layer 2\n",
      "Test R2: \n",
      "-1.7352752308841552e+23, -1.952230891037221e+24, -6.997441768050286e+24, -2.479123870571777e+24, -2.8425112003056327e+24, -6.962558779393486e+24, -2.688038595744613e+24, -5.709640809062027e+24, -6.29618412357417e+24, -1.2366751870327618e+23, -8.147325485957427e+24, -2.0029863400464155e+24, Test R2: -3.864603075461229e+24, Layer 1\n",
      "Test R2: \n",
      "-1.2855212401522403e+24, -2.5938005063325704e+23, -9.12614119715972e+23, -1.226527588221747e+24, -3.633487313290043e+23, -1.0282307328953234e+24, -1.6788248245296388e+23, -5.71936927391861e+24, -4.1969751431638824e+24, -4.1514759740796514e+24, -7.655348088896508e+23, -4.699758669493348e+23, Test R2: -1.712236334366803e+24, Layer 0\n",
      "Test R2: \n",
      "-6.234732980216218e+24, -8.412458040348008e+23, -2.9329506517845962e+23, -3.1625872027647224e+23, -1.0989599660004224e+24, -6.85784926033826e+23, -4.383590519344477e+24, -1.1960402897908789e+24, -8.325957534554995e+23, -1.7591776540670695e+24, -1.9463125573940703e+23, -7.099793508422053e+23, Test R2: -1.5455243570816444e+24, "
     ]
    }
   ],
   "source": [
    "for layer in [11, 10, 9, 8, 7, 6, 5, 4, 3, 2, 1, 0]:\n",
    "    r2_scores = 0\n",
    "    model = final_models[layer]\n",
    "    print(f'\\nLayer {layer}\\nTest R2: ')\n",
    "    for head in range(12):\n",
    "        X_train, y_train, X_test, y_test = get_dataset_for_regression(prob_of_take=0.3, layer=layer, head_num=head)\n",
    "        preds_scaled = model.predict(X_test)\n",
    "        preds = id_scaler(preds_scaled)\n",
    "        r2_score_test = r2_score(y_test, preds)\n",
    "        print(round(r2_score_test, 3), end=', ')\n",
    "        r2_scores+=r2_score_test\n",
    "    print('Test R2:', round(r2_scores/12, 3))\n",
    "    r2_list[layer] = r2_scores/12"
   ]
  },
  {
   "cell_type": "code",
   "execution_count": 112,
   "metadata": {},
   "outputs": [
    {
     "name": "stdout",
     "output_type": "stream",
     "text": [
      "Inflection points: [2, 5, 7, 9]\n"
     ]
    },
    {
     "data": {
      "image/png": "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",
      "text/plain": [
       "<Figure size 640x480 with 1 Axes>"
      ]
     },
     "metadata": {},
     "output_type": "display_data"
    }
   ],
   "source": [
    "ans = r2_list\n",
    "\n",
    "        \n",
    "second_derivatives = []\n",
    "first_derivatives = []\n",
    "data = list(ans.values())\n",
    "for i in range(1, len(data)-1):\n",
    "    first_derivatives.append(data[i-1] - data[i])\n",
    "    second_derivative = data[i+1] - 2 * data[i] + data[i-1]\n",
    "    second_derivatives.append(second_derivative)\n",
    "inflection_points = [i+1 for i, value in enumerate(second_derivatives) if value > 0 and first_derivatives[i]>0]\n",
    "inflection_points = [list(ans.keys())[inflection_points[i]] for i in range(len(inflection_points))]\n",
    "\n",
    "print(\"Inflection points:\", inflection_points)\n",
    "\n",
    "linear_layers = {}\n",
    "linear_layers_r2 = {}\n",
    "n = 12\n",
    "for k, v in ans.items():\n",
    "    if v>np.array(list(ans.values())).mean():\n",
    "        n = k\n",
    "    if  k >= n or k>inflection_points[0]:# and k not in inflection_points:\n",
    "        linear_layers[k] = final_coefs[k]\n",
    "        linear_layers_r2[k] = v\n",
    "\n",
    "# Create x-axis values (e.g., epochs, iterations, etc.)\n",
    "x_values = list(ans.keys())\n",
    "y_values = list(ans.values())\n",
    "x_values1 = list(linear_layers_r2.keys())\n",
    "y_values1 = list(linear_layers_r2.values())\n",
    "# Plot the line graphic\n",
    "plt.plot(x_values, y_values, marker='o', linestyle='-', color='b')\n",
    "plt.plot(x_values1, y_values1, marker='o', linestyle='-', color='r')\n",
    "\n",
    "# Add labels and title\n",
    "plt.xlabel('Epochs')\n",
    "plt.ylabel('R2 Score')\n",
    "plt.title('R2 Score Progression')\n",
    "plt.grid()\n",
    "plt.show()\n",
    "# linear_layers"
   ]
  },
  {
   "cell_type": "markdown",
   "metadata": {},
   "source": [
    "### Evaluate Results"
   ]
  },
  {
   "cell_type": "code",
   "execution_count": 113,
   "metadata": {
    "id": "60CfLk3j8Mp4"
   },
   "outputs": [],
   "source": [
    "from sklearn.impute import SimpleImputer\n",
    "\n",
    "tqdm_pbar = lambda x, y: tqdm(x, leave=True, position=0, total=len(x), desc=f'{y}')\n",
    "def get_cls_embeddings_for_dataset(dataset_name, dataset, \n",
    "                                   feature_names, model, tokenizer, \n",
    "                                   pbar_func=tqdm_pbar, device=device, CUT_SIZE=CUT_SIZE):\n",
    "    collected_embeddings = defaultdict(list)\n",
    "\n",
    "    for split, data in dataset.items():\n",
    "        \n",
    "        pbar = pbar_func(data, f\"{split} {dataset_name}\") if pbar_func is not None else data\n",
    "        for example in pbar:\n",
    "            # Encode the input sentences\n",
    "            if len(feature_names) == 2:\n",
    "                encoded_inputs = tokenizer.encode(\n",
    "                    example[feature_names[0]], \n",
    "                    example[feature_names[1]], \n",
    "                    truncation=True, \n",
    "                    return_tensors='pt'\n",
    "                )\n",
    "            else:\n",
    "                encoded_inputs = tokenizer.encode(*list(map(lambda x: example[x] , feature_names)), \n",
    "                                              truncation=True, \n",
    "                                              return_tensors='pt')\n",
    "            \n",
    "            special_token_positions = (encoded_inputs[0] < 103).nonzero().squeeze()\n",
    "            encoded_inputs = encoded_inputs.to(device)\n",
    "\n",
    "            # print(f\"Encoded inputs: {encoded_inputs}\")\n",
    "            # print(f\"Special token positions: {special_token_positions}\")\n",
    "            \n",
    "            # Forward pass through the model\n",
    "            with torch.no_grad():\n",
    "                outputs = model(encoded_inputs)\n",
    "            # print(f'Outputs: {outputs}')\n",
    "\n",
    "            # Get the embedding of the [CLS] token\n",
    "            cls_embedding = outputs.last_hidden_state[:, 0, :]\n",
    "\n",
    "            # Append the [CLS] embedding to the list\n",
    "            collected_embeddings[split].append(cls_embedding)\n",
    "         \n",
    "    return collected_embeddings\n",
    "\n",
    "def train_linear(X_train, y_train):\n",
    "    classifier = LogisticRegression(solver='lbfgs', max_iter=3000)\n",
    "    classifier.fit(X_train, y_train)\n",
    "    return classifier\n",
    "\n",
    "def evaluate_classifier(classifier, X, y=None):\n",
    "    predictions = classifier.predict(X)\n",
    "    return predictions\n",
    "\n",
    "def get_metrics_report(y_true, y_pred):\n",
    "    accuracy = accuracy_score(y_true, y_pred)\n",
    "    f1 = f1_score(y_true, y_pred,  average='weighted')\n",
    "    print('Weighted F1', f1)\n",
    "    print('Accuracy', accuracy)\n",
    "    print('-------------------------------')\n",
    "\n",
    "glue_classification = {'mrpc': ['sentence1', 'sentence2']} # , 'sst2':  ['sentence']}\n",
    "superglue_classification = {'wic': ['sentence1', 'sentence2']}\n",
    "all_classification = {'glue': glue_classification, 'superglue': superglue_classification}\n",
    "\n",
    "\n",
    "glue_datasets = load_datasets('glue', list(glue_classification), 200)\n",
    "superglue_datasets = load_datasets('super_glue', list(superglue_classification), 200)\n",
    "\n",
    "all_datasets = {'glue': glue_datasets, 'superglue': superglue_datasets}\n",
    "\n",
    "def check_results(custom_model, initial_model):\n",
    "\n",
    "    for dn, datasets in all_datasets.items():\n",
    "        for dataset_name, dataset in datasets.items():\n",
    "            print(f\"{dn.upper()} / {dataset_name}\\n\")\n",
    "\n",
    "            print('Original')\n",
    "            dataset_embeddings_orig = get_cls_embeddings_for_dataset(\n",
    "                dataset_name,\n",
    "                dataset, \n",
    "                all_classification[dn][dataset_name], \n",
    "                initial_model, \n",
    "                tokenizer)\n",
    "            \n",
    "            train_dataset_embeddings = torch.cat(dataset_embeddings_orig['train'], dim=0)\n",
    "            valid_dataset_embeddings = torch.cat(dataset_embeddings_orig['validation'], dim=0)\n",
    "            test_dataset_embeddings = torch.cat(dataset_embeddings_orig['test'], dim=0)\n",
    "            \n",
    "            classif = train_linear(train_dataset_embeddings.cpu(), [el['label'] for el in dataset['train']])\n",
    "            valid_preds = evaluate_classifier(classif, valid_dataset_embeddings.cpu())\n",
    "            print('Validation evaluation:\\n')\n",
    "            get_metrics_report([el['label'] for el in dataset['validation']], valid_preds)\n",
    "            # print(train_dataset_embeddings.shape)\n",
    "\n",
    "            \n",
    "            print('\\nLinear:')\n",
    "            \n",
    "            dataset_embeddings_custom = get_cls_embeddings_for_dataset(\n",
    "                dataset_name,\n",
    "                dataset, \n",
    "                all_classification[dn][dataset_name], \n",
    "                custom_model, \n",
    "                tokenizer)\n",
    "            \n",
    "            train_dataset_embeddings = torch.cat(dataset_embeddings_custom['train'], dim=0)\n",
    "            valid_dataset_embeddings = torch.cat(dataset_embeddings_custom['validation'], dim=0)\n",
    "            test_dataset_embeddings = torch.cat(dataset_embeddings_custom['test'], dim=0)\n",
    "\n",
    "\n",
    "            classif = train_linear(train_dataset_embeddings.cpu(), [el['label'] for el in dataset['train']])\n",
    "            valid_preds = evaluate_classifier(classif, valid_dataset_embeddings.cpu())\n",
    "            print('Validation evaluation:\\n')\n",
    "            get_metrics_report([el['label'] for el in dataset['validation']], valid_preds)\n",
    "            "
   ]
  },
  {
   "cell_type": "code",
   "execution_count": 161,
   "metadata": {},
   "outputs": [
    {
     "data": {
      "text/plain": [
       "device(type='cpu')"
      ]
     },
     "execution_count": 161,
     "metadata": {},
     "output_type": "execute_result"
    }
   ],
   "source": [
    "device"
   ]
  },
  {
   "cell_type": "code",
   "execution_count": 116,
   "metadata": {},
   "outputs": [
    {
     "name": "stdout",
     "output_type": "stream",
     "text": [
      "GLUE / mrpc\n",
      "\n",
      "Original\n"
     ]
    },
    {
     "name": "stderr",
     "output_type": "stream",
     "text": [
      "train mrpc: 100%|█████████████████████████████| 200/200 [00:16<00:00, 12.50it/s]\n",
      "validation mrpc: 100%|████████████████████████| 200/200 [00:15<00:00, 12.91it/s]\n",
      "test mrpc: 100%|██████████████████████████████| 200/200 [00:15<00:00, 13.08it/s]\n"
     ]
    },
    {
     "name": "stdout",
     "output_type": "stream",
     "text": [
      "Validation evaluation:\n",
      "\n",
      "Weighted F1 0.6956793959319341\n",
      "Accuracy 0.735\n",
      "-------------------------------\n",
      "\n",
      "Linear:\n"
     ]
    },
    {
     "name": "stderr",
     "output_type": "stream",
     "text": [
      "train mrpc: 100%|█████████████████████████████| 200/200 [00:15<00:00, 12.61it/s]\n",
      "validation mrpc: 100%|████████████████████████| 200/200 [00:19<00:00, 10.29it/s]\n",
      "test mrpc: 100%|██████████████████████████████| 200/200 [00:18<00:00, 10.87it/s]\n"
     ]
    },
    {
     "name": "stdout",
     "output_type": "stream",
     "text": [
      "Validation evaluation:\n",
      "\n",
      "Weighted F1 0.6496134598792063\n",
      "Accuracy 0.685\n",
      "-------------------------------\n",
      "SUPERGLUE / wic\n",
      "\n",
      "Original\n"
     ]
    },
    {
     "name": "stderr",
     "output_type": "stream",
     "text": [
      "train wic: 100%|██████████████████████████████| 200/200 [00:12<00:00, 15.79it/s]\n",
      "validation wic: 100%|█████████████████████████| 200/200 [00:12<00:00, 16.00it/s]\n",
      "test wic: 100%|███████████████████████████████| 200/200 [00:14<00:00, 13.87it/s]\n"
     ]
    },
    {
     "name": "stdout",
     "output_type": "stream",
     "text": [
      "Validation evaluation:\n",
      "\n",
      "Weighted F1 0.5980676328502416\n",
      "Accuracy 0.6\n",
      "-------------------------------\n",
      "\n",
      "Linear:\n"
     ]
    },
    {
     "name": "stderr",
     "output_type": "stream",
     "text": [
      "train wic: 100%|██████████████████████████████| 200/200 [00:15<00:00, 13.14it/s]\n",
      "validation wic: 100%|█████████████████████████| 200/200 [00:13<00:00, 14.89it/s]\n",
      "test wic: 100%|███████████████████████████████| 200/200 [00:14<00:00, 13.93it/s]"
     ]
    },
    {
     "name": "stdout",
     "output_type": "stream",
     "text": [
      "Validation evaluation:\n",
      "\n",
      "Weighted F1 0.53004700470047\n",
      "Accuracy 0.53\n",
      "-------------------------------\n"
     ]
    },
    {
     "name": "stderr",
     "output_type": "stream",
     "text": [
      "\n"
=======
      "\n"
     ]
    },
    {
     "ename": "AttributeError",
     "evalue": "'LinearClassifierGPT2Attention' object has no attribute 'all_head_size'",
     "output_type": "error",
     "traceback": [
      "\u001B[0;31m---------------------------------------------------------------------------\u001B[0m",
      "\u001B[0;31mAttributeError\u001B[0m                            Traceback (most recent call last)",
      "Cell \u001B[0;32mIn[15], line 8\u001B[0m\n\u001B[1;32m      4\u001B[0m \u001B[39melse\u001B[39;00m: \n\u001B[1;32m      5\u001B[0m     custom_model \u001B[39m=\u001B[39m GPT2WrapperLin(initial_model, LinearClassifierGPT2Attention, linear_layers,\n\u001B[1;32m      6\u001B[0m                         \u001B[39mlist\u001B[39m(linear_layers\u001B[39m.\u001B[39mkeys()))\u001B[39m.\u001B[39mto(device)\n\u001B[0;32m----> 8\u001B[0m check_results(custom_model, initial_model)\n",
      "Cell \u001B[0;32mIn[12], line 71\u001B[0m, in \u001B[0;36mcheck_results\u001B[0;34m(custom_model, initial_model)\u001B[0m\n\u001B[1;32m     69\u001B[0m \u001B[39mprint\u001B[39m(\u001B[39mf\u001B[39m\u001B[39m\"\u001B[39m\u001B[39m{\u001B[39;00mdn\u001B[39m.\u001B[39mupper()\u001B[39m}\u001B[39;00m\u001B[39m / \u001B[39m\u001B[39m{\u001B[39;00mdataset_name\u001B[39m}\u001B[39;00m\u001B[39m\\n\u001B[39;00m\u001B[39m\"\u001B[39m)\n\u001B[1;32m     70\u001B[0m \u001B[39mprint\u001B[39m(\u001B[39m'\u001B[39m\u001B[39m\\n\u001B[39;00m\u001B[39mLinear:\u001B[39m\u001B[39m'\u001B[39m)\n\u001B[0;32m---> 71\u001B[0m dataset_embeddings_custom \u001B[39m=\u001B[39m get_cls_embeddings_for_dataset(\n\u001B[1;32m     72\u001B[0m     dataset_name,\n\u001B[1;32m     73\u001B[0m     dataset, \n\u001B[1;32m     74\u001B[0m     all_classification[dn][dataset_name], \n\u001B[1;32m     75\u001B[0m     custom_model, \n\u001B[1;32m     76\u001B[0m     tokenizer)\n\u001B[1;32m     78\u001B[0m train_dataset_embeddings \u001B[39m=\u001B[39m torch\u001B[39m.\u001B[39mcat(dataset_embeddings_custom[\u001B[39m'\u001B[39m\u001B[39mtrain\u001B[39m\u001B[39m'\u001B[39m], dim\u001B[39m=\u001B[39m\u001B[39m0\u001B[39m)\u001B[39m.\u001B[39mcpu()\n\u001B[1;32m     79\u001B[0m valid_dataset_embeddings \u001B[39m=\u001B[39m torch\u001B[39m.\u001B[39mcat(dataset_embeddings_custom[\u001B[39m'\u001B[39m\u001B[39mvalidation\u001B[39m\u001B[39m'\u001B[39m], dim\u001B[39m=\u001B[39m\u001B[39m0\u001B[39m)\u001B[39m.\u001B[39mcpu()\n",
      "Cell \u001B[0;32mIn[12], line 29\u001B[0m, in \u001B[0;36mget_cls_embeddings_for_dataset\u001B[0;34m(dataset_name, dataset, feature_names, model, tokenizer, pbar_func, device, CUT_SIZE)\u001B[0m\n\u001B[1;32m     27\u001B[0m \u001B[39m# Forward pass through the model\u001B[39;00m\n\u001B[1;32m     28\u001B[0m \u001B[39mwith\u001B[39;00m torch\u001B[39m.\u001B[39mno_grad():\n\u001B[0;32m---> 29\u001B[0m     outputs \u001B[39m=\u001B[39m model(encoded_inputs)\n\u001B[1;32m     31\u001B[0m \u001B[39m# Get the embedding of the [CLS] token\u001B[39;00m\n\u001B[1;32m     32\u001B[0m cls_embedding \u001B[39m=\u001B[39m outputs\u001B[39m.\u001B[39mlast_hidden_state[:, \u001B[39m0\u001B[39m, :]\n",
      "File \u001B[0;32m~/Library/Python/3.9/lib/python/site-packages/torch/nn/modules/module.py:1501\u001B[0m, in \u001B[0;36mModule._call_impl\u001B[0;34m(self, *args, **kwargs)\u001B[0m\n\u001B[1;32m   1496\u001B[0m \u001B[39m# If we don't have any hooks, we want to skip the rest of the logic in\u001B[39;00m\n\u001B[1;32m   1497\u001B[0m \u001B[39m# this function, and just call forward.\u001B[39;00m\n\u001B[1;32m   1498\u001B[0m \u001B[39mif\u001B[39;00m \u001B[39mnot\u001B[39;00m (\u001B[39mself\u001B[39m\u001B[39m.\u001B[39m_backward_hooks \u001B[39mor\u001B[39;00m \u001B[39mself\u001B[39m\u001B[39m.\u001B[39m_backward_pre_hooks \u001B[39mor\u001B[39;00m \u001B[39mself\u001B[39m\u001B[39m.\u001B[39m_forward_hooks \u001B[39mor\u001B[39;00m \u001B[39mself\u001B[39m\u001B[39m.\u001B[39m_forward_pre_hooks\n\u001B[1;32m   1499\u001B[0m         \u001B[39mor\u001B[39;00m _global_backward_pre_hooks \u001B[39mor\u001B[39;00m _global_backward_hooks\n\u001B[1;32m   1500\u001B[0m         \u001B[39mor\u001B[39;00m _global_forward_hooks \u001B[39mor\u001B[39;00m _global_forward_pre_hooks):\n\u001B[0;32m-> 1501\u001B[0m     \u001B[39mreturn\u001B[39;00m forward_call(\u001B[39m*\u001B[39;49margs, \u001B[39m*\u001B[39;49m\u001B[39m*\u001B[39;49mkwargs)\n\u001B[1;32m   1502\u001B[0m \u001B[39m# Do not call functions when jit is used\u001B[39;00m\n\u001B[1;32m   1503\u001B[0m full_backward_hooks, non_full_backward_hooks \u001B[39m=\u001B[39m [], []\n",
      "Cell \u001B[0;32mIn[3], line 146\u001B[0m, in \u001B[0;36mGPT2WrapperLin.forward\u001B[0;34m(self, *args, **kwargs)\u001B[0m\n\u001B[1;32m    145\u001B[0m \u001B[39mdef\u001B[39;00m \u001B[39mforward\u001B[39m(\u001B[39mself\u001B[39m, \u001B[39m*\u001B[39margs, \u001B[39m*\u001B[39m\u001B[39m*\u001B[39mkwargs):\n\u001B[0;32m--> 146\u001B[0m     \u001B[39mreturn\u001B[39;00m \u001B[39mself\u001B[39;49m\u001B[39m.\u001B[39;49mgpt2_model(\u001B[39m*\u001B[39;49margs, \u001B[39m*\u001B[39;49m\u001B[39m*\u001B[39;49mkwargs)\n",
      "File \u001B[0;32m~/Library/Python/3.9/lib/python/site-packages/torch/nn/modules/module.py:1501\u001B[0m, in \u001B[0;36mModule._call_impl\u001B[0;34m(self, *args, **kwargs)\u001B[0m\n\u001B[1;32m   1496\u001B[0m \u001B[39m# If we don't have any hooks, we want to skip the rest of the logic in\u001B[39;00m\n\u001B[1;32m   1497\u001B[0m \u001B[39m# this function, and just call forward.\u001B[39;00m\n\u001B[1;32m   1498\u001B[0m \u001B[39mif\u001B[39;00m \u001B[39mnot\u001B[39;00m (\u001B[39mself\u001B[39m\u001B[39m.\u001B[39m_backward_hooks \u001B[39mor\u001B[39;00m \u001B[39mself\u001B[39m\u001B[39m.\u001B[39m_backward_pre_hooks \u001B[39mor\u001B[39;00m \u001B[39mself\u001B[39m\u001B[39m.\u001B[39m_forward_hooks \u001B[39mor\u001B[39;00m \u001B[39mself\u001B[39m\u001B[39m.\u001B[39m_forward_pre_hooks\n\u001B[1;32m   1499\u001B[0m         \u001B[39mor\u001B[39;00m _global_backward_pre_hooks \u001B[39mor\u001B[39;00m _global_backward_hooks\n\u001B[1;32m   1500\u001B[0m         \u001B[39mor\u001B[39;00m _global_forward_hooks \u001B[39mor\u001B[39;00m _global_forward_pre_hooks):\n\u001B[0;32m-> 1501\u001B[0m     \u001B[39mreturn\u001B[39;00m forward_call(\u001B[39m*\u001B[39;49margs, \u001B[39m*\u001B[39;49m\u001B[39m*\u001B[39;49mkwargs)\n\u001B[1;32m   1502\u001B[0m \u001B[39m# Do not call functions when jit is used\u001B[39;00m\n\u001B[1;32m   1503\u001B[0m full_backward_hooks, non_full_backward_hooks \u001B[39m=\u001B[39m [], []\n",
      "File \u001B[0;32m~/Library/Python/3.9/lib/python/site-packages/transformers/models/gpt2/modeling_gpt2.py:903\u001B[0m, in \u001B[0;36mGPT2Model.forward\u001B[0;34m(self, input_ids, past_key_values, attention_mask, token_type_ids, position_ids, head_mask, inputs_embeds, encoder_hidden_states, encoder_attention_mask, use_cache, output_attentions, output_hidden_states, return_dict)\u001B[0m\n\u001B[1;32m    893\u001B[0m     outputs \u001B[39m=\u001B[39m torch\u001B[39m.\u001B[39mutils\u001B[39m.\u001B[39mcheckpoint\u001B[39m.\u001B[39mcheckpoint(\n\u001B[1;32m    894\u001B[0m         create_custom_forward(block),\n\u001B[1;32m    895\u001B[0m         hidden_states,\n\u001B[0;32m   (...)\u001B[0m\n\u001B[1;32m    900\u001B[0m         encoder_attention_mask,\n\u001B[1;32m    901\u001B[0m     )\n\u001B[1;32m    902\u001B[0m \u001B[39melse\u001B[39;00m:\n\u001B[0;32m--> 903\u001B[0m     outputs \u001B[39m=\u001B[39m block(\n\u001B[1;32m    904\u001B[0m         hidden_states,\n\u001B[1;32m    905\u001B[0m         layer_past\u001B[39m=\u001B[39;49mlayer_past,\n\u001B[1;32m    906\u001B[0m         attention_mask\u001B[39m=\u001B[39;49mattention_mask,\n\u001B[1;32m    907\u001B[0m         head_mask\u001B[39m=\u001B[39;49mhead_mask[i],\n\u001B[1;32m    908\u001B[0m         encoder_hidden_states\u001B[39m=\u001B[39;49mencoder_hidden_states,\n\u001B[1;32m    909\u001B[0m         encoder_attention_mask\u001B[39m=\u001B[39;49mencoder_attention_mask,\n\u001B[1;32m    910\u001B[0m         use_cache\u001B[39m=\u001B[39;49muse_cache,\n\u001B[1;32m    911\u001B[0m         output_attentions\u001B[39m=\u001B[39;49moutput_attentions,\n\u001B[1;32m    912\u001B[0m     )\n\u001B[1;32m    914\u001B[0m hidden_states \u001B[39m=\u001B[39m outputs[\u001B[39m0\u001B[39m]\n\u001B[1;32m    915\u001B[0m \u001B[39mif\u001B[39;00m use_cache \u001B[39mis\u001B[39;00m \u001B[39mTrue\u001B[39;00m:\n",
      "File \u001B[0;32m~/Library/Python/3.9/lib/python/site-packages/torch/nn/modules/module.py:1501\u001B[0m, in \u001B[0;36mModule._call_impl\u001B[0;34m(self, *args, **kwargs)\u001B[0m\n\u001B[1;32m   1496\u001B[0m \u001B[39m# If we don't have any hooks, we want to skip the rest of the logic in\u001B[39;00m\n\u001B[1;32m   1497\u001B[0m \u001B[39m# this function, and just call forward.\u001B[39;00m\n\u001B[1;32m   1498\u001B[0m \u001B[39mif\u001B[39;00m \u001B[39mnot\u001B[39;00m (\u001B[39mself\u001B[39m\u001B[39m.\u001B[39m_backward_hooks \u001B[39mor\u001B[39;00m \u001B[39mself\u001B[39m\u001B[39m.\u001B[39m_backward_pre_hooks \u001B[39mor\u001B[39;00m \u001B[39mself\u001B[39m\u001B[39m.\u001B[39m_forward_hooks \u001B[39mor\u001B[39;00m \u001B[39mself\u001B[39m\u001B[39m.\u001B[39m_forward_pre_hooks\n\u001B[1;32m   1499\u001B[0m         \u001B[39mor\u001B[39;00m _global_backward_pre_hooks \u001B[39mor\u001B[39;00m _global_backward_hooks\n\u001B[1;32m   1500\u001B[0m         \u001B[39mor\u001B[39;00m _global_forward_hooks \u001B[39mor\u001B[39;00m _global_forward_pre_hooks):\n\u001B[0;32m-> 1501\u001B[0m     \u001B[39mreturn\u001B[39;00m forward_call(\u001B[39m*\u001B[39;49margs, \u001B[39m*\u001B[39;49m\u001B[39m*\u001B[39;49mkwargs)\n\u001B[1;32m   1502\u001B[0m \u001B[39m# Do not call functions when jit is used\u001B[39;00m\n\u001B[1;32m   1503\u001B[0m full_backward_hooks, non_full_backward_hooks \u001B[39m=\u001B[39m [], []\n",
      "File \u001B[0;32m~/Library/Python/3.9/lib/python/site-packages/transformers/models/gpt2/modeling_gpt2.py:391\u001B[0m, in \u001B[0;36mGPT2Block.forward\u001B[0;34m(self, hidden_states, layer_past, attention_mask, head_mask, encoder_hidden_states, encoder_attention_mask, use_cache, output_attentions)\u001B[0m\n\u001B[1;32m    389\u001B[0m residual \u001B[39m=\u001B[39m hidden_states\n\u001B[1;32m    390\u001B[0m hidden_states \u001B[39m=\u001B[39m \u001B[39mself\u001B[39m\u001B[39m.\u001B[39mln_1(hidden_states)\n\u001B[0;32m--> 391\u001B[0m attn_outputs \u001B[39m=\u001B[39m \u001B[39mself\u001B[39;49m\u001B[39m.\u001B[39;49mattn(\n\u001B[1;32m    392\u001B[0m     hidden_states,\n\u001B[1;32m    393\u001B[0m     layer_past\u001B[39m=\u001B[39;49mlayer_past,\n\u001B[1;32m    394\u001B[0m     attention_mask\u001B[39m=\u001B[39;49mattention_mask,\n\u001B[1;32m    395\u001B[0m     head_mask\u001B[39m=\u001B[39;49mhead_mask,\n\u001B[1;32m    396\u001B[0m     use_cache\u001B[39m=\u001B[39;49muse_cache,\n\u001B[1;32m    397\u001B[0m     output_attentions\u001B[39m=\u001B[39;49moutput_attentions,\n\u001B[1;32m    398\u001B[0m )\n\u001B[1;32m    399\u001B[0m attn_output \u001B[39m=\u001B[39m attn_outputs[\u001B[39m0\u001B[39m]  \u001B[39m# output_attn: a, present, (attentions)\u001B[39;00m\n\u001B[1;32m    400\u001B[0m outputs \u001B[39m=\u001B[39m attn_outputs[\u001B[39m1\u001B[39m:]\n",
      "File \u001B[0;32m~/Library/Python/3.9/lib/python/site-packages/torch/nn/modules/module.py:1501\u001B[0m, in \u001B[0;36mModule._call_impl\u001B[0;34m(self, *args, **kwargs)\u001B[0m\n\u001B[1;32m   1496\u001B[0m \u001B[39m# If we don't have any hooks, we want to skip the rest of the logic in\u001B[39;00m\n\u001B[1;32m   1497\u001B[0m \u001B[39m# this function, and just call forward.\u001B[39;00m\n\u001B[1;32m   1498\u001B[0m \u001B[39mif\u001B[39;00m \u001B[39mnot\u001B[39;00m (\u001B[39mself\u001B[39m\u001B[39m.\u001B[39m_backward_hooks \u001B[39mor\u001B[39;00m \u001B[39mself\u001B[39m\u001B[39m.\u001B[39m_backward_pre_hooks \u001B[39mor\u001B[39;00m \u001B[39mself\u001B[39m\u001B[39m.\u001B[39m_forward_hooks \u001B[39mor\u001B[39;00m \u001B[39mself\u001B[39m\u001B[39m.\u001B[39m_forward_pre_hooks\n\u001B[1;32m   1499\u001B[0m         \u001B[39mor\u001B[39;00m _global_backward_pre_hooks \u001B[39mor\u001B[39;00m _global_backward_hooks\n\u001B[1;32m   1500\u001B[0m         \u001B[39mor\u001B[39;00m _global_forward_hooks \u001B[39mor\u001B[39;00m _global_forward_pre_hooks):\n\u001B[0;32m-> 1501\u001B[0m     \u001B[39mreturn\u001B[39;00m forward_call(\u001B[39m*\u001B[39;49margs, \u001B[39m*\u001B[39;49m\u001B[39m*\u001B[39;49mkwargs)\n\u001B[1;32m   1502\u001B[0m \u001B[39m# Do not call functions when jit is used\u001B[39;00m\n\u001B[1;32m   1503\u001B[0m full_backward_hooks, non_full_backward_hooks \u001B[39m=\u001B[39m [], []\n",
      "Cell \u001B[0;32mIn[3], line 113\u001B[0m, in \u001B[0;36mLinearClassifierGPT2Attention.forward\u001B[0;34m(self, hidden_states, layer_past, attention_mask, head_mask, encoder_hidden_states, encoder_attention_mask, use_cache, output_attentions)\u001B[0m\n\u001B[1;32m    111\u001B[0m \u001B[39mprint\u001B[39m(value\u001B[39m.\u001B[39msqueeze(\u001B[39m1\u001B[39m)\u001B[39m.\u001B[39msize())\n\u001B[1;32m    112\u001B[0m context_layer \u001B[39m=\u001B[39m context_layer\u001B[39m.\u001B[39mpermute(\u001B[39m0\u001B[39m, \u001B[39m2\u001B[39m, \u001B[39m1\u001B[39m)\u001B[39m.\u001B[39mcontiguous()\n\u001B[0;32m--> 113\u001B[0m new_context_layer_shape \u001B[39m=\u001B[39m context_layer\u001B[39m.\u001B[39msize()[:\u001B[39m-\u001B[39m\u001B[39m2\u001B[39m] \u001B[39m+\u001B[39m (\u001B[39mself\u001B[39;49m\u001B[39m.\u001B[39;49mall_head_size,)\n\u001B[1;32m    114\u001B[0m context_layer \u001B[39m=\u001B[39m context_layer\u001B[39m.\u001B[39mview(new_context_layer_shape)\n\u001B[1;32m    116\u001B[0m outputs \u001B[39m=\u001B[39m (context_layer, attention_probs) \u001B[39mif\u001B[39;00m output_attentions \u001B[39melse\u001B[39;00m (context_layer,)\n",
      "File \u001B[0;32m~/Library/Python/3.9/lib/python/site-packages/torch/nn/modules/module.py:1614\u001B[0m, in \u001B[0;36mModule.__getattr__\u001B[0;34m(self, name)\u001B[0m\n\u001B[1;32m   1612\u001B[0m     \u001B[39mif\u001B[39;00m name \u001B[39min\u001B[39;00m modules:\n\u001B[1;32m   1613\u001B[0m         \u001B[39mreturn\u001B[39;00m modules[name]\n\u001B[0;32m-> 1614\u001B[0m \u001B[39mraise\u001B[39;00m \u001B[39mAttributeError\u001B[39;00m(\u001B[39m\"\u001B[39m\u001B[39m'\u001B[39m\u001B[39m{}\u001B[39;00m\u001B[39m'\u001B[39m\u001B[39m object has no attribute \u001B[39m\u001B[39m'\u001B[39m\u001B[39m{}\u001B[39;00m\u001B[39m'\u001B[39m\u001B[39m\"\u001B[39m\u001B[39m.\u001B[39mformat(\n\u001B[1;32m   1615\u001B[0m     \u001B[39mtype\u001B[39m(\u001B[39mself\u001B[39m)\u001B[39m.\u001B[39m\u001B[39m__name__\u001B[39m, name))\n",
      "\u001B[0;31mAttributeError\u001B[0m: 'LinearClassifierGPT2Attention' object has no attribute 'all_head_size'"
>>>>>>> d3bbfca52417847ccaee0378ff159983aa8d5ad5
     ]
    }
   ],
   "source": [
<<<<<<< HEAD
    "initial_model = initial_model.to(device)\n",
    "\n",
    "custom_model = BertWrapperLin(initial_model, LinearClassifierBertAttention, final_coefs, list(range(3,12))).to(device)\n",
    "# else: \n",
    "#     custom_model = GPT2WrapperLin(initial_model, LinearClassifierGPT2Attention, linear_layers,\n",
    "                        # list(linear_layers.keys())).to(device)\n",
=======
    "if model == 'bert':\n",
    "    custom_model = BertWrapperLin(initial_model, LinearClassifierBertAttention, linear_layers,\n",
    "                        list(linear_layers.keys())).to(device)\n",
    "else: \n",
    "    custom_model = GPT2WrapperLin(initial_model, LinearClassifierGPT2Attention, linear_layers,\n",
    "                        list(linear_layers.keys())).to(device)\n",
>>>>>>> d3bbfca52417847ccaee0378ff159983aa8d5ad5
    "\n",
    "check_results(custom_model, initial_model)"
   ]
  },
  {
<<<<<<< HEAD
=======
   "cell_type": "markdown",
   "metadata": {},
   "source": [
    "## Debug"
   ]
  },
  {
>>>>>>> d3bbfca52417847ccaee0378ff159983aa8d5ad5
   "cell_type": "code",
   "execution_count": null,
   "metadata": {},
   "outputs": [],
   "source": []
  }
 ],
 "metadata": {
  "accelerator": "GPU",
  "colab": {
   "collapsed_sections": [
    "86wQfzJliobb"
   ],
   "gpuType": "T4",
   "provenance": []
  },
  "kernelspec": {
<<<<<<< HEAD
   "display_name": "Python 3 (ipykernel)",
   "language": "python",
=======
   "display_name": "Python 3",
>>>>>>> d3bbfca52417847ccaee0378ff159983aa8d5ad5
   "name": "python3"
  },
  "language_info": {
   "codemirror_mode": {
    "name": "ipython",
    "version": 3
   },
   "file_extension": ".py",
   "mimetype": "text/x-python",
   "name": "python",
   "nbconvert_exporter": "python",
   "pygments_lexer": "ipython3",
<<<<<<< HEAD
   "version": "3.11.3"
=======
   "version": "3.9.6"
>>>>>>> d3bbfca52417847ccaee0378ff159983aa8d5ad5
  },
  "widgets": {
   "application/vnd.jupyter.widget-state+json": {
    "009ff019dbb74528b706bae0e062b79c": {
     "model_module": "@jupyter-widgets/controls",
     "model_module_version": "1.5.0",
     "model_name": "DescriptionStyleModel",
     "state": {
      "_model_module": "@jupyter-widgets/controls",
      "_model_module_version": "1.5.0",
      "_model_name": "DescriptionStyleModel",
      "_view_count": null,
      "_view_module": "@jupyter-widgets/base",
      "_view_module_version": "1.2.0",
      "_view_name": "StyleView",
      "description_width": ""
     }
    },
    "01b5e74c1c9540bb841659a8b50b683a": {
     "model_module": "@jupyter-widgets/controls",
     "model_module_version": "1.5.0",
     "model_name": "HBoxModel",
     "state": {
      "_dom_classes": [],
      "_model_module": "@jupyter-widgets/controls",
      "_model_module_version": "1.5.0",
      "_model_name": "HBoxModel",
      "_view_count": null,
      "_view_module": "@jupyter-widgets/controls",
      "_view_module_version": "1.5.0",
      "_view_name": "HBoxView",
      "box_style": "",
      "children": [
       "IPY_MODEL_06b6f1da7d4445edb20d6b07c4ef708b",
       "IPY_MODEL_8bd82470392544e0947e732a4b165f1f",
       "IPY_MODEL_184ad5b3e44b40d19ef1d81f5ff7835b"
<<<<<<< HEAD
      ],
      "layout": "IPY_MODEL_15df50f3d3f74801b853e0812e3bcb16"
     }
    },
    "046d7c461ebf4ccab93ad4e669d28ef9": {
     "model_module": "@jupyter-widgets/controls",
     "model_module_version": "1.5.0",
     "model_name": "FloatProgressModel",
     "state": {
      "_dom_classes": [],
      "_model_module": "@jupyter-widgets/controls",
      "_model_module_version": "1.5.0",
      "_model_name": "FloatProgressModel",
      "_view_count": null,
      "_view_module": "@jupyter-widgets/controls",
      "_view_module_version": "1.5.0",
      "_view_name": "ProgressView",
      "bar_style": "success",
      "description": "",
      "description_tooltip": null,
      "layout": "IPY_MODEL_de2f3d46bf9e4df49567e0fcf5d3b579",
      "max": 28682,
      "min": 0,
      "orientation": "horizontal",
      "style": "IPY_MODEL_106ea3c1bc314ccca015632af2158fb0",
      "value": 28682
     }
    },
    "0597d9cd22b44603a8192630036c8fd9": {
     "model_module": "@jupyter-widgets/controls",
     "model_module_version": "1.5.0",
     "model_name": "HTMLModel",
     "state": {
      "_dom_classes": [],
      "_model_module": "@jupyter-widgets/controls",
      "_model_module_version": "1.5.0",
      "_model_name": "HTMLModel",
      "_view_count": null,
      "_view_module": "@jupyter-widgets/controls",
      "_view_module_version": "1.5.0",
      "_view_name": "HTMLView",
      "description": "",
      "description_tooltip": null,
      "layout": "IPY_MODEL_7237c183499446b3bff47406038bd794",
      "placeholder": "​",
      "style": "IPY_MODEL_2d73f6ab59e345dc8e5ad425d8a6fc06",
      "value": " 28.7k/28.7k [00:00&lt;00:00, 1.21MB/s]"
     }
    },
    "06b6f1da7d4445edb20d6b07c4ef708b": {
     "model_module": "@jupyter-widgets/controls",
     "model_module_version": "1.5.0",
     "model_name": "HTMLModel",
     "state": {
      "_dom_classes": [],
      "_model_module": "@jupyter-widgets/controls",
      "_model_module_version": "1.5.0",
      "_model_name": "HTMLModel",
      "_view_count": null,
      "_view_module": "@jupyter-widgets/controls",
      "_view_module_version": "1.5.0",
      "_view_name": "HTMLView",
      "description": "",
      "description_tooltip": null,
      "layout": "IPY_MODEL_0c63d52a83464114ad35e31c851b9504",
      "placeholder": "​",
      "style": "IPY_MODEL_d767679b3ca2403ebb924e8fe62ddea9",
      "value": "Downloading (…)okenizer_config.json: 100%"
     }
    },
    "06e556e706e942969121e3ac2f2e6fc9": {
     "model_module": "@jupyter-widgets/controls",
     "model_module_version": "1.5.0",
     "model_name": "HTMLModel",
     "state": {
      "_dom_classes": [],
      "_model_module": "@jupyter-widgets/controls",
      "_model_module_version": "1.5.0",
      "_model_name": "HTMLModel",
      "_view_count": null,
      "_view_module": "@jupyter-widgets/controls",
      "_view_module_version": "1.5.0",
      "_view_name": "HTMLView",
      "description": "",
      "description_tooltip": null,
      "layout": "IPY_MODEL_abb9c44b42754f538f94cb2dea672555",
      "placeholder": "​",
      "style": "IPY_MODEL_776ad86d9e9942e18244f4a0e00335c8",
      "value": "Downloading (…)/main/tokenizer.json: 100%"
     }
    },
    "07538e54e3c84b7e9c728ae32b93e233": {
     "model_module": "@jupyter-widgets/controls",
     "model_module_version": "1.5.0",
     "model_name": "ProgressStyleModel",
     "state": {
      "_model_module": "@jupyter-widgets/controls",
      "_model_module_version": "1.5.0",
      "_model_name": "ProgressStyleModel",
      "_view_count": null,
      "_view_module": "@jupyter-widgets/base",
      "_view_module_version": "1.2.0",
      "_view_name": "StyleView",
      "bar_color": null,
      "description_width": ""
     }
    },
    "079bc1f6dbd9404da05fc990bb6647d7": {
     "model_module": "@jupyter-widgets/controls",
     "model_module_version": "1.5.0",
     "model_name": "DescriptionStyleModel",
     "state": {
      "_model_module": "@jupyter-widgets/controls",
      "_model_module_version": "1.5.0",
      "_model_name": "DescriptionStyleModel",
      "_view_count": null,
      "_view_module": "@jupyter-widgets/base",
      "_view_module_version": "1.2.0",
      "_view_name": "StyleView",
      "description_width": ""
     }
    },
    "07d59e8917604585a6bac9a19f50a6f7": {
     "model_module": "@jupyter-widgets/base",
     "model_module_version": "1.2.0",
     "model_name": "LayoutModel",
     "state": {
      "_model_module": "@jupyter-widgets/base",
      "_model_module_version": "1.2.0",
      "_model_name": "LayoutModel",
      "_view_count": null,
      "_view_module": "@jupyter-widgets/base",
      "_view_module_version": "1.2.0",
      "_view_name": "LayoutView",
      "align_content": null,
      "align_items": null,
      "align_self": null,
      "border": null,
      "bottom": null,
      "display": null,
      "flex": null,
      "flex_flow": null,
      "grid_area": null,
      "grid_auto_columns": null,
      "grid_auto_flow": null,
      "grid_auto_rows": null,
      "grid_column": null,
      "grid_gap": null,
      "grid_row": null,
      "grid_template_areas": null,
      "grid_template_columns": null,
      "grid_template_rows": null,
      "height": null,
      "justify_content": null,
      "justify_items": null,
      "left": null,
      "margin": null,
      "max_height": null,
      "max_width": null,
      "min_height": null,
      "min_width": null,
      "object_fit": null,
      "object_position": null,
      "order": null,
      "overflow": null,
      "overflow_x": null,
      "overflow_y": null,
      "padding": null,
      "right": null,
      "top": null,
      "visibility": null,
      "width": null
     }
    },
    "0b9c7fb0dce7423a9745c7b23e920aff": {
     "model_module": "@jupyter-widgets/controls",
     "model_module_version": "1.5.0",
     "model_name": "FloatProgressModel",
     "state": {
      "_dom_classes": [],
      "_model_module": "@jupyter-widgets/controls",
      "_model_module_version": "1.5.0",
      "_model_name": "FloatProgressModel",
      "_view_count": null,
      "_view_module": "@jupyter-widgets/controls",
      "_view_module_version": "1.5.0",
      "_view_name": "ProgressView",
      "bar_style": "success",
      "description": "",
      "description_tooltip": null,
      "layout": "IPY_MODEL_90778459d3bf4e77bca69334e57d868e",
      "max": 1725,
      "min": 0,
      "orientation": "horizontal",
      "style": "IPY_MODEL_6e517ff031be4c128203932be9ff7cbd",
      "value": 1725
     }
    },
    "0bad45364f53427a8b305cd52ff96328": {
     "model_module": "@jupyter-widgets/controls",
     "model_module_version": "1.5.0",
     "model_name": "HBoxModel",
     "state": {
      "_dom_classes": [],
      "_model_module": "@jupyter-widgets/controls",
      "_model_module_version": "1.5.0",
      "_model_name": "HBoxModel",
      "_view_count": null,
      "_view_module": "@jupyter-widgets/controls",
      "_view_module_version": "1.5.0",
      "_view_name": "HBoxView",
      "box_style": "",
      "children": [
       "IPY_MODEL_fc66821a463b486dbf8ecf4af12fba92",
       "IPY_MODEL_0b9c7fb0dce7423a9745c7b23e920aff",
       "IPY_MODEL_bd31b6645ba6409fbedcd28aafc6599e"
      ],
      "layout": "IPY_MODEL_df59e4c553944fd4a2c3e148d0e5dd88"
     }
    },
    "0c0a509f0ed04196b5fa176eec0358c0": {
     "model_module": "@jupyter-widgets/controls",
     "model_module_version": "1.5.0",
     "model_name": "ProgressStyleModel",
     "state": {
      "_model_module": "@jupyter-widgets/controls",
      "_model_module_version": "1.5.0",
      "_model_name": "ProgressStyleModel",
      "_view_count": null,
      "_view_module": "@jupyter-widgets/base",
      "_view_module_version": "1.2.0",
      "_view_name": "StyleView",
      "bar_color": null,
      "description_width": ""
     }
    },
    "0c63d52a83464114ad35e31c851b9504": {
     "model_module": "@jupyter-widgets/base",
     "model_module_version": "1.2.0",
     "model_name": "LayoutModel",
     "state": {
      "_model_module": "@jupyter-widgets/base",
      "_model_module_version": "1.2.0",
      "_model_name": "LayoutModel",
      "_view_count": null,
      "_view_module": "@jupyter-widgets/base",
      "_view_module_version": "1.2.0",
      "_view_name": "LayoutView",
      "align_content": null,
      "align_items": null,
      "align_self": null,
      "border": null,
      "bottom": null,
      "display": null,
      "flex": null,
      "flex_flow": null,
      "grid_area": null,
      "grid_auto_columns": null,
      "grid_auto_flow": null,
      "grid_auto_rows": null,
      "grid_column": null,
      "grid_gap": null,
      "grid_row": null,
      "grid_template_areas": null,
      "grid_template_columns": null,
      "grid_template_rows": null,
      "height": null,
      "justify_content": null,
      "justify_items": null,
      "left": null,
      "margin": null,
      "max_height": null,
      "max_width": null,
      "min_height": null,
      "min_width": null,
      "object_fit": null,
      "object_position": null,
      "order": null,
      "overflow": null,
      "overflow_x": null,
      "overflow_y": null,
      "padding": null,
      "right": null,
      "top": null,
      "visibility": null,
      "width": null
     }
    },
    "0d1cc33ab9764f0cbd21ecfc84e8c2ed": {
     "model_module": "@jupyter-widgets/controls",
     "model_module_version": "1.5.0",
     "model_name": "ProgressStyleModel",
     "state": {
      "_model_module": "@jupyter-widgets/controls",
      "_model_module_version": "1.5.0",
      "_model_name": "ProgressStyleModel",
      "_view_count": null,
      "_view_module": "@jupyter-widgets/base",
      "_view_module_version": "1.2.0",
      "_view_name": "StyleView",
      "bar_color": null,
      "description_width": ""
     }
    },
    "0e3dc6469af646ef8b562e5acf50f94e": {
     "model_module": "@jupyter-widgets/controls",
     "model_module_version": "1.5.0",
     "model_name": "FloatProgressModel",
     "state": {
      "_dom_classes": [],
      "_model_module": "@jupyter-widgets/controls",
      "_model_module_version": "1.5.0",
      "_model_name": "FloatProgressModel",
      "_view_count": null,
      "_view_module": "@jupyter-widgets/controls",
      "_view_module_version": "1.5.0",
      "_view_name": "ProgressView",
      "bar_style": "success",
      "description": "",
      "description_tooltip": null,
      "layout": "IPY_MODEL_a1dba63282514ad3a37d7f701a1eae9c",
      "max": 1,
      "min": 0,
      "orientation": "horizontal",
      "style": "IPY_MODEL_b7f52df5fe0540689526d115290133a8",
      "value": 1
     }
    },
    "106ea3c1bc314ccca015632af2158fb0": {
     "model_module": "@jupyter-widgets/controls",
     "model_module_version": "1.5.0",
     "model_name": "ProgressStyleModel",
     "state": {
      "_model_module": "@jupyter-widgets/controls",
      "_model_module_version": "1.5.0",
      "_model_name": "ProgressStyleModel",
      "_view_count": null,
      "_view_module": "@jupyter-widgets/base",
      "_view_module_version": "1.2.0",
      "_view_name": "StyleView",
      "bar_color": null,
      "description_width": ""
     }
    },
    "1119118ef5f84458aaa3d04172a8da69": {
     "model_module": "@jupyter-widgets/controls",
     "model_module_version": "1.5.0",
     "model_name": "DescriptionStyleModel",
     "state": {
      "_model_module": "@jupyter-widgets/controls",
      "_model_module_version": "1.5.0",
      "_model_name": "DescriptionStyleModel",
      "_view_count": null,
      "_view_module": "@jupyter-widgets/base",
      "_view_module_version": "1.2.0",
      "_view_name": "StyleView",
      "description_width": ""
     }
    },
    "118cae38dd7041b6886c38a178d77879": {
     "model_module": "@jupyter-widgets/base",
     "model_module_version": "1.2.0",
     "model_name": "LayoutModel",
     "state": {
      "_model_module": "@jupyter-widgets/base",
      "_model_module_version": "1.2.0",
      "_model_name": "LayoutModel",
      "_view_count": null,
      "_view_module": "@jupyter-widgets/base",
      "_view_module_version": "1.2.0",
      "_view_name": "LayoutView",
      "align_content": null,
      "align_items": null,
      "align_self": null,
      "border": null,
      "bottom": null,
      "display": null,
      "flex": null,
      "flex_flow": null,
      "grid_area": null,
      "grid_auto_columns": null,
      "grid_auto_flow": null,
      "grid_auto_rows": null,
      "grid_column": null,
      "grid_gap": null,
      "grid_row": null,
      "grid_template_areas": null,
      "grid_template_columns": null,
      "grid_template_rows": null,
      "height": null,
      "justify_content": null,
      "justify_items": null,
      "left": null,
      "margin": null,
      "max_height": null,
      "max_width": null,
      "min_height": null,
      "min_width": null,
      "object_fit": null,
      "object_position": null,
      "order": null,
      "overflow": null,
      "overflow_x": null,
      "overflow_y": null,
      "padding": null,
      "right": null,
      "top": null,
      "visibility": null,
      "width": null
     }
    },
    "13e2e5ea9016470aaa3d38d72f011340": {
     "model_module": "@jupyter-widgets/controls",
     "model_module_version": "1.5.0",
     "model_name": "HTMLModel",
     "state": {
      "_dom_classes": [],
      "_model_module": "@jupyter-widgets/controls",
      "_model_module_version": "1.5.0",
      "_model_name": "HTMLModel",
      "_view_count": null,
      "_view_module": "@jupyter-widgets/controls",
      "_view_module_version": "1.5.0",
      "_view_name": "HTMLView",
      "description": "",
      "description_tooltip": null,
      "layout": "IPY_MODEL_5fdf854197e44352a5ec4d8697060b88",
      "placeholder": "​",
      "style": "IPY_MODEL_76931ac0a1c641edb38a24a240ca9235",
      "value": "Downloading data: "
     }
    },
    "15df50f3d3f74801b853e0812e3bcb16": {
     "model_module": "@jupyter-widgets/base",
     "model_module_version": "1.2.0",
     "model_name": "LayoutModel",
     "state": {
      "_model_module": "@jupyter-widgets/base",
      "_model_module_version": "1.2.0",
      "_model_name": "LayoutModel",
      "_view_count": null,
      "_view_module": "@jupyter-widgets/base",
      "_view_module_version": "1.2.0",
      "_view_name": "LayoutView",
      "align_content": null,
      "align_items": null,
      "align_self": null,
      "border": null,
      "bottom": null,
      "display": null,
      "flex": null,
      "flex_flow": null,
      "grid_area": null,
      "grid_auto_columns": null,
      "grid_auto_flow": null,
      "grid_auto_rows": null,
      "grid_column": null,
      "grid_gap": null,
      "grid_row": null,
      "grid_template_areas": null,
      "grid_template_columns": null,
      "grid_template_rows": null,
      "height": null,
      "justify_content": null,
      "justify_items": null,
      "left": null,
      "margin": null,
      "max_height": null,
      "max_width": null,
      "min_height": null,
      "min_width": null,
      "object_fit": null,
      "object_position": null,
      "order": null,
      "overflow": null,
      "overflow_x": null,
      "overflow_y": null,
      "padding": null,
      "right": null,
      "top": null,
      "visibility": null,
      "width": null
     }
    },
    "1602f036835c4a818656dc50ed064c05": {
     "model_module": "@jupyter-widgets/controls",
     "model_module_version": "1.5.0",
     "model_name": "HBoxModel",
     "state": {
      "_dom_classes": [],
      "_model_module": "@jupyter-widgets/controls",
      "_model_module_version": "1.5.0",
      "_model_name": "HBoxModel",
      "_view_count": null,
      "_view_module": "@jupyter-widgets/controls",
      "_view_module_version": "1.5.0",
      "_view_name": "HBoxView",
      "box_style": "",
      "children": [
       "IPY_MODEL_b6fcadb66a1247c498b703bde90b1382",
       "IPY_MODEL_adc1bf6aa34342edbcb3e1846bdef924",
       "IPY_MODEL_e2a3078f4f744952b398d1f1b912bdb2"
      ],
      "layout": "IPY_MODEL_39d077ba2bce4d53a5853c65c2e6c15b"
     }
    },
    "16ff718b08fe4a918853a90d1607f543": {
     "model_module": "@jupyter-widgets/controls",
     "model_module_version": "1.5.0",
     "model_name": "FloatProgressModel",
     "state": {
      "_dom_classes": [],
      "_model_module": "@jupyter-widgets/controls",
      "_model_module_version": "1.5.0",
      "_model_name": "FloatProgressModel",
      "_view_count": null,
      "_view_module": "@jupyter-widgets/controls",
      "_view_module_version": "1.5.0",
      "_view_name": "ProgressView",
      "bar_style": "success",
      "description": "",
      "description_tooltip": null,
      "layout": "IPY_MODEL_3d066c63d79e4c40a4b4c20ffe360f13",
      "max": 27887,
      "min": 0,
      "orientation": "horizontal",
      "style": "IPY_MODEL_eeb6e5275c3b4f5ea685752cd1fee5bc",
      "value": 27887
     }
    },
    "17b86a1713d64b6fbb74fa1f620c28b6": {
     "model_module": "@jupyter-widgets/base",
     "model_module_version": "1.2.0",
     "model_name": "LayoutModel",
     "state": {
      "_model_module": "@jupyter-widgets/base",
      "_model_module_version": "1.2.0",
      "_model_name": "LayoutModel",
      "_view_count": null,
      "_view_module": "@jupyter-widgets/base",
      "_view_module_version": "1.2.0",
      "_view_name": "LayoutView",
      "align_content": null,
      "align_items": null,
      "align_self": null,
      "border": null,
      "bottom": null,
      "display": null,
      "flex": null,
      "flex_flow": null,
      "grid_area": null,
      "grid_auto_columns": null,
      "grid_auto_flow": null,
      "grid_auto_rows": null,
      "grid_column": null,
      "grid_gap": null,
      "grid_row": null,
      "grid_template_areas": null,
      "grid_template_columns": null,
      "grid_template_rows": null,
      "height": null,
      "justify_content": null,
      "justify_items": null,
      "left": null,
      "margin": null,
      "max_height": null,
      "max_width": null,
      "min_height": null,
      "min_width": null,
      "object_fit": null,
      "object_position": null,
      "order": null,
      "overflow": null,
      "overflow_x": null,
      "overflow_y": null,
      "padding": null,
      "right": null,
      "top": null,
      "visibility": null,
      "width": null
     }
    },
    "18071841efad4c77a0a6a4e84a1c04d4": {
     "model_module": "@jupyter-widgets/controls",
     "model_module_version": "1.5.0",
     "model_name": "DescriptionStyleModel",
     "state": {
      "_model_module": "@jupyter-widgets/controls",
      "_model_module_version": "1.5.0",
      "_model_name": "DescriptionStyleModel",
      "_view_count": null,
      "_view_module": "@jupyter-widgets/base",
      "_view_module_version": "1.2.0",
      "_view_name": "StyleView",
      "description_width": ""
     }
    },
    "182411aa8f824b4cb9376dbf4dd94b13": {
     "model_module": "@jupyter-widgets/controls",
     "model_module_version": "1.5.0",
     "model_name": "HTMLModel",
     "state": {
      "_dom_classes": [],
      "_model_module": "@jupyter-widgets/controls",
      "_model_module_version": "1.5.0",
      "_model_name": "HTMLModel",
      "_view_count": null,
      "_view_module": "@jupyter-widgets/controls",
      "_view_module_version": "1.5.0",
      "_view_name": "HTMLView",
      "description": "",
      "description_tooltip": null,
      "layout": "IPY_MODEL_fcc600f5f7c64c7985d65f57e118b1f9",
      "placeholder": "​",
      "style": "IPY_MODEL_ae490feadd2141c581c1077b17a42f64",
      "value": " 1.05M/? [00:00&lt;00:00, 30.0MB/s]"
     }
    },
    "184ad5b3e44b40d19ef1d81f5ff7835b": {
     "model_module": "@jupyter-widgets/controls",
     "model_module_version": "1.5.0",
     "model_name": "HTMLModel",
     "state": {
      "_dom_classes": [],
      "_model_module": "@jupyter-widgets/controls",
      "_model_module_version": "1.5.0",
      "_model_name": "HTMLModel",
      "_view_count": null,
      "_view_module": "@jupyter-widgets/controls",
      "_view_module_version": "1.5.0",
      "_view_name": "HTMLView",
      "description": "",
      "description_tooltip": null,
      "layout": "IPY_MODEL_1bcd5e0baf7f4dc5a61cfb487b40073c",
      "placeholder": "​",
      "style": "IPY_MODEL_009ff019dbb74528b706bae0e062b79c",
      "value": " 28.0/28.0 [00:00&lt;00:00, 1.83kB/s]"
     }
    },
    "1935d451e05c4c4fa9e520523bb49a0f": {
     "model_module": "@jupyter-widgets/controls",
     "model_module_version": "1.5.0",
     "model_name": "DescriptionStyleModel",
     "state": {
      "_model_module": "@jupyter-widgets/controls",
      "_model_module_version": "1.5.0",
      "_model_name": "DescriptionStyleModel",
      "_view_count": null,
      "_view_module": "@jupyter-widgets/base",
      "_view_module_version": "1.2.0",
      "_view_name": "StyleView",
      "description_width": ""
     }
    },
    "198cf0f476c74d4fb1d999a9501a6471": {
     "model_module": "@jupyter-widgets/controls",
     "model_module_version": "1.5.0",
     "model_name": "DescriptionStyleModel",
     "state": {
      "_model_module": "@jupyter-widgets/controls",
      "_model_module_version": "1.5.0",
      "_model_name": "DescriptionStyleModel",
      "_view_count": null,
      "_view_module": "@jupyter-widgets/base",
      "_view_module_version": "1.2.0",
      "_view_name": "StyleView",
      "description_width": ""
     }
    },
    "1998f547f1ef4c8187ba28f9ba3e680d": {
     "model_module": "@jupyter-widgets/controls",
     "model_module_version": "1.5.0",
     "model_name": "HBoxModel",
     "state": {
      "_dom_classes": [],
      "_model_module": "@jupyter-widgets/controls",
      "_model_module_version": "1.5.0",
      "_model_name": "HBoxModel",
      "_view_count": null,
      "_view_module": "@jupyter-widgets/controls",
      "_view_module_version": "1.5.0",
      "_view_name": "HBoxView",
      "box_style": "",
      "children": [
       "IPY_MODEL_62ba9094a894433eb31684b36650f6e0",
       "IPY_MODEL_b6fadba69cc44d8388f00b6375096c31",
       "IPY_MODEL_38dbd40bc1f64391afe250b3deb93ed2"
      ],
      "layout": "IPY_MODEL_693a3c8ad0f84396896254567ad4f2e1"
     }
    },
    "1ad4992394304e78b09c7011f6bdca49": {
     "model_module": "@jupyter-widgets/controls",
     "model_module_version": "1.5.0",
     "model_name": "DescriptionStyleModel",
     "state": {
      "_model_module": "@jupyter-widgets/controls",
      "_model_module_version": "1.5.0",
      "_model_name": "DescriptionStyleModel",
      "_view_count": null,
      "_view_module": "@jupyter-widgets/base",
      "_view_module_version": "1.2.0",
      "_view_name": "StyleView",
      "description_width": ""
     }
    },
    "1bcd5e0baf7f4dc5a61cfb487b40073c": {
     "model_module": "@jupyter-widgets/base",
     "model_module_version": "1.2.0",
     "model_name": "LayoutModel",
     "state": {
      "_model_module": "@jupyter-widgets/base",
      "_model_module_version": "1.2.0",
      "_model_name": "LayoutModel",
      "_view_count": null,
      "_view_module": "@jupyter-widgets/base",
      "_view_module_version": "1.2.0",
      "_view_name": "LayoutView",
      "align_content": null,
      "align_items": null,
      "align_self": null,
      "border": null,
      "bottom": null,
      "display": null,
      "flex": null,
      "flex_flow": null,
      "grid_area": null,
      "grid_auto_columns": null,
      "grid_auto_flow": null,
      "grid_auto_rows": null,
      "grid_column": null,
      "grid_gap": null,
      "grid_row": null,
      "grid_template_areas": null,
      "grid_template_columns": null,
      "grid_template_rows": null,
      "height": null,
      "justify_content": null,
      "justify_items": null,
      "left": null,
      "margin": null,
      "max_height": null,
      "max_width": null,
      "min_height": null,
      "min_width": null,
      "object_fit": null,
      "object_position": null,
      "order": null,
      "overflow": null,
      "overflow_x": null,
      "overflow_y": null,
      "padding": null,
      "right": null,
      "top": null,
      "visibility": null,
      "width": null
     }
    },
    "1e112e32605d41a9b3dd1f53b547ac45": {
     "model_module": "@jupyter-widgets/controls",
     "model_module_version": "1.5.0",
     "model_name": "HTMLModel",
     "state": {
      "_dom_classes": [],
      "_model_module": "@jupyter-widgets/controls",
      "_model_module_version": "1.5.0",
      "_model_name": "HTMLModel",
      "_view_count": null,
      "_view_module": "@jupyter-widgets/controls",
      "_view_module_version": "1.5.0",
      "_view_name": "HTMLView",
      "description": "",
      "description_tooltip": null,
      "layout": "IPY_MODEL_2f25472a2ea147dc878dd999088124ce",
      "placeholder": "​",
      "style": "IPY_MODEL_545770119b9a4acbb38db71489ded4be",
      "value": " 570/570 [00:00&lt;00:00, 40.0kB/s]"
     }
    },
    "1e5b790639d24b1b964afcda5e652915": {
     "model_module": "@jupyter-widgets/base",
     "model_module_version": "1.2.0",
     "model_name": "LayoutModel",
     "state": {
      "_model_module": "@jupyter-widgets/base",
      "_model_module_version": "1.2.0",
      "_model_name": "LayoutModel",
      "_view_count": null,
      "_view_module": "@jupyter-widgets/base",
      "_view_module_version": "1.2.0",
      "_view_name": "LayoutView",
      "align_content": null,
      "align_items": null,
      "align_self": null,
      "border": null,
      "bottom": null,
      "display": null,
      "flex": null,
      "flex_flow": null,
      "grid_area": null,
      "grid_auto_columns": null,
      "grid_auto_flow": null,
      "grid_auto_rows": null,
      "grid_column": null,
      "grid_gap": null,
      "grid_row": null,
      "grid_template_areas": null,
      "grid_template_columns": null,
      "grid_template_rows": null,
      "height": null,
      "justify_content": null,
      "justify_items": null,
      "left": null,
      "margin": null,
      "max_height": null,
      "max_width": null,
      "min_height": null,
      "min_width": null,
      "object_fit": null,
      "object_position": null,
      "order": null,
      "overflow": null,
      "overflow_x": null,
      "overflow_y": null,
      "padding": null,
      "right": null,
      "top": null,
      "visibility": null,
      "width": null
     }
    },
    "1ea67387f0e847218d48544be2d82d67": {
     "model_module": "@jupyter-widgets/controls",
     "model_module_version": "1.5.0",
     "model_name": "ProgressStyleModel",
     "state": {
      "_model_module": "@jupyter-widgets/controls",
      "_model_module_version": "1.5.0",
      "_model_name": "ProgressStyleModel",
      "_view_count": null,
      "_view_module": "@jupyter-widgets/base",
      "_view_module_version": "1.2.0",
      "_view_name": "StyleView",
      "bar_color": null,
      "description_width": ""
     }
    },
    "2111e57c9ad34142817ff09523328239": {
     "model_module": "@jupyter-widgets/controls",
     "model_module_version": "1.5.0",
     "model_name": "HBoxModel",
     "state": {
      "_dom_classes": [],
      "_model_module": "@jupyter-widgets/controls",
      "_model_module_version": "1.5.0",
      "_model_name": "HBoxModel",
      "_view_count": null,
      "_view_module": "@jupyter-widgets/controls",
      "_view_module_version": "1.5.0",
      "_view_name": "HBoxView",
      "box_style": "",
      "children": [
       "IPY_MODEL_96b593dd44464b91a3c48a0795cf7076",
       "IPY_MODEL_046d7c461ebf4ccab93ad4e669d28ef9",
       "IPY_MODEL_0597d9cd22b44603a8192630036c8fd9"
      ],
      "layout": "IPY_MODEL_35b41e673a7e43548f3e70231984c5d8"
     }
    },
    "219279654d0c497ea6a3a197a8aea1a9": {
     "model_module": "@jupyter-widgets/base",
     "model_module_version": "1.2.0",
     "model_name": "LayoutModel",
     "state": {
      "_model_module": "@jupyter-widgets/base",
      "_model_module_version": "1.2.0",
      "_model_name": "LayoutModel",
      "_view_count": null,
      "_view_module": "@jupyter-widgets/base",
      "_view_module_version": "1.2.0",
      "_view_name": "LayoutView",
      "align_content": null,
      "align_items": null,
      "align_self": null,
      "border": null,
      "bottom": null,
      "display": null,
      "flex": null,
      "flex_flow": null,
      "grid_area": null,
      "grid_auto_columns": null,
      "grid_auto_flow": null,
      "grid_auto_rows": null,
      "grid_column": null,
      "grid_gap": null,
      "grid_row": null,
      "grid_template_areas": null,
      "grid_template_columns": null,
      "grid_template_rows": null,
      "height": null,
      "justify_content": null,
      "justify_items": null,
      "left": null,
      "margin": null,
      "max_height": null,
      "max_width": null,
      "min_height": null,
      "min_width": null,
      "object_fit": null,
      "object_position": null,
      "order": null,
      "overflow": null,
      "overflow_x": null,
      "overflow_y": null,
      "padding": null,
      "right": null,
      "top": null,
      "visibility": null,
      "width": null
     }
    },
    "22fcf64527504cba865ac0c15a07b58c": {
     "model_module": "@jupyter-widgets/base",
     "model_module_version": "1.2.0",
     "model_name": "LayoutModel",
     "state": {
      "_model_module": "@jupyter-widgets/base",
      "_model_module_version": "1.2.0",
      "_model_name": "LayoutModel",
      "_view_count": null,
      "_view_module": "@jupyter-widgets/base",
      "_view_module_version": "1.2.0",
      "_view_name": "LayoutView",
      "align_content": null,
      "align_items": null,
      "align_self": null,
      "border": null,
      "bottom": null,
      "display": null,
      "flex": null,
      "flex_flow": null,
      "grid_area": null,
      "grid_auto_columns": null,
      "grid_auto_flow": null,
      "grid_auto_rows": null,
      "grid_column": null,
      "grid_gap": null,
      "grid_row": null,
      "grid_template_areas": null,
      "grid_template_columns": null,
      "grid_template_rows": null,
      "height": null,
      "justify_content": null,
      "justify_items": null,
      "left": null,
      "margin": null,
      "max_height": null,
      "max_width": null,
      "min_height": null,
      "min_width": null,
      "object_fit": null,
      "object_position": null,
      "order": null,
      "overflow": null,
      "overflow_x": null,
      "overflow_y": null,
      "padding": null,
      "right": null,
      "top": null,
      "visibility": null,
      "width": "20px"
     }
    },
    "2898aab6763d4a679a2c69e02b6df257": {
     "model_module": "@jupyter-widgets/controls",
     "model_module_version": "1.5.0",
     "model_name": "FloatProgressModel",
     "state": {
      "_dom_classes": [],
      "_model_module": "@jupyter-widgets/controls",
      "_model_module_version": "1.5.0",
      "_model_name": "FloatProgressModel",
      "_view_count": null,
      "_view_module": "@jupyter-widgets/controls",
      "_view_module_version": "1.5.0",
      "_view_name": "ProgressView",
      "bar_style": "success",
      "description": "",
      "description_tooltip": null,
      "layout": "IPY_MODEL_219279654d0c497ea6a3a197a8aea1a9",
      "max": 570,
      "min": 0,
      "orientation": "horizontal",
      "style": "IPY_MODEL_07538e54e3c84b7e9c728ae32b93e233",
      "value": 570
     }
    },
    "2cc91db41f22412193c1830eec4e8a05": {
     "model_module": "@jupyter-widgets/controls",
     "model_module_version": "1.5.0",
     "model_name": "DescriptionStyleModel",
     "state": {
      "_model_module": "@jupyter-widgets/controls",
      "_model_module_version": "1.5.0",
      "_model_name": "DescriptionStyleModel",
      "_view_count": null,
      "_view_module": "@jupyter-widgets/base",
      "_view_module_version": "1.2.0",
      "_view_name": "StyleView",
      "description_width": ""
     }
    },
    "2d2f5f126e114ba798d499c1540fab29": {
     "model_module": "@jupyter-widgets/controls",
     "model_module_version": "1.5.0",
     "model_name": "ProgressStyleModel",
     "state": {
      "_model_module": "@jupyter-widgets/controls",
      "_model_module_version": "1.5.0",
      "_model_name": "ProgressStyleModel",
      "_view_count": null,
      "_view_module": "@jupyter-widgets/base",
      "_view_module_version": "1.2.0",
      "_view_name": "StyleView",
      "bar_color": null,
      "description_width": ""
     }
    },
    "2d73f6ab59e345dc8e5ad425d8a6fc06": {
     "model_module": "@jupyter-widgets/controls",
     "model_module_version": "1.5.0",
     "model_name": "DescriptionStyleModel",
     "state": {
      "_model_module": "@jupyter-widgets/controls",
      "_model_module_version": "1.5.0",
      "_model_name": "DescriptionStyleModel",
      "_view_count": null,
      "_view_module": "@jupyter-widgets/base",
      "_view_module_version": "1.2.0",
      "_view_name": "StyleView",
      "description_width": ""
     }
    },
    "2e309e0573f64f5daffde86d4e3be928": {
     "model_module": "@jupyter-widgets/controls",
     "model_module_version": "1.5.0",
     "model_name": "DescriptionStyleModel",
     "state": {
      "_model_module": "@jupyter-widgets/controls",
      "_model_module_version": "1.5.0",
      "_model_name": "DescriptionStyleModel",
      "_view_count": null,
      "_view_module": "@jupyter-widgets/base",
      "_view_module_version": "1.2.0",
      "_view_name": "StyleView",
      "description_width": ""
     }
    },
    "2e924fca6a63480ebef9c60cef3a8a4c": {
     "model_module": "@jupyter-widgets/base",
     "model_module_version": "1.2.0",
     "model_name": "LayoutModel",
     "state": {
      "_model_module": "@jupyter-widgets/base",
      "_model_module_version": "1.2.0",
      "_model_name": "LayoutModel",
      "_view_count": null,
      "_view_module": "@jupyter-widgets/base",
      "_view_module_version": "1.2.0",
      "_view_name": "LayoutView",
      "align_content": null,
      "align_items": null,
      "align_self": null,
      "border": null,
      "bottom": null,
      "display": null,
      "flex": null,
      "flex_flow": null,
      "grid_area": null,
      "grid_auto_columns": null,
      "grid_auto_flow": null,
      "grid_auto_rows": null,
      "grid_column": null,
      "grid_gap": null,
      "grid_row": null,
      "grid_template_areas": null,
      "grid_template_columns": null,
      "grid_template_rows": null,
      "height": null,
      "justify_content": null,
      "justify_items": null,
      "left": null,
      "margin": null,
      "max_height": null,
      "max_width": null,
      "min_height": null,
      "min_width": null,
      "object_fit": null,
      "object_position": null,
      "order": null,
      "overflow": null,
      "overflow_x": null,
      "overflow_y": null,
      "padding": null,
      "right": null,
      "top": null,
      "visibility": null,
      "width": null
     }
    },
    "2f25472a2ea147dc878dd999088124ce": {
     "model_module": "@jupyter-widgets/base",
     "model_module_version": "1.2.0",
     "model_name": "LayoutModel",
     "state": {
      "_model_module": "@jupyter-widgets/base",
      "_model_module_version": "1.2.0",
      "_model_name": "LayoutModel",
      "_view_count": null,
      "_view_module": "@jupyter-widgets/base",
      "_view_module_version": "1.2.0",
      "_view_name": "LayoutView",
      "align_content": null,
      "align_items": null,
      "align_self": null,
      "border": null,
      "bottom": null,
      "display": null,
      "flex": null,
      "flex_flow": null,
      "grid_area": null,
      "grid_auto_columns": null,
      "grid_auto_flow": null,
      "grid_auto_rows": null,
      "grid_column": null,
      "grid_gap": null,
      "grid_row": null,
      "grid_template_areas": null,
      "grid_template_columns": null,
      "grid_template_rows": null,
      "height": null,
      "justify_content": null,
      "justify_items": null,
      "left": null,
      "margin": null,
      "max_height": null,
      "max_width": null,
      "min_height": null,
      "min_width": null,
      "object_fit": null,
      "object_position": null,
      "order": null,
      "overflow": null,
      "overflow_x": null,
      "overflow_y": null,
      "padding": null,
      "right": null,
      "top": null,
      "visibility": null,
      "width": null
     }
    },
    "3082644216064b2f858e27f89be4ab89": {
     "model_module": "@jupyter-widgets/base",
     "model_module_version": "1.2.0",
     "model_name": "LayoutModel",
     "state": {
      "_model_module": "@jupyter-widgets/base",
      "_model_module_version": "1.2.0",
      "_model_name": "LayoutModel",
      "_view_count": null,
      "_view_module": "@jupyter-widgets/base",
      "_view_module_version": "1.2.0",
      "_view_name": "LayoutView",
      "align_content": null,
      "align_items": null,
      "align_self": null,
      "border": null,
      "bottom": null,
      "display": null,
      "flex": null,
      "flex_flow": null,
      "grid_area": null,
      "grid_auto_columns": null,
      "grid_auto_flow": null,
      "grid_auto_rows": null,
      "grid_column": null,
      "grid_gap": null,
      "grid_row": null,
      "grid_template_areas": null,
      "grid_template_columns": null,
      "grid_template_rows": null,
      "height": null,
      "justify_content": null,
      "justify_items": null,
      "left": null,
      "margin": null,
      "max_height": null,
      "max_width": null,
      "min_height": null,
      "min_width": null,
      "object_fit": null,
      "object_position": null,
      "order": null,
      "overflow": null,
      "overflow_x": null,
      "overflow_y": null,
      "padding": null,
      "right": null,
      "top": null,
      "visibility": null,
      "width": null
     }
    },
    "32009a4659b64f5c9e4f7eb3bd45320f": {
     "model_module": "@jupyter-widgets/controls",
     "model_module_version": "1.5.0",
     "model_name": "HTMLModel",
     "state": {
      "_dom_classes": [],
      "_model_module": "@jupyter-widgets/controls",
      "_model_module_version": "1.5.0",
      "_model_name": "HTMLModel",
      "_view_count": null,
      "_view_module": "@jupyter-widgets/controls",
      "_view_module_version": "1.5.0",
      "_view_name": "HTMLView",
      "description": "",
      "description_tooltip": null,
      "layout": "IPY_MODEL_93fffcb963af4e199b3951163a2270d2",
      "placeholder": "​",
      "style": "IPY_MODEL_d302f29623f54ba39157c9b1f4e47adc",
      "value": "Downloading readme: 100%"
     }
    },
    "326ac6354bce4d55bca435a5b9f4e149": {
     "model_module": "@jupyter-widgets/controls",
     "model_module_version": "1.5.0",
     "model_name": "ProgressStyleModel",
     "state": {
      "_model_module": "@jupyter-widgets/controls",
      "_model_module_version": "1.5.0",
      "_model_name": "ProgressStyleModel",
      "_view_count": null,
      "_view_module": "@jupyter-widgets/base",
      "_view_module_version": "1.2.0",
      "_view_name": "StyleView",
      "bar_color": null,
      "description_width": ""
     }
    },
    "35b41e673a7e43548f3e70231984c5d8": {
     "model_module": "@jupyter-widgets/base",
     "model_module_version": "1.2.0",
     "model_name": "LayoutModel",
     "state": {
      "_model_module": "@jupyter-widgets/base",
      "_model_module_version": "1.2.0",
      "_model_name": "LayoutModel",
      "_view_count": null,
      "_view_module": "@jupyter-widgets/base",
      "_view_module_version": "1.2.0",
      "_view_name": "LayoutView",
      "align_content": null,
      "align_items": null,
      "align_self": null,
      "border": null,
      "bottom": null,
      "display": null,
      "flex": null,
      "flex_flow": null,
      "grid_area": null,
      "grid_auto_columns": null,
      "grid_auto_flow": null,
      "grid_auto_rows": null,
      "grid_column": null,
      "grid_gap": null,
      "grid_row": null,
      "grid_template_areas": null,
      "grid_template_columns": null,
      "grid_template_rows": null,
      "height": null,
      "justify_content": null,
      "justify_items": null,
      "left": null,
      "margin": null,
      "max_height": null,
      "max_width": null,
      "min_height": null,
      "min_width": null,
      "object_fit": null,
      "object_position": null,
      "order": null,
      "overflow": null,
      "overflow_x": null,
      "overflow_y": null,
      "padding": null,
      "right": null,
      "top": null,
      "visibility": null,
      "width": null
     }
    },
    "38dbd40bc1f64391afe250b3deb93ed2": {
     "model_module": "@jupyter-widgets/controls",
     "model_module_version": "1.5.0",
     "model_name": "HTMLModel",
     "state": {
      "_dom_classes": [],
      "_model_module": "@jupyter-widgets/controls",
      "_model_module_version": "1.5.0",
      "_model_name": "HTMLModel",
      "_view_count": null,
      "_view_module": "@jupyter-widgets/controls",
      "_view_module_version": "1.5.0",
      "_view_name": "HTMLView",
      "description": "",
      "description_tooltip": null,
      "layout": "IPY_MODEL_4798080dd7364ef6ad4fc1a636947576",
      "placeholder": "​",
      "style": "IPY_MODEL_2cc91db41f22412193c1830eec4e8a05",
      "value": " 408/408 [00:00&lt;00:00, 3364.30 examples/s]"
     }
    },
    "39d077ba2bce4d53a5853c65c2e6c15b": {
     "model_module": "@jupyter-widgets/base",
     "model_module_version": "1.2.0",
     "model_name": "LayoutModel",
     "state": {
      "_model_module": "@jupyter-widgets/base",
      "_model_module_version": "1.2.0",
      "_model_name": "LayoutModel",
      "_view_count": null,
      "_view_module": "@jupyter-widgets/base",
      "_view_module_version": "1.2.0",
      "_view_name": "LayoutView",
      "align_content": null,
      "align_items": null,
      "align_self": null,
      "border": null,
      "bottom": null,
      "display": null,
      "flex": null,
      "flex_flow": null,
      "grid_area": null,
      "grid_auto_columns": null,
      "grid_auto_flow": null,
      "grid_auto_rows": null,
      "grid_column": null,
      "grid_gap": null,
      "grid_row": null,
      "grid_template_areas": null,
      "grid_template_columns": null,
      "grid_template_rows": null,
      "height": null,
      "justify_content": null,
      "justify_items": null,
      "left": null,
      "margin": null,
      "max_height": null,
      "max_width": null,
      "min_height": null,
      "min_width": null,
      "object_fit": null,
      "object_position": null,
      "order": null,
      "overflow": null,
      "overflow_x": null,
      "overflow_y": null,
      "padding": null,
      "right": null,
      "top": null,
      "visibility": null,
      "width": null
     }
    },
    "3cd37bdf025846f5bb0e1c25c461ab01": {
     "model_module": "@jupyter-widgets/controls",
     "model_module_version": "1.5.0",
     "model_name": "HTMLModel",
     "state": {
      "_dom_classes": [],
      "_model_module": "@jupyter-widgets/controls",
      "_model_module_version": "1.5.0",
      "_model_name": "HTMLModel",
      "_view_count": null,
      "_view_module": "@jupyter-widgets/controls",
      "_view_module_version": "1.5.0",
      "_view_name": "HTMLView",
      "description": "",
      "description_tooltip": null,
      "layout": "IPY_MODEL_eacb5fae3b4d411dae7d93193085ab67",
      "placeholder": "​",
      "style": "IPY_MODEL_1935d451e05c4c4fa9e520523bb49a0f",
      "value": " 28.8k/28.8k [00:00&lt;00:00, 1.13MB/s]"
     }
    },
    "3d066c63d79e4c40a4b4c20ffe360f13": {
     "model_module": "@jupyter-widgets/base",
     "model_module_version": "1.2.0",
     "model_name": "LayoutModel",
     "state": {
      "_model_module": "@jupyter-widgets/base",
      "_model_module_version": "1.2.0",
      "_model_name": "LayoutModel",
      "_view_count": null,
      "_view_module": "@jupyter-widgets/base",
      "_view_module_version": "1.2.0",
      "_view_name": "LayoutView",
      "align_content": null,
      "align_items": null,
      "align_self": null,
      "border": null,
      "bottom": null,
      "display": null,
      "flex": null,
      "flex_flow": null,
      "grid_area": null,
      "grid_auto_columns": null,
      "grid_auto_flow": null,
      "grid_auto_rows": null,
      "grid_column": null,
      "grid_gap": null,
      "grid_row": null,
      "grid_template_areas": null,
      "grid_template_columns": null,
      "grid_template_rows": null,
      "height": null,
      "justify_content": null,
      "justify_items": null,
      "left": null,
      "margin": null,
      "max_height": null,
      "max_width": null,
      "min_height": null,
      "min_width": null,
      "object_fit": null,
      "object_position": null,
      "order": null,
      "overflow": null,
      "overflow_x": null,
      "overflow_y": null,
      "padding": null,
      "right": null,
      "top": null,
      "visibility": null,
      "width": null
     }
    },
    "3fa61f1c283146668aa13efc6f436eff": {
     "model_module": "@jupyter-widgets/controls",
     "model_module_version": "1.5.0",
     "model_name": "ProgressStyleModel",
     "state": {
      "_model_module": "@jupyter-widgets/controls",
      "_model_module_version": "1.5.0",
      "_model_name": "ProgressStyleModel",
      "_view_count": null,
      "_view_module": "@jupyter-widgets/base",
      "_view_module_version": "1.2.0",
      "_view_name": "StyleView",
      "bar_color": null,
      "description_width": ""
     }
    },
    "3fff2217019b4ebcb668e36c7b2bb108": {
     "model_module": "@jupyter-widgets/controls",
     "model_module_version": "1.5.0",
     "model_name": "DescriptionStyleModel",
     "state": {
      "_model_module": "@jupyter-widgets/controls",
      "_model_module_version": "1.5.0",
      "_model_name": "DescriptionStyleModel",
      "_view_count": null,
      "_view_module": "@jupyter-widgets/base",
      "_view_module_version": "1.2.0",
      "_view_name": "StyleView",
      "description_width": ""
     }
    },
    "407ac00e86a741b3a2cce20cb2e3a25b": {
     "model_module": "@jupyter-widgets/controls",
     "model_module_version": "1.5.0",
     "model_name": "HBoxModel",
     "state": {
      "_dom_classes": [],
      "_model_module": "@jupyter-widgets/controls",
      "_model_module_version": "1.5.0",
      "_model_name": "HBoxModel",
      "_view_count": null,
      "_view_module": "@jupyter-widgets/controls",
      "_view_module_version": "1.5.0",
      "_view_name": "HBoxView",
      "box_style": "",
      "children": [
       "IPY_MODEL_85765b5c71ad4d91947b29e69fdd49f4",
       "IPY_MODEL_f439505bc9fc4df8a60ce6d0b2bda93e",
       "IPY_MODEL_3cd37bdf025846f5bb0e1c25c461ab01"
      ],
      "layout": "IPY_MODEL_b7322d55ddca4728a636ef96fa360532"
     }
    },
    "41e31be0416e47da98ccb2bd86b704cd": {
     "model_module": "@jupyter-widgets/base",
     "model_module_version": "1.2.0",
     "model_name": "LayoutModel",
     "state": {
      "_model_module": "@jupyter-widgets/base",
      "_model_module_version": "1.2.0",
      "_model_name": "LayoutModel",
      "_view_count": null,
      "_view_module": "@jupyter-widgets/base",
      "_view_module_version": "1.2.0",
      "_view_name": "LayoutView",
      "align_content": null,
      "align_items": null,
      "align_self": null,
      "border": null,
      "bottom": null,
      "display": null,
      "flex": null,
      "flex_flow": null,
      "grid_area": null,
      "grid_auto_columns": null,
      "grid_auto_flow": null,
      "grid_auto_rows": null,
      "grid_column": null,
      "grid_gap": null,
      "grid_row": null,
      "grid_template_areas": null,
      "grid_template_columns": null,
      "grid_template_rows": null,
      "height": null,
      "justify_content": null,
      "justify_items": null,
      "left": null,
      "margin": null,
      "max_height": null,
      "max_width": null,
      "min_height": null,
      "min_width": null,
      "object_fit": null,
      "object_position": null,
      "order": null,
      "overflow": null,
      "overflow_x": null,
      "overflow_y": null,
      "padding": null,
      "right": null,
      "top": null,
      "visibility": null,
      "width": null
     }
    },
    "42114227bcd549168c400ab24af60296": {
     "model_module": "@jupyter-widgets/controls",
     "model_module_version": "1.5.0",
     "model_name": "DescriptionStyleModel",
     "state": {
      "_model_module": "@jupyter-widgets/controls",
      "_model_module_version": "1.5.0",
      "_model_name": "DescriptionStyleModel",
      "_view_count": null,
      "_view_module": "@jupyter-widgets/base",
      "_view_module_version": "1.2.0",
      "_view_name": "StyleView",
      "description_width": ""
     }
    },
    "43b0cc13632c4ad78cb7709abe968b43": {
     "model_module": "@jupyter-widgets/controls",
     "model_module_version": "1.5.0",
     "model_name": "HTMLModel",
     "state": {
      "_dom_classes": [],
      "_model_module": "@jupyter-widgets/controls",
      "_model_module_version": "1.5.0",
      "_model_name": "HTMLModel",
      "_view_count": null,
      "_view_module": "@jupyter-widgets/controls",
      "_view_module_version": "1.5.0",
      "_view_name": "HTMLView",
      "description": "",
      "description_tooltip": null,
      "layout": "IPY_MODEL_c29b0638dc414a6ea55853dcce3793e5",
      "placeholder": "​",
      "style": "IPY_MODEL_2e309e0573f64f5daffde86d4e3be928",
      "value": "Downloading data files: 100%"
     }
    },
    "458d6f9570f8463fa1a3e0d6af4322ca": {
     "model_module": "@jupyter-widgets/controls",
     "model_module_version": "1.5.0",
     "model_name": "DescriptionStyleModel",
     "state": {
      "_model_module": "@jupyter-widgets/controls",
      "_model_module_version": "1.5.0",
      "_model_name": "DescriptionStyleModel",
      "_view_count": null,
      "_view_module": "@jupyter-widgets/base",
      "_view_module_version": "1.2.0",
      "_view_name": "StyleView",
      "description_width": ""
     }
    },
    "4798080dd7364ef6ad4fc1a636947576": {
     "model_module": "@jupyter-widgets/base",
     "model_module_version": "1.2.0",
     "model_name": "LayoutModel",
     "state": {
      "_model_module": "@jupyter-widgets/base",
      "_model_module_version": "1.2.0",
      "_model_name": "LayoutModel",
      "_view_count": null,
      "_view_module": "@jupyter-widgets/base",
      "_view_module_version": "1.2.0",
      "_view_name": "LayoutView",
      "align_content": null,
      "align_items": null,
      "align_self": null,
      "border": null,
      "bottom": null,
      "display": null,
      "flex": null,
      "flex_flow": null,
      "grid_area": null,
      "grid_auto_columns": null,
      "grid_auto_flow": null,
      "grid_auto_rows": null,
      "grid_column": null,
      "grid_gap": null,
      "grid_row": null,
      "grid_template_areas": null,
      "grid_template_columns": null,
      "grid_template_rows": null,
      "height": null,
      "justify_content": null,
      "justify_items": null,
      "left": null,
      "margin": null,
      "max_height": null,
      "max_width": null,
      "min_height": null,
      "min_width": null,
      "object_fit": null,
      "object_position": null,
      "order": null,
      "overflow": null,
      "overflow_x": null,
      "overflow_y": null,
      "padding": null,
      "right": null,
      "top": null,
      "visibility": null,
      "width": null
     }
    },
    "48798ad0fdff4348aac1a6f8c3b2575b": {
     "model_module": "@jupyter-widgets/controls",
     "model_module_version": "1.5.0",
     "model_name": "DescriptionStyleModel",
     "state": {
      "_model_module": "@jupyter-widgets/controls",
      "_model_module_version": "1.5.0",
      "_model_name": "DescriptionStyleModel",
      "_view_count": null,
      "_view_module": "@jupyter-widgets/base",
      "_view_module_version": "1.2.0",
      "_view_name": "StyleView",
      "description_width": ""
     }
    },
    "4ad86401b66645e9bbd26fb54a49b341": {
     "model_module": "@jupyter-widgets/base",
     "model_module_version": "1.2.0",
     "model_name": "LayoutModel",
     "state": {
      "_model_module": "@jupyter-widgets/base",
      "_model_module_version": "1.2.0",
      "_model_name": "LayoutModel",
      "_view_count": null,
      "_view_module": "@jupyter-widgets/base",
      "_view_module_version": "1.2.0",
      "_view_name": "LayoutView",
      "align_content": null,
      "align_items": null,
      "align_self": null,
      "border": null,
      "bottom": null,
      "display": null,
      "flex": null,
      "flex_flow": null,
      "grid_area": null,
      "grid_auto_columns": null,
      "grid_auto_flow": null,
      "grid_auto_rows": null,
      "grid_column": null,
      "grid_gap": null,
      "grid_row": null,
      "grid_template_areas": null,
      "grid_template_columns": null,
      "grid_template_rows": null,
      "height": null,
      "justify_content": null,
      "justify_items": null,
      "left": null,
      "margin": null,
      "max_height": null,
      "max_width": null,
      "min_height": null,
      "min_width": null,
      "object_fit": null,
      "object_position": null,
      "order": null,
      "overflow": null,
      "overflow_x": null,
      "overflow_y": null,
      "padding": null,
      "right": null,
      "top": null,
      "visibility": null,
      "width": null
     }
    },
    "4cf2ad8f8fcc4aa882a5d9c1b8781906": {
     "model_module": "@jupyter-widgets/controls",
     "model_module_version": "1.5.0",
     "model_name": "HTMLModel",
     "state": {
      "_dom_classes": [],
      "_model_module": "@jupyter-widgets/controls",
      "_model_module_version": "1.5.0",
      "_model_name": "HTMLModel",
      "_view_count": null,
      "_view_module": "@jupyter-widgets/controls",
      "_view_module_version": "1.5.0",
      "_view_name": "HTMLView",
      "description": "",
      "description_tooltip": null,
      "layout": "IPY_MODEL_5ba2e628158a4232ac2a988cc86d6c7a",
      "placeholder": "​",
      "style": "IPY_MODEL_079bc1f6dbd9404da05fc990bb6647d7",
      "value": " 27.9k/27.9k [00:00&lt;00:00, 1.61MB/s]"
     }
    },
    "4d9e0eebdb3d4bcc9cb27d5e73d10ff1": {
     "model_module": "@jupyter-widgets/controls",
     "model_module_version": "1.5.0",
     "model_name": "HTMLModel",
     "state": {
      "_dom_classes": [],
      "_model_module": "@jupyter-widgets/controls",
      "_model_module_version": "1.5.0",
      "_model_name": "HTMLModel",
      "_view_count": null,
      "_view_module": "@jupyter-widgets/controls",
      "_view_module_version": "1.5.0",
      "_view_name": "HTMLView",
      "description": "",
      "description_tooltip": null,
      "layout": "IPY_MODEL_7f1976b582db492c9c4c0818079bc237",
      "placeholder": "​",
      "style": "IPY_MODEL_c32583c455414d92aaa695cc8fbee472",
      "value": " 466k/466k [00:00&lt;00:00, 16.3MB/s]"
     }
    },
    "4ff55303f9154bd3a70467b83ae11667": {
     "model_module": "@jupyter-widgets/controls",
     "model_module_version": "1.5.0",
     "model_name": "DescriptionStyleModel",
     "state": {
      "_model_module": "@jupyter-widgets/controls",
      "_model_module_version": "1.5.0",
      "_model_name": "DescriptionStyleModel",
      "_view_count": null,
      "_view_module": "@jupyter-widgets/base",
      "_view_module_version": "1.2.0",
      "_view_name": "StyleView",
      "description_width": ""
     }
    },
    "545770119b9a4acbb38db71489ded4be": {
     "model_module": "@jupyter-widgets/controls",
     "model_module_version": "1.5.0",
     "model_name": "DescriptionStyleModel",
     "state": {
      "_model_module": "@jupyter-widgets/controls",
      "_model_module_version": "1.5.0",
      "_model_name": "DescriptionStyleModel",
      "_view_count": null,
      "_view_module": "@jupyter-widgets/base",
      "_view_module_version": "1.2.0",
      "_view_name": "StyleView",
      "description_width": ""
     }
    },
    "552c166ae52d4c5a8683d3e2f6cbb661": {
     "model_module": "@jupyter-widgets/controls",
     "model_module_version": "1.5.0",
     "model_name": "FloatProgressModel",
     "state": {
      "_dom_classes": [],
      "_model_module": "@jupyter-widgets/controls",
      "_model_module_version": "1.5.0",
      "_model_name": "FloatProgressModel",
      "_view_count": null,
      "_view_module": "@jupyter-widgets/controls",
      "_view_module_version": "1.5.0",
      "_view_name": "ProgressView",
      "bar_style": "success",
      "description": "",
      "description_tooltip": null,
      "layout": "IPY_MODEL_a431c00f47f349dd8145ee94f88d3d9e",
      "max": 3,
      "min": 0,
      "orientation": "horizontal",
      "style": "IPY_MODEL_962cef3284b94b8886b62f1aa6e08039",
      "value": 3
     }
    },
    "55d5580a3c6642969e7ea4b1af6f062d": {
     "model_module": "@jupyter-widgets/controls",
     "model_module_version": "1.5.0",
     "model_name": "HTMLModel",
     "state": {
      "_dom_classes": [],
      "_model_module": "@jupyter-widgets/controls",
      "_model_module_version": "1.5.0",
      "_model_name": "HTMLModel",
      "_view_count": null,
      "_view_module": "@jupyter-widgets/controls",
      "_view_module_version": "1.5.0",
      "_view_name": "HTMLView",
      "description": "",
      "description_tooltip": null,
      "layout": "IPY_MODEL_118cae38dd7041b6886c38a178d77879",
      "placeholder": "​",
      "style": "IPY_MODEL_48798ad0fdff4348aac1a6f8c3b2575b",
      "value": "Downloading (…)lve/main/config.json: 100%"
     }
    },
    "58864177ce3046728dd570a7cb0b10f4": {
     "model_module": "@jupyter-widgets/controls",
     "model_module_version": "1.5.0",
     "model_name": "HBoxModel",
     "state": {
      "_dom_classes": [],
      "_model_module": "@jupyter-widgets/controls",
      "_model_module_version": "1.5.0",
      "_model_name": "HBoxModel",
      "_view_count": null,
      "_view_module": "@jupyter-widgets/controls",
      "_view_module_version": "1.5.0",
      "_view_name": "HBoxView",
      "box_style": "",
      "children": [
       "IPY_MODEL_32009a4659b64f5c9e4f7eb3bd45320f",
       "IPY_MODEL_16ff718b08fe4a918853a90d1607f543",
       "IPY_MODEL_4cf2ad8f8fcc4aa882a5d9c1b8781906"
      ],
      "layout": "IPY_MODEL_f38db671db984755b969661721fc0925"
     }
    },
    "5b6b3f31dd62472fb1bab5ca596badc5": {
     "model_module": "@jupyter-widgets/base",
     "model_module_version": "1.2.0",
     "model_name": "LayoutModel",
     "state": {
      "_model_module": "@jupyter-widgets/base",
      "_model_module_version": "1.2.0",
      "_model_name": "LayoutModel",
      "_view_count": null,
      "_view_module": "@jupyter-widgets/base",
      "_view_module_version": "1.2.0",
      "_view_name": "LayoutView",
      "align_content": null,
      "align_items": null,
      "align_self": null,
      "border": null,
      "bottom": null,
      "display": null,
      "flex": null,
      "flex_flow": null,
      "grid_area": null,
      "grid_auto_columns": null,
      "grid_auto_flow": null,
      "grid_auto_rows": null,
      "grid_column": null,
      "grid_gap": null,
      "grid_row": null,
      "grid_template_areas": null,
      "grid_template_columns": null,
      "grid_template_rows": null,
      "height": null,
      "justify_content": null,
      "justify_items": null,
      "left": null,
      "margin": null,
      "max_height": null,
      "max_width": null,
      "min_height": null,
      "min_width": null,
      "object_fit": null,
      "object_position": null,
      "order": null,
      "overflow": null,
      "overflow_x": null,
      "overflow_y": null,
      "padding": null,
      "right": null,
      "top": null,
      "visibility": null,
      "width": null
     }
    },
    "5ba2e628158a4232ac2a988cc86d6c7a": {
     "model_module": "@jupyter-widgets/base",
     "model_module_version": "1.2.0",
     "model_name": "LayoutModel",
     "state": {
      "_model_module": "@jupyter-widgets/base",
      "_model_module_version": "1.2.0",
      "_model_name": "LayoutModel",
      "_view_count": null,
      "_view_module": "@jupyter-widgets/base",
      "_view_module_version": "1.2.0",
      "_view_name": "LayoutView",
      "align_content": null,
      "align_items": null,
      "align_self": null,
      "border": null,
      "bottom": null,
      "display": null,
      "flex": null,
      "flex_flow": null,
      "grid_area": null,
      "grid_auto_columns": null,
      "grid_auto_flow": null,
      "grid_auto_rows": null,
      "grid_column": null,
      "grid_gap": null,
      "grid_row": null,
      "grid_template_areas": null,
      "grid_template_columns": null,
      "grid_template_rows": null,
      "height": null,
      "justify_content": null,
      "justify_items": null,
      "left": null,
      "margin": null,
      "max_height": null,
      "max_width": null,
      "min_height": null,
      "min_width": null,
      "object_fit": null,
      "object_position": null,
      "order": null,
      "overflow": null,
      "overflow_x": null,
      "overflow_y": null,
      "padding": null,
      "right": null,
      "top": null,
      "visibility": null,
      "width": null
     }
    },
    "5d6b75b347e94f3dafd896a00a193dd1": {
     "model_module": "@jupyter-widgets/controls",
     "model_module_version": "1.5.0",
     "model_name": "HTMLModel",
     "state": {
      "_dom_classes": [],
      "_model_module": "@jupyter-widgets/controls",
      "_model_module_version": "1.5.0",
      "_model_name": "HTMLModel",
      "_view_count": null,
      "_view_module": "@jupyter-widgets/controls",
      "_view_module_version": "1.5.0",
      "_view_name": "HTMLView",
      "description": "",
      "description_tooltip": null,
      "layout": "IPY_MODEL_9772b105ad184c77b01cc81997bfa969",
      "placeholder": "​",
      "style": "IPY_MODEL_89498f1164054c999f1ba9f6593af9bc",
      "value": "Downloading data: "
     }
    },
    "5fdf854197e44352a5ec4d8697060b88": {
     "model_module": "@jupyter-widgets/base",
     "model_module_version": "1.2.0",
     "model_name": "LayoutModel",
     "state": {
      "_model_module": "@jupyter-widgets/base",
      "_model_module_version": "1.2.0",
      "_model_name": "LayoutModel",
      "_view_count": null,
      "_view_module": "@jupyter-widgets/base",
      "_view_module_version": "1.2.0",
      "_view_name": "LayoutView",
      "align_content": null,
      "align_items": null,
      "align_self": null,
      "border": null,
      "bottom": null,
      "display": null,
      "flex": null,
      "flex_flow": null,
      "grid_area": null,
      "grid_auto_columns": null,
      "grid_auto_flow": null,
      "grid_auto_rows": null,
      "grid_column": null,
      "grid_gap": null,
      "grid_row": null,
      "grid_template_areas": null,
      "grid_template_columns": null,
      "grid_template_rows": null,
      "height": null,
      "justify_content": null,
      "justify_items": null,
      "left": null,
      "margin": null,
      "max_height": null,
      "max_width": null,
      "min_height": null,
      "min_width": null,
      "object_fit": null,
      "object_position": null,
      "order": null,
      "overflow": null,
      "overflow_x": null,
      "overflow_y": null,
      "padding": null,
      "right": null,
      "top": null,
      "visibility": null,
      "width": null
     }
    },
    "628033cedd2644ee9713f7e85a49068a": {
     "model_module": "@jupyter-widgets/base",
     "model_module_version": "1.2.0",
     "model_name": "LayoutModel",
     "state": {
      "_model_module": "@jupyter-widgets/base",
      "_model_module_version": "1.2.0",
      "_model_name": "LayoutModel",
      "_view_count": null,
      "_view_module": "@jupyter-widgets/base",
      "_view_module_version": "1.2.0",
      "_view_name": "LayoutView",
      "align_content": null,
      "align_items": null,
      "align_self": null,
      "border": null,
      "bottom": null,
      "display": null,
      "flex": null,
      "flex_flow": null,
      "grid_area": null,
      "grid_auto_columns": null,
      "grid_auto_flow": null,
      "grid_auto_rows": null,
      "grid_column": null,
      "grid_gap": null,
      "grid_row": null,
      "grid_template_areas": null,
      "grid_template_columns": null,
      "grid_template_rows": null,
      "height": null,
      "justify_content": null,
      "justify_items": null,
      "left": null,
      "margin": null,
      "max_height": null,
      "max_width": null,
      "min_height": null,
      "min_width": null,
      "object_fit": null,
      "object_position": null,
      "order": null,
      "overflow": null,
      "overflow_x": null,
      "overflow_y": null,
      "padding": null,
      "right": null,
      "top": null,
      "visibility": null,
      "width": null
     }
    },
    "62ba9094a894433eb31684b36650f6e0": {
     "model_module": "@jupyter-widgets/controls",
     "model_module_version": "1.5.0",
     "model_name": "HTMLModel",
     "state": {
      "_dom_classes": [],
      "_model_module": "@jupyter-widgets/controls",
      "_model_module_version": "1.5.0",
      "_model_name": "HTMLModel",
      "_view_count": null,
      "_view_module": "@jupyter-widgets/controls",
      "_view_module_version": "1.5.0",
      "_view_name": "HTMLView",
      "description": "",
      "description_tooltip": null,
      "layout": "IPY_MODEL_07d59e8917604585a6bac9a19f50a6f7",
      "placeholder": "​",
      "style": "IPY_MODEL_6e6552c01b3f48018de32fb0ef57474c",
      "value": "Generating validation split: 100%"
     }
    },
    "66093d46f7f44dae98a578208af05bb2": {
     "model_module": "@jupyter-widgets/controls",
     "model_module_version": "1.5.0",
     "model_name": "DescriptionStyleModel",
     "state": {
      "_model_module": "@jupyter-widgets/controls",
      "_model_module_version": "1.5.0",
      "_model_name": "DescriptionStyleModel",
      "_view_count": null,
      "_view_module": "@jupyter-widgets/base",
      "_view_module_version": "1.2.0",
      "_view_name": "StyleView",
      "description_width": ""
     }
    },
    "680de18fa9f4488d9aa7743e13656b52": {
     "model_module": "@jupyter-widgets/base",
     "model_module_version": "1.2.0",
     "model_name": "LayoutModel",
     "state": {
      "_model_module": "@jupyter-widgets/base",
      "_model_module_version": "1.2.0",
      "_model_name": "LayoutModel",
      "_view_count": null,
      "_view_module": "@jupyter-widgets/base",
      "_view_module_version": "1.2.0",
      "_view_name": "LayoutView",
      "align_content": null,
      "align_items": null,
      "align_self": null,
      "border": null,
      "bottom": null,
      "display": null,
      "flex": null,
      "flex_flow": null,
      "grid_area": null,
      "grid_auto_columns": null,
      "grid_auto_flow": null,
      "grid_auto_rows": null,
      "grid_column": null,
      "grid_gap": null,
      "grid_row": null,
      "grid_template_areas": null,
      "grid_template_columns": null,
      "grid_template_rows": null,
      "height": null,
      "justify_content": null,
      "justify_items": null,
      "left": null,
      "margin": null,
      "max_height": null,
      "max_width": null,
      "min_height": null,
      "min_width": null,
      "object_fit": null,
      "object_position": null,
      "order": null,
      "overflow": null,
      "overflow_x": null,
      "overflow_y": null,
      "padding": null,
      "right": null,
      "top": null,
      "visibility": null,
      "width": "20px"
     }
    },
    "693a3c8ad0f84396896254567ad4f2e1": {
     "model_module": "@jupyter-widgets/base",
     "model_module_version": "1.2.0",
     "model_name": "LayoutModel",
     "state": {
      "_model_module": "@jupyter-widgets/base",
      "_model_module_version": "1.2.0",
      "_model_name": "LayoutModel",
      "_view_count": null,
      "_view_module": "@jupyter-widgets/base",
      "_view_module_version": "1.2.0",
      "_view_name": "LayoutView",
      "align_content": null,
      "align_items": null,
      "align_self": null,
      "border": null,
      "bottom": null,
      "display": null,
      "flex": null,
      "flex_flow": null,
      "grid_area": null,
      "grid_auto_columns": null,
      "grid_auto_flow": null,
      "grid_auto_rows": null,
      "grid_column": null,
      "grid_gap": null,
      "grid_row": null,
      "grid_template_areas": null,
      "grid_template_columns": null,
      "grid_template_rows": null,
      "height": null,
      "justify_content": null,
      "justify_items": null,
      "left": null,
      "margin": null,
      "max_height": null,
      "max_width": null,
      "min_height": null,
      "min_width": null,
      "object_fit": null,
      "object_position": null,
      "order": null,
      "overflow": null,
      "overflow_x": null,
      "overflow_y": null,
      "padding": null,
      "right": null,
      "top": null,
      "visibility": null,
      "width": null
     }
    },
    "6e517ff031be4c128203932be9ff7cbd": {
     "model_module": "@jupyter-widgets/controls",
     "model_module_version": "1.5.0",
     "model_name": "ProgressStyleModel",
     "state": {
      "_model_module": "@jupyter-widgets/controls",
      "_model_module_version": "1.5.0",
      "_model_name": "ProgressStyleModel",
      "_view_count": null,
      "_view_module": "@jupyter-widgets/base",
      "_view_module_version": "1.2.0",
      "_view_name": "StyleView",
      "bar_color": null,
      "description_width": ""
     }
    },
    "6e6552c01b3f48018de32fb0ef57474c": {
     "model_module": "@jupyter-widgets/controls",
     "model_module_version": "1.5.0",
     "model_name": "DescriptionStyleModel",
     "state": {
      "_model_module": "@jupyter-widgets/controls",
      "_model_module_version": "1.5.0",
      "_model_name": "DescriptionStyleModel",
      "_view_count": null,
      "_view_module": "@jupyter-widgets/base",
      "_view_module_version": "1.2.0",
      "_view_name": "StyleView",
      "description_width": ""
     }
    },
    "70183855d47e4088835f37affa7c8f7a": {
     "model_module": "@jupyter-widgets/controls",
     "model_module_version": "1.5.0",
     "model_name": "DescriptionStyleModel",
     "state": {
      "_model_module": "@jupyter-widgets/controls",
      "_model_module_version": "1.5.0",
      "_model_name": "DescriptionStyleModel",
      "_view_count": null,
      "_view_module": "@jupyter-widgets/base",
      "_view_module_version": "1.2.0",
      "_view_name": "StyleView",
      "description_width": ""
     }
    },
    "70b91738935f4edfa486344f4908b25e": {
     "model_module": "@jupyter-widgets/controls",
     "model_module_version": "1.5.0",
     "model_name": "HBoxModel",
     "state": {
      "_dom_classes": [],
      "_model_module": "@jupyter-widgets/controls",
      "_model_module_version": "1.5.0",
      "_model_name": "HBoxModel",
      "_view_count": null,
      "_view_module": "@jupyter-widgets/controls",
      "_view_module_version": "1.5.0",
      "_view_name": "HBoxView",
      "box_style": "",
      "children": [
       "IPY_MODEL_d03bcef512b04fd991df2d9e99bb3c59",
       "IPY_MODEL_c421fc09f86c4371ba271194b67200c3",
       "IPY_MODEL_91f757f113524759a4d9da137d95ec01"
      ],
      "layout": "IPY_MODEL_ce3a20bb9a5b4b0eb47ca3781ec0c96f"
     }
    },
    "7237c183499446b3bff47406038bd794": {
     "model_module": "@jupyter-widgets/base",
     "model_module_version": "1.2.0",
     "model_name": "LayoutModel",
     "state": {
      "_model_module": "@jupyter-widgets/base",
      "_model_module_version": "1.2.0",
      "_model_name": "LayoutModel",
      "_view_count": null,
      "_view_module": "@jupyter-widgets/base",
      "_view_module_version": "1.2.0",
      "_view_name": "LayoutView",
      "align_content": null,
      "align_items": null,
      "align_self": null,
      "border": null,
      "bottom": null,
      "display": null,
      "flex": null,
      "flex_flow": null,
      "grid_area": null,
      "grid_auto_columns": null,
      "grid_auto_flow": null,
      "grid_auto_rows": null,
      "grid_column": null,
      "grid_gap": null,
      "grid_row": null,
      "grid_template_areas": null,
      "grid_template_columns": null,
      "grid_template_rows": null,
      "height": null,
      "justify_content": null,
      "justify_items": null,
      "left": null,
      "margin": null,
      "max_height": null,
      "max_width": null,
      "min_height": null,
      "min_width": null,
      "object_fit": null,
      "object_position": null,
      "order": null,
      "overflow": null,
      "overflow_x": null,
      "overflow_y": null,
      "padding": null,
      "right": null,
      "top": null,
      "visibility": null,
      "width": null
     }
    },
    "76931ac0a1c641edb38a24a240ca9235": {
     "model_module": "@jupyter-widgets/controls",
     "model_module_version": "1.5.0",
     "model_name": "DescriptionStyleModel",
     "state": {
      "_model_module": "@jupyter-widgets/controls",
      "_model_module_version": "1.5.0",
      "_model_name": "DescriptionStyleModel",
      "_view_count": null,
      "_view_module": "@jupyter-widgets/base",
      "_view_module_version": "1.2.0",
      "_view_name": "StyleView",
      "description_width": ""
     }
    },
    "776ad86d9e9942e18244f4a0e00335c8": {
     "model_module": "@jupyter-widgets/controls",
     "model_module_version": "1.5.0",
     "model_name": "DescriptionStyleModel",
     "state": {
      "_model_module": "@jupyter-widgets/controls",
      "_model_module_version": "1.5.0",
      "_model_name": "DescriptionStyleModel",
      "_view_count": null,
      "_view_module": "@jupyter-widgets/base",
      "_view_module_version": "1.2.0",
      "_view_name": "StyleView",
      "description_width": ""
     }
    },
    "77d79843fc4d4d25841520a1787ac92c": {
     "model_module": "@jupyter-widgets/base",
     "model_module_version": "1.2.0",
     "model_name": "LayoutModel",
     "state": {
      "_model_module": "@jupyter-widgets/base",
      "_model_module_version": "1.2.0",
      "_model_name": "LayoutModel",
      "_view_count": null,
      "_view_module": "@jupyter-widgets/base",
      "_view_module_version": "1.2.0",
      "_view_name": "LayoutView",
      "align_content": null,
      "align_items": null,
      "align_self": null,
      "border": null,
      "bottom": null,
      "display": null,
      "flex": null,
      "flex_flow": null,
      "grid_area": null,
      "grid_auto_columns": null,
      "grid_auto_flow": null,
      "grid_auto_rows": null,
      "grid_column": null,
      "grid_gap": null,
      "grid_row": null,
      "grid_template_areas": null,
      "grid_template_columns": null,
      "grid_template_rows": null,
      "height": null,
      "justify_content": null,
      "justify_items": null,
      "left": null,
      "margin": null,
      "max_height": null,
      "max_width": null,
      "min_height": null,
      "min_width": null,
      "object_fit": null,
      "object_position": null,
      "order": null,
      "overflow": null,
      "overflow_x": null,
      "overflow_y": null,
      "padding": null,
      "right": null,
      "top": null,
      "visibility": null,
      "width": null
     }
    },
    "78ef8f80c0a8447e806bcfd095cd7d82": {
     "model_module": "@jupyter-widgets/base",
     "model_module_version": "1.2.0",
     "model_name": "LayoutModel",
     "state": {
      "_model_module": "@jupyter-widgets/base",
      "_model_module_version": "1.2.0",
      "_model_name": "LayoutModel",
      "_view_count": null,
      "_view_module": "@jupyter-widgets/base",
      "_view_module_version": "1.2.0",
      "_view_name": "LayoutView",
      "align_content": null,
      "align_items": null,
      "align_self": null,
      "border": null,
      "bottom": null,
      "display": null,
      "flex": null,
      "flex_flow": null,
      "grid_area": null,
      "grid_auto_columns": null,
      "grid_auto_flow": null,
      "grid_auto_rows": null,
      "grid_column": null,
      "grid_gap": null,
      "grid_row": null,
      "grid_template_areas": null,
      "grid_template_columns": null,
      "grid_template_rows": null,
      "height": null,
      "justify_content": null,
      "justify_items": null,
      "left": null,
      "margin": null,
      "max_height": null,
      "max_width": null,
      "min_height": null,
      "min_width": null,
      "object_fit": null,
      "object_position": null,
      "order": null,
      "overflow": null,
      "overflow_x": null,
      "overflow_y": null,
      "padding": null,
      "right": null,
      "top": null,
      "visibility": null,
      "width": null
     }
    },
    "7f1976b582db492c9c4c0818079bc237": {
     "model_module": "@jupyter-widgets/base",
     "model_module_version": "1.2.0",
     "model_name": "LayoutModel",
     "state": {
      "_model_module": "@jupyter-widgets/base",
      "_model_module_version": "1.2.0",
      "_model_name": "LayoutModel",
      "_view_count": null,
      "_view_module": "@jupyter-widgets/base",
      "_view_module_version": "1.2.0",
      "_view_name": "LayoutView",
      "align_content": null,
      "align_items": null,
      "align_self": null,
      "border": null,
      "bottom": null,
      "display": null,
      "flex": null,
      "flex_flow": null,
      "grid_area": null,
      "grid_auto_columns": null,
      "grid_auto_flow": null,
      "grid_auto_rows": null,
      "grid_column": null,
      "grid_gap": null,
      "grid_row": null,
      "grid_template_areas": null,
      "grid_template_columns": null,
      "grid_template_rows": null,
      "height": null,
      "justify_content": null,
      "justify_items": null,
      "left": null,
      "margin": null,
      "max_height": null,
      "max_width": null,
      "min_height": null,
      "min_width": null,
      "object_fit": null,
      "object_position": null,
      "order": null,
      "overflow": null,
      "overflow_x": null,
      "overflow_y": null,
      "padding": null,
      "right": null,
      "top": null,
      "visibility": null,
      "width": null
     }
    },
    "831c630ab6ec49f8a54e496e14f77ac0": {
     "model_module": "@jupyter-widgets/controls",
     "model_module_version": "1.5.0",
     "model_name": "HTMLModel",
     "state": {
      "_dom_classes": [],
      "_model_module": "@jupyter-widgets/controls",
      "_model_module_version": "1.5.0",
      "_model_name": "HTMLModel",
      "_view_count": null,
      "_view_module": "@jupyter-widgets/controls",
      "_view_module_version": "1.5.0",
      "_view_name": "HTMLView",
      "description": "",
      "description_tooltip": null,
      "layout": "IPY_MODEL_4ad86401b66645e9bbd26fb54a49b341",
      "placeholder": "​",
      "style": "IPY_MODEL_42114227bcd549168c400ab24af60296",
      "value": " 3668/3668 [00:00&lt;00:00, 10265.29 examples/s]"
     }
    },
    "85765b5c71ad4d91947b29e69fdd49f4": {
     "model_module": "@jupyter-widgets/controls",
     "model_module_version": "1.5.0",
     "model_name": "HTMLModel",
     "state": {
      "_dom_classes": [],
      "_model_module": "@jupyter-widgets/controls",
      "_model_module_version": "1.5.0",
      "_model_name": "HTMLModel",
      "_view_count": null,
      "_view_module": "@jupyter-widgets/controls",
      "_view_module_version": "1.5.0",
      "_view_name": "HTMLView",
      "description": "",
      "description_tooltip": null,
      "layout": "IPY_MODEL_963e1648d20b4723930c1287a56cef42",
      "placeholder": "​",
      "style": "IPY_MODEL_4ff55303f9154bd3a70467b83ae11667",
      "value": "Downloading builder script: 100%"
     }
    },
    "8760e8b43d994f09baaac56af792ad42": {
     "model_module": "@jupyter-widgets/base",
     "model_module_version": "1.2.0",
     "model_name": "LayoutModel",
     "state": {
      "_model_module": "@jupyter-widgets/base",
      "_model_module_version": "1.2.0",
      "_model_name": "LayoutModel",
      "_view_count": null,
      "_view_module": "@jupyter-widgets/base",
      "_view_module_version": "1.2.0",
      "_view_name": "LayoutView",
      "align_content": null,
      "align_items": null,
      "align_self": null,
      "border": null,
      "bottom": null,
      "display": null,
      "flex": null,
      "flex_flow": null,
      "grid_area": null,
      "grid_auto_columns": null,
      "grid_auto_flow": null,
      "grid_auto_rows": null,
      "grid_column": null,
      "grid_gap": null,
      "grid_row": null,
      "grid_template_areas": null,
      "grid_template_columns": null,
      "grid_template_rows": null,
      "height": null,
      "justify_content": null,
      "justify_items": null,
      "left": null,
      "margin": null,
      "max_height": null,
      "max_width": null,
      "min_height": null,
      "min_width": null,
      "object_fit": null,
      "object_position": null,
      "order": null,
      "overflow": null,
      "overflow_x": null,
      "overflow_y": null,
      "padding": null,
      "right": null,
      "top": null,
      "visibility": null,
      "width": null
     }
    },
    "89498f1164054c999f1ba9f6593af9bc": {
     "model_module": "@jupyter-widgets/controls",
     "model_module_version": "1.5.0",
     "model_name": "DescriptionStyleModel",
     "state": {
      "_model_module": "@jupyter-widgets/controls",
      "_model_module_version": "1.5.0",
      "_model_name": "DescriptionStyleModel",
      "_view_count": null,
      "_view_module": "@jupyter-widgets/base",
      "_view_module_version": "1.2.0",
      "_view_name": "StyleView",
      "description_width": ""
     }
    },
    "8a499d435bed43e281aacc7b67abf453": {
     "model_module": "@jupyter-widgets/controls",
     "model_module_version": "1.5.0",
     "model_name": "ProgressStyleModel",
     "state": {
      "_model_module": "@jupyter-widgets/controls",
      "_model_module_version": "1.5.0",
      "_model_name": "ProgressStyleModel",
      "_view_count": null,
      "_view_module": "@jupyter-widgets/base",
      "_view_module_version": "1.2.0",
      "_view_name": "StyleView",
      "bar_color": null,
      "description_width": ""
     }
    },
    "8bd82470392544e0947e732a4b165f1f": {
     "model_module": "@jupyter-widgets/controls",
     "model_module_version": "1.5.0",
     "model_name": "FloatProgressModel",
     "state": {
      "_dom_classes": [],
      "_model_module": "@jupyter-widgets/controls",
      "_model_module_version": "1.5.0",
      "_model_name": "FloatProgressModel",
      "_view_count": null,
      "_view_module": "@jupyter-widgets/controls",
      "_view_module_version": "1.5.0",
      "_view_name": "ProgressView",
      "bar_style": "success",
      "description": "",
      "description_tooltip": null,
      "layout": "IPY_MODEL_c2454cef005c4b7e8cd0ef35a77dd4a4",
      "max": 28,
      "min": 0,
      "orientation": "horizontal",
      "style": "IPY_MODEL_0d1cc33ab9764f0cbd21ecfc84e8c2ed",
      "value": 28
     }
    },
    "8d21b9fa9ebc4ed786d8047c0cddaac7": {
     "model_module": "@jupyter-widgets/controls",
     "model_module_version": "1.5.0",
     "model_name": "DescriptionStyleModel",
     "state": {
      "_model_module": "@jupyter-widgets/controls",
      "_model_module_version": "1.5.0",
      "_model_name": "DescriptionStyleModel",
      "_view_count": null,
      "_view_module": "@jupyter-widgets/base",
      "_view_module_version": "1.2.0",
      "_view_name": "StyleView",
      "description_width": ""
     }
    },
    "8ea6132453084090bc5cb2a9649164ed": {
     "model_module": "@jupyter-widgets/base",
     "model_module_version": "1.2.0",
     "model_name": "LayoutModel",
     "state": {
      "_model_module": "@jupyter-widgets/base",
      "_model_module_version": "1.2.0",
      "_model_name": "LayoutModel",
      "_view_count": null,
      "_view_module": "@jupyter-widgets/base",
      "_view_module_version": "1.2.0",
      "_view_name": "LayoutView",
      "align_content": null,
      "align_items": null,
      "align_self": null,
      "border": null,
      "bottom": null,
      "display": null,
      "flex": null,
      "flex_flow": null,
      "grid_area": null,
      "grid_auto_columns": null,
      "grid_auto_flow": null,
      "grid_auto_rows": null,
      "grid_column": null,
      "grid_gap": null,
      "grid_row": null,
      "grid_template_areas": null,
      "grid_template_columns": null,
      "grid_template_rows": null,
      "height": null,
      "justify_content": null,
      "justify_items": null,
      "left": null,
      "margin": null,
      "max_height": null,
      "max_width": null,
      "min_height": null,
      "min_width": null,
      "object_fit": null,
      "object_position": null,
      "order": null,
      "overflow": null,
      "overflow_x": null,
      "overflow_y": null,
      "padding": null,
      "right": null,
      "top": null,
      "visibility": null,
      "width": null
     }
    },
    "90778459d3bf4e77bca69334e57d868e": {
     "model_module": "@jupyter-widgets/base",
     "model_module_version": "1.2.0",
     "model_name": "LayoutModel",
     "state": {
      "_model_module": "@jupyter-widgets/base",
      "_model_module_version": "1.2.0",
      "_model_name": "LayoutModel",
      "_view_count": null,
      "_view_module": "@jupyter-widgets/base",
      "_view_module_version": "1.2.0",
      "_view_name": "LayoutView",
      "align_content": null,
      "align_items": null,
      "align_self": null,
      "border": null,
      "bottom": null,
      "display": null,
      "flex": null,
      "flex_flow": null,
      "grid_area": null,
      "grid_auto_columns": null,
      "grid_auto_flow": null,
      "grid_auto_rows": null,
      "grid_column": null,
      "grid_gap": null,
      "grid_row": null,
      "grid_template_areas": null,
      "grid_template_columns": null,
      "grid_template_rows": null,
      "height": null,
      "justify_content": null,
      "justify_items": null,
      "left": null,
      "margin": null,
      "max_height": null,
      "max_width": null,
      "min_height": null,
      "min_width": null,
      "object_fit": null,
      "object_position": null,
      "order": null,
      "overflow": null,
      "overflow_x": null,
      "overflow_y": null,
      "padding": null,
      "right": null,
      "top": null,
      "visibility": null,
      "width": null
     }
    },
    "91f757f113524759a4d9da137d95ec01": {
     "model_module": "@jupyter-widgets/controls",
     "model_module_version": "1.5.0",
     "model_name": "HTMLModel",
     "state": {
      "_dom_classes": [],
      "_model_module": "@jupyter-widgets/controls",
      "_model_module_version": "1.5.0",
      "_model_name": "HTMLModel",
      "_view_count": null,
      "_view_module": "@jupyter-widgets/controls",
      "_view_module_version": "1.5.0",
      "_view_name": "HTMLView",
      "description": "",
      "description_tooltip": null,
      "layout": "IPY_MODEL_dca4a766f34f4d97a1cd51b8acbd29b2",
      "placeholder": "​",
      "style": "IPY_MODEL_1119118ef5f84458aaa3d04172a8da69",
      "value": " 440M/440M [00:02&lt;00:00, 215MB/s]"
     }
    },
    "932210500e2c47c896a8c9c32bf2666f": {
     "model_module": "@jupyter-widgets/controls",
     "model_module_version": "1.5.0",
     "model_name": "HTMLModel",
     "state": {
      "_dom_classes": [],
      "_model_module": "@jupyter-widgets/controls",
      "_model_module_version": "1.5.0",
      "_model_name": "HTMLModel",
      "_view_count": null,
      "_view_module": "@jupyter-widgets/controls",
      "_view_module_version": "1.5.0",
      "_view_name": "HTMLView",
      "description": "",
      "description_tooltip": null,
      "layout": "IPY_MODEL_e3df6ff6023f48c3917dbe7de23bc537",
      "placeholder": "​",
      "style": "IPY_MODEL_3fff2217019b4ebcb668e36c7b2bb108",
      "value": "Downloading (…)solve/main/vocab.txt: 100%"
     }
    },
    "93fffcb963af4e199b3951163a2270d2": {
     "model_module": "@jupyter-widgets/base",
     "model_module_version": "1.2.0",
     "model_name": "LayoutModel",
     "state": {
      "_model_module": "@jupyter-widgets/base",
      "_model_module_version": "1.2.0",
      "_model_name": "LayoutModel",
      "_view_count": null,
      "_view_module": "@jupyter-widgets/base",
      "_view_module_version": "1.2.0",
      "_view_name": "LayoutView",
      "align_content": null,
      "align_items": null,
      "align_self": null,
      "border": null,
      "bottom": null,
      "display": null,
      "flex": null,
      "flex_flow": null,
      "grid_area": null,
      "grid_auto_columns": null,
      "grid_auto_flow": null,
      "grid_auto_rows": null,
      "grid_column": null,
      "grid_gap": null,
      "grid_row": null,
      "grid_template_areas": null,
      "grid_template_columns": null,
      "grid_template_rows": null,
      "height": null,
      "justify_content": null,
      "justify_items": null,
      "left": null,
      "margin": null,
      "max_height": null,
      "max_width": null,
      "min_height": null,
      "min_width": null,
      "object_fit": null,
      "object_position": null,
      "order": null,
      "overflow": null,
      "overflow_x": null,
      "overflow_y": null,
      "padding": null,
      "right": null,
      "top": null,
      "visibility": null,
      "width": null
     }
    },
    "962cef3284b94b8886b62f1aa6e08039": {
     "model_module": "@jupyter-widgets/controls",
     "model_module_version": "1.5.0",
     "model_name": "ProgressStyleModel",
     "state": {
      "_model_module": "@jupyter-widgets/controls",
      "_model_module_version": "1.5.0",
      "_model_name": "ProgressStyleModel",
      "_view_count": null,
      "_view_module": "@jupyter-widgets/base",
      "_view_module_version": "1.2.0",
      "_view_name": "StyleView",
      "bar_color": null,
      "description_width": ""
     }
    },
    "963e1648d20b4723930c1287a56cef42": {
     "model_module": "@jupyter-widgets/base",
     "model_module_version": "1.2.0",
     "model_name": "LayoutModel",
     "state": {
      "_model_module": "@jupyter-widgets/base",
      "_model_module_version": "1.2.0",
      "_model_name": "LayoutModel",
      "_view_count": null,
      "_view_module": "@jupyter-widgets/base",
      "_view_module_version": "1.2.0",
      "_view_name": "LayoutView",
      "align_content": null,
      "align_items": null,
      "align_self": null,
      "border": null,
      "bottom": null,
      "display": null,
      "flex": null,
      "flex_flow": null,
      "grid_area": null,
      "grid_auto_columns": null,
      "grid_auto_flow": null,
      "grid_auto_rows": null,
      "grid_column": null,
      "grid_gap": null,
      "grid_row": null,
      "grid_template_areas": null,
      "grid_template_columns": null,
      "grid_template_rows": null,
      "height": null,
      "justify_content": null,
      "justify_items": null,
      "left": null,
      "margin": null,
      "max_height": null,
      "max_width": null,
      "min_height": null,
      "min_width": null,
      "object_fit": null,
      "object_position": null,
      "order": null,
      "overflow": null,
      "overflow_x": null,
      "overflow_y": null,
      "padding": null,
      "right": null,
      "top": null,
      "visibility": null,
      "width": null
     }
    },
    "96b593dd44464b91a3c48a0795cf7076": {
     "model_module": "@jupyter-widgets/controls",
     "model_module_version": "1.5.0",
     "model_name": "HTMLModel",
     "state": {
      "_dom_classes": [],
      "_model_module": "@jupyter-widgets/controls",
      "_model_module_version": "1.5.0",
      "_model_name": "HTMLModel",
      "_view_count": null,
      "_view_module": "@jupyter-widgets/controls",
      "_view_module_version": "1.5.0",
      "_view_name": "HTMLView",
      "description": "",
      "description_tooltip": null,
      "layout": "IPY_MODEL_8760e8b43d994f09baaac56af792ad42",
      "placeholder": "​",
      "style": "IPY_MODEL_66093d46f7f44dae98a578208af05bb2",
      "value": "Downloading metadata: 100%"
     }
    },
    "9772b105ad184c77b01cc81997bfa969": {
     "model_module": "@jupyter-widgets/base",
     "model_module_version": "1.2.0",
     "model_name": "LayoutModel",
     "state": {
      "_model_module": "@jupyter-widgets/base",
      "_model_module_version": "1.2.0",
      "_model_name": "LayoutModel",
      "_view_count": null,
      "_view_module": "@jupyter-widgets/base",
      "_view_module_version": "1.2.0",
      "_view_name": "LayoutView",
      "align_content": null,
      "align_items": null,
      "align_self": null,
      "border": null,
      "bottom": null,
      "display": null,
      "flex": null,
      "flex_flow": null,
      "grid_area": null,
      "grid_auto_columns": null,
      "grid_auto_flow": null,
      "grid_auto_rows": null,
      "grid_column": null,
      "grid_gap": null,
      "grid_row": null,
      "grid_template_areas": null,
      "grid_template_columns": null,
      "grid_template_rows": null,
      "height": null,
      "justify_content": null,
      "justify_items": null,
      "left": null,
      "margin": null,
      "max_height": null,
      "max_width": null,
      "min_height": null,
      "min_width": null,
      "object_fit": null,
      "object_position": null,
      "order": null,
      "overflow": null,
      "overflow_x": null,
      "overflow_y": null,
      "padding": null,
      "right": null,
      "top": null,
      "visibility": null,
      "width": null
     }
    },
    "97ad056ff7da4bde8154962f76325798": {
     "model_module": "@jupyter-widgets/controls",
     "model_module_version": "1.5.0",
     "model_name": "FloatProgressModel",
     "state": {
      "_dom_classes": [],
      "_model_module": "@jupyter-widgets/controls",
      "_model_module_version": "1.5.0",
      "_model_name": "FloatProgressModel",
      "_view_count": null,
      "_view_module": "@jupyter-widgets/controls",
      "_view_module_version": "1.5.0",
      "_view_name": "ProgressView",
      "bar_style": "success",
      "description": "",
      "description_tooltip": null,
      "layout": "IPY_MODEL_d5349e06c71d4347a87000105b7b9597",
      "max": 231508,
      "min": 0,
      "orientation": "horizontal",
      "style": "IPY_MODEL_ee2be9e50e384a72bac10da09bc4081a",
      "value": 231508
     }
    },
    "9f023bcb1b5348cc9f262b283920b1a5": {
     "model_module": "@jupyter-widgets/base",
     "model_module_version": "1.2.0",
     "model_name": "LayoutModel",
     "state": {
      "_model_module": "@jupyter-widgets/base",
      "_model_module_version": "1.2.0",
      "_model_name": "LayoutModel",
      "_view_count": null,
      "_view_module": "@jupyter-widgets/base",
      "_view_module_version": "1.2.0",
      "_view_name": "LayoutView",
      "align_content": null,
      "align_items": null,
      "align_self": null,
      "border": null,
      "bottom": null,
      "display": null,
      "flex": null,
      "flex_flow": null,
      "grid_area": null,
      "grid_auto_columns": null,
      "grid_auto_flow": null,
      "grid_auto_rows": null,
      "grid_column": null,
      "grid_gap": null,
      "grid_row": null,
      "grid_template_areas": null,
      "grid_template_columns": null,
      "grid_template_rows": null,
      "height": null,
      "justify_content": null,
      "justify_items": null,
      "left": null,
      "margin": null,
      "max_height": null,
      "max_width": null,
      "min_height": null,
      "min_width": null,
      "object_fit": null,
      "object_position": null,
      "order": null,
      "overflow": null,
      "overflow_x": null,
      "overflow_y": null,
      "padding": null,
      "right": null,
      "top": null,
      "visibility": null,
      "width": null
     }
    },
    "a1dba63282514ad3a37d7f701a1eae9c": {
     "model_module": "@jupyter-widgets/base",
     "model_module_version": "1.2.0",
     "model_name": "LayoutModel",
     "state": {
      "_model_module": "@jupyter-widgets/base",
      "_model_module_version": "1.2.0",
      "_model_name": "LayoutModel",
      "_view_count": null,
      "_view_module": "@jupyter-widgets/base",
      "_view_module_version": "1.2.0",
      "_view_name": "LayoutView",
      "align_content": null,
      "align_items": null,
      "align_self": null,
      "border": null,
      "bottom": null,
      "display": null,
      "flex": null,
      "flex_flow": null,
      "grid_area": null,
      "grid_auto_columns": null,
      "grid_auto_flow": null,
      "grid_auto_rows": null,
      "grid_column": null,
      "grid_gap": null,
      "grid_row": null,
      "grid_template_areas": null,
      "grid_template_columns": null,
      "grid_template_rows": null,
      "height": null,
      "justify_content": null,
      "justify_items": null,
      "left": null,
      "margin": null,
      "max_height": null,
      "max_width": null,
      "min_height": null,
      "min_width": null,
      "object_fit": null,
      "object_position": null,
      "order": null,
      "overflow": null,
      "overflow_x": null,
      "overflow_y": null,
      "padding": null,
      "right": null,
      "top": null,
      "visibility": null,
      "width": "20px"
     }
    },
    "a431c00f47f349dd8145ee94f88d3d9e": {
     "model_module": "@jupyter-widgets/base",
     "model_module_version": "1.2.0",
     "model_name": "LayoutModel",
     "state": {
      "_model_module": "@jupyter-widgets/base",
      "_model_module_version": "1.2.0",
      "_model_name": "LayoutModel",
      "_view_count": null,
      "_view_module": "@jupyter-widgets/base",
      "_view_module_version": "1.2.0",
      "_view_name": "LayoutView",
      "align_content": null,
      "align_items": null,
      "align_self": null,
      "border": null,
      "bottom": null,
      "display": null,
      "flex": null,
      "flex_flow": null,
      "grid_area": null,
      "grid_auto_columns": null,
      "grid_auto_flow": null,
      "grid_auto_rows": null,
      "grid_column": null,
      "grid_gap": null,
      "grid_row": null,
      "grid_template_areas": null,
      "grid_template_columns": null,
      "grid_template_rows": null,
      "height": null,
      "justify_content": null,
      "justify_items": null,
      "left": null,
      "margin": null,
      "max_height": null,
      "max_width": null,
      "min_height": null,
      "min_width": null,
      "object_fit": null,
      "object_position": null,
      "order": null,
      "overflow": null,
      "overflow_x": null,
      "overflow_y": null,
      "padding": null,
      "right": null,
      "top": null,
      "visibility": null,
      "width": null
     }
    },
    "a434a69053474672ba201f0a057e74c4": {
     "model_module": "@jupyter-widgets/base",
     "model_module_version": "1.2.0",
     "model_name": "LayoutModel",
     "state": {
      "_model_module": "@jupyter-widgets/base",
      "_model_module_version": "1.2.0",
      "_model_name": "LayoutModel",
      "_view_count": null,
      "_view_module": "@jupyter-widgets/base",
      "_view_module_version": "1.2.0",
      "_view_name": "LayoutView",
      "align_content": null,
      "align_items": null,
      "align_self": null,
      "border": null,
      "bottom": null,
      "display": null,
      "flex": null,
      "flex_flow": null,
      "grid_area": null,
      "grid_auto_columns": null,
      "grid_auto_flow": null,
      "grid_auto_rows": null,
      "grid_column": null,
      "grid_gap": null,
      "grid_row": null,
      "grid_template_areas": null,
      "grid_template_columns": null,
      "grid_template_rows": null,
      "height": null,
      "justify_content": null,
      "justify_items": null,
      "left": null,
      "margin": null,
      "max_height": null,
      "max_width": null,
      "min_height": null,
      "min_width": null,
      "object_fit": null,
      "object_position": null,
      "order": null,
      "overflow": null,
      "overflow_x": null,
      "overflow_y": null,
      "padding": null,
      "right": null,
      "top": null,
      "visibility": null,
      "width": null
     }
    },
    "abb9c44b42754f538f94cb2dea672555": {
     "model_module": "@jupyter-widgets/base",
     "model_module_version": "1.2.0",
     "model_name": "LayoutModel",
     "state": {
      "_model_module": "@jupyter-widgets/base",
      "_model_module_version": "1.2.0",
      "_model_name": "LayoutModel",
      "_view_count": null,
      "_view_module": "@jupyter-widgets/base",
      "_view_module_version": "1.2.0",
      "_view_name": "LayoutView",
      "align_content": null,
      "align_items": null,
      "align_self": null,
      "border": null,
      "bottom": null,
      "display": null,
      "flex": null,
      "flex_flow": null,
      "grid_area": null,
      "grid_auto_columns": null,
      "grid_auto_flow": null,
      "grid_auto_rows": null,
      "grid_column": null,
      "grid_gap": null,
      "grid_row": null,
      "grid_template_areas": null,
      "grid_template_columns": null,
      "grid_template_rows": null,
      "height": null,
      "justify_content": null,
      "justify_items": null,
      "left": null,
      "margin": null,
      "max_height": null,
      "max_width": null,
      "min_height": null,
      "min_width": null,
      "object_fit": null,
      "object_position": null,
      "order": null,
      "overflow": null,
      "overflow_x": null,
      "overflow_y": null,
      "padding": null,
      "right": null,
      "top": null,
      "visibility": null,
      "width": null
     }
    },
    "ac8b38da240048eead2b9a4509b7dfe0": {
     "model_module": "@jupyter-widgets/base",
     "model_module_version": "1.2.0",
     "model_name": "LayoutModel",
     "state": {
      "_model_module": "@jupyter-widgets/base",
      "_model_module_version": "1.2.0",
      "_model_name": "LayoutModel",
      "_view_count": null,
      "_view_module": "@jupyter-widgets/base",
      "_view_module_version": "1.2.0",
      "_view_name": "LayoutView",
      "align_content": null,
      "align_items": null,
      "align_self": null,
      "border": null,
      "bottom": null,
      "display": null,
      "flex": null,
      "flex_flow": null,
      "grid_area": null,
      "grid_auto_columns": null,
      "grid_auto_flow": null,
      "grid_auto_rows": null,
      "grid_column": null,
      "grid_gap": null,
      "grid_row": null,
      "grid_template_areas": null,
      "grid_template_columns": null,
      "grid_template_rows": null,
      "height": null,
      "justify_content": null,
      "justify_items": null,
      "left": null,
      "margin": null,
      "max_height": null,
      "max_width": null,
      "min_height": null,
      "min_width": null,
      "object_fit": null,
      "object_position": null,
      "order": null,
      "overflow": null,
      "overflow_x": null,
      "overflow_y": null,
      "padding": null,
      "right": null,
      "top": null,
      "visibility": null,
      "width": null
     }
    },
    "adc1bf6aa34342edbcb3e1846bdef924": {
     "model_module": "@jupyter-widgets/controls",
     "model_module_version": "1.5.0",
     "model_name": "FloatProgressModel",
     "state": {
      "_dom_classes": [],
      "_model_module": "@jupyter-widgets/controls",
      "_model_module_version": "1.5.0",
      "_model_name": "FloatProgressModel",
      "_view_count": null,
      "_view_module": "@jupyter-widgets/controls",
      "_view_module_version": "1.5.0",
      "_view_name": "ProgressView",
      "bar_style": "success",
      "description": "",
      "description_tooltip": null,
      "layout": "IPY_MODEL_680de18fa9f4488d9aa7743e13656b52",
      "max": 1,
      "min": 0,
      "orientation": "horizontal",
      "style": "IPY_MODEL_bbe6f032d61444a28ea3c83dc4684794",
      "value": 1
     }
    },
    "ae490feadd2141c581c1077b17a42f64": {
     "model_module": "@jupyter-widgets/controls",
     "model_module_version": "1.5.0",
     "model_name": "DescriptionStyleModel",
     "state": {
      "_model_module": "@jupyter-widgets/controls",
      "_model_module_version": "1.5.0",
      "_model_name": "DescriptionStyleModel",
      "_view_count": null,
      "_view_module": "@jupyter-widgets/base",
      "_view_module_version": "1.2.0",
      "_view_name": "StyleView",
      "description_width": ""
     }
    },
    "ae5a99c37c9d4ba7b3c9183486ba3634": {
     "model_module": "@jupyter-widgets/controls",
     "model_module_version": "1.5.0",
     "model_name": "HTMLModel",
     "state": {
      "_dom_classes": [],
      "_model_module": "@jupyter-widgets/controls",
      "_model_module_version": "1.5.0",
      "_model_name": "HTMLModel",
      "_view_count": null,
      "_view_module": "@jupyter-widgets/controls",
      "_view_module_version": "1.5.0",
      "_view_name": "HTMLView",
      "description": "",
      "description_tooltip": null,
      "layout": "IPY_MODEL_fed1c41f1198450d9618813a3b3ea4b8",
      "placeholder": "​",
      "style": "IPY_MODEL_d7361e340f7a452a9728692171dbced0",
      "value": "Generating train split: 100%"
     }
    },
    "b1ebc9dc349a4c81a80cbc4369382a27": {
     "model_module": "@jupyter-widgets/controls",
     "model_module_version": "1.5.0",
     "model_name": "HTMLModel",
     "state": {
      "_dom_classes": [],
      "_model_module": "@jupyter-widgets/controls",
      "_model_module_version": "1.5.0",
      "_model_name": "HTMLModel",
      "_view_count": null,
      "_view_module": "@jupyter-widgets/controls",
      "_view_module_version": "1.5.0",
      "_view_name": "HTMLView",
      "description": "",
      "description_tooltip": null,
      "layout": "IPY_MODEL_d4d0e1de54d04deea989314b00db841c",
      "placeholder": "​",
      "style": "IPY_MODEL_1ad4992394304e78b09c7011f6bdca49",
      "value": " 441k/? [00:00&lt;00:00, 16.1MB/s]"
     }
    },
    "b5c4aa87a52546bcb1c7fc0343b94a10": {
     "model_module": "@jupyter-widgets/controls",
     "model_module_version": "1.5.0",
     "model_name": "HTMLModel",
     "state": {
      "_dom_classes": [],
      "_model_module": "@jupyter-widgets/controls",
      "_model_module_version": "1.5.0",
      "_model_name": "HTMLModel",
      "_view_count": null,
      "_view_module": "@jupyter-widgets/controls",
      "_view_module_version": "1.5.0",
      "_view_name": "HTMLView",
      "description": "",
      "description_tooltip": null,
      "layout": "IPY_MODEL_8ea6132453084090bc5cb2a9649164ed",
      "placeholder": "​",
      "style": "IPY_MODEL_18071841efad4c77a0a6a4e84a1c04d4",
      "value": " 3/3 [00:00&lt;00:00,  3.31it/s]"
     }
    },
    "b6fadba69cc44d8388f00b6375096c31": {
     "model_module": "@jupyter-widgets/controls",
     "model_module_version": "1.5.0",
     "model_name": "FloatProgressModel",
     "state": {
      "_dom_classes": [],
      "_model_module": "@jupyter-widgets/controls",
      "_model_module_version": "1.5.0",
      "_model_name": "FloatProgressModel",
      "_view_count": null,
      "_view_module": "@jupyter-widgets/controls",
      "_view_module_version": "1.5.0",
      "_view_name": "ProgressView",
      "bar_style": "success",
      "description": "",
      "description_tooltip": null,
      "layout": "IPY_MODEL_ac8b38da240048eead2b9a4509b7dfe0",
      "max": 408,
      "min": 0,
      "orientation": "horizontal",
      "style": "IPY_MODEL_0c0a509f0ed04196b5fa176eec0358c0",
      "value": 408
     }
    },
    "b6fcadb66a1247c498b703bde90b1382": {
     "model_module": "@jupyter-widgets/controls",
     "model_module_version": "1.5.0",
     "model_name": "HTMLModel",
     "state": {
      "_dom_classes": [],
      "_model_module": "@jupyter-widgets/controls",
      "_model_module_version": "1.5.0",
      "_model_name": "HTMLModel",
      "_view_count": null,
      "_view_module": "@jupyter-widgets/controls",
      "_view_module_version": "1.5.0",
      "_view_name": "HTMLView",
      "description": "",
      "description_tooltip": null,
      "layout": "IPY_MODEL_41e31be0416e47da98ccb2bd86b704cd",
      "placeholder": "​",
      "style": "IPY_MODEL_70183855d47e4088835f37affa7c8f7a",
      "value": "Downloading data: "
     }
    },
    "b7322d55ddca4728a636ef96fa360532": {
     "model_module": "@jupyter-widgets/base",
     "model_module_version": "1.2.0",
     "model_name": "LayoutModel",
     "state": {
      "_model_module": "@jupyter-widgets/base",
      "_model_module_version": "1.2.0",
      "_model_name": "LayoutModel",
      "_view_count": null,
      "_view_module": "@jupyter-widgets/base",
      "_view_module_version": "1.2.0",
      "_view_name": "LayoutView",
      "align_content": null,
      "align_items": null,
      "align_self": null,
      "border": null,
      "bottom": null,
      "display": null,
      "flex": null,
      "flex_flow": null,
      "grid_area": null,
      "grid_auto_columns": null,
      "grid_auto_flow": null,
      "grid_auto_rows": null,
      "grid_column": null,
      "grid_gap": null,
      "grid_row": null,
      "grid_template_areas": null,
      "grid_template_columns": null,
      "grid_template_rows": null,
      "height": null,
      "justify_content": null,
      "justify_items": null,
      "left": null,
      "margin": null,
      "max_height": null,
      "max_width": null,
      "min_height": null,
      "min_width": null,
      "object_fit": null,
      "object_position": null,
      "order": null,
      "overflow": null,
      "overflow_x": null,
      "overflow_y": null,
      "padding": null,
      "right": null,
      "top": null,
      "visibility": null,
      "width": null
     }
    },
    "b7f52df5fe0540689526d115290133a8": {
     "model_module": "@jupyter-widgets/controls",
     "model_module_version": "1.5.0",
     "model_name": "ProgressStyleModel",
     "state": {
      "_model_module": "@jupyter-widgets/controls",
      "_model_module_version": "1.5.0",
      "_model_name": "ProgressStyleModel",
      "_view_count": null,
      "_view_module": "@jupyter-widgets/base",
      "_view_module_version": "1.2.0",
      "_view_name": "StyleView",
      "bar_color": null,
      "description_width": ""
     }
    },
    "ba880041e28040719a1744126203c04c": {
     "model_module": "@jupyter-widgets/controls",
     "model_module_version": "1.5.0",
     "model_name": "FloatProgressModel",
     "state": {
      "_dom_classes": [],
      "_model_module": "@jupyter-widgets/controls",
      "_model_module_version": "1.5.0",
      "_model_name": "FloatProgressModel",
      "_view_count": null,
      "_view_module": "@jupyter-widgets/controls",
      "_view_module_version": "1.5.0",
      "_view_name": "ProgressView",
      "bar_style": "success",
      "description": "",
      "description_tooltip": null,
      "layout": "IPY_MODEL_22fcf64527504cba865ac0c15a07b58c",
      "max": 1,
      "min": 0,
      "orientation": "horizontal",
      "style": "IPY_MODEL_1ea67387f0e847218d48544be2d82d67",
      "value": 1
     }
    },
    "bbe6f032d61444a28ea3c83dc4684794": {
     "model_module": "@jupyter-widgets/controls",
     "model_module_version": "1.5.0",
     "model_name": "ProgressStyleModel",
     "state": {
      "_model_module": "@jupyter-widgets/controls",
      "_model_module_version": "1.5.0",
      "_model_name": "ProgressStyleModel",
      "_view_count": null,
      "_view_module": "@jupyter-widgets/base",
      "_view_module_version": "1.2.0",
      "_view_name": "StyleView",
      "bar_color": null,
      "description_width": ""
     }
    },
    "bd31b6645ba6409fbedcd28aafc6599e": {
     "model_module": "@jupyter-widgets/controls",
     "model_module_version": "1.5.0",
     "model_name": "HTMLModel",
     "state": {
      "_dom_classes": [],
      "_model_module": "@jupyter-widgets/controls",
      "_model_module_version": "1.5.0",
      "_model_name": "HTMLModel",
      "_view_count": null,
      "_view_module": "@jupyter-widgets/controls",
      "_view_module_version": "1.5.0",
      "_view_name": "HTMLView",
      "description": "",
      "description_tooltip": null,
      "layout": "IPY_MODEL_ee1eda18559c4749827586cc5c0a3cb1",
      "placeholder": "​",
      "style": "IPY_MODEL_c38b4c51cd4d4e5386a854c34b41fa23",
      "value": " 1725/1725 [00:00&lt;00:00, 14837.12 examples/s]"
     }
    },
    "bf7a3069c4d947d289b413499c3da294": {
     "model_module": "@jupyter-widgets/base",
     "model_module_version": "1.2.0",
     "model_name": "LayoutModel",
     "state": {
      "_model_module": "@jupyter-widgets/base",
      "_model_module_version": "1.2.0",
      "_model_name": "LayoutModel",
      "_view_count": null,
      "_view_module": "@jupyter-widgets/base",
      "_view_module_version": "1.2.0",
      "_view_name": "LayoutView",
      "align_content": null,
      "align_items": null,
      "align_self": null,
      "border": null,
      "bottom": null,
      "display": null,
      "flex": null,
      "flex_flow": null,
      "grid_area": null,
      "grid_auto_columns": null,
      "grid_auto_flow": null,
      "grid_auto_rows": null,
      "grid_column": null,
      "grid_gap": null,
      "grid_row": null,
      "grid_template_areas": null,
      "grid_template_columns": null,
      "grid_template_rows": null,
      "height": null,
      "justify_content": null,
      "justify_items": null,
      "left": null,
      "margin": null,
      "max_height": null,
      "max_width": null,
      "min_height": null,
      "min_width": null,
      "object_fit": null,
      "object_position": null,
      "order": null,
      "overflow": null,
      "overflow_x": null,
      "overflow_y": null,
      "padding": null,
      "right": null,
      "top": null,
      "visibility": null,
      "width": null
     }
    },
    "c0cf2f3c207e4e10800a914f20e01d0a": {
     "model_module": "@jupyter-widgets/controls",
     "model_module_version": "1.5.0",
     "model_name": "FloatProgressModel",
     "state": {
      "_dom_classes": [],
      "_model_module": "@jupyter-widgets/controls",
      "_model_module_version": "1.5.0",
      "_model_name": "FloatProgressModel",
      "_view_count": null,
      "_view_module": "@jupyter-widgets/controls",
      "_view_module_version": "1.5.0",
      "_view_name": "ProgressView",
      "bar_style": "success",
      "description": "",
      "description_tooltip": null,
      "layout": "IPY_MODEL_2e924fca6a63480ebef9c60cef3a8a4c",
      "max": 466062,
      "min": 0,
      "orientation": "horizontal",
      "style": "IPY_MODEL_8a499d435bed43e281aacc7b67abf453",
      "value": 466062
     }
    },
    "c2454cef005c4b7e8cd0ef35a77dd4a4": {
     "model_module": "@jupyter-widgets/base",
     "model_module_version": "1.2.0",
     "model_name": "LayoutModel",
     "state": {
      "_model_module": "@jupyter-widgets/base",
      "_model_module_version": "1.2.0",
      "_model_name": "LayoutModel",
      "_view_count": null,
      "_view_module": "@jupyter-widgets/base",
      "_view_module_version": "1.2.0",
      "_view_name": "LayoutView",
      "align_content": null,
      "align_items": null,
      "align_self": null,
      "border": null,
      "bottom": null,
      "display": null,
      "flex": null,
      "flex_flow": null,
      "grid_area": null,
      "grid_auto_columns": null,
      "grid_auto_flow": null,
      "grid_auto_rows": null,
      "grid_column": null,
      "grid_gap": null,
      "grid_row": null,
      "grid_template_areas": null,
      "grid_template_columns": null,
      "grid_template_rows": null,
      "height": null,
      "justify_content": null,
      "justify_items": null,
      "left": null,
      "margin": null,
      "max_height": null,
      "max_width": null,
      "min_height": null,
      "min_width": null,
      "object_fit": null,
      "object_position": null,
      "order": null,
      "overflow": null,
      "overflow_x": null,
      "overflow_y": null,
      "padding": null,
      "right": null,
      "top": null,
      "visibility": null,
      "width": null
     }
    },
    "c29b0638dc414a6ea55853dcce3793e5": {
     "model_module": "@jupyter-widgets/base",
     "model_module_version": "1.2.0",
     "model_name": "LayoutModel",
     "state": {
      "_model_module": "@jupyter-widgets/base",
      "_model_module_version": "1.2.0",
      "_model_name": "LayoutModel",
      "_view_count": null,
      "_view_module": "@jupyter-widgets/base",
      "_view_module_version": "1.2.0",
      "_view_name": "LayoutView",
      "align_content": null,
      "align_items": null,
      "align_self": null,
      "border": null,
      "bottom": null,
      "display": null,
      "flex": null,
      "flex_flow": null,
      "grid_area": null,
      "grid_auto_columns": null,
      "grid_auto_flow": null,
      "grid_auto_rows": null,
      "grid_column": null,
      "grid_gap": null,
      "grid_row": null,
      "grid_template_areas": null,
      "grid_template_columns": null,
      "grid_template_rows": null,
      "height": null,
      "justify_content": null,
      "justify_items": null,
      "left": null,
      "margin": null,
      "max_height": null,
      "max_width": null,
      "min_height": null,
      "min_width": null,
      "object_fit": null,
      "object_position": null,
      "order": null,
      "overflow": null,
      "overflow_x": null,
      "overflow_y": null,
      "padding": null,
      "right": null,
      "top": null,
      "visibility": null,
      "width": null
     }
    },
    "c32583c455414d92aaa695cc8fbee472": {
     "model_module": "@jupyter-widgets/controls",
     "model_module_version": "1.5.0",
     "model_name": "DescriptionStyleModel",
     "state": {
      "_model_module": "@jupyter-widgets/controls",
      "_model_module_version": "1.5.0",
      "_model_name": "DescriptionStyleModel",
      "_view_count": null,
      "_view_module": "@jupyter-widgets/base",
      "_view_module_version": "1.2.0",
      "_view_name": "StyleView",
      "description_width": ""
     }
    },
    "c38b4c51cd4d4e5386a854c34b41fa23": {
     "model_module": "@jupyter-widgets/controls",
     "model_module_version": "1.5.0",
     "model_name": "DescriptionStyleModel",
     "state": {
      "_model_module": "@jupyter-widgets/controls",
      "_model_module_version": "1.5.0",
      "_model_name": "DescriptionStyleModel",
      "_view_count": null,
      "_view_module": "@jupyter-widgets/base",
      "_view_module_version": "1.2.0",
      "_view_name": "StyleView",
      "description_width": ""
     }
    },
    "c421fc09f86c4371ba271194b67200c3": {
     "model_module": "@jupyter-widgets/controls",
     "model_module_version": "1.5.0",
     "model_name": "FloatProgressModel",
     "state": {
      "_dom_classes": [],
      "_model_module": "@jupyter-widgets/controls",
      "_model_module_version": "1.5.0",
      "_model_name": "FloatProgressModel",
      "_view_count": null,
      "_view_module": "@jupyter-widgets/controls",
      "_view_module_version": "1.5.0",
      "_view_name": "ProgressView",
      "bar_style": "success",
      "description": "",
      "description_tooltip": null,
      "layout": "IPY_MODEL_3082644216064b2f858e27f89be4ab89",
      "max": 440449768,
      "min": 0,
      "orientation": "horizontal",
      "style": "IPY_MODEL_2d2f5f126e114ba798d499c1540fab29",
      "value": 440449768
     }
    },
    "ce3a20bb9a5b4b0eb47ca3781ec0c96f": {
     "model_module": "@jupyter-widgets/base",
     "model_module_version": "1.2.0",
     "model_name": "LayoutModel",
     "state": {
      "_model_module": "@jupyter-widgets/base",
      "_model_module_version": "1.2.0",
      "_model_name": "LayoutModel",
      "_view_count": null,
      "_view_module": "@jupyter-widgets/base",
      "_view_module_version": "1.2.0",
      "_view_name": "LayoutView",
      "align_content": null,
      "align_items": null,
      "align_self": null,
      "border": null,
      "bottom": null,
      "display": null,
      "flex": null,
      "flex_flow": null,
      "grid_area": null,
      "grid_auto_columns": null,
      "grid_auto_flow": null,
      "grid_auto_rows": null,
      "grid_column": null,
      "grid_gap": null,
      "grid_row": null,
      "grid_template_areas": null,
      "grid_template_columns": null,
      "grid_template_rows": null,
      "height": null,
      "justify_content": null,
      "justify_items": null,
      "left": null,
      "margin": null,
      "max_height": null,
      "max_width": null,
      "min_height": null,
      "min_width": null,
      "object_fit": null,
      "object_position": null,
      "order": null,
      "overflow": null,
      "overflow_x": null,
      "overflow_y": null,
      "padding": null,
      "right": null,
      "top": null,
      "visibility": null,
      "width": null
     }
    },
    "d03bcef512b04fd991df2d9e99bb3c59": {
     "model_module": "@jupyter-widgets/controls",
     "model_module_version": "1.5.0",
     "model_name": "HTMLModel",
     "state": {
      "_dom_classes": [],
      "_model_module": "@jupyter-widgets/controls",
      "_model_module_version": "1.5.0",
      "_model_name": "HTMLModel",
      "_view_count": null,
      "_view_module": "@jupyter-widgets/controls",
      "_view_module_version": "1.5.0",
      "_view_name": "HTMLView",
      "description": "",
      "description_tooltip": null,
      "layout": "IPY_MODEL_a434a69053474672ba201f0a057e74c4",
      "placeholder": "​",
      "style": "IPY_MODEL_ffe4bbaa59d74a04a412de68703f52ca",
      "value": "Downloading model.safetensors: 100%"
     }
    },
    "d302f29623f54ba39157c9b1f4e47adc": {
     "model_module": "@jupyter-widgets/controls",
     "model_module_version": "1.5.0",
     "model_name": "DescriptionStyleModel",
     "state": {
      "_model_module": "@jupyter-widgets/controls",
      "_model_module_version": "1.5.0",
      "_model_name": "DescriptionStyleModel",
      "_view_count": null,
      "_view_module": "@jupyter-widgets/base",
      "_view_module_version": "1.2.0",
      "_view_name": "StyleView",
      "description_width": ""
     }
    },
    "d4d0e1de54d04deea989314b00db841c": {
     "model_module": "@jupyter-widgets/base",
     "model_module_version": "1.2.0",
     "model_name": "LayoutModel",
     "state": {
      "_model_module": "@jupyter-widgets/base",
      "_model_module_version": "1.2.0",
      "_model_name": "LayoutModel",
      "_view_count": null,
      "_view_module": "@jupyter-widgets/base",
      "_view_module_version": "1.2.0",
      "_view_name": "LayoutView",
      "align_content": null,
      "align_items": null,
      "align_self": null,
      "border": null,
      "bottom": null,
      "display": null,
      "flex": null,
      "flex_flow": null,
      "grid_area": null,
      "grid_auto_columns": null,
      "grid_auto_flow": null,
      "grid_auto_rows": null,
      "grid_column": null,
      "grid_gap": null,
      "grid_row": null,
      "grid_template_areas": null,
      "grid_template_columns": null,
      "grid_template_rows": null,
      "height": null,
      "justify_content": null,
      "justify_items": null,
      "left": null,
      "margin": null,
      "max_height": null,
      "max_width": null,
      "min_height": null,
      "min_width": null,
      "object_fit": null,
      "object_position": null,
      "order": null,
      "overflow": null,
      "overflow_x": null,
      "overflow_y": null,
      "padding": null,
      "right": null,
      "top": null,
      "visibility": null,
      "width": null
     }
    },
    "d5349e06c71d4347a87000105b7b9597": {
     "model_module": "@jupyter-widgets/base",
     "model_module_version": "1.2.0",
     "model_name": "LayoutModel",
     "state": {
      "_model_module": "@jupyter-widgets/base",
      "_model_module_version": "1.2.0",
      "_model_name": "LayoutModel",
      "_view_count": null,
      "_view_module": "@jupyter-widgets/base",
      "_view_module_version": "1.2.0",
      "_view_name": "LayoutView",
      "align_content": null,
      "align_items": null,
      "align_self": null,
      "border": null,
      "bottom": null,
      "display": null,
      "flex": null,
      "flex_flow": null,
      "grid_area": null,
      "grid_auto_columns": null,
      "grid_auto_flow": null,
      "grid_auto_rows": null,
      "grid_column": null,
      "grid_gap": null,
      "grid_row": null,
      "grid_template_areas": null,
      "grid_template_columns": null,
      "grid_template_rows": null,
      "height": null,
      "justify_content": null,
      "justify_items": null,
      "left": null,
      "margin": null,
      "max_height": null,
      "max_width": null,
      "min_height": null,
      "min_width": null,
      "object_fit": null,
      "object_position": null,
      "order": null,
      "overflow": null,
      "overflow_x": null,
      "overflow_y": null,
      "padding": null,
      "right": null,
      "top": null,
      "visibility": null,
      "width": null
     }
    },
    "d5c5ea268d554b638d910a49530cff99": {
     "model_module": "@jupyter-widgets/controls",
     "model_module_version": "1.5.0",
     "model_name": "HBoxModel",
     "state": {
      "_dom_classes": [],
      "_model_module": "@jupyter-widgets/controls",
      "_model_module_version": "1.5.0",
      "_model_name": "HBoxModel",
      "_view_count": null,
      "_view_module": "@jupyter-widgets/controls",
      "_view_module_version": "1.5.0",
      "_view_name": "HBoxView",
      "box_style": "",
      "children": [
       "IPY_MODEL_13e2e5ea9016470aaa3d38d72f011340",
       "IPY_MODEL_0e3dc6469af646ef8b562e5acf50f94e",
       "IPY_MODEL_b1ebc9dc349a4c81a80cbc4369382a27"
      ],
      "layout": "IPY_MODEL_bf7a3069c4d947d289b413499c3da294"
     }
    },
    "d7361e340f7a452a9728692171dbced0": {
     "model_module": "@jupyter-widgets/controls",
     "model_module_version": "1.5.0",
     "model_name": "DescriptionStyleModel",
     "state": {
      "_model_module": "@jupyter-widgets/controls",
      "_model_module_version": "1.5.0",
      "_model_name": "DescriptionStyleModel",
      "_view_count": null,
      "_view_module": "@jupyter-widgets/base",
      "_view_module_version": "1.2.0",
      "_view_name": "StyleView",
      "description_width": ""
     }
    },
    "d767679b3ca2403ebb924e8fe62ddea9": {
     "model_module": "@jupyter-widgets/controls",
     "model_module_version": "1.5.0",
     "model_name": "DescriptionStyleModel",
     "state": {
      "_model_module": "@jupyter-widgets/controls",
      "_model_module_version": "1.5.0",
      "_model_name": "DescriptionStyleModel",
      "_view_count": null,
      "_view_module": "@jupyter-widgets/base",
      "_view_module_version": "1.2.0",
      "_view_name": "StyleView",
      "description_width": ""
     }
    },
    "dad8ef6a45854057b809896564f42635": {
     "model_module": "@jupyter-widgets/base",
     "model_module_version": "1.2.0",
     "model_name": "LayoutModel",
     "state": {
      "_model_module": "@jupyter-widgets/base",
      "_model_module_version": "1.2.0",
      "_model_name": "LayoutModel",
      "_view_count": null,
      "_view_module": "@jupyter-widgets/base",
      "_view_module_version": "1.2.0",
      "_view_name": "LayoutView",
      "align_content": null,
      "align_items": null,
      "align_self": null,
      "border": null,
      "bottom": null,
      "display": null,
      "flex": null,
      "flex_flow": null,
      "grid_area": null,
      "grid_auto_columns": null,
      "grid_auto_flow": null,
      "grid_auto_rows": null,
      "grid_column": null,
      "grid_gap": null,
      "grid_row": null,
      "grid_template_areas": null,
      "grid_template_columns": null,
      "grid_template_rows": null,
      "height": null,
      "justify_content": null,
      "justify_items": null,
      "left": null,
      "margin": null,
      "max_height": null,
      "max_width": null,
      "min_height": null,
      "min_width": null,
      "object_fit": null,
      "object_position": null,
      "order": null,
      "overflow": null,
      "overflow_x": null,
      "overflow_y": null,
      "padding": null,
      "right": null,
      "top": null,
      "visibility": null,
      "width": null
     }
    },
    "dbeda1ce13774b438574d337effb8579": {
     "model_module": "@jupyter-widgets/controls",
     "model_module_version": "1.5.0",
     "model_name": "HBoxModel",
     "state": {
      "_dom_classes": [],
      "_model_module": "@jupyter-widgets/controls",
      "_model_module_version": "1.5.0",
      "_model_name": "HBoxModel",
      "_view_count": null,
      "_view_module": "@jupyter-widgets/controls",
      "_view_module_version": "1.5.0",
      "_view_name": "HBoxView",
      "box_style": "",
      "children": [
       "IPY_MODEL_ae5a99c37c9d4ba7b3c9183486ba3634",
       "IPY_MODEL_fdbdd52fe20e4d1287ce5e1581ccf16e",
       "IPY_MODEL_831c630ab6ec49f8a54e496e14f77ac0"
      ],
      "layout": "IPY_MODEL_e3719a9b42654c28b37bfd1eeccb9283"
     }
    },
    "dca4a766f34f4d97a1cd51b8acbd29b2": {
     "model_module": "@jupyter-widgets/base",
     "model_module_version": "1.2.0",
     "model_name": "LayoutModel",
     "state": {
      "_model_module": "@jupyter-widgets/base",
      "_model_module_version": "1.2.0",
      "_model_name": "LayoutModel",
      "_view_count": null,
      "_view_module": "@jupyter-widgets/base",
      "_view_module_version": "1.2.0",
      "_view_name": "LayoutView",
      "align_content": null,
      "align_items": null,
      "align_self": null,
      "border": null,
      "bottom": null,
      "display": null,
      "flex": null,
      "flex_flow": null,
      "grid_area": null,
      "grid_auto_columns": null,
      "grid_auto_flow": null,
      "grid_auto_rows": null,
      "grid_column": null,
      "grid_gap": null,
      "grid_row": null,
      "grid_template_areas": null,
      "grid_template_columns": null,
      "grid_template_rows": null,
      "height": null,
      "justify_content": null,
      "justify_items": null,
      "left": null,
      "margin": null,
      "max_height": null,
      "max_width": null,
      "min_height": null,
      "min_width": null,
      "object_fit": null,
      "object_position": null,
      "order": null,
      "overflow": null,
      "overflow_x": null,
      "overflow_y": null,
      "padding": null,
      "right": null,
      "top": null,
      "visibility": null,
      "width": null
     }
    },
    "de2f3d46bf9e4df49567e0fcf5d3b579": {
     "model_module": "@jupyter-widgets/base",
     "model_module_version": "1.2.0",
     "model_name": "LayoutModel",
     "state": {
      "_model_module": "@jupyter-widgets/base",
      "_model_module_version": "1.2.0",
      "_model_name": "LayoutModel",
      "_view_count": null,
      "_view_module": "@jupyter-widgets/base",
      "_view_module_version": "1.2.0",
      "_view_name": "LayoutView",
      "align_content": null,
      "align_items": null,
      "align_self": null,
      "border": null,
      "bottom": null,
      "display": null,
      "flex": null,
      "flex_flow": null,
      "grid_area": null,
      "grid_auto_columns": null,
      "grid_auto_flow": null,
      "grid_auto_rows": null,
      "grid_column": null,
      "grid_gap": null,
      "grid_row": null,
      "grid_template_areas": null,
      "grid_template_columns": null,
      "grid_template_rows": null,
      "height": null,
      "justify_content": null,
      "justify_items": null,
      "left": null,
      "margin": null,
      "max_height": null,
      "max_width": null,
      "min_height": null,
      "min_width": null,
      "object_fit": null,
      "object_position": null,
      "order": null,
      "overflow": null,
      "overflow_x": null,
      "overflow_y": null,
      "padding": null,
      "right": null,
      "top": null,
      "visibility": null,
      "width": null
     }
    },
    "dea71ddf39514f8f8cc0edec1ffe9d0a": {
     "model_module": "@jupyter-widgets/controls",
     "model_module_version": "1.5.0",
     "model_name": "HBoxModel",
     "state": {
      "_dom_classes": [],
      "_model_module": "@jupyter-widgets/controls",
      "_model_module_version": "1.5.0",
      "_model_name": "HBoxModel",
      "_view_count": null,
      "_view_module": "@jupyter-widgets/controls",
      "_view_module_version": "1.5.0",
      "_view_name": "HBoxView",
      "box_style": "",
      "children": [
       "IPY_MODEL_43b0cc13632c4ad78cb7709abe968b43",
       "IPY_MODEL_552c166ae52d4c5a8683d3e2f6cbb661",
       "IPY_MODEL_b5c4aa87a52546bcb1c7fc0343b94a10"
      ],
      "layout": "IPY_MODEL_9f023bcb1b5348cc9f262b283920b1a5"
     }
    },
    "df59e4c553944fd4a2c3e148d0e5dd88": {
     "model_module": "@jupyter-widgets/base",
     "model_module_version": "1.2.0",
     "model_name": "LayoutModel",
     "state": {
      "_model_module": "@jupyter-widgets/base",
      "_model_module_version": "1.2.0",
      "_model_name": "LayoutModel",
      "_view_count": null,
      "_view_module": "@jupyter-widgets/base",
      "_view_module_version": "1.2.0",
      "_view_name": "LayoutView",
      "align_content": null,
      "align_items": null,
      "align_self": null,
      "border": null,
      "bottom": null,
      "display": null,
      "flex": null,
      "flex_flow": null,
      "grid_area": null,
      "grid_auto_columns": null,
      "grid_auto_flow": null,
      "grid_auto_rows": null,
      "grid_column": null,
      "grid_gap": null,
      "grid_row": null,
      "grid_template_areas": null,
      "grid_template_columns": null,
      "grid_template_rows": null,
      "height": null,
      "justify_content": null,
      "justify_items": null,
      "left": null,
      "margin": null,
      "max_height": null,
      "max_width": null,
      "min_height": null,
      "min_width": null,
      "object_fit": null,
      "object_position": null,
      "order": null,
      "overflow": null,
      "overflow_x": null,
      "overflow_y": null,
      "padding": null,
      "right": null,
      "top": null,
      "visibility": null,
      "width": null
     }
    },
    "e0bf3e9a752c49e188bd1512d5338216": {
     "model_module": "@jupyter-widgets/controls",
     "model_module_version": "1.5.0",
     "model_name": "HBoxModel",
     "state": {
      "_dom_classes": [],
      "_model_module": "@jupyter-widgets/controls",
      "_model_module_version": "1.5.0",
      "_model_name": "HBoxModel",
      "_view_count": null,
      "_view_module": "@jupyter-widgets/controls",
      "_view_module_version": "1.5.0",
      "_view_name": "HBoxView",
      "box_style": "",
      "children": [
       "IPY_MODEL_932210500e2c47c896a8c9c32bf2666f",
       "IPY_MODEL_97ad056ff7da4bde8154962f76325798",
       "IPY_MODEL_f1210ef5bf614918b15a471ea4eae104"
      ],
      "layout": "IPY_MODEL_78ef8f80c0a8447e806bcfd095cd7d82"
     }
    },
    "e2a3078f4f744952b398d1f1b912bdb2": {
     "model_module": "@jupyter-widgets/controls",
     "model_module_version": "1.5.0",
     "model_name": "HTMLModel",
     "state": {
      "_dom_classes": [],
      "_model_module": "@jupyter-widgets/controls",
      "_model_module_version": "1.5.0",
      "_model_name": "HTMLModel",
      "_view_count": null,
      "_view_module": "@jupyter-widgets/controls",
      "_view_module_version": "1.5.0",
      "_view_name": "HTMLView",
      "description": "",
      "description_tooltip": null,
      "layout": "IPY_MODEL_1e5b790639d24b1b964afcda5e652915",
      "placeholder": "​",
      "style": "IPY_MODEL_8d21b9fa9ebc4ed786d8047c0cddaac7",
      "value": " 6.22k/? [00:00&lt;00:00, 339kB/s]"
     }
    },
    "e3719a9b42654c28b37bfd1eeccb9283": {
     "model_module": "@jupyter-widgets/base",
     "model_module_version": "1.2.0",
     "model_name": "LayoutModel",
     "state": {
      "_model_module": "@jupyter-widgets/base",
      "_model_module_version": "1.2.0",
      "_model_name": "LayoutModel",
      "_view_count": null,
      "_view_module": "@jupyter-widgets/base",
      "_view_module_version": "1.2.0",
      "_view_name": "LayoutView",
      "align_content": null,
      "align_items": null,
      "align_self": null,
      "border": null,
      "bottom": null,
      "display": null,
      "flex": null,
      "flex_flow": null,
      "grid_area": null,
      "grid_auto_columns": null,
      "grid_auto_flow": null,
      "grid_auto_rows": null,
      "grid_column": null,
      "grid_gap": null,
      "grid_row": null,
      "grid_template_areas": null,
      "grid_template_columns": null,
      "grid_template_rows": null,
      "height": null,
      "justify_content": null,
      "justify_items": null,
      "left": null,
      "margin": null,
      "max_height": null,
      "max_width": null,
      "min_height": null,
      "min_width": null,
      "object_fit": null,
      "object_position": null,
      "order": null,
      "overflow": null,
      "overflow_x": null,
      "overflow_y": null,
      "padding": null,
      "right": null,
      "top": null,
      "visibility": null,
      "width": null
     }
    },
    "e3df6ff6023f48c3917dbe7de23bc537": {
     "model_module": "@jupyter-widgets/base",
     "model_module_version": "1.2.0",
     "model_name": "LayoutModel",
     "state": {
      "_model_module": "@jupyter-widgets/base",
      "_model_module_version": "1.2.0",
      "_model_name": "LayoutModel",
      "_view_count": null,
      "_view_module": "@jupyter-widgets/base",
      "_view_module_version": "1.2.0",
      "_view_name": "LayoutView",
      "align_content": null,
      "align_items": null,
      "align_self": null,
      "border": null,
      "bottom": null,
      "display": null,
      "flex": null,
      "flex_flow": null,
      "grid_area": null,
      "grid_auto_columns": null,
      "grid_auto_flow": null,
      "grid_auto_rows": null,
      "grid_column": null,
      "grid_gap": null,
      "grid_row": null,
      "grid_template_areas": null,
      "grid_template_columns": null,
      "grid_template_rows": null,
      "height": null,
      "justify_content": null,
      "justify_items": null,
      "left": null,
      "margin": null,
      "max_height": null,
      "max_width": null,
      "min_height": null,
      "min_width": null,
      "object_fit": null,
      "object_position": null,
      "order": null,
      "overflow": null,
      "overflow_x": null,
      "overflow_y": null,
      "padding": null,
      "right": null,
      "top": null,
      "visibility": null,
      "width": null
     }
    },
    "eacb5fae3b4d411dae7d93193085ab67": {
     "model_module": "@jupyter-widgets/base",
     "model_module_version": "1.2.0",
     "model_name": "LayoutModel",
     "state": {
      "_model_module": "@jupyter-widgets/base",
      "_model_module_version": "1.2.0",
      "_model_name": "LayoutModel",
      "_view_count": null,
      "_view_module": "@jupyter-widgets/base",
      "_view_module_version": "1.2.0",
      "_view_name": "LayoutView",
      "align_content": null,
      "align_items": null,
      "align_self": null,
      "border": null,
      "bottom": null,
      "display": null,
      "flex": null,
      "flex_flow": null,
      "grid_area": null,
      "grid_auto_columns": null,
      "grid_auto_flow": null,
      "grid_auto_rows": null,
      "grid_column": null,
      "grid_gap": null,
      "grid_row": null,
      "grid_template_areas": null,
      "grid_template_columns": null,
      "grid_template_rows": null,
      "height": null,
      "justify_content": null,
      "justify_items": null,
      "left": null,
      "margin": null,
      "max_height": null,
      "max_width": null,
      "min_height": null,
      "min_width": null,
      "object_fit": null,
      "object_position": null,
      "order": null,
      "overflow": null,
      "overflow_x": null,
      "overflow_y": null,
      "padding": null,
      "right": null,
      "top": null,
      "visibility": null,
      "width": null
     }
    },
    "eb2ccf72e522484ab77fcd97c08e928e": {
     "model_module": "@jupyter-widgets/base",
     "model_module_version": "1.2.0",
     "model_name": "LayoutModel",
     "state": {
      "_model_module": "@jupyter-widgets/base",
      "_model_module_version": "1.2.0",
      "_model_name": "LayoutModel",
      "_view_count": null,
      "_view_module": "@jupyter-widgets/base",
      "_view_module_version": "1.2.0",
      "_view_name": "LayoutView",
      "align_content": null,
      "align_items": null,
      "align_self": null,
      "border": null,
      "bottom": null,
      "display": null,
      "flex": null,
      "flex_flow": null,
      "grid_area": null,
      "grid_auto_columns": null,
      "grid_auto_flow": null,
      "grid_auto_rows": null,
      "grid_column": null,
      "grid_gap": null,
      "grid_row": null,
      "grid_template_areas": null,
      "grid_template_columns": null,
      "grid_template_rows": null,
      "height": null,
      "justify_content": null,
      "justify_items": null,
      "left": null,
      "margin": null,
      "max_height": null,
      "max_width": null,
      "min_height": null,
      "min_width": null,
      "object_fit": null,
      "object_position": null,
      "order": null,
      "overflow": null,
      "overflow_x": null,
      "overflow_y": null,
      "padding": null,
      "right": null,
      "top": null,
      "visibility": null,
      "width": null
     }
    },
    "ee1eda18559c4749827586cc5c0a3cb1": {
     "model_module": "@jupyter-widgets/base",
     "model_module_version": "1.2.0",
     "model_name": "LayoutModel",
     "state": {
      "_model_module": "@jupyter-widgets/base",
      "_model_module_version": "1.2.0",
      "_model_name": "LayoutModel",
      "_view_count": null,
      "_view_module": "@jupyter-widgets/base",
      "_view_module_version": "1.2.0",
      "_view_name": "LayoutView",
      "align_content": null,
      "align_items": null,
      "align_self": null,
      "border": null,
      "bottom": null,
      "display": null,
      "flex": null,
      "flex_flow": null,
      "grid_area": null,
      "grid_auto_columns": null,
      "grid_auto_flow": null,
      "grid_auto_rows": null,
      "grid_column": null,
      "grid_gap": null,
      "grid_row": null,
      "grid_template_areas": null,
      "grid_template_columns": null,
      "grid_template_rows": null,
      "height": null,
      "justify_content": null,
      "justify_items": null,
      "left": null,
      "margin": null,
      "max_height": null,
      "max_width": null,
      "min_height": null,
      "min_width": null,
      "object_fit": null,
      "object_position": null,
      "order": null,
      "overflow": null,
      "overflow_x": null,
      "overflow_y": null,
      "padding": null,
      "right": null,
      "top": null,
      "visibility": null,
      "width": null
     }
    },
    "ee2be9e50e384a72bac10da09bc4081a": {
     "model_module": "@jupyter-widgets/controls",
     "model_module_version": "1.5.0",
     "model_name": "ProgressStyleModel",
     "state": {
      "_model_module": "@jupyter-widgets/controls",
      "_model_module_version": "1.5.0",
      "_model_name": "ProgressStyleModel",
      "_view_count": null,
      "_view_module": "@jupyter-widgets/base",
      "_view_module_version": "1.2.0",
      "_view_name": "StyleView",
      "bar_color": null,
      "description_width": ""
     }
    },
    "eeb6e5275c3b4f5ea685752cd1fee5bc": {
     "model_module": "@jupyter-widgets/controls",
     "model_module_version": "1.5.0",
     "model_name": "ProgressStyleModel",
     "state": {
      "_model_module": "@jupyter-widgets/controls",
      "_model_module_version": "1.5.0",
      "_model_name": "ProgressStyleModel",
      "_view_count": null,
      "_view_module": "@jupyter-widgets/base",
      "_view_module_version": "1.2.0",
      "_view_name": "StyleView",
      "bar_color": null,
      "description_width": ""
     }
    },
    "f1210ef5bf614918b15a471ea4eae104": {
     "model_module": "@jupyter-widgets/controls",
     "model_module_version": "1.5.0",
     "model_name": "HTMLModel",
     "state": {
      "_dom_classes": [],
      "_model_module": "@jupyter-widgets/controls",
      "_model_module_version": "1.5.0",
      "_model_name": "HTMLModel",
      "_view_count": null,
      "_view_module": "@jupyter-widgets/controls",
      "_view_module_version": "1.5.0",
      "_view_name": "HTMLView",
      "description": "",
      "description_tooltip": null,
      "layout": "IPY_MODEL_eb2ccf72e522484ab77fcd97c08e928e",
      "placeholder": "​",
      "style": "IPY_MODEL_458d6f9570f8463fa1a3e0d6af4322ca",
      "value": " 232k/232k [00:00&lt;00:00, 5.89MB/s]"
     }
    },
    "f18a44e37f404ab9b5250ecd4a02ac0b": {
     "model_module": "@jupyter-widgets/controls",
     "model_module_version": "1.5.0",
     "model_name": "HBoxModel",
     "state": {
      "_dom_classes": [],
      "_model_module": "@jupyter-widgets/controls",
      "_model_module_version": "1.5.0",
      "_model_name": "HBoxModel",
      "_view_count": null,
      "_view_module": "@jupyter-widgets/controls",
      "_view_module_version": "1.5.0",
      "_view_name": "HBoxView",
      "box_style": "",
      "children": [
       "IPY_MODEL_5d6b75b347e94f3dafd896a00a193dd1",
       "IPY_MODEL_ba880041e28040719a1744126203c04c",
       "IPY_MODEL_182411aa8f824b4cb9376dbf4dd94b13"
      ],
      "layout": "IPY_MODEL_dad8ef6a45854057b809896564f42635"
     }
    },
    "f2bf19a7dfe243a2ba46b45854b525b2": {
     "model_module": "@jupyter-widgets/base",
     "model_module_version": "1.2.0",
     "model_name": "LayoutModel",
     "state": {
      "_model_module": "@jupyter-widgets/base",
      "_model_module_version": "1.2.0",
      "_model_name": "LayoutModel",
      "_view_count": null,
      "_view_module": "@jupyter-widgets/base",
      "_view_module_version": "1.2.0",
      "_view_name": "LayoutView",
      "align_content": null,
      "align_items": null,
      "align_self": null,
      "border": null,
      "bottom": null,
      "display": null,
      "flex": null,
      "flex_flow": null,
      "grid_area": null,
      "grid_auto_columns": null,
      "grid_auto_flow": null,
      "grid_auto_rows": null,
      "grid_column": null,
      "grid_gap": null,
      "grid_row": null,
      "grid_template_areas": null,
      "grid_template_columns": null,
      "grid_template_rows": null,
      "height": null,
      "justify_content": null,
      "justify_items": null,
      "left": null,
      "margin": null,
      "max_height": null,
      "max_width": null,
      "min_height": null,
      "min_width": null,
      "object_fit": null,
      "object_position": null,
      "order": null,
      "overflow": null,
      "overflow_x": null,
      "overflow_y": null,
      "padding": null,
      "right": null,
      "top": null,
      "visibility": null,
      "width": null
     }
    },
    "f38db671db984755b969661721fc0925": {
     "model_module": "@jupyter-widgets/base",
     "model_module_version": "1.2.0",
     "model_name": "LayoutModel",
     "state": {
      "_model_module": "@jupyter-widgets/base",
      "_model_module_version": "1.2.0",
      "_model_name": "LayoutModel",
      "_view_count": null,
      "_view_module": "@jupyter-widgets/base",
      "_view_module_version": "1.2.0",
      "_view_name": "LayoutView",
      "align_content": null,
      "align_items": null,
      "align_self": null,
      "border": null,
      "bottom": null,
      "display": null,
      "flex": null,
      "flex_flow": null,
      "grid_area": null,
      "grid_auto_columns": null,
      "grid_auto_flow": null,
      "grid_auto_rows": null,
      "grid_column": null,
      "grid_gap": null,
      "grid_row": null,
      "grid_template_areas": null,
      "grid_template_columns": null,
      "grid_template_rows": null,
      "height": null,
      "justify_content": null,
      "justify_items": null,
      "left": null,
      "margin": null,
      "max_height": null,
      "max_width": null,
      "min_height": null,
      "min_width": null,
      "object_fit": null,
      "object_position": null,
      "order": null,
      "overflow": null,
      "overflow_x": null,
      "overflow_y": null,
      "padding": null,
      "right": null,
      "top": null,
      "visibility": null,
      "width": null
     }
    },
    "f439505bc9fc4df8a60ce6d0b2bda93e": {
     "model_module": "@jupyter-widgets/controls",
     "model_module_version": "1.5.0",
     "model_name": "FloatProgressModel",
     "state": {
      "_dom_classes": [],
      "_model_module": "@jupyter-widgets/controls",
      "_model_module_version": "1.5.0",
      "_model_name": "FloatProgressModel",
      "_view_count": null,
      "_view_module": "@jupyter-widgets/controls",
      "_view_module_version": "1.5.0",
      "_view_name": "ProgressView",
      "bar_style": "success",
      "description": "",
      "description_tooltip": null,
      "layout": "IPY_MODEL_17b86a1713d64b6fbb74fa1f620c28b6",
      "max": 28751,
      "min": 0,
      "orientation": "horizontal",
      "style": "IPY_MODEL_326ac6354bce4d55bca435a5b9f4e149",
      "value": 28751
     }
    },
    "f77b7d2aed774a9faf2812f6157a30f2": {
     "model_module": "@jupyter-widgets/controls",
     "model_module_version": "1.5.0",
     "model_name": "HBoxModel",
     "state": {
      "_dom_classes": [],
      "_model_module": "@jupyter-widgets/controls",
      "_model_module_version": "1.5.0",
      "_model_name": "HBoxModel",
      "_view_count": null,
      "_view_module": "@jupyter-widgets/controls",
      "_view_module_version": "1.5.0",
      "_view_name": "HBoxView",
      "box_style": "",
      "children": [
       "IPY_MODEL_06e556e706e942969121e3ac2f2e6fc9",
       "IPY_MODEL_c0cf2f3c207e4e10800a914f20e01d0a",
       "IPY_MODEL_4d9e0eebdb3d4bcc9cb27d5e73d10ff1"
      ],
=======
      ],
      "layout": "IPY_MODEL_15df50f3d3f74801b853e0812e3bcb16"
     }
    },
    "046d7c461ebf4ccab93ad4e669d28ef9": {
     "model_module": "@jupyter-widgets/controls",
     "model_module_version": "1.5.0",
     "model_name": "FloatProgressModel",
     "state": {
      "_dom_classes": [],
      "_model_module": "@jupyter-widgets/controls",
      "_model_module_version": "1.5.0",
      "_model_name": "FloatProgressModel",
      "_view_count": null,
      "_view_module": "@jupyter-widgets/controls",
      "_view_module_version": "1.5.0",
      "_view_name": "ProgressView",
      "bar_style": "success",
      "description": "",
      "description_tooltip": null,
      "layout": "IPY_MODEL_de2f3d46bf9e4df49567e0fcf5d3b579",
      "max": 28682,
      "min": 0,
      "orientation": "horizontal",
      "style": "IPY_MODEL_106ea3c1bc314ccca015632af2158fb0",
      "value": 28682
     }
    },
    "0597d9cd22b44603a8192630036c8fd9": {
     "model_module": "@jupyter-widgets/controls",
     "model_module_version": "1.5.0",
     "model_name": "HTMLModel",
     "state": {
      "_dom_classes": [],
      "_model_module": "@jupyter-widgets/controls",
      "_model_module_version": "1.5.0",
      "_model_name": "HTMLModel",
      "_view_count": null,
      "_view_module": "@jupyter-widgets/controls",
      "_view_module_version": "1.5.0",
      "_view_name": "HTMLView",
      "description": "",
      "description_tooltip": null,
      "layout": "IPY_MODEL_7237c183499446b3bff47406038bd794",
      "placeholder": "​",
      "style": "IPY_MODEL_2d73f6ab59e345dc8e5ad425d8a6fc06",
      "value": " 28.7k/28.7k [00:00&lt;00:00, 1.21MB/s]"
     }
    },
    "06b6f1da7d4445edb20d6b07c4ef708b": {
     "model_module": "@jupyter-widgets/controls",
     "model_module_version": "1.5.0",
     "model_name": "HTMLModel",
     "state": {
      "_dom_classes": [],
      "_model_module": "@jupyter-widgets/controls",
      "_model_module_version": "1.5.0",
      "_model_name": "HTMLModel",
      "_view_count": null,
      "_view_module": "@jupyter-widgets/controls",
      "_view_module_version": "1.5.0",
      "_view_name": "HTMLView",
      "description": "",
      "description_tooltip": null,
      "layout": "IPY_MODEL_0c63d52a83464114ad35e31c851b9504",
      "placeholder": "​",
      "style": "IPY_MODEL_d767679b3ca2403ebb924e8fe62ddea9",
      "value": "Downloading (…)okenizer_config.json: 100%"
     }
    },
    "06e556e706e942969121e3ac2f2e6fc9": {
     "model_module": "@jupyter-widgets/controls",
     "model_module_version": "1.5.0",
     "model_name": "HTMLModel",
     "state": {
      "_dom_classes": [],
      "_model_module": "@jupyter-widgets/controls",
      "_model_module_version": "1.5.0",
      "_model_name": "HTMLModel",
      "_view_count": null,
      "_view_module": "@jupyter-widgets/controls",
      "_view_module_version": "1.5.0",
      "_view_name": "HTMLView",
      "description": "",
      "description_tooltip": null,
      "layout": "IPY_MODEL_abb9c44b42754f538f94cb2dea672555",
      "placeholder": "​",
      "style": "IPY_MODEL_776ad86d9e9942e18244f4a0e00335c8",
      "value": "Downloading (…)/main/tokenizer.json: 100%"
     }
    },
    "07538e54e3c84b7e9c728ae32b93e233": {
     "model_module": "@jupyter-widgets/controls",
     "model_module_version": "1.5.0",
     "model_name": "ProgressStyleModel",
     "state": {
      "_model_module": "@jupyter-widgets/controls",
      "_model_module_version": "1.5.0",
      "_model_name": "ProgressStyleModel",
      "_view_count": null,
      "_view_module": "@jupyter-widgets/base",
      "_view_module_version": "1.2.0",
      "_view_name": "StyleView",
      "bar_color": null,
      "description_width": ""
     }
    },
    "079bc1f6dbd9404da05fc990bb6647d7": {
     "model_module": "@jupyter-widgets/controls",
     "model_module_version": "1.5.0",
     "model_name": "DescriptionStyleModel",
     "state": {
      "_model_module": "@jupyter-widgets/controls",
      "_model_module_version": "1.5.0",
      "_model_name": "DescriptionStyleModel",
      "_view_count": null,
      "_view_module": "@jupyter-widgets/base",
      "_view_module_version": "1.2.0",
      "_view_name": "StyleView",
      "description_width": ""
     }
    },
    "07d59e8917604585a6bac9a19f50a6f7": {
     "model_module": "@jupyter-widgets/base",
     "model_module_version": "1.2.0",
     "model_name": "LayoutModel",
     "state": {
      "_model_module": "@jupyter-widgets/base",
      "_model_module_version": "1.2.0",
      "_model_name": "LayoutModel",
      "_view_count": null,
      "_view_module": "@jupyter-widgets/base",
      "_view_module_version": "1.2.0",
      "_view_name": "LayoutView",
      "align_content": null,
      "align_items": null,
      "align_self": null,
      "border": null,
      "bottom": null,
      "display": null,
      "flex": null,
      "flex_flow": null,
      "grid_area": null,
      "grid_auto_columns": null,
      "grid_auto_flow": null,
      "grid_auto_rows": null,
      "grid_column": null,
      "grid_gap": null,
      "grid_row": null,
      "grid_template_areas": null,
      "grid_template_columns": null,
      "grid_template_rows": null,
      "height": null,
      "justify_content": null,
      "justify_items": null,
      "left": null,
      "margin": null,
      "max_height": null,
      "max_width": null,
      "min_height": null,
      "min_width": null,
      "object_fit": null,
      "object_position": null,
      "order": null,
      "overflow": null,
      "overflow_x": null,
      "overflow_y": null,
      "padding": null,
      "right": null,
      "top": null,
      "visibility": null,
      "width": null
     }
    },
    "0b9c7fb0dce7423a9745c7b23e920aff": {
     "model_module": "@jupyter-widgets/controls",
     "model_module_version": "1.5.0",
     "model_name": "FloatProgressModel",
     "state": {
      "_dom_classes": [],
      "_model_module": "@jupyter-widgets/controls",
      "_model_module_version": "1.5.0",
      "_model_name": "FloatProgressModel",
      "_view_count": null,
      "_view_module": "@jupyter-widgets/controls",
      "_view_module_version": "1.5.0",
      "_view_name": "ProgressView",
      "bar_style": "success",
      "description": "",
      "description_tooltip": null,
      "layout": "IPY_MODEL_90778459d3bf4e77bca69334e57d868e",
      "max": 1725,
      "min": 0,
      "orientation": "horizontal",
      "style": "IPY_MODEL_6e517ff031be4c128203932be9ff7cbd",
      "value": 1725
     }
    },
    "0bad45364f53427a8b305cd52ff96328": {
     "model_module": "@jupyter-widgets/controls",
     "model_module_version": "1.5.0",
     "model_name": "HBoxModel",
     "state": {
      "_dom_classes": [],
      "_model_module": "@jupyter-widgets/controls",
      "_model_module_version": "1.5.0",
      "_model_name": "HBoxModel",
      "_view_count": null,
      "_view_module": "@jupyter-widgets/controls",
      "_view_module_version": "1.5.0",
      "_view_name": "HBoxView",
      "box_style": "",
      "children": [
       "IPY_MODEL_fc66821a463b486dbf8ecf4af12fba92",
       "IPY_MODEL_0b9c7fb0dce7423a9745c7b23e920aff",
       "IPY_MODEL_bd31b6645ba6409fbedcd28aafc6599e"
      ],
      "layout": "IPY_MODEL_df59e4c553944fd4a2c3e148d0e5dd88"
     }
    },
    "0c0a509f0ed04196b5fa176eec0358c0": {
     "model_module": "@jupyter-widgets/controls",
     "model_module_version": "1.5.0",
     "model_name": "ProgressStyleModel",
     "state": {
      "_model_module": "@jupyter-widgets/controls",
      "_model_module_version": "1.5.0",
      "_model_name": "ProgressStyleModel",
      "_view_count": null,
      "_view_module": "@jupyter-widgets/base",
      "_view_module_version": "1.2.0",
      "_view_name": "StyleView",
      "bar_color": null,
      "description_width": ""
     }
    },
    "0c63d52a83464114ad35e31c851b9504": {
     "model_module": "@jupyter-widgets/base",
     "model_module_version": "1.2.0",
     "model_name": "LayoutModel",
     "state": {
      "_model_module": "@jupyter-widgets/base",
      "_model_module_version": "1.2.0",
      "_model_name": "LayoutModel",
      "_view_count": null,
      "_view_module": "@jupyter-widgets/base",
      "_view_module_version": "1.2.0",
      "_view_name": "LayoutView",
      "align_content": null,
      "align_items": null,
      "align_self": null,
      "border": null,
      "bottom": null,
      "display": null,
      "flex": null,
      "flex_flow": null,
      "grid_area": null,
      "grid_auto_columns": null,
      "grid_auto_flow": null,
      "grid_auto_rows": null,
      "grid_column": null,
      "grid_gap": null,
      "grid_row": null,
      "grid_template_areas": null,
      "grid_template_columns": null,
      "grid_template_rows": null,
      "height": null,
      "justify_content": null,
      "justify_items": null,
      "left": null,
      "margin": null,
      "max_height": null,
      "max_width": null,
      "min_height": null,
      "min_width": null,
      "object_fit": null,
      "object_position": null,
      "order": null,
      "overflow": null,
      "overflow_x": null,
      "overflow_y": null,
      "padding": null,
      "right": null,
      "top": null,
      "visibility": null,
      "width": null
     }
    },
    "0d1cc33ab9764f0cbd21ecfc84e8c2ed": {
     "model_module": "@jupyter-widgets/controls",
     "model_module_version": "1.5.0",
     "model_name": "ProgressStyleModel",
     "state": {
      "_model_module": "@jupyter-widgets/controls",
      "_model_module_version": "1.5.0",
      "_model_name": "ProgressStyleModel",
      "_view_count": null,
      "_view_module": "@jupyter-widgets/base",
      "_view_module_version": "1.2.0",
      "_view_name": "StyleView",
      "bar_color": null,
      "description_width": ""
     }
    },
    "0e3dc6469af646ef8b562e5acf50f94e": {
     "model_module": "@jupyter-widgets/controls",
     "model_module_version": "1.5.0",
     "model_name": "FloatProgressModel",
     "state": {
      "_dom_classes": [],
      "_model_module": "@jupyter-widgets/controls",
      "_model_module_version": "1.5.0",
      "_model_name": "FloatProgressModel",
      "_view_count": null,
      "_view_module": "@jupyter-widgets/controls",
      "_view_module_version": "1.5.0",
      "_view_name": "ProgressView",
      "bar_style": "success",
      "description": "",
      "description_tooltip": null,
      "layout": "IPY_MODEL_a1dba63282514ad3a37d7f701a1eae9c",
      "max": 1,
      "min": 0,
      "orientation": "horizontal",
      "style": "IPY_MODEL_b7f52df5fe0540689526d115290133a8",
      "value": 1
     }
    },
    "106ea3c1bc314ccca015632af2158fb0": {
     "model_module": "@jupyter-widgets/controls",
     "model_module_version": "1.5.0",
     "model_name": "ProgressStyleModel",
     "state": {
      "_model_module": "@jupyter-widgets/controls",
      "_model_module_version": "1.5.0",
      "_model_name": "ProgressStyleModel",
      "_view_count": null,
      "_view_module": "@jupyter-widgets/base",
      "_view_module_version": "1.2.0",
      "_view_name": "StyleView",
      "bar_color": null,
      "description_width": ""
     }
    },
    "1119118ef5f84458aaa3d04172a8da69": {
     "model_module": "@jupyter-widgets/controls",
     "model_module_version": "1.5.0",
     "model_name": "DescriptionStyleModel",
     "state": {
      "_model_module": "@jupyter-widgets/controls",
      "_model_module_version": "1.5.0",
      "_model_name": "DescriptionStyleModel",
      "_view_count": null,
      "_view_module": "@jupyter-widgets/base",
      "_view_module_version": "1.2.0",
      "_view_name": "StyleView",
      "description_width": ""
     }
    },
    "118cae38dd7041b6886c38a178d77879": {
     "model_module": "@jupyter-widgets/base",
     "model_module_version": "1.2.0",
     "model_name": "LayoutModel",
     "state": {
      "_model_module": "@jupyter-widgets/base",
      "_model_module_version": "1.2.0",
      "_model_name": "LayoutModel",
      "_view_count": null,
      "_view_module": "@jupyter-widgets/base",
      "_view_module_version": "1.2.0",
      "_view_name": "LayoutView",
      "align_content": null,
      "align_items": null,
      "align_self": null,
      "border": null,
      "bottom": null,
      "display": null,
      "flex": null,
      "flex_flow": null,
      "grid_area": null,
      "grid_auto_columns": null,
      "grid_auto_flow": null,
      "grid_auto_rows": null,
      "grid_column": null,
      "grid_gap": null,
      "grid_row": null,
      "grid_template_areas": null,
      "grid_template_columns": null,
      "grid_template_rows": null,
      "height": null,
      "justify_content": null,
      "justify_items": null,
      "left": null,
      "margin": null,
      "max_height": null,
      "max_width": null,
      "min_height": null,
      "min_width": null,
      "object_fit": null,
      "object_position": null,
      "order": null,
      "overflow": null,
      "overflow_x": null,
      "overflow_y": null,
      "padding": null,
      "right": null,
      "top": null,
      "visibility": null,
      "width": null
     }
    },
    "13e2e5ea9016470aaa3d38d72f011340": {
     "model_module": "@jupyter-widgets/controls",
     "model_module_version": "1.5.0",
     "model_name": "HTMLModel",
     "state": {
      "_dom_classes": [],
      "_model_module": "@jupyter-widgets/controls",
      "_model_module_version": "1.5.0",
      "_model_name": "HTMLModel",
      "_view_count": null,
      "_view_module": "@jupyter-widgets/controls",
      "_view_module_version": "1.5.0",
      "_view_name": "HTMLView",
      "description": "",
      "description_tooltip": null,
      "layout": "IPY_MODEL_5fdf854197e44352a5ec4d8697060b88",
      "placeholder": "​",
      "style": "IPY_MODEL_76931ac0a1c641edb38a24a240ca9235",
      "value": "Downloading data: "
     }
    },
    "15df50f3d3f74801b853e0812e3bcb16": {
     "model_module": "@jupyter-widgets/base",
     "model_module_version": "1.2.0",
     "model_name": "LayoutModel",
     "state": {
      "_model_module": "@jupyter-widgets/base",
      "_model_module_version": "1.2.0",
      "_model_name": "LayoutModel",
      "_view_count": null,
      "_view_module": "@jupyter-widgets/base",
      "_view_module_version": "1.2.0",
      "_view_name": "LayoutView",
      "align_content": null,
      "align_items": null,
      "align_self": null,
      "border": null,
      "bottom": null,
      "display": null,
      "flex": null,
      "flex_flow": null,
      "grid_area": null,
      "grid_auto_columns": null,
      "grid_auto_flow": null,
      "grid_auto_rows": null,
      "grid_column": null,
      "grid_gap": null,
      "grid_row": null,
      "grid_template_areas": null,
      "grid_template_columns": null,
      "grid_template_rows": null,
      "height": null,
      "justify_content": null,
      "justify_items": null,
      "left": null,
      "margin": null,
      "max_height": null,
      "max_width": null,
      "min_height": null,
      "min_width": null,
      "object_fit": null,
      "object_position": null,
      "order": null,
      "overflow": null,
      "overflow_x": null,
      "overflow_y": null,
      "padding": null,
      "right": null,
      "top": null,
      "visibility": null,
      "width": null
     }
    },
    "1602f036835c4a818656dc50ed064c05": {
     "model_module": "@jupyter-widgets/controls",
     "model_module_version": "1.5.0",
     "model_name": "HBoxModel",
     "state": {
      "_dom_classes": [],
      "_model_module": "@jupyter-widgets/controls",
      "_model_module_version": "1.5.0",
      "_model_name": "HBoxModel",
      "_view_count": null,
      "_view_module": "@jupyter-widgets/controls",
      "_view_module_version": "1.5.0",
      "_view_name": "HBoxView",
      "box_style": "",
      "children": [
       "IPY_MODEL_b6fcadb66a1247c498b703bde90b1382",
       "IPY_MODEL_adc1bf6aa34342edbcb3e1846bdef924",
       "IPY_MODEL_e2a3078f4f744952b398d1f1b912bdb2"
      ],
      "layout": "IPY_MODEL_39d077ba2bce4d53a5853c65c2e6c15b"
     }
    },
    "16ff718b08fe4a918853a90d1607f543": {
     "model_module": "@jupyter-widgets/controls",
     "model_module_version": "1.5.0",
     "model_name": "FloatProgressModel",
     "state": {
      "_dom_classes": [],
      "_model_module": "@jupyter-widgets/controls",
      "_model_module_version": "1.5.0",
      "_model_name": "FloatProgressModel",
      "_view_count": null,
      "_view_module": "@jupyter-widgets/controls",
      "_view_module_version": "1.5.0",
      "_view_name": "ProgressView",
      "bar_style": "success",
      "description": "",
      "description_tooltip": null,
      "layout": "IPY_MODEL_3d066c63d79e4c40a4b4c20ffe360f13",
      "max": 27887,
      "min": 0,
      "orientation": "horizontal",
      "style": "IPY_MODEL_eeb6e5275c3b4f5ea685752cd1fee5bc",
      "value": 27887
     }
    },
    "17b86a1713d64b6fbb74fa1f620c28b6": {
     "model_module": "@jupyter-widgets/base",
     "model_module_version": "1.2.0",
     "model_name": "LayoutModel",
     "state": {
      "_model_module": "@jupyter-widgets/base",
      "_model_module_version": "1.2.0",
      "_model_name": "LayoutModel",
      "_view_count": null,
      "_view_module": "@jupyter-widgets/base",
      "_view_module_version": "1.2.0",
      "_view_name": "LayoutView",
      "align_content": null,
      "align_items": null,
      "align_self": null,
      "border": null,
      "bottom": null,
      "display": null,
      "flex": null,
      "flex_flow": null,
      "grid_area": null,
      "grid_auto_columns": null,
      "grid_auto_flow": null,
      "grid_auto_rows": null,
      "grid_column": null,
      "grid_gap": null,
      "grid_row": null,
      "grid_template_areas": null,
      "grid_template_columns": null,
      "grid_template_rows": null,
      "height": null,
      "justify_content": null,
      "justify_items": null,
      "left": null,
      "margin": null,
      "max_height": null,
      "max_width": null,
      "min_height": null,
      "min_width": null,
      "object_fit": null,
      "object_position": null,
      "order": null,
      "overflow": null,
      "overflow_x": null,
      "overflow_y": null,
      "padding": null,
      "right": null,
      "top": null,
      "visibility": null,
      "width": null
     }
    },
    "18071841efad4c77a0a6a4e84a1c04d4": {
     "model_module": "@jupyter-widgets/controls",
     "model_module_version": "1.5.0",
     "model_name": "DescriptionStyleModel",
     "state": {
      "_model_module": "@jupyter-widgets/controls",
      "_model_module_version": "1.5.0",
      "_model_name": "DescriptionStyleModel",
      "_view_count": null,
      "_view_module": "@jupyter-widgets/base",
      "_view_module_version": "1.2.0",
      "_view_name": "StyleView",
      "description_width": ""
     }
    },
    "182411aa8f824b4cb9376dbf4dd94b13": {
     "model_module": "@jupyter-widgets/controls",
     "model_module_version": "1.5.0",
     "model_name": "HTMLModel",
     "state": {
      "_dom_classes": [],
      "_model_module": "@jupyter-widgets/controls",
      "_model_module_version": "1.5.0",
      "_model_name": "HTMLModel",
      "_view_count": null,
      "_view_module": "@jupyter-widgets/controls",
      "_view_module_version": "1.5.0",
      "_view_name": "HTMLView",
      "description": "",
      "description_tooltip": null,
      "layout": "IPY_MODEL_fcc600f5f7c64c7985d65f57e118b1f9",
      "placeholder": "​",
      "style": "IPY_MODEL_ae490feadd2141c581c1077b17a42f64",
      "value": " 1.05M/? [00:00&lt;00:00, 30.0MB/s]"
     }
    },
    "184ad5b3e44b40d19ef1d81f5ff7835b": {
     "model_module": "@jupyter-widgets/controls",
     "model_module_version": "1.5.0",
     "model_name": "HTMLModel",
     "state": {
      "_dom_classes": [],
      "_model_module": "@jupyter-widgets/controls",
      "_model_module_version": "1.5.0",
      "_model_name": "HTMLModel",
      "_view_count": null,
      "_view_module": "@jupyter-widgets/controls",
      "_view_module_version": "1.5.0",
      "_view_name": "HTMLView",
      "description": "",
      "description_tooltip": null,
      "layout": "IPY_MODEL_1bcd5e0baf7f4dc5a61cfb487b40073c",
      "placeholder": "​",
      "style": "IPY_MODEL_009ff019dbb74528b706bae0e062b79c",
      "value": " 28.0/28.0 [00:00&lt;00:00, 1.83kB/s]"
     }
    },
    "1935d451e05c4c4fa9e520523bb49a0f": {
     "model_module": "@jupyter-widgets/controls",
     "model_module_version": "1.5.0",
     "model_name": "DescriptionStyleModel",
     "state": {
      "_model_module": "@jupyter-widgets/controls",
      "_model_module_version": "1.5.0",
      "_model_name": "DescriptionStyleModel",
      "_view_count": null,
      "_view_module": "@jupyter-widgets/base",
      "_view_module_version": "1.2.0",
      "_view_name": "StyleView",
      "description_width": ""
     }
    },
    "198cf0f476c74d4fb1d999a9501a6471": {
     "model_module": "@jupyter-widgets/controls",
     "model_module_version": "1.5.0",
     "model_name": "DescriptionStyleModel",
     "state": {
      "_model_module": "@jupyter-widgets/controls",
      "_model_module_version": "1.5.0",
      "_model_name": "DescriptionStyleModel",
      "_view_count": null,
      "_view_module": "@jupyter-widgets/base",
      "_view_module_version": "1.2.0",
      "_view_name": "StyleView",
      "description_width": ""
     }
    },
    "1998f547f1ef4c8187ba28f9ba3e680d": {
     "model_module": "@jupyter-widgets/controls",
     "model_module_version": "1.5.0",
     "model_name": "HBoxModel",
     "state": {
      "_dom_classes": [],
      "_model_module": "@jupyter-widgets/controls",
      "_model_module_version": "1.5.0",
      "_model_name": "HBoxModel",
      "_view_count": null,
      "_view_module": "@jupyter-widgets/controls",
      "_view_module_version": "1.5.0",
      "_view_name": "HBoxView",
      "box_style": "",
      "children": [
       "IPY_MODEL_62ba9094a894433eb31684b36650f6e0",
       "IPY_MODEL_b6fadba69cc44d8388f00b6375096c31",
       "IPY_MODEL_38dbd40bc1f64391afe250b3deb93ed2"
      ],
      "layout": "IPY_MODEL_693a3c8ad0f84396896254567ad4f2e1"
     }
    },
    "1ad4992394304e78b09c7011f6bdca49": {
     "model_module": "@jupyter-widgets/controls",
     "model_module_version": "1.5.0",
     "model_name": "DescriptionStyleModel",
     "state": {
      "_model_module": "@jupyter-widgets/controls",
      "_model_module_version": "1.5.0",
      "_model_name": "DescriptionStyleModel",
      "_view_count": null,
      "_view_module": "@jupyter-widgets/base",
      "_view_module_version": "1.2.0",
      "_view_name": "StyleView",
      "description_width": ""
     }
    },
    "1bcd5e0baf7f4dc5a61cfb487b40073c": {
     "model_module": "@jupyter-widgets/base",
     "model_module_version": "1.2.0",
     "model_name": "LayoutModel",
     "state": {
      "_model_module": "@jupyter-widgets/base",
      "_model_module_version": "1.2.0",
      "_model_name": "LayoutModel",
      "_view_count": null,
      "_view_module": "@jupyter-widgets/base",
      "_view_module_version": "1.2.0",
      "_view_name": "LayoutView",
      "align_content": null,
      "align_items": null,
      "align_self": null,
      "border": null,
      "bottom": null,
      "display": null,
      "flex": null,
      "flex_flow": null,
      "grid_area": null,
      "grid_auto_columns": null,
      "grid_auto_flow": null,
      "grid_auto_rows": null,
      "grid_column": null,
      "grid_gap": null,
      "grid_row": null,
      "grid_template_areas": null,
      "grid_template_columns": null,
      "grid_template_rows": null,
      "height": null,
      "justify_content": null,
      "justify_items": null,
      "left": null,
      "margin": null,
      "max_height": null,
      "max_width": null,
      "min_height": null,
      "min_width": null,
      "object_fit": null,
      "object_position": null,
      "order": null,
      "overflow": null,
      "overflow_x": null,
      "overflow_y": null,
      "padding": null,
      "right": null,
      "top": null,
      "visibility": null,
      "width": null
     }
    },
    "1e112e32605d41a9b3dd1f53b547ac45": {
     "model_module": "@jupyter-widgets/controls",
     "model_module_version": "1.5.0",
     "model_name": "HTMLModel",
     "state": {
      "_dom_classes": [],
      "_model_module": "@jupyter-widgets/controls",
      "_model_module_version": "1.5.0",
      "_model_name": "HTMLModel",
      "_view_count": null,
      "_view_module": "@jupyter-widgets/controls",
      "_view_module_version": "1.5.0",
      "_view_name": "HTMLView",
      "description": "",
      "description_tooltip": null,
      "layout": "IPY_MODEL_2f25472a2ea147dc878dd999088124ce",
      "placeholder": "​",
      "style": "IPY_MODEL_545770119b9a4acbb38db71489ded4be",
      "value": " 570/570 [00:00&lt;00:00, 40.0kB/s]"
     }
    },
    "1e5b790639d24b1b964afcda5e652915": {
     "model_module": "@jupyter-widgets/base",
     "model_module_version": "1.2.0",
     "model_name": "LayoutModel",
     "state": {
      "_model_module": "@jupyter-widgets/base",
      "_model_module_version": "1.2.0",
      "_model_name": "LayoutModel",
      "_view_count": null,
      "_view_module": "@jupyter-widgets/base",
      "_view_module_version": "1.2.0",
      "_view_name": "LayoutView",
      "align_content": null,
      "align_items": null,
      "align_self": null,
      "border": null,
      "bottom": null,
      "display": null,
      "flex": null,
      "flex_flow": null,
      "grid_area": null,
      "grid_auto_columns": null,
      "grid_auto_flow": null,
      "grid_auto_rows": null,
      "grid_column": null,
      "grid_gap": null,
      "grid_row": null,
      "grid_template_areas": null,
      "grid_template_columns": null,
      "grid_template_rows": null,
      "height": null,
      "justify_content": null,
      "justify_items": null,
      "left": null,
      "margin": null,
      "max_height": null,
      "max_width": null,
      "min_height": null,
      "min_width": null,
      "object_fit": null,
      "object_position": null,
      "order": null,
      "overflow": null,
      "overflow_x": null,
      "overflow_y": null,
      "padding": null,
      "right": null,
      "top": null,
      "visibility": null,
      "width": null
     }
    },
    "1ea67387f0e847218d48544be2d82d67": {
     "model_module": "@jupyter-widgets/controls",
     "model_module_version": "1.5.0",
     "model_name": "ProgressStyleModel",
     "state": {
      "_model_module": "@jupyter-widgets/controls",
      "_model_module_version": "1.5.0",
      "_model_name": "ProgressStyleModel",
      "_view_count": null,
      "_view_module": "@jupyter-widgets/base",
      "_view_module_version": "1.2.0",
      "_view_name": "StyleView",
      "bar_color": null,
      "description_width": ""
     }
    },
    "2111e57c9ad34142817ff09523328239": {
     "model_module": "@jupyter-widgets/controls",
     "model_module_version": "1.5.0",
     "model_name": "HBoxModel",
     "state": {
      "_dom_classes": [],
      "_model_module": "@jupyter-widgets/controls",
      "_model_module_version": "1.5.0",
      "_model_name": "HBoxModel",
      "_view_count": null,
      "_view_module": "@jupyter-widgets/controls",
      "_view_module_version": "1.5.0",
      "_view_name": "HBoxView",
      "box_style": "",
      "children": [
       "IPY_MODEL_96b593dd44464b91a3c48a0795cf7076",
       "IPY_MODEL_046d7c461ebf4ccab93ad4e669d28ef9",
       "IPY_MODEL_0597d9cd22b44603a8192630036c8fd9"
      ],
      "layout": "IPY_MODEL_35b41e673a7e43548f3e70231984c5d8"
     }
    },
    "219279654d0c497ea6a3a197a8aea1a9": {
     "model_module": "@jupyter-widgets/base",
     "model_module_version": "1.2.0",
     "model_name": "LayoutModel",
     "state": {
      "_model_module": "@jupyter-widgets/base",
      "_model_module_version": "1.2.0",
      "_model_name": "LayoutModel",
      "_view_count": null,
      "_view_module": "@jupyter-widgets/base",
      "_view_module_version": "1.2.0",
      "_view_name": "LayoutView",
      "align_content": null,
      "align_items": null,
      "align_self": null,
      "border": null,
      "bottom": null,
      "display": null,
      "flex": null,
      "flex_flow": null,
      "grid_area": null,
      "grid_auto_columns": null,
      "grid_auto_flow": null,
      "grid_auto_rows": null,
      "grid_column": null,
      "grid_gap": null,
      "grid_row": null,
      "grid_template_areas": null,
      "grid_template_columns": null,
      "grid_template_rows": null,
      "height": null,
      "justify_content": null,
      "justify_items": null,
      "left": null,
      "margin": null,
      "max_height": null,
      "max_width": null,
      "min_height": null,
      "min_width": null,
      "object_fit": null,
      "object_position": null,
      "order": null,
      "overflow": null,
      "overflow_x": null,
      "overflow_y": null,
      "padding": null,
      "right": null,
      "top": null,
      "visibility": null,
      "width": null
     }
    },
    "22fcf64527504cba865ac0c15a07b58c": {
     "model_module": "@jupyter-widgets/base",
     "model_module_version": "1.2.0",
     "model_name": "LayoutModel",
     "state": {
      "_model_module": "@jupyter-widgets/base",
      "_model_module_version": "1.2.0",
      "_model_name": "LayoutModel",
      "_view_count": null,
      "_view_module": "@jupyter-widgets/base",
      "_view_module_version": "1.2.0",
      "_view_name": "LayoutView",
      "align_content": null,
      "align_items": null,
      "align_self": null,
      "border": null,
      "bottom": null,
      "display": null,
      "flex": null,
      "flex_flow": null,
      "grid_area": null,
      "grid_auto_columns": null,
      "grid_auto_flow": null,
      "grid_auto_rows": null,
      "grid_column": null,
      "grid_gap": null,
      "grid_row": null,
      "grid_template_areas": null,
      "grid_template_columns": null,
      "grid_template_rows": null,
      "height": null,
      "justify_content": null,
      "justify_items": null,
      "left": null,
      "margin": null,
      "max_height": null,
      "max_width": null,
      "min_height": null,
      "min_width": null,
      "object_fit": null,
      "object_position": null,
      "order": null,
      "overflow": null,
      "overflow_x": null,
      "overflow_y": null,
      "padding": null,
      "right": null,
      "top": null,
      "visibility": null,
      "width": "20px"
     }
    },
    "2898aab6763d4a679a2c69e02b6df257": {
     "model_module": "@jupyter-widgets/controls",
     "model_module_version": "1.5.0",
     "model_name": "FloatProgressModel",
     "state": {
      "_dom_classes": [],
      "_model_module": "@jupyter-widgets/controls",
      "_model_module_version": "1.5.0",
      "_model_name": "FloatProgressModel",
      "_view_count": null,
      "_view_module": "@jupyter-widgets/controls",
      "_view_module_version": "1.5.0",
      "_view_name": "ProgressView",
      "bar_style": "success",
      "description": "",
      "description_tooltip": null,
      "layout": "IPY_MODEL_219279654d0c497ea6a3a197a8aea1a9",
      "max": 570,
      "min": 0,
      "orientation": "horizontal",
      "style": "IPY_MODEL_07538e54e3c84b7e9c728ae32b93e233",
      "value": 570
     }
    },
    "2cc91db41f22412193c1830eec4e8a05": {
     "model_module": "@jupyter-widgets/controls",
     "model_module_version": "1.5.0",
     "model_name": "DescriptionStyleModel",
     "state": {
      "_model_module": "@jupyter-widgets/controls",
      "_model_module_version": "1.5.0",
      "_model_name": "DescriptionStyleModel",
      "_view_count": null,
      "_view_module": "@jupyter-widgets/base",
      "_view_module_version": "1.2.0",
      "_view_name": "StyleView",
      "description_width": ""
     }
    },
    "2d2f5f126e114ba798d499c1540fab29": {
     "model_module": "@jupyter-widgets/controls",
     "model_module_version": "1.5.0",
     "model_name": "ProgressStyleModel",
     "state": {
      "_model_module": "@jupyter-widgets/controls",
      "_model_module_version": "1.5.0",
      "_model_name": "ProgressStyleModel",
      "_view_count": null,
      "_view_module": "@jupyter-widgets/base",
      "_view_module_version": "1.2.0",
      "_view_name": "StyleView",
      "bar_color": null,
      "description_width": ""
     }
    },
    "2d73f6ab59e345dc8e5ad425d8a6fc06": {
     "model_module": "@jupyter-widgets/controls",
     "model_module_version": "1.5.0",
     "model_name": "DescriptionStyleModel",
     "state": {
      "_model_module": "@jupyter-widgets/controls",
      "_model_module_version": "1.5.0",
      "_model_name": "DescriptionStyleModel",
      "_view_count": null,
      "_view_module": "@jupyter-widgets/base",
      "_view_module_version": "1.2.0",
      "_view_name": "StyleView",
      "description_width": ""
     }
    },
    "2e309e0573f64f5daffde86d4e3be928": {
     "model_module": "@jupyter-widgets/controls",
     "model_module_version": "1.5.0",
     "model_name": "DescriptionStyleModel",
     "state": {
      "_model_module": "@jupyter-widgets/controls",
      "_model_module_version": "1.5.0",
      "_model_name": "DescriptionStyleModel",
      "_view_count": null,
      "_view_module": "@jupyter-widgets/base",
      "_view_module_version": "1.2.0",
      "_view_name": "StyleView",
      "description_width": ""
     }
    },
    "2e924fca6a63480ebef9c60cef3a8a4c": {
     "model_module": "@jupyter-widgets/base",
     "model_module_version": "1.2.0",
     "model_name": "LayoutModel",
     "state": {
      "_model_module": "@jupyter-widgets/base",
      "_model_module_version": "1.2.0",
      "_model_name": "LayoutModel",
      "_view_count": null,
      "_view_module": "@jupyter-widgets/base",
      "_view_module_version": "1.2.0",
      "_view_name": "LayoutView",
      "align_content": null,
      "align_items": null,
      "align_self": null,
      "border": null,
      "bottom": null,
      "display": null,
      "flex": null,
      "flex_flow": null,
      "grid_area": null,
      "grid_auto_columns": null,
      "grid_auto_flow": null,
      "grid_auto_rows": null,
      "grid_column": null,
      "grid_gap": null,
      "grid_row": null,
      "grid_template_areas": null,
      "grid_template_columns": null,
      "grid_template_rows": null,
      "height": null,
      "justify_content": null,
      "justify_items": null,
      "left": null,
      "margin": null,
      "max_height": null,
      "max_width": null,
      "min_height": null,
      "min_width": null,
      "object_fit": null,
      "object_position": null,
      "order": null,
      "overflow": null,
      "overflow_x": null,
      "overflow_y": null,
      "padding": null,
      "right": null,
      "top": null,
      "visibility": null,
      "width": null
     }
    },
    "2f25472a2ea147dc878dd999088124ce": {
     "model_module": "@jupyter-widgets/base",
     "model_module_version": "1.2.0",
     "model_name": "LayoutModel",
     "state": {
      "_model_module": "@jupyter-widgets/base",
      "_model_module_version": "1.2.0",
      "_model_name": "LayoutModel",
      "_view_count": null,
      "_view_module": "@jupyter-widgets/base",
      "_view_module_version": "1.2.0",
      "_view_name": "LayoutView",
      "align_content": null,
      "align_items": null,
      "align_self": null,
      "border": null,
      "bottom": null,
      "display": null,
      "flex": null,
      "flex_flow": null,
      "grid_area": null,
      "grid_auto_columns": null,
      "grid_auto_flow": null,
      "grid_auto_rows": null,
      "grid_column": null,
      "grid_gap": null,
      "grid_row": null,
      "grid_template_areas": null,
      "grid_template_columns": null,
      "grid_template_rows": null,
      "height": null,
      "justify_content": null,
      "justify_items": null,
      "left": null,
      "margin": null,
      "max_height": null,
      "max_width": null,
      "min_height": null,
      "min_width": null,
      "object_fit": null,
      "object_position": null,
      "order": null,
      "overflow": null,
      "overflow_x": null,
      "overflow_y": null,
      "padding": null,
      "right": null,
      "top": null,
      "visibility": null,
      "width": null
     }
    },
    "3082644216064b2f858e27f89be4ab89": {
     "model_module": "@jupyter-widgets/base",
     "model_module_version": "1.2.0",
     "model_name": "LayoutModel",
     "state": {
      "_model_module": "@jupyter-widgets/base",
      "_model_module_version": "1.2.0",
      "_model_name": "LayoutModel",
      "_view_count": null,
      "_view_module": "@jupyter-widgets/base",
      "_view_module_version": "1.2.0",
      "_view_name": "LayoutView",
      "align_content": null,
      "align_items": null,
      "align_self": null,
      "border": null,
      "bottom": null,
      "display": null,
      "flex": null,
      "flex_flow": null,
      "grid_area": null,
      "grid_auto_columns": null,
      "grid_auto_flow": null,
      "grid_auto_rows": null,
      "grid_column": null,
      "grid_gap": null,
      "grid_row": null,
      "grid_template_areas": null,
      "grid_template_columns": null,
      "grid_template_rows": null,
      "height": null,
      "justify_content": null,
      "justify_items": null,
      "left": null,
      "margin": null,
      "max_height": null,
      "max_width": null,
      "min_height": null,
      "min_width": null,
      "object_fit": null,
      "object_position": null,
      "order": null,
      "overflow": null,
      "overflow_x": null,
      "overflow_y": null,
      "padding": null,
      "right": null,
      "top": null,
      "visibility": null,
      "width": null
     }
    },
    "32009a4659b64f5c9e4f7eb3bd45320f": {
     "model_module": "@jupyter-widgets/controls",
     "model_module_version": "1.5.0",
     "model_name": "HTMLModel",
     "state": {
      "_dom_classes": [],
      "_model_module": "@jupyter-widgets/controls",
      "_model_module_version": "1.5.0",
      "_model_name": "HTMLModel",
      "_view_count": null,
      "_view_module": "@jupyter-widgets/controls",
      "_view_module_version": "1.5.0",
      "_view_name": "HTMLView",
      "description": "",
      "description_tooltip": null,
      "layout": "IPY_MODEL_93fffcb963af4e199b3951163a2270d2",
      "placeholder": "​",
      "style": "IPY_MODEL_d302f29623f54ba39157c9b1f4e47adc",
      "value": "Downloading readme: 100%"
     }
    },
    "326ac6354bce4d55bca435a5b9f4e149": {
     "model_module": "@jupyter-widgets/controls",
     "model_module_version": "1.5.0",
     "model_name": "ProgressStyleModel",
     "state": {
      "_model_module": "@jupyter-widgets/controls",
      "_model_module_version": "1.5.0",
      "_model_name": "ProgressStyleModel",
      "_view_count": null,
      "_view_module": "@jupyter-widgets/base",
      "_view_module_version": "1.2.0",
      "_view_name": "StyleView",
      "bar_color": null,
      "description_width": ""
     }
    },
    "35b41e673a7e43548f3e70231984c5d8": {
     "model_module": "@jupyter-widgets/base",
     "model_module_version": "1.2.0",
     "model_name": "LayoutModel",
     "state": {
      "_model_module": "@jupyter-widgets/base",
      "_model_module_version": "1.2.0",
      "_model_name": "LayoutModel",
      "_view_count": null,
      "_view_module": "@jupyter-widgets/base",
      "_view_module_version": "1.2.0",
      "_view_name": "LayoutView",
      "align_content": null,
      "align_items": null,
      "align_self": null,
      "border": null,
      "bottom": null,
      "display": null,
      "flex": null,
      "flex_flow": null,
      "grid_area": null,
      "grid_auto_columns": null,
      "grid_auto_flow": null,
      "grid_auto_rows": null,
      "grid_column": null,
      "grid_gap": null,
      "grid_row": null,
      "grid_template_areas": null,
      "grid_template_columns": null,
      "grid_template_rows": null,
      "height": null,
      "justify_content": null,
      "justify_items": null,
      "left": null,
      "margin": null,
      "max_height": null,
      "max_width": null,
      "min_height": null,
      "min_width": null,
      "object_fit": null,
      "object_position": null,
      "order": null,
      "overflow": null,
      "overflow_x": null,
      "overflow_y": null,
      "padding": null,
      "right": null,
      "top": null,
      "visibility": null,
      "width": null
     }
    },
    "38dbd40bc1f64391afe250b3deb93ed2": {
     "model_module": "@jupyter-widgets/controls",
     "model_module_version": "1.5.0",
     "model_name": "HTMLModel",
     "state": {
      "_dom_classes": [],
      "_model_module": "@jupyter-widgets/controls",
      "_model_module_version": "1.5.0",
      "_model_name": "HTMLModel",
      "_view_count": null,
      "_view_module": "@jupyter-widgets/controls",
      "_view_module_version": "1.5.0",
      "_view_name": "HTMLView",
      "description": "",
      "description_tooltip": null,
      "layout": "IPY_MODEL_4798080dd7364ef6ad4fc1a636947576",
      "placeholder": "​",
      "style": "IPY_MODEL_2cc91db41f22412193c1830eec4e8a05",
      "value": " 408/408 [00:00&lt;00:00, 3364.30 examples/s]"
     }
    },
    "39d077ba2bce4d53a5853c65c2e6c15b": {
     "model_module": "@jupyter-widgets/base",
     "model_module_version": "1.2.0",
     "model_name": "LayoutModel",
     "state": {
      "_model_module": "@jupyter-widgets/base",
      "_model_module_version": "1.2.0",
      "_model_name": "LayoutModel",
      "_view_count": null,
      "_view_module": "@jupyter-widgets/base",
      "_view_module_version": "1.2.0",
      "_view_name": "LayoutView",
      "align_content": null,
      "align_items": null,
      "align_self": null,
      "border": null,
      "bottom": null,
      "display": null,
      "flex": null,
      "flex_flow": null,
      "grid_area": null,
      "grid_auto_columns": null,
      "grid_auto_flow": null,
      "grid_auto_rows": null,
      "grid_column": null,
      "grid_gap": null,
      "grid_row": null,
      "grid_template_areas": null,
      "grid_template_columns": null,
      "grid_template_rows": null,
      "height": null,
      "justify_content": null,
      "justify_items": null,
      "left": null,
      "margin": null,
      "max_height": null,
      "max_width": null,
      "min_height": null,
      "min_width": null,
      "object_fit": null,
      "object_position": null,
      "order": null,
      "overflow": null,
      "overflow_x": null,
      "overflow_y": null,
      "padding": null,
      "right": null,
      "top": null,
      "visibility": null,
      "width": null
     }
    },
    "3cd37bdf025846f5bb0e1c25c461ab01": {
     "model_module": "@jupyter-widgets/controls",
     "model_module_version": "1.5.0",
     "model_name": "HTMLModel",
     "state": {
      "_dom_classes": [],
      "_model_module": "@jupyter-widgets/controls",
      "_model_module_version": "1.5.0",
      "_model_name": "HTMLModel",
      "_view_count": null,
      "_view_module": "@jupyter-widgets/controls",
      "_view_module_version": "1.5.0",
      "_view_name": "HTMLView",
      "description": "",
      "description_tooltip": null,
      "layout": "IPY_MODEL_eacb5fae3b4d411dae7d93193085ab67",
      "placeholder": "​",
      "style": "IPY_MODEL_1935d451e05c4c4fa9e520523bb49a0f",
      "value": " 28.8k/28.8k [00:00&lt;00:00, 1.13MB/s]"
     }
    },
    "3d066c63d79e4c40a4b4c20ffe360f13": {
     "model_module": "@jupyter-widgets/base",
     "model_module_version": "1.2.0",
     "model_name": "LayoutModel",
     "state": {
      "_model_module": "@jupyter-widgets/base",
      "_model_module_version": "1.2.0",
      "_model_name": "LayoutModel",
      "_view_count": null,
      "_view_module": "@jupyter-widgets/base",
      "_view_module_version": "1.2.0",
      "_view_name": "LayoutView",
      "align_content": null,
      "align_items": null,
      "align_self": null,
      "border": null,
      "bottom": null,
      "display": null,
      "flex": null,
      "flex_flow": null,
      "grid_area": null,
      "grid_auto_columns": null,
      "grid_auto_flow": null,
      "grid_auto_rows": null,
      "grid_column": null,
      "grid_gap": null,
      "grid_row": null,
      "grid_template_areas": null,
      "grid_template_columns": null,
      "grid_template_rows": null,
      "height": null,
      "justify_content": null,
      "justify_items": null,
      "left": null,
      "margin": null,
      "max_height": null,
      "max_width": null,
      "min_height": null,
      "min_width": null,
      "object_fit": null,
      "object_position": null,
      "order": null,
      "overflow": null,
      "overflow_x": null,
      "overflow_y": null,
      "padding": null,
      "right": null,
      "top": null,
      "visibility": null,
      "width": null
     }
    },
    "3fa61f1c283146668aa13efc6f436eff": {
     "model_module": "@jupyter-widgets/controls",
     "model_module_version": "1.5.0",
     "model_name": "ProgressStyleModel",
     "state": {
      "_model_module": "@jupyter-widgets/controls",
      "_model_module_version": "1.5.0",
      "_model_name": "ProgressStyleModel",
      "_view_count": null,
      "_view_module": "@jupyter-widgets/base",
      "_view_module_version": "1.2.0",
      "_view_name": "StyleView",
      "bar_color": null,
      "description_width": ""
     }
    },
    "3fff2217019b4ebcb668e36c7b2bb108": {
     "model_module": "@jupyter-widgets/controls",
     "model_module_version": "1.5.0",
     "model_name": "DescriptionStyleModel",
     "state": {
      "_model_module": "@jupyter-widgets/controls",
      "_model_module_version": "1.5.0",
      "_model_name": "DescriptionStyleModel",
      "_view_count": null,
      "_view_module": "@jupyter-widgets/base",
      "_view_module_version": "1.2.0",
      "_view_name": "StyleView",
      "description_width": ""
     }
    },
    "407ac00e86a741b3a2cce20cb2e3a25b": {
     "model_module": "@jupyter-widgets/controls",
     "model_module_version": "1.5.0",
     "model_name": "HBoxModel",
     "state": {
      "_dom_classes": [],
      "_model_module": "@jupyter-widgets/controls",
      "_model_module_version": "1.5.0",
      "_model_name": "HBoxModel",
      "_view_count": null,
      "_view_module": "@jupyter-widgets/controls",
      "_view_module_version": "1.5.0",
      "_view_name": "HBoxView",
      "box_style": "",
      "children": [
       "IPY_MODEL_85765b5c71ad4d91947b29e69fdd49f4",
       "IPY_MODEL_f439505bc9fc4df8a60ce6d0b2bda93e",
       "IPY_MODEL_3cd37bdf025846f5bb0e1c25c461ab01"
      ],
      "layout": "IPY_MODEL_b7322d55ddca4728a636ef96fa360532"
     }
    },
    "41e31be0416e47da98ccb2bd86b704cd": {
     "model_module": "@jupyter-widgets/base",
     "model_module_version": "1.2.0",
     "model_name": "LayoutModel",
     "state": {
      "_model_module": "@jupyter-widgets/base",
      "_model_module_version": "1.2.0",
      "_model_name": "LayoutModel",
      "_view_count": null,
      "_view_module": "@jupyter-widgets/base",
      "_view_module_version": "1.2.0",
      "_view_name": "LayoutView",
      "align_content": null,
      "align_items": null,
      "align_self": null,
      "border": null,
      "bottom": null,
      "display": null,
      "flex": null,
      "flex_flow": null,
      "grid_area": null,
      "grid_auto_columns": null,
      "grid_auto_flow": null,
      "grid_auto_rows": null,
      "grid_column": null,
      "grid_gap": null,
      "grid_row": null,
      "grid_template_areas": null,
      "grid_template_columns": null,
      "grid_template_rows": null,
      "height": null,
      "justify_content": null,
      "justify_items": null,
      "left": null,
      "margin": null,
      "max_height": null,
      "max_width": null,
      "min_height": null,
      "min_width": null,
      "object_fit": null,
      "object_position": null,
      "order": null,
      "overflow": null,
      "overflow_x": null,
      "overflow_y": null,
      "padding": null,
      "right": null,
      "top": null,
      "visibility": null,
      "width": null
     }
    },
    "42114227bcd549168c400ab24af60296": {
     "model_module": "@jupyter-widgets/controls",
     "model_module_version": "1.5.0",
     "model_name": "DescriptionStyleModel",
     "state": {
      "_model_module": "@jupyter-widgets/controls",
      "_model_module_version": "1.5.0",
      "_model_name": "DescriptionStyleModel",
      "_view_count": null,
      "_view_module": "@jupyter-widgets/base",
      "_view_module_version": "1.2.0",
      "_view_name": "StyleView",
      "description_width": ""
     }
    },
    "43b0cc13632c4ad78cb7709abe968b43": {
     "model_module": "@jupyter-widgets/controls",
     "model_module_version": "1.5.0",
     "model_name": "HTMLModel",
     "state": {
      "_dom_classes": [],
      "_model_module": "@jupyter-widgets/controls",
      "_model_module_version": "1.5.0",
      "_model_name": "HTMLModel",
      "_view_count": null,
      "_view_module": "@jupyter-widgets/controls",
      "_view_module_version": "1.5.0",
      "_view_name": "HTMLView",
      "description": "",
      "description_tooltip": null,
      "layout": "IPY_MODEL_c29b0638dc414a6ea55853dcce3793e5",
      "placeholder": "​",
      "style": "IPY_MODEL_2e309e0573f64f5daffde86d4e3be928",
      "value": "Downloading data files: 100%"
     }
    },
    "458d6f9570f8463fa1a3e0d6af4322ca": {
     "model_module": "@jupyter-widgets/controls",
     "model_module_version": "1.5.0",
     "model_name": "DescriptionStyleModel",
     "state": {
      "_model_module": "@jupyter-widgets/controls",
      "_model_module_version": "1.5.0",
      "_model_name": "DescriptionStyleModel",
      "_view_count": null,
      "_view_module": "@jupyter-widgets/base",
      "_view_module_version": "1.2.0",
      "_view_name": "StyleView",
      "description_width": ""
     }
    },
    "4798080dd7364ef6ad4fc1a636947576": {
     "model_module": "@jupyter-widgets/base",
     "model_module_version": "1.2.0",
     "model_name": "LayoutModel",
     "state": {
      "_model_module": "@jupyter-widgets/base",
      "_model_module_version": "1.2.0",
      "_model_name": "LayoutModel",
      "_view_count": null,
      "_view_module": "@jupyter-widgets/base",
      "_view_module_version": "1.2.0",
      "_view_name": "LayoutView",
      "align_content": null,
      "align_items": null,
      "align_self": null,
      "border": null,
      "bottom": null,
      "display": null,
      "flex": null,
      "flex_flow": null,
      "grid_area": null,
      "grid_auto_columns": null,
      "grid_auto_flow": null,
      "grid_auto_rows": null,
      "grid_column": null,
      "grid_gap": null,
      "grid_row": null,
      "grid_template_areas": null,
      "grid_template_columns": null,
      "grid_template_rows": null,
      "height": null,
      "justify_content": null,
      "justify_items": null,
      "left": null,
      "margin": null,
      "max_height": null,
      "max_width": null,
      "min_height": null,
      "min_width": null,
      "object_fit": null,
      "object_position": null,
      "order": null,
      "overflow": null,
      "overflow_x": null,
      "overflow_y": null,
      "padding": null,
      "right": null,
      "top": null,
      "visibility": null,
      "width": null
     }
    },
    "48798ad0fdff4348aac1a6f8c3b2575b": {
     "model_module": "@jupyter-widgets/controls",
     "model_module_version": "1.5.0",
     "model_name": "DescriptionStyleModel",
     "state": {
      "_model_module": "@jupyter-widgets/controls",
      "_model_module_version": "1.5.0",
      "_model_name": "DescriptionStyleModel",
      "_view_count": null,
      "_view_module": "@jupyter-widgets/base",
      "_view_module_version": "1.2.0",
      "_view_name": "StyleView",
      "description_width": ""
     }
    },
    "4ad86401b66645e9bbd26fb54a49b341": {
     "model_module": "@jupyter-widgets/base",
     "model_module_version": "1.2.0",
     "model_name": "LayoutModel",
     "state": {
      "_model_module": "@jupyter-widgets/base",
      "_model_module_version": "1.2.0",
      "_model_name": "LayoutModel",
      "_view_count": null,
      "_view_module": "@jupyter-widgets/base",
      "_view_module_version": "1.2.0",
      "_view_name": "LayoutView",
      "align_content": null,
      "align_items": null,
      "align_self": null,
      "border": null,
      "bottom": null,
      "display": null,
      "flex": null,
      "flex_flow": null,
      "grid_area": null,
      "grid_auto_columns": null,
      "grid_auto_flow": null,
      "grid_auto_rows": null,
      "grid_column": null,
      "grid_gap": null,
      "grid_row": null,
      "grid_template_areas": null,
      "grid_template_columns": null,
      "grid_template_rows": null,
      "height": null,
      "justify_content": null,
      "justify_items": null,
      "left": null,
      "margin": null,
      "max_height": null,
      "max_width": null,
      "min_height": null,
      "min_width": null,
      "object_fit": null,
      "object_position": null,
      "order": null,
      "overflow": null,
      "overflow_x": null,
      "overflow_y": null,
      "padding": null,
      "right": null,
      "top": null,
      "visibility": null,
      "width": null
     }
    },
    "4cf2ad8f8fcc4aa882a5d9c1b8781906": {
     "model_module": "@jupyter-widgets/controls",
     "model_module_version": "1.5.0",
     "model_name": "HTMLModel",
     "state": {
      "_dom_classes": [],
      "_model_module": "@jupyter-widgets/controls",
      "_model_module_version": "1.5.0",
      "_model_name": "HTMLModel",
      "_view_count": null,
      "_view_module": "@jupyter-widgets/controls",
      "_view_module_version": "1.5.0",
      "_view_name": "HTMLView",
      "description": "",
      "description_tooltip": null,
      "layout": "IPY_MODEL_5ba2e628158a4232ac2a988cc86d6c7a",
      "placeholder": "​",
      "style": "IPY_MODEL_079bc1f6dbd9404da05fc990bb6647d7",
      "value": " 27.9k/27.9k [00:00&lt;00:00, 1.61MB/s]"
     }
    },
    "4d9e0eebdb3d4bcc9cb27d5e73d10ff1": {
     "model_module": "@jupyter-widgets/controls",
     "model_module_version": "1.5.0",
     "model_name": "HTMLModel",
     "state": {
      "_dom_classes": [],
      "_model_module": "@jupyter-widgets/controls",
      "_model_module_version": "1.5.0",
      "_model_name": "HTMLModel",
      "_view_count": null,
      "_view_module": "@jupyter-widgets/controls",
      "_view_module_version": "1.5.0",
      "_view_name": "HTMLView",
      "description": "",
      "description_tooltip": null,
      "layout": "IPY_MODEL_7f1976b582db492c9c4c0818079bc237",
      "placeholder": "​",
      "style": "IPY_MODEL_c32583c455414d92aaa695cc8fbee472",
      "value": " 466k/466k [00:00&lt;00:00, 16.3MB/s]"
     }
    },
    "4ff55303f9154bd3a70467b83ae11667": {
     "model_module": "@jupyter-widgets/controls",
     "model_module_version": "1.5.0",
     "model_name": "DescriptionStyleModel",
     "state": {
      "_model_module": "@jupyter-widgets/controls",
      "_model_module_version": "1.5.0",
      "_model_name": "DescriptionStyleModel",
      "_view_count": null,
      "_view_module": "@jupyter-widgets/base",
      "_view_module_version": "1.2.0",
      "_view_name": "StyleView",
      "description_width": ""
     }
    },
    "545770119b9a4acbb38db71489ded4be": {
     "model_module": "@jupyter-widgets/controls",
     "model_module_version": "1.5.0",
     "model_name": "DescriptionStyleModel",
     "state": {
      "_model_module": "@jupyter-widgets/controls",
      "_model_module_version": "1.5.0",
      "_model_name": "DescriptionStyleModel",
      "_view_count": null,
      "_view_module": "@jupyter-widgets/base",
      "_view_module_version": "1.2.0",
      "_view_name": "StyleView",
      "description_width": ""
     }
    },
    "552c166ae52d4c5a8683d3e2f6cbb661": {
     "model_module": "@jupyter-widgets/controls",
     "model_module_version": "1.5.0",
     "model_name": "FloatProgressModel",
     "state": {
      "_dom_classes": [],
      "_model_module": "@jupyter-widgets/controls",
      "_model_module_version": "1.5.0",
      "_model_name": "FloatProgressModel",
      "_view_count": null,
      "_view_module": "@jupyter-widgets/controls",
      "_view_module_version": "1.5.0",
      "_view_name": "ProgressView",
      "bar_style": "success",
      "description": "",
      "description_tooltip": null,
      "layout": "IPY_MODEL_a431c00f47f349dd8145ee94f88d3d9e",
      "max": 3,
      "min": 0,
      "orientation": "horizontal",
      "style": "IPY_MODEL_962cef3284b94b8886b62f1aa6e08039",
      "value": 3
     }
    },
    "55d5580a3c6642969e7ea4b1af6f062d": {
     "model_module": "@jupyter-widgets/controls",
     "model_module_version": "1.5.0",
     "model_name": "HTMLModel",
     "state": {
      "_dom_classes": [],
      "_model_module": "@jupyter-widgets/controls",
      "_model_module_version": "1.5.0",
      "_model_name": "HTMLModel",
      "_view_count": null,
      "_view_module": "@jupyter-widgets/controls",
      "_view_module_version": "1.5.0",
      "_view_name": "HTMLView",
      "description": "",
      "description_tooltip": null,
      "layout": "IPY_MODEL_118cae38dd7041b6886c38a178d77879",
      "placeholder": "​",
      "style": "IPY_MODEL_48798ad0fdff4348aac1a6f8c3b2575b",
      "value": "Downloading (…)lve/main/config.json: 100%"
     }
    },
    "58864177ce3046728dd570a7cb0b10f4": {
     "model_module": "@jupyter-widgets/controls",
     "model_module_version": "1.5.0",
     "model_name": "HBoxModel",
     "state": {
      "_dom_classes": [],
      "_model_module": "@jupyter-widgets/controls",
      "_model_module_version": "1.5.0",
      "_model_name": "HBoxModel",
      "_view_count": null,
      "_view_module": "@jupyter-widgets/controls",
      "_view_module_version": "1.5.0",
      "_view_name": "HBoxView",
      "box_style": "",
      "children": [
       "IPY_MODEL_32009a4659b64f5c9e4f7eb3bd45320f",
       "IPY_MODEL_16ff718b08fe4a918853a90d1607f543",
       "IPY_MODEL_4cf2ad8f8fcc4aa882a5d9c1b8781906"
      ],
      "layout": "IPY_MODEL_f38db671db984755b969661721fc0925"
     }
    },
    "5b6b3f31dd62472fb1bab5ca596badc5": {
     "model_module": "@jupyter-widgets/base",
     "model_module_version": "1.2.0",
     "model_name": "LayoutModel",
     "state": {
      "_model_module": "@jupyter-widgets/base",
      "_model_module_version": "1.2.0",
      "_model_name": "LayoutModel",
      "_view_count": null,
      "_view_module": "@jupyter-widgets/base",
      "_view_module_version": "1.2.0",
      "_view_name": "LayoutView",
      "align_content": null,
      "align_items": null,
      "align_self": null,
      "border": null,
      "bottom": null,
      "display": null,
      "flex": null,
      "flex_flow": null,
      "grid_area": null,
      "grid_auto_columns": null,
      "grid_auto_flow": null,
      "grid_auto_rows": null,
      "grid_column": null,
      "grid_gap": null,
      "grid_row": null,
      "grid_template_areas": null,
      "grid_template_columns": null,
      "grid_template_rows": null,
      "height": null,
      "justify_content": null,
      "justify_items": null,
      "left": null,
      "margin": null,
      "max_height": null,
      "max_width": null,
      "min_height": null,
      "min_width": null,
      "object_fit": null,
      "object_position": null,
      "order": null,
      "overflow": null,
      "overflow_x": null,
      "overflow_y": null,
      "padding": null,
      "right": null,
      "top": null,
      "visibility": null,
      "width": null
     }
    },
    "5ba2e628158a4232ac2a988cc86d6c7a": {
     "model_module": "@jupyter-widgets/base",
     "model_module_version": "1.2.0",
     "model_name": "LayoutModel",
     "state": {
      "_model_module": "@jupyter-widgets/base",
      "_model_module_version": "1.2.0",
      "_model_name": "LayoutModel",
      "_view_count": null,
      "_view_module": "@jupyter-widgets/base",
      "_view_module_version": "1.2.0",
      "_view_name": "LayoutView",
      "align_content": null,
      "align_items": null,
      "align_self": null,
      "border": null,
      "bottom": null,
      "display": null,
      "flex": null,
      "flex_flow": null,
      "grid_area": null,
      "grid_auto_columns": null,
      "grid_auto_flow": null,
      "grid_auto_rows": null,
      "grid_column": null,
      "grid_gap": null,
      "grid_row": null,
      "grid_template_areas": null,
      "grid_template_columns": null,
      "grid_template_rows": null,
      "height": null,
      "justify_content": null,
      "justify_items": null,
      "left": null,
      "margin": null,
      "max_height": null,
      "max_width": null,
      "min_height": null,
      "min_width": null,
      "object_fit": null,
      "object_position": null,
      "order": null,
      "overflow": null,
      "overflow_x": null,
      "overflow_y": null,
      "padding": null,
      "right": null,
      "top": null,
      "visibility": null,
      "width": null
     }
    },
    "5d6b75b347e94f3dafd896a00a193dd1": {
     "model_module": "@jupyter-widgets/controls",
     "model_module_version": "1.5.0",
     "model_name": "HTMLModel",
     "state": {
      "_dom_classes": [],
      "_model_module": "@jupyter-widgets/controls",
      "_model_module_version": "1.5.0",
      "_model_name": "HTMLModel",
      "_view_count": null,
      "_view_module": "@jupyter-widgets/controls",
      "_view_module_version": "1.5.0",
      "_view_name": "HTMLView",
      "description": "",
      "description_tooltip": null,
      "layout": "IPY_MODEL_9772b105ad184c77b01cc81997bfa969",
      "placeholder": "​",
      "style": "IPY_MODEL_89498f1164054c999f1ba9f6593af9bc",
      "value": "Downloading data: "
     }
    },
    "5fdf854197e44352a5ec4d8697060b88": {
     "model_module": "@jupyter-widgets/base",
     "model_module_version": "1.2.0",
     "model_name": "LayoutModel",
     "state": {
      "_model_module": "@jupyter-widgets/base",
      "_model_module_version": "1.2.0",
      "_model_name": "LayoutModel",
      "_view_count": null,
      "_view_module": "@jupyter-widgets/base",
      "_view_module_version": "1.2.0",
      "_view_name": "LayoutView",
      "align_content": null,
      "align_items": null,
      "align_self": null,
      "border": null,
      "bottom": null,
      "display": null,
      "flex": null,
      "flex_flow": null,
      "grid_area": null,
      "grid_auto_columns": null,
      "grid_auto_flow": null,
      "grid_auto_rows": null,
      "grid_column": null,
      "grid_gap": null,
      "grid_row": null,
      "grid_template_areas": null,
      "grid_template_columns": null,
      "grid_template_rows": null,
      "height": null,
      "justify_content": null,
      "justify_items": null,
      "left": null,
      "margin": null,
      "max_height": null,
      "max_width": null,
      "min_height": null,
      "min_width": null,
      "object_fit": null,
      "object_position": null,
      "order": null,
      "overflow": null,
      "overflow_x": null,
      "overflow_y": null,
      "padding": null,
      "right": null,
      "top": null,
      "visibility": null,
      "width": null
     }
    },
    "628033cedd2644ee9713f7e85a49068a": {
     "model_module": "@jupyter-widgets/base",
     "model_module_version": "1.2.0",
     "model_name": "LayoutModel",
     "state": {
      "_model_module": "@jupyter-widgets/base",
      "_model_module_version": "1.2.0",
      "_model_name": "LayoutModel",
      "_view_count": null,
      "_view_module": "@jupyter-widgets/base",
      "_view_module_version": "1.2.0",
      "_view_name": "LayoutView",
      "align_content": null,
      "align_items": null,
      "align_self": null,
      "border": null,
      "bottom": null,
      "display": null,
      "flex": null,
      "flex_flow": null,
      "grid_area": null,
      "grid_auto_columns": null,
      "grid_auto_flow": null,
      "grid_auto_rows": null,
      "grid_column": null,
      "grid_gap": null,
      "grid_row": null,
      "grid_template_areas": null,
      "grid_template_columns": null,
      "grid_template_rows": null,
      "height": null,
      "justify_content": null,
      "justify_items": null,
      "left": null,
      "margin": null,
      "max_height": null,
      "max_width": null,
      "min_height": null,
      "min_width": null,
      "object_fit": null,
      "object_position": null,
      "order": null,
      "overflow": null,
      "overflow_x": null,
      "overflow_y": null,
      "padding": null,
      "right": null,
      "top": null,
      "visibility": null,
      "width": null
     }
    },
    "62ba9094a894433eb31684b36650f6e0": {
     "model_module": "@jupyter-widgets/controls",
     "model_module_version": "1.5.0",
     "model_name": "HTMLModel",
     "state": {
      "_dom_classes": [],
      "_model_module": "@jupyter-widgets/controls",
      "_model_module_version": "1.5.0",
      "_model_name": "HTMLModel",
      "_view_count": null,
      "_view_module": "@jupyter-widgets/controls",
      "_view_module_version": "1.5.0",
      "_view_name": "HTMLView",
      "description": "",
      "description_tooltip": null,
      "layout": "IPY_MODEL_07d59e8917604585a6bac9a19f50a6f7",
      "placeholder": "​",
      "style": "IPY_MODEL_6e6552c01b3f48018de32fb0ef57474c",
      "value": "Generating validation split: 100%"
     }
    },
    "66093d46f7f44dae98a578208af05bb2": {
     "model_module": "@jupyter-widgets/controls",
     "model_module_version": "1.5.0",
     "model_name": "DescriptionStyleModel",
     "state": {
      "_model_module": "@jupyter-widgets/controls",
      "_model_module_version": "1.5.0",
      "_model_name": "DescriptionStyleModel",
      "_view_count": null,
      "_view_module": "@jupyter-widgets/base",
      "_view_module_version": "1.2.0",
      "_view_name": "StyleView",
      "description_width": ""
     }
    },
    "680de18fa9f4488d9aa7743e13656b52": {
     "model_module": "@jupyter-widgets/base",
     "model_module_version": "1.2.0",
     "model_name": "LayoutModel",
     "state": {
      "_model_module": "@jupyter-widgets/base",
      "_model_module_version": "1.2.0",
      "_model_name": "LayoutModel",
      "_view_count": null,
      "_view_module": "@jupyter-widgets/base",
      "_view_module_version": "1.2.0",
      "_view_name": "LayoutView",
      "align_content": null,
      "align_items": null,
      "align_self": null,
      "border": null,
      "bottom": null,
      "display": null,
      "flex": null,
      "flex_flow": null,
      "grid_area": null,
      "grid_auto_columns": null,
      "grid_auto_flow": null,
      "grid_auto_rows": null,
      "grid_column": null,
      "grid_gap": null,
      "grid_row": null,
      "grid_template_areas": null,
      "grid_template_columns": null,
      "grid_template_rows": null,
      "height": null,
      "justify_content": null,
      "justify_items": null,
      "left": null,
      "margin": null,
      "max_height": null,
      "max_width": null,
      "min_height": null,
      "min_width": null,
      "object_fit": null,
      "object_position": null,
      "order": null,
      "overflow": null,
      "overflow_x": null,
      "overflow_y": null,
      "padding": null,
      "right": null,
      "top": null,
      "visibility": null,
      "width": "20px"
     }
    },
    "693a3c8ad0f84396896254567ad4f2e1": {
     "model_module": "@jupyter-widgets/base",
     "model_module_version": "1.2.0",
     "model_name": "LayoutModel",
     "state": {
      "_model_module": "@jupyter-widgets/base",
      "_model_module_version": "1.2.0",
      "_model_name": "LayoutModel",
      "_view_count": null,
      "_view_module": "@jupyter-widgets/base",
      "_view_module_version": "1.2.0",
      "_view_name": "LayoutView",
      "align_content": null,
      "align_items": null,
      "align_self": null,
      "border": null,
      "bottom": null,
      "display": null,
      "flex": null,
      "flex_flow": null,
      "grid_area": null,
      "grid_auto_columns": null,
      "grid_auto_flow": null,
      "grid_auto_rows": null,
      "grid_column": null,
      "grid_gap": null,
      "grid_row": null,
      "grid_template_areas": null,
      "grid_template_columns": null,
      "grid_template_rows": null,
      "height": null,
      "justify_content": null,
      "justify_items": null,
      "left": null,
      "margin": null,
      "max_height": null,
      "max_width": null,
      "min_height": null,
      "min_width": null,
      "object_fit": null,
      "object_position": null,
      "order": null,
      "overflow": null,
      "overflow_x": null,
      "overflow_y": null,
      "padding": null,
      "right": null,
      "top": null,
      "visibility": null,
      "width": null
     }
    },
    "6e517ff031be4c128203932be9ff7cbd": {
     "model_module": "@jupyter-widgets/controls",
     "model_module_version": "1.5.0",
     "model_name": "ProgressStyleModel",
     "state": {
      "_model_module": "@jupyter-widgets/controls",
      "_model_module_version": "1.5.0",
      "_model_name": "ProgressStyleModel",
      "_view_count": null,
      "_view_module": "@jupyter-widgets/base",
      "_view_module_version": "1.2.0",
      "_view_name": "StyleView",
      "bar_color": null,
      "description_width": ""
     }
    },
    "6e6552c01b3f48018de32fb0ef57474c": {
     "model_module": "@jupyter-widgets/controls",
     "model_module_version": "1.5.0",
     "model_name": "DescriptionStyleModel",
     "state": {
      "_model_module": "@jupyter-widgets/controls",
      "_model_module_version": "1.5.0",
      "_model_name": "DescriptionStyleModel",
      "_view_count": null,
      "_view_module": "@jupyter-widgets/base",
      "_view_module_version": "1.2.0",
      "_view_name": "StyleView",
      "description_width": ""
     }
    },
    "70183855d47e4088835f37affa7c8f7a": {
     "model_module": "@jupyter-widgets/controls",
     "model_module_version": "1.5.0",
     "model_name": "DescriptionStyleModel",
     "state": {
      "_model_module": "@jupyter-widgets/controls",
      "_model_module_version": "1.5.0",
      "_model_name": "DescriptionStyleModel",
      "_view_count": null,
      "_view_module": "@jupyter-widgets/base",
      "_view_module_version": "1.2.0",
      "_view_name": "StyleView",
      "description_width": ""
     }
    },
    "70b91738935f4edfa486344f4908b25e": {
     "model_module": "@jupyter-widgets/controls",
     "model_module_version": "1.5.0",
     "model_name": "HBoxModel",
     "state": {
      "_dom_classes": [],
      "_model_module": "@jupyter-widgets/controls",
      "_model_module_version": "1.5.0",
      "_model_name": "HBoxModel",
      "_view_count": null,
      "_view_module": "@jupyter-widgets/controls",
      "_view_module_version": "1.5.0",
      "_view_name": "HBoxView",
      "box_style": "",
      "children": [
       "IPY_MODEL_d03bcef512b04fd991df2d9e99bb3c59",
       "IPY_MODEL_c421fc09f86c4371ba271194b67200c3",
       "IPY_MODEL_91f757f113524759a4d9da137d95ec01"
      ],
      "layout": "IPY_MODEL_ce3a20bb9a5b4b0eb47ca3781ec0c96f"
     }
    },
    "7237c183499446b3bff47406038bd794": {
     "model_module": "@jupyter-widgets/base",
     "model_module_version": "1.2.0",
     "model_name": "LayoutModel",
     "state": {
      "_model_module": "@jupyter-widgets/base",
      "_model_module_version": "1.2.0",
      "_model_name": "LayoutModel",
      "_view_count": null,
      "_view_module": "@jupyter-widgets/base",
      "_view_module_version": "1.2.0",
      "_view_name": "LayoutView",
      "align_content": null,
      "align_items": null,
      "align_self": null,
      "border": null,
      "bottom": null,
      "display": null,
      "flex": null,
      "flex_flow": null,
      "grid_area": null,
      "grid_auto_columns": null,
      "grid_auto_flow": null,
      "grid_auto_rows": null,
      "grid_column": null,
      "grid_gap": null,
      "grid_row": null,
      "grid_template_areas": null,
      "grid_template_columns": null,
      "grid_template_rows": null,
      "height": null,
      "justify_content": null,
      "justify_items": null,
      "left": null,
      "margin": null,
      "max_height": null,
      "max_width": null,
      "min_height": null,
      "min_width": null,
      "object_fit": null,
      "object_position": null,
      "order": null,
      "overflow": null,
      "overflow_x": null,
      "overflow_y": null,
      "padding": null,
      "right": null,
      "top": null,
      "visibility": null,
      "width": null
     }
    },
    "76931ac0a1c641edb38a24a240ca9235": {
     "model_module": "@jupyter-widgets/controls",
     "model_module_version": "1.5.0",
     "model_name": "DescriptionStyleModel",
     "state": {
      "_model_module": "@jupyter-widgets/controls",
      "_model_module_version": "1.5.0",
      "_model_name": "DescriptionStyleModel",
      "_view_count": null,
      "_view_module": "@jupyter-widgets/base",
      "_view_module_version": "1.2.0",
      "_view_name": "StyleView",
      "description_width": ""
     }
    },
    "776ad86d9e9942e18244f4a0e00335c8": {
     "model_module": "@jupyter-widgets/controls",
     "model_module_version": "1.5.0",
     "model_name": "DescriptionStyleModel",
     "state": {
      "_model_module": "@jupyter-widgets/controls",
      "_model_module_version": "1.5.0",
      "_model_name": "DescriptionStyleModel",
      "_view_count": null,
      "_view_module": "@jupyter-widgets/base",
      "_view_module_version": "1.2.0",
      "_view_name": "StyleView",
      "description_width": ""
     }
    },
    "77d79843fc4d4d25841520a1787ac92c": {
     "model_module": "@jupyter-widgets/base",
     "model_module_version": "1.2.0",
     "model_name": "LayoutModel",
     "state": {
      "_model_module": "@jupyter-widgets/base",
      "_model_module_version": "1.2.0",
      "_model_name": "LayoutModel",
      "_view_count": null,
      "_view_module": "@jupyter-widgets/base",
      "_view_module_version": "1.2.0",
      "_view_name": "LayoutView",
      "align_content": null,
      "align_items": null,
      "align_self": null,
      "border": null,
      "bottom": null,
      "display": null,
      "flex": null,
      "flex_flow": null,
      "grid_area": null,
      "grid_auto_columns": null,
      "grid_auto_flow": null,
      "grid_auto_rows": null,
      "grid_column": null,
      "grid_gap": null,
      "grid_row": null,
      "grid_template_areas": null,
      "grid_template_columns": null,
      "grid_template_rows": null,
      "height": null,
      "justify_content": null,
      "justify_items": null,
      "left": null,
      "margin": null,
      "max_height": null,
      "max_width": null,
      "min_height": null,
      "min_width": null,
      "object_fit": null,
      "object_position": null,
      "order": null,
      "overflow": null,
      "overflow_x": null,
      "overflow_y": null,
      "padding": null,
      "right": null,
      "top": null,
      "visibility": null,
      "width": null
     }
    },
    "78ef8f80c0a8447e806bcfd095cd7d82": {
     "model_module": "@jupyter-widgets/base",
     "model_module_version": "1.2.0",
     "model_name": "LayoutModel",
     "state": {
      "_model_module": "@jupyter-widgets/base",
      "_model_module_version": "1.2.0",
      "_model_name": "LayoutModel",
      "_view_count": null,
      "_view_module": "@jupyter-widgets/base",
      "_view_module_version": "1.2.0",
      "_view_name": "LayoutView",
      "align_content": null,
      "align_items": null,
      "align_self": null,
      "border": null,
      "bottom": null,
      "display": null,
      "flex": null,
      "flex_flow": null,
      "grid_area": null,
      "grid_auto_columns": null,
      "grid_auto_flow": null,
      "grid_auto_rows": null,
      "grid_column": null,
      "grid_gap": null,
      "grid_row": null,
      "grid_template_areas": null,
      "grid_template_columns": null,
      "grid_template_rows": null,
      "height": null,
      "justify_content": null,
      "justify_items": null,
      "left": null,
      "margin": null,
      "max_height": null,
      "max_width": null,
      "min_height": null,
      "min_width": null,
      "object_fit": null,
      "object_position": null,
      "order": null,
      "overflow": null,
      "overflow_x": null,
      "overflow_y": null,
      "padding": null,
      "right": null,
      "top": null,
      "visibility": null,
      "width": null
     }
    },
    "7f1976b582db492c9c4c0818079bc237": {
     "model_module": "@jupyter-widgets/base",
     "model_module_version": "1.2.0",
     "model_name": "LayoutModel",
     "state": {
      "_model_module": "@jupyter-widgets/base",
      "_model_module_version": "1.2.0",
      "_model_name": "LayoutModel",
      "_view_count": null,
      "_view_module": "@jupyter-widgets/base",
      "_view_module_version": "1.2.0",
      "_view_name": "LayoutView",
      "align_content": null,
      "align_items": null,
      "align_self": null,
      "border": null,
      "bottom": null,
      "display": null,
      "flex": null,
      "flex_flow": null,
      "grid_area": null,
      "grid_auto_columns": null,
      "grid_auto_flow": null,
      "grid_auto_rows": null,
      "grid_column": null,
      "grid_gap": null,
      "grid_row": null,
      "grid_template_areas": null,
      "grid_template_columns": null,
      "grid_template_rows": null,
      "height": null,
      "justify_content": null,
      "justify_items": null,
      "left": null,
      "margin": null,
      "max_height": null,
      "max_width": null,
      "min_height": null,
      "min_width": null,
      "object_fit": null,
      "object_position": null,
      "order": null,
      "overflow": null,
      "overflow_x": null,
      "overflow_y": null,
      "padding": null,
      "right": null,
      "top": null,
      "visibility": null,
      "width": null
     }
    },
    "831c630ab6ec49f8a54e496e14f77ac0": {
     "model_module": "@jupyter-widgets/controls",
     "model_module_version": "1.5.0",
     "model_name": "HTMLModel",
     "state": {
      "_dom_classes": [],
      "_model_module": "@jupyter-widgets/controls",
      "_model_module_version": "1.5.0",
      "_model_name": "HTMLModel",
      "_view_count": null,
      "_view_module": "@jupyter-widgets/controls",
      "_view_module_version": "1.5.0",
      "_view_name": "HTMLView",
      "description": "",
      "description_tooltip": null,
      "layout": "IPY_MODEL_4ad86401b66645e9bbd26fb54a49b341",
      "placeholder": "​",
      "style": "IPY_MODEL_42114227bcd549168c400ab24af60296",
      "value": " 3668/3668 [00:00&lt;00:00, 10265.29 examples/s]"
     }
    },
    "85765b5c71ad4d91947b29e69fdd49f4": {
     "model_module": "@jupyter-widgets/controls",
     "model_module_version": "1.5.0",
     "model_name": "HTMLModel",
     "state": {
      "_dom_classes": [],
      "_model_module": "@jupyter-widgets/controls",
      "_model_module_version": "1.5.0",
      "_model_name": "HTMLModel",
      "_view_count": null,
      "_view_module": "@jupyter-widgets/controls",
      "_view_module_version": "1.5.0",
      "_view_name": "HTMLView",
      "description": "",
      "description_tooltip": null,
      "layout": "IPY_MODEL_963e1648d20b4723930c1287a56cef42",
      "placeholder": "​",
      "style": "IPY_MODEL_4ff55303f9154bd3a70467b83ae11667",
      "value": "Downloading builder script: 100%"
     }
    },
    "8760e8b43d994f09baaac56af792ad42": {
     "model_module": "@jupyter-widgets/base",
     "model_module_version": "1.2.0",
     "model_name": "LayoutModel",
     "state": {
      "_model_module": "@jupyter-widgets/base",
      "_model_module_version": "1.2.0",
      "_model_name": "LayoutModel",
      "_view_count": null,
      "_view_module": "@jupyter-widgets/base",
      "_view_module_version": "1.2.0",
      "_view_name": "LayoutView",
      "align_content": null,
      "align_items": null,
      "align_self": null,
      "border": null,
      "bottom": null,
      "display": null,
      "flex": null,
      "flex_flow": null,
      "grid_area": null,
      "grid_auto_columns": null,
      "grid_auto_flow": null,
      "grid_auto_rows": null,
      "grid_column": null,
      "grid_gap": null,
      "grid_row": null,
      "grid_template_areas": null,
      "grid_template_columns": null,
      "grid_template_rows": null,
      "height": null,
      "justify_content": null,
      "justify_items": null,
      "left": null,
      "margin": null,
      "max_height": null,
      "max_width": null,
      "min_height": null,
      "min_width": null,
      "object_fit": null,
      "object_position": null,
      "order": null,
      "overflow": null,
      "overflow_x": null,
      "overflow_y": null,
      "padding": null,
      "right": null,
      "top": null,
      "visibility": null,
      "width": null
     }
    },
    "89498f1164054c999f1ba9f6593af9bc": {
     "model_module": "@jupyter-widgets/controls",
     "model_module_version": "1.5.0",
     "model_name": "DescriptionStyleModel",
     "state": {
      "_model_module": "@jupyter-widgets/controls",
      "_model_module_version": "1.5.0",
      "_model_name": "DescriptionStyleModel",
      "_view_count": null,
      "_view_module": "@jupyter-widgets/base",
      "_view_module_version": "1.2.0",
      "_view_name": "StyleView",
      "description_width": ""
     }
    },
    "8a499d435bed43e281aacc7b67abf453": {
     "model_module": "@jupyter-widgets/controls",
     "model_module_version": "1.5.0",
     "model_name": "ProgressStyleModel",
     "state": {
      "_model_module": "@jupyter-widgets/controls",
      "_model_module_version": "1.5.0",
      "_model_name": "ProgressStyleModel",
      "_view_count": null,
      "_view_module": "@jupyter-widgets/base",
      "_view_module_version": "1.2.0",
      "_view_name": "StyleView",
      "bar_color": null,
      "description_width": ""
     }
    },
    "8bd82470392544e0947e732a4b165f1f": {
     "model_module": "@jupyter-widgets/controls",
     "model_module_version": "1.5.0",
     "model_name": "FloatProgressModel",
     "state": {
      "_dom_classes": [],
      "_model_module": "@jupyter-widgets/controls",
      "_model_module_version": "1.5.0",
      "_model_name": "FloatProgressModel",
      "_view_count": null,
      "_view_module": "@jupyter-widgets/controls",
      "_view_module_version": "1.5.0",
      "_view_name": "ProgressView",
      "bar_style": "success",
      "description": "",
      "description_tooltip": null,
      "layout": "IPY_MODEL_c2454cef005c4b7e8cd0ef35a77dd4a4",
      "max": 28,
      "min": 0,
      "orientation": "horizontal",
      "style": "IPY_MODEL_0d1cc33ab9764f0cbd21ecfc84e8c2ed",
      "value": 28
     }
    },
    "8d21b9fa9ebc4ed786d8047c0cddaac7": {
     "model_module": "@jupyter-widgets/controls",
     "model_module_version": "1.5.0",
     "model_name": "DescriptionStyleModel",
     "state": {
      "_model_module": "@jupyter-widgets/controls",
      "_model_module_version": "1.5.0",
      "_model_name": "DescriptionStyleModel",
      "_view_count": null,
      "_view_module": "@jupyter-widgets/base",
      "_view_module_version": "1.2.0",
      "_view_name": "StyleView",
      "description_width": ""
     }
    },
    "8ea6132453084090bc5cb2a9649164ed": {
     "model_module": "@jupyter-widgets/base",
     "model_module_version": "1.2.0",
     "model_name": "LayoutModel",
     "state": {
      "_model_module": "@jupyter-widgets/base",
      "_model_module_version": "1.2.0",
      "_model_name": "LayoutModel",
      "_view_count": null,
      "_view_module": "@jupyter-widgets/base",
      "_view_module_version": "1.2.0",
      "_view_name": "LayoutView",
      "align_content": null,
      "align_items": null,
      "align_self": null,
      "border": null,
      "bottom": null,
      "display": null,
      "flex": null,
      "flex_flow": null,
      "grid_area": null,
      "grid_auto_columns": null,
      "grid_auto_flow": null,
      "grid_auto_rows": null,
      "grid_column": null,
      "grid_gap": null,
      "grid_row": null,
      "grid_template_areas": null,
      "grid_template_columns": null,
      "grid_template_rows": null,
      "height": null,
      "justify_content": null,
      "justify_items": null,
      "left": null,
      "margin": null,
      "max_height": null,
      "max_width": null,
      "min_height": null,
      "min_width": null,
      "object_fit": null,
      "object_position": null,
      "order": null,
      "overflow": null,
      "overflow_x": null,
      "overflow_y": null,
      "padding": null,
      "right": null,
      "top": null,
      "visibility": null,
      "width": null
     }
    },
    "90778459d3bf4e77bca69334e57d868e": {
     "model_module": "@jupyter-widgets/base",
     "model_module_version": "1.2.0",
     "model_name": "LayoutModel",
     "state": {
      "_model_module": "@jupyter-widgets/base",
      "_model_module_version": "1.2.0",
      "_model_name": "LayoutModel",
      "_view_count": null,
      "_view_module": "@jupyter-widgets/base",
      "_view_module_version": "1.2.0",
      "_view_name": "LayoutView",
      "align_content": null,
      "align_items": null,
      "align_self": null,
      "border": null,
      "bottom": null,
      "display": null,
      "flex": null,
      "flex_flow": null,
      "grid_area": null,
      "grid_auto_columns": null,
      "grid_auto_flow": null,
      "grid_auto_rows": null,
      "grid_column": null,
      "grid_gap": null,
      "grid_row": null,
      "grid_template_areas": null,
      "grid_template_columns": null,
      "grid_template_rows": null,
      "height": null,
      "justify_content": null,
      "justify_items": null,
      "left": null,
      "margin": null,
      "max_height": null,
      "max_width": null,
      "min_height": null,
      "min_width": null,
      "object_fit": null,
      "object_position": null,
      "order": null,
      "overflow": null,
      "overflow_x": null,
      "overflow_y": null,
      "padding": null,
      "right": null,
      "top": null,
      "visibility": null,
      "width": null
     }
    },
    "91f757f113524759a4d9da137d95ec01": {
     "model_module": "@jupyter-widgets/controls",
     "model_module_version": "1.5.0",
     "model_name": "HTMLModel",
     "state": {
      "_dom_classes": [],
      "_model_module": "@jupyter-widgets/controls",
      "_model_module_version": "1.5.0",
      "_model_name": "HTMLModel",
      "_view_count": null,
      "_view_module": "@jupyter-widgets/controls",
      "_view_module_version": "1.5.0",
      "_view_name": "HTMLView",
      "description": "",
      "description_tooltip": null,
      "layout": "IPY_MODEL_dca4a766f34f4d97a1cd51b8acbd29b2",
      "placeholder": "​",
      "style": "IPY_MODEL_1119118ef5f84458aaa3d04172a8da69",
      "value": " 440M/440M [00:02&lt;00:00, 215MB/s]"
     }
    },
    "932210500e2c47c896a8c9c32bf2666f": {
     "model_module": "@jupyter-widgets/controls",
     "model_module_version": "1.5.0",
     "model_name": "HTMLModel",
     "state": {
      "_dom_classes": [],
      "_model_module": "@jupyter-widgets/controls",
      "_model_module_version": "1.5.0",
      "_model_name": "HTMLModel",
      "_view_count": null,
      "_view_module": "@jupyter-widgets/controls",
      "_view_module_version": "1.5.0",
      "_view_name": "HTMLView",
      "description": "",
      "description_tooltip": null,
      "layout": "IPY_MODEL_e3df6ff6023f48c3917dbe7de23bc537",
      "placeholder": "​",
      "style": "IPY_MODEL_3fff2217019b4ebcb668e36c7b2bb108",
      "value": "Downloading (…)solve/main/vocab.txt: 100%"
     }
    },
    "93fffcb963af4e199b3951163a2270d2": {
     "model_module": "@jupyter-widgets/base",
     "model_module_version": "1.2.0",
     "model_name": "LayoutModel",
     "state": {
      "_model_module": "@jupyter-widgets/base",
      "_model_module_version": "1.2.0",
      "_model_name": "LayoutModel",
      "_view_count": null,
      "_view_module": "@jupyter-widgets/base",
      "_view_module_version": "1.2.0",
      "_view_name": "LayoutView",
      "align_content": null,
      "align_items": null,
      "align_self": null,
      "border": null,
      "bottom": null,
      "display": null,
      "flex": null,
      "flex_flow": null,
      "grid_area": null,
      "grid_auto_columns": null,
      "grid_auto_flow": null,
      "grid_auto_rows": null,
      "grid_column": null,
      "grid_gap": null,
      "grid_row": null,
      "grid_template_areas": null,
      "grid_template_columns": null,
      "grid_template_rows": null,
      "height": null,
      "justify_content": null,
      "justify_items": null,
      "left": null,
      "margin": null,
      "max_height": null,
      "max_width": null,
      "min_height": null,
      "min_width": null,
      "object_fit": null,
      "object_position": null,
      "order": null,
      "overflow": null,
      "overflow_x": null,
      "overflow_y": null,
      "padding": null,
      "right": null,
      "top": null,
      "visibility": null,
      "width": null
     }
    },
    "962cef3284b94b8886b62f1aa6e08039": {
     "model_module": "@jupyter-widgets/controls",
     "model_module_version": "1.5.0",
     "model_name": "ProgressStyleModel",
     "state": {
      "_model_module": "@jupyter-widgets/controls",
      "_model_module_version": "1.5.0",
      "_model_name": "ProgressStyleModel",
      "_view_count": null,
      "_view_module": "@jupyter-widgets/base",
      "_view_module_version": "1.2.0",
      "_view_name": "StyleView",
      "bar_color": null,
      "description_width": ""
     }
    },
    "963e1648d20b4723930c1287a56cef42": {
     "model_module": "@jupyter-widgets/base",
     "model_module_version": "1.2.0",
     "model_name": "LayoutModel",
     "state": {
      "_model_module": "@jupyter-widgets/base",
      "_model_module_version": "1.2.0",
      "_model_name": "LayoutModel",
      "_view_count": null,
      "_view_module": "@jupyter-widgets/base",
      "_view_module_version": "1.2.0",
      "_view_name": "LayoutView",
      "align_content": null,
      "align_items": null,
      "align_self": null,
      "border": null,
      "bottom": null,
      "display": null,
      "flex": null,
      "flex_flow": null,
      "grid_area": null,
      "grid_auto_columns": null,
      "grid_auto_flow": null,
      "grid_auto_rows": null,
      "grid_column": null,
      "grid_gap": null,
      "grid_row": null,
      "grid_template_areas": null,
      "grid_template_columns": null,
      "grid_template_rows": null,
      "height": null,
      "justify_content": null,
      "justify_items": null,
      "left": null,
      "margin": null,
      "max_height": null,
      "max_width": null,
      "min_height": null,
      "min_width": null,
      "object_fit": null,
      "object_position": null,
      "order": null,
      "overflow": null,
      "overflow_x": null,
      "overflow_y": null,
      "padding": null,
      "right": null,
      "top": null,
      "visibility": null,
      "width": null
     }
    },
    "96b593dd44464b91a3c48a0795cf7076": {
     "model_module": "@jupyter-widgets/controls",
     "model_module_version": "1.5.0",
     "model_name": "HTMLModel",
     "state": {
      "_dom_classes": [],
      "_model_module": "@jupyter-widgets/controls",
      "_model_module_version": "1.5.0",
      "_model_name": "HTMLModel",
      "_view_count": null,
      "_view_module": "@jupyter-widgets/controls",
      "_view_module_version": "1.5.0",
      "_view_name": "HTMLView",
      "description": "",
      "description_tooltip": null,
      "layout": "IPY_MODEL_8760e8b43d994f09baaac56af792ad42",
      "placeholder": "​",
      "style": "IPY_MODEL_66093d46f7f44dae98a578208af05bb2",
      "value": "Downloading metadata: 100%"
     }
    },
    "9772b105ad184c77b01cc81997bfa969": {
     "model_module": "@jupyter-widgets/base",
     "model_module_version": "1.2.0",
     "model_name": "LayoutModel",
     "state": {
      "_model_module": "@jupyter-widgets/base",
      "_model_module_version": "1.2.0",
      "_model_name": "LayoutModel",
      "_view_count": null,
      "_view_module": "@jupyter-widgets/base",
      "_view_module_version": "1.2.0",
      "_view_name": "LayoutView",
      "align_content": null,
      "align_items": null,
      "align_self": null,
      "border": null,
      "bottom": null,
      "display": null,
      "flex": null,
      "flex_flow": null,
      "grid_area": null,
      "grid_auto_columns": null,
      "grid_auto_flow": null,
      "grid_auto_rows": null,
      "grid_column": null,
      "grid_gap": null,
      "grid_row": null,
      "grid_template_areas": null,
      "grid_template_columns": null,
      "grid_template_rows": null,
      "height": null,
      "justify_content": null,
      "justify_items": null,
      "left": null,
      "margin": null,
      "max_height": null,
      "max_width": null,
      "min_height": null,
      "min_width": null,
      "object_fit": null,
      "object_position": null,
      "order": null,
      "overflow": null,
      "overflow_x": null,
      "overflow_y": null,
      "padding": null,
      "right": null,
      "top": null,
      "visibility": null,
      "width": null
     }
    },
    "97ad056ff7da4bde8154962f76325798": {
     "model_module": "@jupyter-widgets/controls",
     "model_module_version": "1.5.0",
     "model_name": "FloatProgressModel",
     "state": {
      "_dom_classes": [],
      "_model_module": "@jupyter-widgets/controls",
      "_model_module_version": "1.5.0",
      "_model_name": "FloatProgressModel",
      "_view_count": null,
      "_view_module": "@jupyter-widgets/controls",
      "_view_module_version": "1.5.0",
      "_view_name": "ProgressView",
      "bar_style": "success",
      "description": "",
      "description_tooltip": null,
      "layout": "IPY_MODEL_d5349e06c71d4347a87000105b7b9597",
      "max": 231508,
      "min": 0,
      "orientation": "horizontal",
      "style": "IPY_MODEL_ee2be9e50e384a72bac10da09bc4081a",
      "value": 231508
     }
    },
    "9f023bcb1b5348cc9f262b283920b1a5": {
     "model_module": "@jupyter-widgets/base",
     "model_module_version": "1.2.0",
     "model_name": "LayoutModel",
     "state": {
      "_model_module": "@jupyter-widgets/base",
      "_model_module_version": "1.2.0",
      "_model_name": "LayoutModel",
      "_view_count": null,
      "_view_module": "@jupyter-widgets/base",
      "_view_module_version": "1.2.0",
      "_view_name": "LayoutView",
      "align_content": null,
      "align_items": null,
      "align_self": null,
      "border": null,
      "bottom": null,
      "display": null,
      "flex": null,
      "flex_flow": null,
      "grid_area": null,
      "grid_auto_columns": null,
      "grid_auto_flow": null,
      "grid_auto_rows": null,
      "grid_column": null,
      "grid_gap": null,
      "grid_row": null,
      "grid_template_areas": null,
      "grid_template_columns": null,
      "grid_template_rows": null,
      "height": null,
      "justify_content": null,
      "justify_items": null,
      "left": null,
      "margin": null,
      "max_height": null,
      "max_width": null,
      "min_height": null,
      "min_width": null,
      "object_fit": null,
      "object_position": null,
      "order": null,
      "overflow": null,
      "overflow_x": null,
      "overflow_y": null,
      "padding": null,
      "right": null,
      "top": null,
      "visibility": null,
      "width": null
     }
    },
    "a1dba63282514ad3a37d7f701a1eae9c": {
     "model_module": "@jupyter-widgets/base",
     "model_module_version": "1.2.0",
     "model_name": "LayoutModel",
     "state": {
      "_model_module": "@jupyter-widgets/base",
      "_model_module_version": "1.2.0",
      "_model_name": "LayoutModel",
      "_view_count": null,
      "_view_module": "@jupyter-widgets/base",
      "_view_module_version": "1.2.0",
      "_view_name": "LayoutView",
      "align_content": null,
      "align_items": null,
      "align_self": null,
      "border": null,
      "bottom": null,
      "display": null,
      "flex": null,
      "flex_flow": null,
      "grid_area": null,
      "grid_auto_columns": null,
      "grid_auto_flow": null,
      "grid_auto_rows": null,
      "grid_column": null,
      "grid_gap": null,
      "grid_row": null,
      "grid_template_areas": null,
      "grid_template_columns": null,
      "grid_template_rows": null,
      "height": null,
      "justify_content": null,
      "justify_items": null,
      "left": null,
      "margin": null,
      "max_height": null,
      "max_width": null,
      "min_height": null,
      "min_width": null,
      "object_fit": null,
      "object_position": null,
      "order": null,
      "overflow": null,
      "overflow_x": null,
      "overflow_y": null,
      "padding": null,
      "right": null,
      "top": null,
      "visibility": null,
      "width": "20px"
     }
    },
    "a431c00f47f349dd8145ee94f88d3d9e": {
     "model_module": "@jupyter-widgets/base",
     "model_module_version": "1.2.0",
     "model_name": "LayoutModel",
     "state": {
      "_model_module": "@jupyter-widgets/base",
      "_model_module_version": "1.2.0",
      "_model_name": "LayoutModel",
      "_view_count": null,
      "_view_module": "@jupyter-widgets/base",
      "_view_module_version": "1.2.0",
      "_view_name": "LayoutView",
      "align_content": null,
      "align_items": null,
      "align_self": null,
      "border": null,
      "bottom": null,
      "display": null,
      "flex": null,
      "flex_flow": null,
      "grid_area": null,
      "grid_auto_columns": null,
      "grid_auto_flow": null,
      "grid_auto_rows": null,
      "grid_column": null,
      "grid_gap": null,
      "grid_row": null,
      "grid_template_areas": null,
      "grid_template_columns": null,
      "grid_template_rows": null,
      "height": null,
      "justify_content": null,
      "justify_items": null,
      "left": null,
      "margin": null,
      "max_height": null,
      "max_width": null,
      "min_height": null,
      "min_width": null,
      "object_fit": null,
      "object_position": null,
      "order": null,
      "overflow": null,
      "overflow_x": null,
      "overflow_y": null,
      "padding": null,
      "right": null,
      "top": null,
      "visibility": null,
      "width": null
     }
    },
    "a434a69053474672ba201f0a057e74c4": {
     "model_module": "@jupyter-widgets/base",
     "model_module_version": "1.2.0",
     "model_name": "LayoutModel",
     "state": {
      "_model_module": "@jupyter-widgets/base",
      "_model_module_version": "1.2.0",
      "_model_name": "LayoutModel",
      "_view_count": null,
      "_view_module": "@jupyter-widgets/base",
      "_view_module_version": "1.2.0",
      "_view_name": "LayoutView",
      "align_content": null,
      "align_items": null,
      "align_self": null,
      "border": null,
      "bottom": null,
      "display": null,
      "flex": null,
      "flex_flow": null,
      "grid_area": null,
      "grid_auto_columns": null,
      "grid_auto_flow": null,
      "grid_auto_rows": null,
      "grid_column": null,
      "grid_gap": null,
      "grid_row": null,
      "grid_template_areas": null,
      "grid_template_columns": null,
      "grid_template_rows": null,
      "height": null,
      "justify_content": null,
      "justify_items": null,
      "left": null,
      "margin": null,
      "max_height": null,
      "max_width": null,
      "min_height": null,
      "min_width": null,
      "object_fit": null,
      "object_position": null,
      "order": null,
      "overflow": null,
      "overflow_x": null,
      "overflow_y": null,
      "padding": null,
      "right": null,
      "top": null,
      "visibility": null,
      "width": null
     }
    },
    "abb9c44b42754f538f94cb2dea672555": {
     "model_module": "@jupyter-widgets/base",
     "model_module_version": "1.2.0",
     "model_name": "LayoutModel",
     "state": {
      "_model_module": "@jupyter-widgets/base",
      "_model_module_version": "1.2.0",
      "_model_name": "LayoutModel",
      "_view_count": null,
      "_view_module": "@jupyter-widgets/base",
      "_view_module_version": "1.2.0",
      "_view_name": "LayoutView",
      "align_content": null,
      "align_items": null,
      "align_self": null,
      "border": null,
      "bottom": null,
      "display": null,
      "flex": null,
      "flex_flow": null,
      "grid_area": null,
      "grid_auto_columns": null,
      "grid_auto_flow": null,
      "grid_auto_rows": null,
      "grid_column": null,
      "grid_gap": null,
      "grid_row": null,
      "grid_template_areas": null,
      "grid_template_columns": null,
      "grid_template_rows": null,
      "height": null,
      "justify_content": null,
      "justify_items": null,
      "left": null,
      "margin": null,
      "max_height": null,
      "max_width": null,
      "min_height": null,
      "min_width": null,
      "object_fit": null,
      "object_position": null,
      "order": null,
      "overflow": null,
      "overflow_x": null,
      "overflow_y": null,
      "padding": null,
      "right": null,
      "top": null,
      "visibility": null,
      "width": null
     }
    },
    "ac8b38da240048eead2b9a4509b7dfe0": {
     "model_module": "@jupyter-widgets/base",
     "model_module_version": "1.2.0",
     "model_name": "LayoutModel",
     "state": {
      "_model_module": "@jupyter-widgets/base",
      "_model_module_version": "1.2.0",
      "_model_name": "LayoutModel",
      "_view_count": null,
      "_view_module": "@jupyter-widgets/base",
      "_view_module_version": "1.2.0",
      "_view_name": "LayoutView",
      "align_content": null,
      "align_items": null,
      "align_self": null,
      "border": null,
      "bottom": null,
      "display": null,
      "flex": null,
      "flex_flow": null,
      "grid_area": null,
      "grid_auto_columns": null,
      "grid_auto_flow": null,
      "grid_auto_rows": null,
      "grid_column": null,
      "grid_gap": null,
      "grid_row": null,
      "grid_template_areas": null,
      "grid_template_columns": null,
      "grid_template_rows": null,
      "height": null,
      "justify_content": null,
      "justify_items": null,
      "left": null,
      "margin": null,
      "max_height": null,
      "max_width": null,
      "min_height": null,
      "min_width": null,
      "object_fit": null,
      "object_position": null,
      "order": null,
      "overflow": null,
      "overflow_x": null,
      "overflow_y": null,
      "padding": null,
      "right": null,
      "top": null,
      "visibility": null,
      "width": null
     }
    },
    "adc1bf6aa34342edbcb3e1846bdef924": {
     "model_module": "@jupyter-widgets/controls",
     "model_module_version": "1.5.0",
     "model_name": "FloatProgressModel",
     "state": {
      "_dom_classes": [],
      "_model_module": "@jupyter-widgets/controls",
      "_model_module_version": "1.5.0",
      "_model_name": "FloatProgressModel",
      "_view_count": null,
      "_view_module": "@jupyter-widgets/controls",
      "_view_module_version": "1.5.0",
      "_view_name": "ProgressView",
      "bar_style": "success",
      "description": "",
      "description_tooltip": null,
      "layout": "IPY_MODEL_680de18fa9f4488d9aa7743e13656b52",
      "max": 1,
      "min": 0,
      "orientation": "horizontal",
      "style": "IPY_MODEL_bbe6f032d61444a28ea3c83dc4684794",
      "value": 1
     }
    },
    "ae490feadd2141c581c1077b17a42f64": {
     "model_module": "@jupyter-widgets/controls",
     "model_module_version": "1.5.0",
     "model_name": "DescriptionStyleModel",
     "state": {
      "_model_module": "@jupyter-widgets/controls",
      "_model_module_version": "1.5.0",
      "_model_name": "DescriptionStyleModel",
      "_view_count": null,
      "_view_module": "@jupyter-widgets/base",
      "_view_module_version": "1.2.0",
      "_view_name": "StyleView",
      "description_width": ""
     }
    },
    "ae5a99c37c9d4ba7b3c9183486ba3634": {
     "model_module": "@jupyter-widgets/controls",
     "model_module_version": "1.5.0",
     "model_name": "HTMLModel",
     "state": {
      "_dom_classes": [],
      "_model_module": "@jupyter-widgets/controls",
      "_model_module_version": "1.5.0",
      "_model_name": "HTMLModel",
      "_view_count": null,
      "_view_module": "@jupyter-widgets/controls",
      "_view_module_version": "1.5.0",
      "_view_name": "HTMLView",
      "description": "",
      "description_tooltip": null,
      "layout": "IPY_MODEL_fed1c41f1198450d9618813a3b3ea4b8",
      "placeholder": "​",
      "style": "IPY_MODEL_d7361e340f7a452a9728692171dbced0",
      "value": "Generating train split: 100%"
     }
    },
    "b1ebc9dc349a4c81a80cbc4369382a27": {
     "model_module": "@jupyter-widgets/controls",
     "model_module_version": "1.5.0",
     "model_name": "HTMLModel",
     "state": {
      "_dom_classes": [],
      "_model_module": "@jupyter-widgets/controls",
      "_model_module_version": "1.5.0",
      "_model_name": "HTMLModel",
      "_view_count": null,
      "_view_module": "@jupyter-widgets/controls",
      "_view_module_version": "1.5.0",
      "_view_name": "HTMLView",
      "description": "",
      "description_tooltip": null,
      "layout": "IPY_MODEL_d4d0e1de54d04deea989314b00db841c",
      "placeholder": "​",
      "style": "IPY_MODEL_1ad4992394304e78b09c7011f6bdca49",
      "value": " 441k/? [00:00&lt;00:00, 16.1MB/s]"
     }
    },
    "b5c4aa87a52546bcb1c7fc0343b94a10": {
     "model_module": "@jupyter-widgets/controls",
     "model_module_version": "1.5.0",
     "model_name": "HTMLModel",
     "state": {
      "_dom_classes": [],
      "_model_module": "@jupyter-widgets/controls",
      "_model_module_version": "1.5.0",
      "_model_name": "HTMLModel",
      "_view_count": null,
      "_view_module": "@jupyter-widgets/controls",
      "_view_module_version": "1.5.0",
      "_view_name": "HTMLView",
      "description": "",
      "description_tooltip": null,
      "layout": "IPY_MODEL_8ea6132453084090bc5cb2a9649164ed",
      "placeholder": "​",
      "style": "IPY_MODEL_18071841efad4c77a0a6a4e84a1c04d4",
      "value": " 3/3 [00:00&lt;00:00,  3.31it/s]"
     }
    },
    "b6fadba69cc44d8388f00b6375096c31": {
     "model_module": "@jupyter-widgets/controls",
     "model_module_version": "1.5.0",
     "model_name": "FloatProgressModel",
     "state": {
      "_dom_classes": [],
      "_model_module": "@jupyter-widgets/controls",
      "_model_module_version": "1.5.0",
      "_model_name": "FloatProgressModel",
      "_view_count": null,
      "_view_module": "@jupyter-widgets/controls",
      "_view_module_version": "1.5.0",
      "_view_name": "ProgressView",
      "bar_style": "success",
      "description": "",
      "description_tooltip": null,
      "layout": "IPY_MODEL_ac8b38da240048eead2b9a4509b7dfe0",
      "max": 408,
      "min": 0,
      "orientation": "horizontal",
      "style": "IPY_MODEL_0c0a509f0ed04196b5fa176eec0358c0",
      "value": 408
     }
    },
    "b6fcadb66a1247c498b703bde90b1382": {
     "model_module": "@jupyter-widgets/controls",
     "model_module_version": "1.5.0",
     "model_name": "HTMLModel",
     "state": {
      "_dom_classes": [],
      "_model_module": "@jupyter-widgets/controls",
      "_model_module_version": "1.5.0",
      "_model_name": "HTMLModel",
      "_view_count": null,
      "_view_module": "@jupyter-widgets/controls",
      "_view_module_version": "1.5.0",
      "_view_name": "HTMLView",
      "description": "",
      "description_tooltip": null,
      "layout": "IPY_MODEL_41e31be0416e47da98ccb2bd86b704cd",
      "placeholder": "​",
      "style": "IPY_MODEL_70183855d47e4088835f37affa7c8f7a",
      "value": "Downloading data: "
     }
    },
    "b7322d55ddca4728a636ef96fa360532": {
     "model_module": "@jupyter-widgets/base",
     "model_module_version": "1.2.0",
     "model_name": "LayoutModel",
     "state": {
      "_model_module": "@jupyter-widgets/base",
      "_model_module_version": "1.2.0",
      "_model_name": "LayoutModel",
      "_view_count": null,
      "_view_module": "@jupyter-widgets/base",
      "_view_module_version": "1.2.0",
      "_view_name": "LayoutView",
      "align_content": null,
      "align_items": null,
      "align_self": null,
      "border": null,
      "bottom": null,
      "display": null,
      "flex": null,
      "flex_flow": null,
      "grid_area": null,
      "grid_auto_columns": null,
      "grid_auto_flow": null,
      "grid_auto_rows": null,
      "grid_column": null,
      "grid_gap": null,
      "grid_row": null,
      "grid_template_areas": null,
      "grid_template_columns": null,
      "grid_template_rows": null,
      "height": null,
      "justify_content": null,
      "justify_items": null,
      "left": null,
      "margin": null,
      "max_height": null,
      "max_width": null,
      "min_height": null,
      "min_width": null,
      "object_fit": null,
      "object_position": null,
      "order": null,
      "overflow": null,
      "overflow_x": null,
      "overflow_y": null,
      "padding": null,
      "right": null,
      "top": null,
      "visibility": null,
      "width": null
     }
    },
    "b7f52df5fe0540689526d115290133a8": {
     "model_module": "@jupyter-widgets/controls",
     "model_module_version": "1.5.0",
     "model_name": "ProgressStyleModel",
     "state": {
      "_model_module": "@jupyter-widgets/controls",
      "_model_module_version": "1.5.0",
      "_model_name": "ProgressStyleModel",
      "_view_count": null,
      "_view_module": "@jupyter-widgets/base",
      "_view_module_version": "1.2.0",
      "_view_name": "StyleView",
      "bar_color": null,
      "description_width": ""
     }
    },
    "ba880041e28040719a1744126203c04c": {
     "model_module": "@jupyter-widgets/controls",
     "model_module_version": "1.5.0",
     "model_name": "FloatProgressModel",
     "state": {
      "_dom_classes": [],
      "_model_module": "@jupyter-widgets/controls",
      "_model_module_version": "1.5.0",
      "_model_name": "FloatProgressModel",
      "_view_count": null,
      "_view_module": "@jupyter-widgets/controls",
      "_view_module_version": "1.5.0",
      "_view_name": "ProgressView",
      "bar_style": "success",
      "description": "",
      "description_tooltip": null,
      "layout": "IPY_MODEL_22fcf64527504cba865ac0c15a07b58c",
      "max": 1,
      "min": 0,
      "orientation": "horizontal",
      "style": "IPY_MODEL_1ea67387f0e847218d48544be2d82d67",
      "value": 1
     }
    },
    "bbe6f032d61444a28ea3c83dc4684794": {
     "model_module": "@jupyter-widgets/controls",
     "model_module_version": "1.5.0",
     "model_name": "ProgressStyleModel",
     "state": {
      "_model_module": "@jupyter-widgets/controls",
      "_model_module_version": "1.5.0",
      "_model_name": "ProgressStyleModel",
      "_view_count": null,
      "_view_module": "@jupyter-widgets/base",
      "_view_module_version": "1.2.0",
      "_view_name": "StyleView",
      "bar_color": null,
      "description_width": ""
     }
    },
    "bd31b6645ba6409fbedcd28aafc6599e": {
     "model_module": "@jupyter-widgets/controls",
     "model_module_version": "1.5.0",
     "model_name": "HTMLModel",
     "state": {
      "_dom_classes": [],
      "_model_module": "@jupyter-widgets/controls",
      "_model_module_version": "1.5.0",
      "_model_name": "HTMLModel",
      "_view_count": null,
      "_view_module": "@jupyter-widgets/controls",
      "_view_module_version": "1.5.0",
      "_view_name": "HTMLView",
      "description": "",
      "description_tooltip": null,
      "layout": "IPY_MODEL_ee1eda18559c4749827586cc5c0a3cb1",
      "placeholder": "​",
      "style": "IPY_MODEL_c38b4c51cd4d4e5386a854c34b41fa23",
      "value": " 1725/1725 [00:00&lt;00:00, 14837.12 examples/s]"
     }
    },
    "bf7a3069c4d947d289b413499c3da294": {
     "model_module": "@jupyter-widgets/base",
     "model_module_version": "1.2.0",
     "model_name": "LayoutModel",
     "state": {
      "_model_module": "@jupyter-widgets/base",
      "_model_module_version": "1.2.0",
      "_model_name": "LayoutModel",
      "_view_count": null,
      "_view_module": "@jupyter-widgets/base",
      "_view_module_version": "1.2.0",
      "_view_name": "LayoutView",
      "align_content": null,
      "align_items": null,
      "align_self": null,
      "border": null,
      "bottom": null,
      "display": null,
      "flex": null,
      "flex_flow": null,
      "grid_area": null,
      "grid_auto_columns": null,
      "grid_auto_flow": null,
      "grid_auto_rows": null,
      "grid_column": null,
      "grid_gap": null,
      "grid_row": null,
      "grid_template_areas": null,
      "grid_template_columns": null,
      "grid_template_rows": null,
      "height": null,
      "justify_content": null,
      "justify_items": null,
      "left": null,
      "margin": null,
      "max_height": null,
      "max_width": null,
      "min_height": null,
      "min_width": null,
      "object_fit": null,
      "object_position": null,
      "order": null,
      "overflow": null,
      "overflow_x": null,
      "overflow_y": null,
      "padding": null,
      "right": null,
      "top": null,
      "visibility": null,
      "width": null
     }
    },
    "c0cf2f3c207e4e10800a914f20e01d0a": {
     "model_module": "@jupyter-widgets/controls",
     "model_module_version": "1.5.0",
     "model_name": "FloatProgressModel",
     "state": {
      "_dom_classes": [],
      "_model_module": "@jupyter-widgets/controls",
      "_model_module_version": "1.5.0",
      "_model_name": "FloatProgressModel",
      "_view_count": null,
      "_view_module": "@jupyter-widgets/controls",
      "_view_module_version": "1.5.0",
      "_view_name": "ProgressView",
      "bar_style": "success",
      "description": "",
      "description_tooltip": null,
      "layout": "IPY_MODEL_2e924fca6a63480ebef9c60cef3a8a4c",
      "max": 466062,
      "min": 0,
      "orientation": "horizontal",
      "style": "IPY_MODEL_8a499d435bed43e281aacc7b67abf453",
      "value": 466062
     }
    },
    "c2454cef005c4b7e8cd0ef35a77dd4a4": {
     "model_module": "@jupyter-widgets/base",
     "model_module_version": "1.2.0",
     "model_name": "LayoutModel",
     "state": {
      "_model_module": "@jupyter-widgets/base",
      "_model_module_version": "1.2.0",
      "_model_name": "LayoutModel",
      "_view_count": null,
      "_view_module": "@jupyter-widgets/base",
      "_view_module_version": "1.2.0",
      "_view_name": "LayoutView",
      "align_content": null,
      "align_items": null,
      "align_self": null,
      "border": null,
      "bottom": null,
      "display": null,
      "flex": null,
      "flex_flow": null,
      "grid_area": null,
      "grid_auto_columns": null,
      "grid_auto_flow": null,
      "grid_auto_rows": null,
      "grid_column": null,
      "grid_gap": null,
      "grid_row": null,
      "grid_template_areas": null,
      "grid_template_columns": null,
      "grid_template_rows": null,
      "height": null,
      "justify_content": null,
      "justify_items": null,
      "left": null,
      "margin": null,
      "max_height": null,
      "max_width": null,
      "min_height": null,
      "min_width": null,
      "object_fit": null,
      "object_position": null,
      "order": null,
      "overflow": null,
      "overflow_x": null,
      "overflow_y": null,
      "padding": null,
      "right": null,
      "top": null,
      "visibility": null,
      "width": null
     }
    },
    "c29b0638dc414a6ea55853dcce3793e5": {
     "model_module": "@jupyter-widgets/base",
     "model_module_version": "1.2.0",
     "model_name": "LayoutModel",
     "state": {
      "_model_module": "@jupyter-widgets/base",
      "_model_module_version": "1.2.0",
      "_model_name": "LayoutModel",
      "_view_count": null,
      "_view_module": "@jupyter-widgets/base",
      "_view_module_version": "1.2.0",
      "_view_name": "LayoutView",
      "align_content": null,
      "align_items": null,
      "align_self": null,
      "border": null,
      "bottom": null,
      "display": null,
      "flex": null,
      "flex_flow": null,
      "grid_area": null,
      "grid_auto_columns": null,
      "grid_auto_flow": null,
      "grid_auto_rows": null,
      "grid_column": null,
      "grid_gap": null,
      "grid_row": null,
      "grid_template_areas": null,
      "grid_template_columns": null,
      "grid_template_rows": null,
      "height": null,
      "justify_content": null,
      "justify_items": null,
      "left": null,
      "margin": null,
      "max_height": null,
      "max_width": null,
      "min_height": null,
      "min_width": null,
      "object_fit": null,
      "object_position": null,
      "order": null,
      "overflow": null,
      "overflow_x": null,
      "overflow_y": null,
      "padding": null,
      "right": null,
      "top": null,
      "visibility": null,
      "width": null
     }
    },
    "c32583c455414d92aaa695cc8fbee472": {
     "model_module": "@jupyter-widgets/controls",
     "model_module_version": "1.5.0",
     "model_name": "DescriptionStyleModel",
     "state": {
      "_model_module": "@jupyter-widgets/controls",
      "_model_module_version": "1.5.0",
      "_model_name": "DescriptionStyleModel",
      "_view_count": null,
      "_view_module": "@jupyter-widgets/base",
      "_view_module_version": "1.2.0",
      "_view_name": "StyleView",
      "description_width": ""
     }
    },
    "c38b4c51cd4d4e5386a854c34b41fa23": {
     "model_module": "@jupyter-widgets/controls",
     "model_module_version": "1.5.0",
     "model_name": "DescriptionStyleModel",
     "state": {
      "_model_module": "@jupyter-widgets/controls",
      "_model_module_version": "1.5.0",
      "_model_name": "DescriptionStyleModel",
      "_view_count": null,
      "_view_module": "@jupyter-widgets/base",
      "_view_module_version": "1.2.0",
      "_view_name": "StyleView",
      "description_width": ""
     }
    },
    "c421fc09f86c4371ba271194b67200c3": {
     "model_module": "@jupyter-widgets/controls",
     "model_module_version": "1.5.0",
     "model_name": "FloatProgressModel",
     "state": {
      "_dom_classes": [],
      "_model_module": "@jupyter-widgets/controls",
      "_model_module_version": "1.5.0",
      "_model_name": "FloatProgressModel",
      "_view_count": null,
      "_view_module": "@jupyter-widgets/controls",
      "_view_module_version": "1.5.0",
      "_view_name": "ProgressView",
      "bar_style": "success",
      "description": "",
      "description_tooltip": null,
      "layout": "IPY_MODEL_3082644216064b2f858e27f89be4ab89",
      "max": 440449768,
      "min": 0,
      "orientation": "horizontal",
      "style": "IPY_MODEL_2d2f5f126e114ba798d499c1540fab29",
      "value": 440449768
     }
    },
    "ce3a20bb9a5b4b0eb47ca3781ec0c96f": {
     "model_module": "@jupyter-widgets/base",
     "model_module_version": "1.2.0",
     "model_name": "LayoutModel",
     "state": {
      "_model_module": "@jupyter-widgets/base",
      "_model_module_version": "1.2.0",
      "_model_name": "LayoutModel",
      "_view_count": null,
      "_view_module": "@jupyter-widgets/base",
      "_view_module_version": "1.2.0",
      "_view_name": "LayoutView",
      "align_content": null,
      "align_items": null,
      "align_self": null,
      "border": null,
      "bottom": null,
      "display": null,
      "flex": null,
      "flex_flow": null,
      "grid_area": null,
      "grid_auto_columns": null,
      "grid_auto_flow": null,
      "grid_auto_rows": null,
      "grid_column": null,
      "grid_gap": null,
      "grid_row": null,
      "grid_template_areas": null,
      "grid_template_columns": null,
      "grid_template_rows": null,
      "height": null,
      "justify_content": null,
      "justify_items": null,
      "left": null,
      "margin": null,
      "max_height": null,
      "max_width": null,
      "min_height": null,
      "min_width": null,
      "object_fit": null,
      "object_position": null,
      "order": null,
      "overflow": null,
      "overflow_x": null,
      "overflow_y": null,
      "padding": null,
      "right": null,
      "top": null,
      "visibility": null,
      "width": null
     }
    },
    "d03bcef512b04fd991df2d9e99bb3c59": {
     "model_module": "@jupyter-widgets/controls",
     "model_module_version": "1.5.0",
     "model_name": "HTMLModel",
     "state": {
      "_dom_classes": [],
      "_model_module": "@jupyter-widgets/controls",
      "_model_module_version": "1.5.0",
      "_model_name": "HTMLModel",
      "_view_count": null,
      "_view_module": "@jupyter-widgets/controls",
      "_view_module_version": "1.5.0",
      "_view_name": "HTMLView",
      "description": "",
      "description_tooltip": null,
      "layout": "IPY_MODEL_a434a69053474672ba201f0a057e74c4",
      "placeholder": "​",
      "style": "IPY_MODEL_ffe4bbaa59d74a04a412de68703f52ca",
      "value": "Downloading model.safetensors: 100%"
     }
    },
    "d302f29623f54ba39157c9b1f4e47adc": {
     "model_module": "@jupyter-widgets/controls",
     "model_module_version": "1.5.0",
     "model_name": "DescriptionStyleModel",
     "state": {
      "_model_module": "@jupyter-widgets/controls",
      "_model_module_version": "1.5.0",
      "_model_name": "DescriptionStyleModel",
      "_view_count": null,
      "_view_module": "@jupyter-widgets/base",
      "_view_module_version": "1.2.0",
      "_view_name": "StyleView",
      "description_width": ""
     }
    },
    "d4d0e1de54d04deea989314b00db841c": {
     "model_module": "@jupyter-widgets/base",
     "model_module_version": "1.2.0",
     "model_name": "LayoutModel",
     "state": {
      "_model_module": "@jupyter-widgets/base",
      "_model_module_version": "1.2.0",
      "_model_name": "LayoutModel",
      "_view_count": null,
      "_view_module": "@jupyter-widgets/base",
      "_view_module_version": "1.2.0",
      "_view_name": "LayoutView",
      "align_content": null,
      "align_items": null,
      "align_self": null,
      "border": null,
      "bottom": null,
      "display": null,
      "flex": null,
      "flex_flow": null,
      "grid_area": null,
      "grid_auto_columns": null,
      "grid_auto_flow": null,
      "grid_auto_rows": null,
      "grid_column": null,
      "grid_gap": null,
      "grid_row": null,
      "grid_template_areas": null,
      "grid_template_columns": null,
      "grid_template_rows": null,
      "height": null,
      "justify_content": null,
      "justify_items": null,
      "left": null,
      "margin": null,
      "max_height": null,
      "max_width": null,
      "min_height": null,
      "min_width": null,
      "object_fit": null,
      "object_position": null,
      "order": null,
      "overflow": null,
      "overflow_x": null,
      "overflow_y": null,
      "padding": null,
      "right": null,
      "top": null,
      "visibility": null,
      "width": null
     }
    },
    "d5349e06c71d4347a87000105b7b9597": {
     "model_module": "@jupyter-widgets/base",
     "model_module_version": "1.2.0",
     "model_name": "LayoutModel",
     "state": {
      "_model_module": "@jupyter-widgets/base",
      "_model_module_version": "1.2.0",
      "_model_name": "LayoutModel",
      "_view_count": null,
      "_view_module": "@jupyter-widgets/base",
      "_view_module_version": "1.2.0",
      "_view_name": "LayoutView",
      "align_content": null,
      "align_items": null,
      "align_self": null,
      "border": null,
      "bottom": null,
      "display": null,
      "flex": null,
      "flex_flow": null,
      "grid_area": null,
      "grid_auto_columns": null,
      "grid_auto_flow": null,
      "grid_auto_rows": null,
      "grid_column": null,
      "grid_gap": null,
      "grid_row": null,
      "grid_template_areas": null,
      "grid_template_columns": null,
      "grid_template_rows": null,
      "height": null,
      "justify_content": null,
      "justify_items": null,
      "left": null,
      "margin": null,
      "max_height": null,
      "max_width": null,
      "min_height": null,
      "min_width": null,
      "object_fit": null,
      "object_position": null,
      "order": null,
      "overflow": null,
      "overflow_x": null,
      "overflow_y": null,
      "padding": null,
      "right": null,
      "top": null,
      "visibility": null,
      "width": null
     }
    },
    "d5c5ea268d554b638d910a49530cff99": {
     "model_module": "@jupyter-widgets/controls",
     "model_module_version": "1.5.0",
     "model_name": "HBoxModel",
     "state": {
      "_dom_classes": [],
      "_model_module": "@jupyter-widgets/controls",
      "_model_module_version": "1.5.0",
      "_model_name": "HBoxModel",
      "_view_count": null,
      "_view_module": "@jupyter-widgets/controls",
      "_view_module_version": "1.5.0",
      "_view_name": "HBoxView",
      "box_style": "",
      "children": [
       "IPY_MODEL_13e2e5ea9016470aaa3d38d72f011340",
       "IPY_MODEL_0e3dc6469af646ef8b562e5acf50f94e",
       "IPY_MODEL_b1ebc9dc349a4c81a80cbc4369382a27"
      ],
      "layout": "IPY_MODEL_bf7a3069c4d947d289b413499c3da294"
     }
    },
    "d7361e340f7a452a9728692171dbced0": {
     "model_module": "@jupyter-widgets/controls",
     "model_module_version": "1.5.0",
     "model_name": "DescriptionStyleModel",
     "state": {
      "_model_module": "@jupyter-widgets/controls",
      "_model_module_version": "1.5.0",
      "_model_name": "DescriptionStyleModel",
      "_view_count": null,
      "_view_module": "@jupyter-widgets/base",
      "_view_module_version": "1.2.0",
      "_view_name": "StyleView",
      "description_width": ""
     }
    },
    "d767679b3ca2403ebb924e8fe62ddea9": {
     "model_module": "@jupyter-widgets/controls",
     "model_module_version": "1.5.0",
     "model_name": "DescriptionStyleModel",
     "state": {
      "_model_module": "@jupyter-widgets/controls",
      "_model_module_version": "1.5.0",
      "_model_name": "DescriptionStyleModel",
      "_view_count": null,
      "_view_module": "@jupyter-widgets/base",
      "_view_module_version": "1.2.0",
      "_view_name": "StyleView",
      "description_width": ""
     }
    },
    "dad8ef6a45854057b809896564f42635": {
     "model_module": "@jupyter-widgets/base",
     "model_module_version": "1.2.0",
     "model_name": "LayoutModel",
     "state": {
      "_model_module": "@jupyter-widgets/base",
      "_model_module_version": "1.2.0",
      "_model_name": "LayoutModel",
      "_view_count": null,
      "_view_module": "@jupyter-widgets/base",
      "_view_module_version": "1.2.0",
      "_view_name": "LayoutView",
      "align_content": null,
      "align_items": null,
      "align_self": null,
      "border": null,
      "bottom": null,
      "display": null,
      "flex": null,
      "flex_flow": null,
      "grid_area": null,
      "grid_auto_columns": null,
      "grid_auto_flow": null,
      "grid_auto_rows": null,
      "grid_column": null,
      "grid_gap": null,
      "grid_row": null,
      "grid_template_areas": null,
      "grid_template_columns": null,
      "grid_template_rows": null,
      "height": null,
      "justify_content": null,
      "justify_items": null,
      "left": null,
      "margin": null,
      "max_height": null,
      "max_width": null,
      "min_height": null,
      "min_width": null,
      "object_fit": null,
      "object_position": null,
      "order": null,
      "overflow": null,
      "overflow_x": null,
      "overflow_y": null,
      "padding": null,
      "right": null,
      "top": null,
      "visibility": null,
      "width": null
     }
    },
    "dbeda1ce13774b438574d337effb8579": {
     "model_module": "@jupyter-widgets/controls",
     "model_module_version": "1.5.0",
     "model_name": "HBoxModel",
     "state": {
      "_dom_classes": [],
      "_model_module": "@jupyter-widgets/controls",
      "_model_module_version": "1.5.0",
      "_model_name": "HBoxModel",
      "_view_count": null,
      "_view_module": "@jupyter-widgets/controls",
      "_view_module_version": "1.5.0",
      "_view_name": "HBoxView",
      "box_style": "",
      "children": [
       "IPY_MODEL_ae5a99c37c9d4ba7b3c9183486ba3634",
       "IPY_MODEL_fdbdd52fe20e4d1287ce5e1581ccf16e",
       "IPY_MODEL_831c630ab6ec49f8a54e496e14f77ac0"
      ],
      "layout": "IPY_MODEL_e3719a9b42654c28b37bfd1eeccb9283"
     }
    },
    "dca4a766f34f4d97a1cd51b8acbd29b2": {
     "model_module": "@jupyter-widgets/base",
     "model_module_version": "1.2.0",
     "model_name": "LayoutModel",
     "state": {
      "_model_module": "@jupyter-widgets/base",
      "_model_module_version": "1.2.0",
      "_model_name": "LayoutModel",
      "_view_count": null,
      "_view_module": "@jupyter-widgets/base",
      "_view_module_version": "1.2.0",
      "_view_name": "LayoutView",
      "align_content": null,
      "align_items": null,
      "align_self": null,
      "border": null,
      "bottom": null,
      "display": null,
      "flex": null,
      "flex_flow": null,
      "grid_area": null,
      "grid_auto_columns": null,
      "grid_auto_flow": null,
      "grid_auto_rows": null,
      "grid_column": null,
      "grid_gap": null,
      "grid_row": null,
      "grid_template_areas": null,
      "grid_template_columns": null,
      "grid_template_rows": null,
      "height": null,
      "justify_content": null,
      "justify_items": null,
      "left": null,
      "margin": null,
      "max_height": null,
      "max_width": null,
      "min_height": null,
      "min_width": null,
      "object_fit": null,
      "object_position": null,
      "order": null,
      "overflow": null,
      "overflow_x": null,
      "overflow_y": null,
      "padding": null,
      "right": null,
      "top": null,
      "visibility": null,
      "width": null
     }
    },
    "de2f3d46bf9e4df49567e0fcf5d3b579": {
     "model_module": "@jupyter-widgets/base",
     "model_module_version": "1.2.0",
     "model_name": "LayoutModel",
     "state": {
      "_model_module": "@jupyter-widgets/base",
      "_model_module_version": "1.2.0",
      "_model_name": "LayoutModel",
      "_view_count": null,
      "_view_module": "@jupyter-widgets/base",
      "_view_module_version": "1.2.0",
      "_view_name": "LayoutView",
      "align_content": null,
      "align_items": null,
      "align_self": null,
      "border": null,
      "bottom": null,
      "display": null,
      "flex": null,
      "flex_flow": null,
      "grid_area": null,
      "grid_auto_columns": null,
      "grid_auto_flow": null,
      "grid_auto_rows": null,
      "grid_column": null,
      "grid_gap": null,
      "grid_row": null,
      "grid_template_areas": null,
      "grid_template_columns": null,
      "grid_template_rows": null,
      "height": null,
      "justify_content": null,
      "justify_items": null,
      "left": null,
      "margin": null,
      "max_height": null,
      "max_width": null,
      "min_height": null,
      "min_width": null,
      "object_fit": null,
      "object_position": null,
      "order": null,
      "overflow": null,
      "overflow_x": null,
      "overflow_y": null,
      "padding": null,
      "right": null,
      "top": null,
      "visibility": null,
      "width": null
     }
    },
    "dea71ddf39514f8f8cc0edec1ffe9d0a": {
     "model_module": "@jupyter-widgets/controls",
     "model_module_version": "1.5.0",
     "model_name": "HBoxModel",
     "state": {
      "_dom_classes": [],
      "_model_module": "@jupyter-widgets/controls",
      "_model_module_version": "1.5.0",
      "_model_name": "HBoxModel",
      "_view_count": null,
      "_view_module": "@jupyter-widgets/controls",
      "_view_module_version": "1.5.0",
      "_view_name": "HBoxView",
      "box_style": "",
      "children": [
       "IPY_MODEL_43b0cc13632c4ad78cb7709abe968b43",
       "IPY_MODEL_552c166ae52d4c5a8683d3e2f6cbb661",
       "IPY_MODEL_b5c4aa87a52546bcb1c7fc0343b94a10"
      ],
      "layout": "IPY_MODEL_9f023bcb1b5348cc9f262b283920b1a5"
     }
    },
    "df59e4c553944fd4a2c3e148d0e5dd88": {
     "model_module": "@jupyter-widgets/base",
     "model_module_version": "1.2.0",
     "model_name": "LayoutModel",
     "state": {
      "_model_module": "@jupyter-widgets/base",
      "_model_module_version": "1.2.0",
      "_model_name": "LayoutModel",
      "_view_count": null,
      "_view_module": "@jupyter-widgets/base",
      "_view_module_version": "1.2.0",
      "_view_name": "LayoutView",
      "align_content": null,
      "align_items": null,
      "align_self": null,
      "border": null,
      "bottom": null,
      "display": null,
      "flex": null,
      "flex_flow": null,
      "grid_area": null,
      "grid_auto_columns": null,
      "grid_auto_flow": null,
      "grid_auto_rows": null,
      "grid_column": null,
      "grid_gap": null,
      "grid_row": null,
      "grid_template_areas": null,
      "grid_template_columns": null,
      "grid_template_rows": null,
      "height": null,
      "justify_content": null,
      "justify_items": null,
      "left": null,
      "margin": null,
      "max_height": null,
      "max_width": null,
      "min_height": null,
      "min_width": null,
      "object_fit": null,
      "object_position": null,
      "order": null,
      "overflow": null,
      "overflow_x": null,
      "overflow_y": null,
      "padding": null,
      "right": null,
      "top": null,
      "visibility": null,
      "width": null
     }
    },
    "e0bf3e9a752c49e188bd1512d5338216": {
     "model_module": "@jupyter-widgets/controls",
     "model_module_version": "1.5.0",
     "model_name": "HBoxModel",
     "state": {
      "_dom_classes": [],
      "_model_module": "@jupyter-widgets/controls",
      "_model_module_version": "1.5.0",
      "_model_name": "HBoxModel",
      "_view_count": null,
      "_view_module": "@jupyter-widgets/controls",
      "_view_module_version": "1.5.0",
      "_view_name": "HBoxView",
      "box_style": "",
      "children": [
       "IPY_MODEL_932210500e2c47c896a8c9c32bf2666f",
       "IPY_MODEL_97ad056ff7da4bde8154962f76325798",
       "IPY_MODEL_f1210ef5bf614918b15a471ea4eae104"
      ],
      "layout": "IPY_MODEL_78ef8f80c0a8447e806bcfd095cd7d82"
     }
    },
    "e2a3078f4f744952b398d1f1b912bdb2": {
     "model_module": "@jupyter-widgets/controls",
     "model_module_version": "1.5.0",
     "model_name": "HTMLModel",
     "state": {
      "_dom_classes": [],
      "_model_module": "@jupyter-widgets/controls",
      "_model_module_version": "1.5.0",
      "_model_name": "HTMLModel",
      "_view_count": null,
      "_view_module": "@jupyter-widgets/controls",
      "_view_module_version": "1.5.0",
      "_view_name": "HTMLView",
      "description": "",
      "description_tooltip": null,
      "layout": "IPY_MODEL_1e5b790639d24b1b964afcda5e652915",
      "placeholder": "​",
      "style": "IPY_MODEL_8d21b9fa9ebc4ed786d8047c0cddaac7",
      "value": " 6.22k/? [00:00&lt;00:00, 339kB/s]"
     }
    },
    "e3719a9b42654c28b37bfd1eeccb9283": {
     "model_module": "@jupyter-widgets/base",
     "model_module_version": "1.2.0",
     "model_name": "LayoutModel",
     "state": {
      "_model_module": "@jupyter-widgets/base",
      "_model_module_version": "1.2.0",
      "_model_name": "LayoutModel",
      "_view_count": null,
      "_view_module": "@jupyter-widgets/base",
      "_view_module_version": "1.2.0",
      "_view_name": "LayoutView",
      "align_content": null,
      "align_items": null,
      "align_self": null,
      "border": null,
      "bottom": null,
      "display": null,
      "flex": null,
      "flex_flow": null,
      "grid_area": null,
      "grid_auto_columns": null,
      "grid_auto_flow": null,
      "grid_auto_rows": null,
      "grid_column": null,
      "grid_gap": null,
      "grid_row": null,
      "grid_template_areas": null,
      "grid_template_columns": null,
      "grid_template_rows": null,
      "height": null,
      "justify_content": null,
      "justify_items": null,
      "left": null,
      "margin": null,
      "max_height": null,
      "max_width": null,
      "min_height": null,
      "min_width": null,
      "object_fit": null,
      "object_position": null,
      "order": null,
      "overflow": null,
      "overflow_x": null,
      "overflow_y": null,
      "padding": null,
      "right": null,
      "top": null,
      "visibility": null,
      "width": null
     }
    },
    "e3df6ff6023f48c3917dbe7de23bc537": {
     "model_module": "@jupyter-widgets/base",
     "model_module_version": "1.2.0",
     "model_name": "LayoutModel",
     "state": {
      "_model_module": "@jupyter-widgets/base",
      "_model_module_version": "1.2.0",
      "_model_name": "LayoutModel",
      "_view_count": null,
      "_view_module": "@jupyter-widgets/base",
      "_view_module_version": "1.2.0",
      "_view_name": "LayoutView",
      "align_content": null,
      "align_items": null,
      "align_self": null,
      "border": null,
      "bottom": null,
      "display": null,
      "flex": null,
      "flex_flow": null,
      "grid_area": null,
      "grid_auto_columns": null,
      "grid_auto_flow": null,
      "grid_auto_rows": null,
      "grid_column": null,
      "grid_gap": null,
      "grid_row": null,
      "grid_template_areas": null,
      "grid_template_columns": null,
      "grid_template_rows": null,
      "height": null,
      "justify_content": null,
      "justify_items": null,
      "left": null,
      "margin": null,
      "max_height": null,
      "max_width": null,
      "min_height": null,
      "min_width": null,
      "object_fit": null,
      "object_position": null,
      "order": null,
      "overflow": null,
      "overflow_x": null,
      "overflow_y": null,
      "padding": null,
      "right": null,
      "top": null,
      "visibility": null,
      "width": null
     }
    },
    "eacb5fae3b4d411dae7d93193085ab67": {
     "model_module": "@jupyter-widgets/base",
     "model_module_version": "1.2.0",
     "model_name": "LayoutModel",
     "state": {
      "_model_module": "@jupyter-widgets/base",
      "_model_module_version": "1.2.0",
      "_model_name": "LayoutModel",
      "_view_count": null,
      "_view_module": "@jupyter-widgets/base",
      "_view_module_version": "1.2.0",
      "_view_name": "LayoutView",
      "align_content": null,
      "align_items": null,
      "align_self": null,
      "border": null,
      "bottom": null,
      "display": null,
      "flex": null,
      "flex_flow": null,
      "grid_area": null,
      "grid_auto_columns": null,
      "grid_auto_flow": null,
      "grid_auto_rows": null,
      "grid_column": null,
      "grid_gap": null,
      "grid_row": null,
      "grid_template_areas": null,
      "grid_template_columns": null,
      "grid_template_rows": null,
      "height": null,
      "justify_content": null,
      "justify_items": null,
      "left": null,
      "margin": null,
      "max_height": null,
      "max_width": null,
      "min_height": null,
      "min_width": null,
      "object_fit": null,
      "object_position": null,
      "order": null,
      "overflow": null,
      "overflow_x": null,
      "overflow_y": null,
      "padding": null,
      "right": null,
      "top": null,
      "visibility": null,
      "width": null
     }
    },
    "eb2ccf72e522484ab77fcd97c08e928e": {
     "model_module": "@jupyter-widgets/base",
     "model_module_version": "1.2.0",
     "model_name": "LayoutModel",
     "state": {
      "_model_module": "@jupyter-widgets/base",
      "_model_module_version": "1.2.0",
      "_model_name": "LayoutModel",
      "_view_count": null,
      "_view_module": "@jupyter-widgets/base",
      "_view_module_version": "1.2.0",
      "_view_name": "LayoutView",
      "align_content": null,
      "align_items": null,
      "align_self": null,
      "border": null,
      "bottom": null,
      "display": null,
      "flex": null,
      "flex_flow": null,
      "grid_area": null,
      "grid_auto_columns": null,
      "grid_auto_flow": null,
      "grid_auto_rows": null,
      "grid_column": null,
      "grid_gap": null,
      "grid_row": null,
      "grid_template_areas": null,
      "grid_template_columns": null,
      "grid_template_rows": null,
      "height": null,
      "justify_content": null,
      "justify_items": null,
      "left": null,
      "margin": null,
      "max_height": null,
      "max_width": null,
      "min_height": null,
      "min_width": null,
      "object_fit": null,
      "object_position": null,
      "order": null,
      "overflow": null,
      "overflow_x": null,
      "overflow_y": null,
      "padding": null,
      "right": null,
      "top": null,
      "visibility": null,
      "width": null
     }
    },
    "ee1eda18559c4749827586cc5c0a3cb1": {
     "model_module": "@jupyter-widgets/base",
     "model_module_version": "1.2.0",
     "model_name": "LayoutModel",
     "state": {
      "_model_module": "@jupyter-widgets/base",
      "_model_module_version": "1.2.0",
      "_model_name": "LayoutModel",
      "_view_count": null,
      "_view_module": "@jupyter-widgets/base",
      "_view_module_version": "1.2.0",
      "_view_name": "LayoutView",
      "align_content": null,
      "align_items": null,
      "align_self": null,
      "border": null,
      "bottom": null,
      "display": null,
      "flex": null,
      "flex_flow": null,
      "grid_area": null,
      "grid_auto_columns": null,
      "grid_auto_flow": null,
      "grid_auto_rows": null,
      "grid_column": null,
      "grid_gap": null,
      "grid_row": null,
      "grid_template_areas": null,
      "grid_template_columns": null,
      "grid_template_rows": null,
      "height": null,
      "justify_content": null,
      "justify_items": null,
      "left": null,
      "margin": null,
      "max_height": null,
      "max_width": null,
      "min_height": null,
      "min_width": null,
      "object_fit": null,
      "object_position": null,
      "order": null,
      "overflow": null,
      "overflow_x": null,
      "overflow_y": null,
      "padding": null,
      "right": null,
      "top": null,
      "visibility": null,
      "width": null
     }
    },
    "ee2be9e50e384a72bac10da09bc4081a": {
     "model_module": "@jupyter-widgets/controls",
     "model_module_version": "1.5.0",
     "model_name": "ProgressStyleModel",
     "state": {
      "_model_module": "@jupyter-widgets/controls",
      "_model_module_version": "1.5.0",
      "_model_name": "ProgressStyleModel",
      "_view_count": null,
      "_view_module": "@jupyter-widgets/base",
      "_view_module_version": "1.2.0",
      "_view_name": "StyleView",
      "bar_color": null,
      "description_width": ""
     }
    },
    "eeb6e5275c3b4f5ea685752cd1fee5bc": {
     "model_module": "@jupyter-widgets/controls",
     "model_module_version": "1.5.0",
     "model_name": "ProgressStyleModel",
     "state": {
      "_model_module": "@jupyter-widgets/controls",
      "_model_module_version": "1.5.0",
      "_model_name": "ProgressStyleModel",
      "_view_count": null,
      "_view_module": "@jupyter-widgets/base",
      "_view_module_version": "1.2.0",
      "_view_name": "StyleView",
      "bar_color": null,
      "description_width": ""
     }
    },
    "f1210ef5bf614918b15a471ea4eae104": {
     "model_module": "@jupyter-widgets/controls",
     "model_module_version": "1.5.0",
     "model_name": "HTMLModel",
     "state": {
      "_dom_classes": [],
      "_model_module": "@jupyter-widgets/controls",
      "_model_module_version": "1.5.0",
      "_model_name": "HTMLModel",
      "_view_count": null,
      "_view_module": "@jupyter-widgets/controls",
      "_view_module_version": "1.5.0",
      "_view_name": "HTMLView",
      "description": "",
      "description_tooltip": null,
      "layout": "IPY_MODEL_eb2ccf72e522484ab77fcd97c08e928e",
      "placeholder": "​",
      "style": "IPY_MODEL_458d6f9570f8463fa1a3e0d6af4322ca",
      "value": " 232k/232k [00:00&lt;00:00, 5.89MB/s]"
     }
    },
    "f18a44e37f404ab9b5250ecd4a02ac0b": {
     "model_module": "@jupyter-widgets/controls",
     "model_module_version": "1.5.0",
     "model_name": "HBoxModel",
     "state": {
      "_dom_classes": [],
      "_model_module": "@jupyter-widgets/controls",
      "_model_module_version": "1.5.0",
      "_model_name": "HBoxModel",
      "_view_count": null,
      "_view_module": "@jupyter-widgets/controls",
      "_view_module_version": "1.5.0",
      "_view_name": "HBoxView",
      "box_style": "",
      "children": [
       "IPY_MODEL_5d6b75b347e94f3dafd896a00a193dd1",
       "IPY_MODEL_ba880041e28040719a1744126203c04c",
       "IPY_MODEL_182411aa8f824b4cb9376dbf4dd94b13"
      ],
      "layout": "IPY_MODEL_dad8ef6a45854057b809896564f42635"
     }
    },
    "f2bf19a7dfe243a2ba46b45854b525b2": {
     "model_module": "@jupyter-widgets/base",
     "model_module_version": "1.2.0",
     "model_name": "LayoutModel",
     "state": {
      "_model_module": "@jupyter-widgets/base",
      "_model_module_version": "1.2.0",
      "_model_name": "LayoutModel",
      "_view_count": null,
      "_view_module": "@jupyter-widgets/base",
      "_view_module_version": "1.2.0",
      "_view_name": "LayoutView",
      "align_content": null,
      "align_items": null,
      "align_self": null,
      "border": null,
      "bottom": null,
      "display": null,
      "flex": null,
      "flex_flow": null,
      "grid_area": null,
      "grid_auto_columns": null,
      "grid_auto_flow": null,
      "grid_auto_rows": null,
      "grid_column": null,
      "grid_gap": null,
      "grid_row": null,
      "grid_template_areas": null,
      "grid_template_columns": null,
      "grid_template_rows": null,
      "height": null,
      "justify_content": null,
      "justify_items": null,
      "left": null,
      "margin": null,
      "max_height": null,
      "max_width": null,
      "min_height": null,
      "min_width": null,
      "object_fit": null,
      "object_position": null,
      "order": null,
      "overflow": null,
      "overflow_x": null,
      "overflow_y": null,
      "padding": null,
      "right": null,
      "top": null,
      "visibility": null,
      "width": null
     }
    },
    "f38db671db984755b969661721fc0925": {
     "model_module": "@jupyter-widgets/base",
     "model_module_version": "1.2.0",
     "model_name": "LayoutModel",
     "state": {
      "_model_module": "@jupyter-widgets/base",
      "_model_module_version": "1.2.0",
      "_model_name": "LayoutModel",
      "_view_count": null,
      "_view_module": "@jupyter-widgets/base",
      "_view_module_version": "1.2.0",
      "_view_name": "LayoutView",
      "align_content": null,
      "align_items": null,
      "align_self": null,
      "border": null,
      "bottom": null,
      "display": null,
      "flex": null,
      "flex_flow": null,
      "grid_area": null,
      "grid_auto_columns": null,
      "grid_auto_flow": null,
      "grid_auto_rows": null,
      "grid_column": null,
      "grid_gap": null,
      "grid_row": null,
      "grid_template_areas": null,
      "grid_template_columns": null,
      "grid_template_rows": null,
      "height": null,
      "justify_content": null,
      "justify_items": null,
      "left": null,
      "margin": null,
      "max_height": null,
      "max_width": null,
      "min_height": null,
      "min_width": null,
      "object_fit": null,
      "object_position": null,
      "order": null,
      "overflow": null,
      "overflow_x": null,
      "overflow_y": null,
      "padding": null,
      "right": null,
      "top": null,
      "visibility": null,
      "width": null
     }
    },
    "f439505bc9fc4df8a60ce6d0b2bda93e": {
     "model_module": "@jupyter-widgets/controls",
     "model_module_version": "1.5.0",
     "model_name": "FloatProgressModel",
     "state": {
      "_dom_classes": [],
      "_model_module": "@jupyter-widgets/controls",
      "_model_module_version": "1.5.0",
      "_model_name": "FloatProgressModel",
      "_view_count": null,
      "_view_module": "@jupyter-widgets/controls",
      "_view_module_version": "1.5.0",
      "_view_name": "ProgressView",
      "bar_style": "success",
      "description": "",
      "description_tooltip": null,
      "layout": "IPY_MODEL_17b86a1713d64b6fbb74fa1f620c28b6",
      "max": 28751,
      "min": 0,
      "orientation": "horizontal",
      "style": "IPY_MODEL_326ac6354bce4d55bca435a5b9f4e149",
      "value": 28751
     }
    },
    "f77b7d2aed774a9faf2812f6157a30f2": {
     "model_module": "@jupyter-widgets/controls",
     "model_module_version": "1.5.0",
     "model_name": "HBoxModel",
     "state": {
      "_dom_classes": [],
      "_model_module": "@jupyter-widgets/controls",
      "_model_module_version": "1.5.0",
      "_model_name": "HBoxModel",
      "_view_count": null,
      "_view_module": "@jupyter-widgets/controls",
      "_view_module_version": "1.5.0",
      "_view_name": "HBoxView",
      "box_style": "",
      "children": [
       "IPY_MODEL_06e556e706e942969121e3ac2f2e6fc9",
       "IPY_MODEL_c0cf2f3c207e4e10800a914f20e01d0a",
       "IPY_MODEL_4d9e0eebdb3d4bcc9cb27d5e73d10ff1"
      ],
>>>>>>> d3bbfca52417847ccaee0378ff159983aa8d5ad5
      "layout": "IPY_MODEL_628033cedd2644ee9713f7e85a49068a"
     }
    },
    "fc66821a463b486dbf8ecf4af12fba92": {
     "model_module": "@jupyter-widgets/controls",
     "model_module_version": "1.5.0",
     "model_name": "HTMLModel",
     "state": {
      "_dom_classes": [],
      "_model_module": "@jupyter-widgets/controls",
      "_model_module_version": "1.5.0",
      "_model_name": "HTMLModel",
      "_view_count": null,
      "_view_module": "@jupyter-widgets/controls",
      "_view_module_version": "1.5.0",
      "_view_name": "HTMLView",
      "description": "",
      "description_tooltip": null,
      "layout": "IPY_MODEL_77d79843fc4d4d25841520a1787ac92c",
      "placeholder": "​",
      "style": "IPY_MODEL_198cf0f476c74d4fb1d999a9501a6471",
      "value": "Generating test split: 100%"
     }
    },
    "fcc600f5f7c64c7985d65f57e118b1f9": {
     "model_module": "@jupyter-widgets/base",
     "model_module_version": "1.2.0",
     "model_name": "LayoutModel",
     "state": {
      "_model_module": "@jupyter-widgets/base",
      "_model_module_version": "1.2.0",
      "_model_name": "LayoutModel",
      "_view_count": null,
      "_view_module": "@jupyter-widgets/base",
      "_view_module_version": "1.2.0",
      "_view_name": "LayoutView",
      "align_content": null,
      "align_items": null,
      "align_self": null,
      "border": null,
      "bottom": null,
      "display": null,
      "flex": null,
      "flex_flow": null,
      "grid_area": null,
      "grid_auto_columns": null,
      "grid_auto_flow": null,
      "grid_auto_rows": null,
      "grid_column": null,
      "grid_gap": null,
      "grid_row": null,
      "grid_template_areas": null,
      "grid_template_columns": null,
      "grid_template_rows": null,
      "height": null,
      "justify_content": null,
      "justify_items": null,
      "left": null,
      "margin": null,
      "max_height": null,
      "max_width": null,
      "min_height": null,
      "min_width": null,
      "object_fit": null,
      "object_position": null,
      "order": null,
      "overflow": null,
      "overflow_x": null,
      "overflow_y": null,
      "padding": null,
      "right": null,
      "top": null,
      "visibility": null,
      "width": null
     }
    },
    "fdbdd52fe20e4d1287ce5e1581ccf16e": {
     "model_module": "@jupyter-widgets/controls",
     "model_module_version": "1.5.0",
     "model_name": "FloatProgressModel",
     "state": {
      "_dom_classes": [],
      "_model_module": "@jupyter-widgets/controls",
      "_model_module_version": "1.5.0",
      "_model_name": "FloatProgressModel",
      "_view_count": null,
      "_view_module": "@jupyter-widgets/controls",
      "_view_module_version": "1.5.0",
      "_view_name": "ProgressView",
      "bar_style": "success",
      "description": "",
      "description_tooltip": null,
      "layout": "IPY_MODEL_f2bf19a7dfe243a2ba46b45854b525b2",
      "max": 3668,
      "min": 0,
      "orientation": "horizontal",
      "style": "IPY_MODEL_3fa61f1c283146668aa13efc6f436eff",
      "value": 3668
     }
    },
    "fed1c41f1198450d9618813a3b3ea4b8": {
     "model_module": "@jupyter-widgets/base",
     "model_module_version": "1.2.0",
     "model_name": "LayoutModel",
     "state": {
      "_model_module": "@jupyter-widgets/base",
      "_model_module_version": "1.2.0",
      "_model_name": "LayoutModel",
      "_view_count": null,
      "_view_module": "@jupyter-widgets/base",
      "_view_module_version": "1.2.0",
      "_view_name": "LayoutView",
      "align_content": null,
      "align_items": null,
      "align_self": null,
      "border": null,
      "bottom": null,
      "display": null,
      "flex": null,
      "flex_flow": null,
      "grid_area": null,
      "grid_auto_columns": null,
      "grid_auto_flow": null,
      "grid_auto_rows": null,
      "grid_column": null,
      "grid_gap": null,
      "grid_row": null,
      "grid_template_areas": null,
      "grid_template_columns": null,
      "grid_template_rows": null,
      "height": null,
      "justify_content": null,
      "justify_items": null,
      "left": null,
      "margin": null,
      "max_height": null,
      "max_width": null,
      "min_height": null,
      "min_width": null,
      "object_fit": null,
      "object_position": null,
      "order": null,
      "overflow": null,
      "overflow_x": null,
      "overflow_y": null,
      "padding": null,
      "right": null,
      "top": null,
      "visibility": null,
      "width": null
     }
    },
    "ff5380252feb4b80af46508820762529": {
     "model_module": "@jupyter-widgets/controls",
     "model_module_version": "1.5.0",
     "model_name": "HBoxModel",
     "state": {
      "_dom_classes": [],
      "_model_module": "@jupyter-widgets/controls",
      "_model_module_version": "1.5.0",
      "_model_name": "HBoxModel",
      "_view_count": null,
      "_view_module": "@jupyter-widgets/controls",
      "_view_module_version": "1.5.0",
      "_view_name": "HBoxView",
      "box_style": "",
      "children": [
       "IPY_MODEL_55d5580a3c6642969e7ea4b1af6f062d",
       "IPY_MODEL_2898aab6763d4a679a2c69e02b6df257",
       "IPY_MODEL_1e112e32605d41a9b3dd1f53b547ac45"
      ],
      "layout": "IPY_MODEL_5b6b3f31dd62472fb1bab5ca596badc5"
     }
    },
    "ffe4bbaa59d74a04a412de68703f52ca": {
     "model_module": "@jupyter-widgets/controls",
     "model_module_version": "1.5.0",
     "model_name": "DescriptionStyleModel",
     "state": {
      "_model_module": "@jupyter-widgets/controls",
      "_model_module_version": "1.5.0",
      "_model_name": "DescriptionStyleModel",
      "_view_count": null,
      "_view_module": "@jupyter-widgets/base",
      "_view_module_version": "1.2.0",
      "_view_name": "StyleView",
      "description_width": ""
     }
    }
   }
  }
 },
 "nbformat": 4,
<<<<<<< HEAD
 "nbformat_minor": 4
=======
 "nbformat_minor": 0
>>>>>>> d3bbfca52417847ccaee0378ff159983aa8d5ad5
}
