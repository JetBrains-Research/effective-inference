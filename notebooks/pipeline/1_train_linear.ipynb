{
 "cells": [
  {
   "cell_type": "code",
   "execution_count": 1,
   "id": "132681fa-7b1f-4ff5-a55e-9c90353188a8",
   "metadata": {},
   "outputs": [
    {
     "name": "stdout",
     "output_type": "stream",
     "text": [
      "/home/shapkin/effective-inference\n"
     ]
    }
   ],
   "source": [
    "%cd ../.."
   ]
  },
  {
   "cell_type": "markdown",
   "id": "a85b67a0-fe46-4104-a66e-bf8bdabb756c",
   "metadata": {},
   "source": [
    "## Import libs"
   ]
  },
  {
   "cell_type": "code",
   "execution_count": 2,
   "id": "570ebef6-a677-45ff-8ee9-69f8ee0747fa",
   "metadata": {},
   "outputs": [],
   "source": [
    "import os\n",
    "os.environ[\"CUDA_VISIBLE_DEVICES\"]=\"3\"\n",
    "\n",
    "import yaml\n",
    "import h5py\n",
    "import numpy as np\n",
    "import torch\n",
    "\n",
    "from utils.dataset_cache import cache_embeddings, get_dataset_for_regression, build_dataset_from_cached, load_cached_dataset\n",
    "from utils.config import ConfigWrapper\n",
    "from utils.prepare_dataset import load_datasets, cut_datasets\n",
    "from tqdm.auto import tqdm\n",
    "from transformers import AutoTokenizer, AutoModel\n",
    "from typing import Tuple, List, Dict, Optional, Union"
   ]
  },
  {
   "cell_type": "code",
   "execution_count": 9,
   "id": "00e31b89-adfc-4ecf-90b0-b0fa10375fb1",
   "metadata": {},
   "outputs": [],
   "source": [
    "from torch import nn\n",
    "from copy import deepcopy\n",
    "\n",
    "def hidden_to_heads(x, config):\n",
    "    num_attention_heads = config.attention_config.num_heads\n",
    "    attention_head_size =  config.attention_config.d_model // config.attention_config.num_heads\n",
    "    new_x_shape = x.size()[:-1] + (num_attention_heads, attention_head_size)\n",
    "    x = x.view(new_x_shape)\n",
    "    return x\n",
    "\n",
    "class LinearAttention(nn.Module):\n",
    "    def __init__(self, config):\n",
    "        super(LinearAttention, self).__init__()\n",
    "        self.config = config\n",
    "        self.features = config['features']\n",
    "        self.device = config['device']\n",
    "        self.batch_size = config['batch_size']\n",
    "        \n",
    "        if config.split_heads:\n",
    "            self.dim_size = config['d_model'] // config['num_heads']\n",
    "\n",
    "            for head_id in range(len(config['num_heads'])):\n",
    "                for k in self.features:\n",
    "                    if k == 'head_num':\n",
    "                        continue\n",
    "                        \n",
    "                    if 'hidden' in k:\n",
    "                        learnable_parameters = f'torch.nn.Linear(in_features={self.dim_size}, out_features=1)'\n",
    "                        exec(f\"self.{k}_{head_id} = {learnable_parameters}\")\n",
    "                    else:\n",
    "                        #learnable_parameters = f'torch.nn.Linear(in_features=1, out_features=1)'\n",
    "                        learnable_parameters = f'nn.Parameter(torch.randn(1), requires_grad=True)'\n",
    "                        #self.register_parameter(f'{k}', nn.Parameter(torch.normal(mean=torch.tensor(0.0), std=torch.tensor(1.0))))\n",
    "                        exec(f\"self.{k}_{head_id} = {learnable_parameters}\")\n",
    "\n",
    "        else:\n",
    "            self.dim_size = config['d_model']\n",
    "\n",
    "            for k in self.features:\n",
    "                if 'hidden' in k:\n",
    "                    learnable_parameters = f'torch.nn.Linear(in_features={self.dim_size}, out_features=1)'\n",
    "                    exec(f\"self.{k} = {learnable_parameters}\")\n",
    "                else:\n",
    "                    #learnable_parameters = f'torch.nn.Linear(in_features=1, out_features=1)'\n",
    "                    learnable_parameters = f'nn.Parameter(torch.randn(1), requires_grad=True)'\n",
    "                    #self.register_parameter(f'{k}', nn.Parameter(torch.normal(mean=torch.tensor(0.0), std=torch.tensor(1.0))))\n",
    "                    exec(f\"self.{k} = {learnable_parameters}\")\n",
    "                    \n",
    "            \n",
    "    def forward(self, seq_len, **kwargs):\n",
    "        result = torch.zeros((self.batch_size, seq_len, seq_len), device=self.device)\n",
    "        if self.config.split_heads:\n",
    "            assert 'head_num' in kwargs, 'You did NOT provide head_num'\n",
    "            for arg_name, arg_value in kwargs.items():\n",
    "                if arg_name == head_num:\n",
    "                    continue\n",
    "                # a = arg_value.clone()\n",
    "                namespace = {'cur_result': None, 'self': self, 'arg_name': arg_name, 'arg_value': arg_value}\n",
    "                if 'hidden' in arg_name:\n",
    "                    #print(f\"result += self.{arg_name}(arg_value)\")\n",
    "                    exec(f\"cur_result = self.{arg_name}_{head_num}(arg_value)\", namespace)\n",
    "                else:\n",
    "                    #print(f\"result += self.{arg_name} * arg_value\")\n",
    "                    exec(f\"cur_result = self.{arg_name}_{head_num} * arg_value\", namespace)\n",
    "                if 'from' in arg_name:\n",
    "                    result += namespace['cur_result'].T\n",
    "                else:\n",
    "                    result += namespace['cur_result']\n",
    "            return result\n",
    "            \n",
    "        else:\n",
    "            for arg_name, arg_value in kwargs.items():\n",
    "                # a = arg_value.clone()\n",
    "                namespace = {'cur_result': None, 'self': self, 'arg_name': arg_name, 'arg_value': arg_value}\n",
    "                if 'hidden' in arg_name:\n",
    "                    #print(f\"result += self.{arg_name}(arg_value)\")\n",
    "                    exec(f\"cur_result = self.{arg_name}(arg_value)\", namespace)\n",
    "                else:\n",
    "                    #print(f\"result += self.{arg_name} * arg_value\")\n",
    "                    exec(f\"cur_result = self.{arg_name} * arg_value\", namespace)\n",
    "                if 'from' in arg_name:\n",
    "                    result += namespace['cur_result'].T\n",
    "                else:\n",
    "                    result += namespace['cur_result']\n",
    "            return result\n",
    "            \n",
    "\n",
    "from transformers.models.bert.modeling_bert import BertSelfAttention, BertModel, \\\n",
    "    BaseModelOutputWithPastAndCrossAttentions\n",
    "\n",
    "class LinearClassifierBertAttention(BertSelfAttention):\n",
    "    \"\"\"\n",
    "    Idea: attention weights are predicted by Linear Classifier\n",
    "    \"\"\"\n",
    "    def __init__(self, bert_config, config):\n",
    "        super(LinearClassifierBertAttention, self).__init__(bert_config)\n",
    "        self.config = config\n",
    "        self.linear_config = config.attention_config\n",
    "        self.linear_model = LinearAttention(config.attention_config)\n",
    "\n",
    "    def forward(\n",
    "            self,\n",
    "            hidden_states: torch.Tensor,\n",
    "            attention_mask: Optional[torch.FloatTensor] = None,\n",
    "            head_mask: Optional[torch.FloatTensor] = None,\n",
    "            encoder_hidden_states: Optional[torch.FloatTensor] = None,\n",
    "            encoder_attention_mask: Optional[torch.FloatTensor] = None,\n",
    "            past_key_value: Optional[Tuple[Tuple[torch.FloatTensor]]] = None,\n",
    "            output_attentions: Optional[bool] = False,\n",
    "            # special_tokens_idxs: Optional[List[int]] = [0]\n",
    "    ) -> Tuple[torch.Tensor]:\n",
    "        mixed_query_layer = self.query(hidden_states)\n",
    "\n",
    "        # If this is instantiated as a cross-attention module, the keys\n",
    "        # and values come from an encoder; the attention mask needs to be\n",
    "        # such that the encoder's padding tokens are not attended to.\n",
    "        is_cross_attention = encoder_hidden_states is not None\n",
    "\n",
    "        if is_cross_attention and past_key_value is not None:\n",
    "            # reuse k,v, cross_attentions\n",
    "            key_layer = past_key_value[0]\n",
    "            value_layer = past_key_value[1]\n",
    "            attention_mask = encoder_attention_mask\n",
    "            # special_tokens_idxs = (encoder_hidden_states[0] < 103).nonzero().squeeze()\n",
    "        elif is_cross_attention:\n",
    "            key_layer = self.transpose_for_scores(self.key(encoder_hidden_states))\n",
    "            value_layer = self.transpose_for_scores(self.value(encoder_hidden_states))\n",
    "            attention_mask = encoder_attention_mask\n",
    "            # special_tokens_idxs = (encoder_hidden_states[0] < 103).nonzero().squeeze()\n",
    "        elif past_key_value is not None:\n",
    "            key_layer = self.transpose_for_scores(self.key(hidden_states))\n",
    "            value_layer = self.transpose_for_scores(self.value(hidden_states))\n",
    "            key_layer = torch.cat([past_key_value[0], key_layer], dim=2)\n",
    "            value_layer = torch.cat([past_key_value[1], value_layer], dim=2)\n",
    "        else:\n",
    "            key_layer = self.transpose_for_scores(self.key(hidden_states))\n",
    "            value_layer = self.transpose_for_scores(self.value(hidden_states))\n",
    "\n",
    "        if self.config.attention_config.split_heads:\n",
    "            hidden_states = hidden_to_heads(hidden_states, self.config)\n",
    "\n",
    "            for head_num in range(self.linear_config['num_heads']):\n",
    "                seq_len = hidden_states.shape[1]\n",
    "                positions = torch.arange(seq_len).view(-1, 1)\n",
    "                \n",
    "                full_data_to_linear = {\n",
    "                    'hidden_from': hidden_states[:, :, head_num, :], \n",
    "                    'hidden_to': hidden_states[:, :, head_num, :], \n",
    "                    'pos_from': positions,\n",
    "                    'pos_to': positions,\n",
    "                    'relev_pos_from': seq_len - positions,\n",
    "                    'relev_pos_to': seq_len - positions,\n",
    "                    'inv_pos_from': (positions / seq_len),\n",
    "                    'inv_pos_to': (positions / seq_len),\n",
    "                    'inv_relev_pos_from': ((seq_len - positions) / seq_len),\n",
    "                    'inv_relev_pos_to': ((seq_len - positions) / seq_len),\n",
    "                    'seq_len': seq_len, \n",
    "                    'inv_seq_len': (1 / seq_len)\n",
    "                }\n",
    "\n",
    "            data_to_linear = {k:full_data_to_linear[k].to(self.linear_config['device']) for k in self.linear_config['features'] if k != 'num_heads'}\n",
    "            predicted_attention= self.linear_model(seq_len, **data_to_linear)\n",
    "            \n",
    "            attention_probs = torch.exp(predicted_attention)  # torch.nn.functional.softmax(predicted_attention, dim=-1)\n",
    "            context_layer = torch.matmul(attention_probs, value_layer.squeeze(1))\n",
    "    \n",
    "            context_layer = context_layer.permute(0, 2, 1, 3).contiguous()\n",
    "            new_context_layer_shape = context_layer.size()[:-2] + (self.all_head_size,)\n",
    "            context_layer = context_layer.view(new_context_layer_shape)\n",
    "    \n",
    "            outputs = (context_layer, attention_probs) if output_attentions else (context_layer,)\n",
    "    \n",
    "            if self.is_decoder:\n",
    "                outputs = outputs + (past_key_value,)\n",
    "            return outputs\n",
    "\n",
    "        else:\n",
    "            seq_len = hidden_states.shape[1]\n",
    "            positions = torch.arange(seq_len).view(-1, 1)\n",
    "            \n",
    "            full_data_to_linear = {\n",
    "                'hidden_from': hidden_states, \n",
    "                'hidden_to': hidden_states, \n",
    "                'pos_from': positions,\n",
    "                'pos_to': positions,\n",
    "                'relev_pos_from': seq_len - positions,\n",
    "                'relev_pos_to': seq_len - positions,\n",
    "                'inv_pos_from': (positions / seq_len),\n",
    "                'inv_pos_to': (positions / seq_len),\n",
    "                'inv_relev_pos_from': ((seq_len - positions) / seq_len),\n",
    "                'inv_relev_pos_to': ((seq_len - positions) / seq_len),\n",
    "                'seq_len': seq_len, \n",
    "                'inv_seq_len': (1 / seq_len)\n",
    "            }\n",
    "\n",
    "            data_to_linear = {k:full_data_to_linear[k].to(self.linear_config['device']) for k in self.linear_config['features']}\n",
    "            predicted_attention= self.linear_model(seq_len, **data_to_linear)\n",
    "            print('predicted_attention shape:', predicted_attention.shape)\n",
    "            print('value_layer shape:', value_layer.shape)\n",
    "            \n",
    "            attention_probs = torch.exp(predicted_attention)  # torch.nn.functional.softmax(predicted_attention, dim=-1)\n",
    "            context_layer = torch.matmul(attention_probs, value_layer.squeeze(1))\n",
    "    \n",
    "            context_layer = context_layer.permute(0, 2, 1, 3).contiguous()\n",
    "            new_context_layer_shape = context_layer.size()[:-2] + (self.all_head_size,)\n",
    "            context_layer = context_layer.view(new_context_layer_shape)\n",
    "    \n",
    "            outputs = (context_layer, attention_probs) if output_attentions else (context_layer,)\n",
    "    \n",
    "            if self.is_decoder:\n",
    "                outputs = outputs + (past_key_value,)\n",
    "        return outputs\n",
    "\n",
    "class BertWrapperLin(nn.Module):\n",
    "    def __init__(self, model, new_attention_class, linear_config, layer_nums=None, window_size=2):\n",
    "        super().__init__()\n",
    "\n",
    "        self.bert_model = deepcopy(model)\n",
    "        self.layer_nums = layer_nums\n",
    "\n",
    "        # Create a list of modules to modify\n",
    "        modules_to_modify = []\n",
    "        for i in range(len(self.bert_model.encoder.layer)):\n",
    "            if (layer_nums is not None and i in layer_nums) or (layer_nums is None):\n",
    "                mean_attention = new_attention_class(self.bert_model.config, linear_config) # self.bert_model.config, \n",
    "                #mean_attention.set_window_size(window_size)\n",
    "                mean_attention.load_state_dict(self.bert_model.encoder.layer[i].attention.self.state_dict(), strict=False)\n",
    "\n",
    "                self.bert_model.encoder.layer[i].attention.self = mean_attention\n",
    "\n",
    "    def forward(self, *args, **kwargs):\n",
    "        return self.bert_model(*args, **kwargs)"
   ]
  },
  {
   "cell_type": "markdown",
   "id": "1f1d904b-77f3-4850-85e9-2a32cc667fc4",
   "metadata": {},
   "source": [
    "## Project configuration"
   ]
  },
  {
   "cell_type": "code",
   "execution_count": 10,
   "id": "e04b0aa1-8b62-467c-b551-661a0dcb150e",
   "metadata": {},
   "outputs": [],
   "source": [
    "config_path = 'config.yaml'\n",
    "\n",
    "with open(config_path, \"r\") as f:\n",
    "    config = ConfigWrapper(yaml.load(f, Loader=yaml.FullLoader))"
   ]
  },
  {
   "cell_type": "code",
   "execution_count": 11,
   "id": "b42217fc-f58a-4a04-9280-52e5cfffdb2a",
   "metadata": {},
   "outputs": [],
   "source": [
    "tokenizer = AutoTokenizer.from_pretrained(config.model.model_name, max_length=config.general.max_len)\n",
    "initial_model = AutoModel.from_pretrained(config.model.model_name).to(config.general.device)"
   ]
  },
  {
   "cell_type": "markdown",
   "id": "d3f751ad-9be8-4158-9b00-968a3432917f",
   "metadata": {},
   "source": [
    "## Load data"
   ]
  },
  {
   "cell_type": "code",
   "execution_count": 12,
   "id": "f5d09564-dff2-46c5-8a75-b554de6d78e0",
   "metadata": {},
   "outputs": [
    {
     "data": {
      "text/plain": [
       "((1862, 1538), (98, 1538))"
      ]
     },
     "execution_count": 12,
     "metadata": {},
     "output_type": "execute_result"
    }
   ],
   "source": [
    "X_train, y_train, X_test, y_test = load_cached_dataset(config, layer=0)\n",
    "X_train.shape, X_test.shape"
   ]
  },
  {
   "cell_type": "code",
   "execution_count": 13,
   "id": "dd112697-9ce4-4a64-879b-249a1b47586e",
   "metadata": {},
   "outputs": [
    {
     "data": {
      "text/plain": [
       "{'data': {'data_path': 'data',\n",
       "  'train_datasets': [['', 'imdb']],\n",
       "  'train_datasets_fields': [['text', '']],\n",
       "  'eval_datasets': [['glue', 'mrpc']],\n",
       "  'eval_datasets_fields': [['sentence1', 'sentence2']],\n",
       "  'cut_size': None,\n",
       "  'cache_cut_size': 100,\n",
       "  'prob_of_take': 0.01,\n",
       "  'cache_features': True,\n",
       "  'cache_train_features': True,\n",
       "  'train_features_prefix': 'not_split',\n",
       "  'cache_train_dataset': True,\n",
       "  'train_prop': 0.95,\n",
       "  'layers': 12,\n",
       "  'heads': 12},\n",
       " 'model': {'model_name': 'bert-base-uncased', 'attention_aproximation': ''},\n",
       " 'general': {'device': 'cuda',\n",
       "  'out_prediction': 'data/outputs.json',\n",
       "  'out_metrics': 'data/metrics.txt',\n",
       "  'max_len': 1024,\n",
       "  'batch_size': 1,\n",
       "  'd_model': 768},\n",
       " 'attention_config': {'d_model': 768,\n",
       "  'device': 'cuda',\n",
       "  'features': ['hidden_to', 'hidden_from', 'pos_to', 'pos_from'],\n",
       "  'batch_size': 1,\n",
       "  'num_heads': 12,\n",
       "  'split_heads': True}}"
      ]
     },
     "execution_count": 13,
     "metadata": {},
     "output_type": "execute_result"
    }
   ],
   "source": [
    "config"
   ]
  },
  {
   "cell_type": "code",
   "execution_count": 14,
   "id": "7c32b50e-b4ae-4bc9-939f-3d5360cd5eb6",
   "metadata": {},
   "outputs": [
    {
     "ename": "TypeError",
     "evalue": "object of type 'int' has no len()",
     "output_type": "error",
     "traceback": [
      "\u001b[0;31m---------------------------------------------------------------------------\u001b[0m",
      "\u001b[0;31mTypeError\u001b[0m                                 Traceback (most recent call last)",
      "Cell \u001b[0;32mIn[14], line 1\u001b[0m\n\u001b[0;32m----> 1\u001b[0m linear_model \u001b[38;5;241m=\u001b[39m \u001b[43mBertWrapperLin\u001b[49m\u001b[43m(\u001b[49m\u001b[43minitial_model\u001b[49m\u001b[43m,\u001b[49m\u001b[43m \u001b[49m\u001b[43mLinearClassifierBertAttention\u001b[49m\u001b[43m,\u001b[49m\u001b[43m \u001b[49m\u001b[43mconfig\u001b[49m\u001b[43m,\u001b[49m\u001b[43m \u001b[49m\u001b[43mlayer_nums\u001b[49m\u001b[38;5;241;43m=\u001b[39;49m\u001b[43m[\u001b[49m\u001b[38;5;241;43m6\u001b[39;49m\u001b[43m,\u001b[49m\u001b[43m \u001b[49m\u001b[38;5;241;43m7\u001b[39;49m\u001b[43m,\u001b[49m\u001b[43m \u001b[49m\u001b[38;5;241;43m8\u001b[39;49m\u001b[43m,\u001b[49m\u001b[43m \u001b[49m\u001b[38;5;241;43m9\u001b[39;49m\u001b[43m,\u001b[49m\u001b[43m \u001b[49m\u001b[38;5;241;43m10\u001b[39;49m\u001b[43m,\u001b[49m\u001b[43m \u001b[49m\u001b[38;5;241;43m11\u001b[39;49m\u001b[43m]\u001b[49m\u001b[43m)\u001b[49m\n",
      "Cell \u001b[0;32mIn[9], line 225\u001b[0m, in \u001b[0;36mBertWrapperLin.__init__\u001b[0;34m(self, model, new_attention_class, linear_config, layer_nums, window_size)\u001b[0m\n\u001b[1;32m    223\u001b[0m \u001b[38;5;28;01mfor\u001b[39;00m i \u001b[38;5;129;01min\u001b[39;00m \u001b[38;5;28mrange\u001b[39m(\u001b[38;5;28mlen\u001b[39m(\u001b[38;5;28mself\u001b[39m\u001b[38;5;241m.\u001b[39mbert_model\u001b[38;5;241m.\u001b[39mencoder\u001b[38;5;241m.\u001b[39mlayer)):\n\u001b[1;32m    224\u001b[0m     \u001b[38;5;28;01mif\u001b[39;00m (layer_nums \u001b[38;5;129;01mis\u001b[39;00m \u001b[38;5;129;01mnot\u001b[39;00m \u001b[38;5;28;01mNone\u001b[39;00m \u001b[38;5;129;01mand\u001b[39;00m i \u001b[38;5;129;01min\u001b[39;00m layer_nums) \u001b[38;5;129;01mor\u001b[39;00m (layer_nums \u001b[38;5;129;01mis\u001b[39;00m \u001b[38;5;28;01mNone\u001b[39;00m):\n\u001b[0;32m--> 225\u001b[0m         mean_attention \u001b[38;5;241m=\u001b[39m \u001b[43mnew_attention_class\u001b[49m\u001b[43m(\u001b[49m\u001b[38;5;28;43mself\u001b[39;49m\u001b[38;5;241;43m.\u001b[39;49m\u001b[43mbert_model\u001b[49m\u001b[38;5;241;43m.\u001b[39;49m\u001b[43mconfig\u001b[49m\u001b[43m,\u001b[49m\u001b[43m \u001b[49m\u001b[43mlinear_config\u001b[49m\u001b[43m)\u001b[49m \u001b[38;5;66;03m# self.bert_model.config, \u001b[39;00m\n\u001b[1;32m    226\u001b[0m         \u001b[38;5;66;03m#mean_attention.set_window_size(window_size)\u001b[39;00m\n\u001b[1;32m    227\u001b[0m         mean_attention\u001b[38;5;241m.\u001b[39mload_state_dict(\u001b[38;5;28mself\u001b[39m\u001b[38;5;241m.\u001b[39mbert_model\u001b[38;5;241m.\u001b[39mencoder\u001b[38;5;241m.\u001b[39mlayer[i]\u001b[38;5;241m.\u001b[39mattention\u001b[38;5;241m.\u001b[39mself\u001b[38;5;241m.\u001b[39mstate_dict(), strict\u001b[38;5;241m=\u001b[39m\u001b[38;5;28;01mFalse\u001b[39;00m)\n",
      "Cell \u001b[0;32mIn[9], line 99\u001b[0m, in \u001b[0;36mLinearClassifierBertAttention.__init__\u001b[0;34m(self, bert_config, config)\u001b[0m\n\u001b[1;32m     97\u001b[0m \u001b[38;5;28mself\u001b[39m\u001b[38;5;241m.\u001b[39mconfig \u001b[38;5;241m=\u001b[39m config\n\u001b[1;32m     98\u001b[0m \u001b[38;5;28mself\u001b[39m\u001b[38;5;241m.\u001b[39mlinear_config \u001b[38;5;241m=\u001b[39m config\u001b[38;5;241m.\u001b[39mattention_config\n\u001b[0;32m---> 99\u001b[0m \u001b[38;5;28mself\u001b[39m\u001b[38;5;241m.\u001b[39mlinear_model \u001b[38;5;241m=\u001b[39m \u001b[43mLinearAttention\u001b[49m\u001b[43m(\u001b[49m\u001b[43mconfig\u001b[49m\u001b[38;5;241;43m.\u001b[39;49m\u001b[43mattention_config\u001b[49m\u001b[43m)\u001b[49m\n",
      "Cell \u001b[0;32mIn[9], line 22\u001b[0m, in \u001b[0;36mLinearAttention.__init__\u001b[0;34m(self, config)\u001b[0m\n\u001b[1;32m     19\u001b[0m \u001b[38;5;28;01mif\u001b[39;00m config\u001b[38;5;241m.\u001b[39msplit_heads:\n\u001b[1;32m     20\u001b[0m     \u001b[38;5;28mself\u001b[39m\u001b[38;5;241m.\u001b[39mdim_size \u001b[38;5;241m=\u001b[39m config[\u001b[38;5;124m'\u001b[39m\u001b[38;5;124md_model\u001b[39m\u001b[38;5;124m'\u001b[39m] \u001b[38;5;241m/\u001b[39m\u001b[38;5;241m/\u001b[39m config[\u001b[38;5;124m'\u001b[39m\u001b[38;5;124mnum_heads\u001b[39m\u001b[38;5;124m'\u001b[39m]\n\u001b[0;32m---> 22\u001b[0m     \u001b[38;5;28;01mfor\u001b[39;00m head_id \u001b[38;5;129;01min\u001b[39;00m \u001b[38;5;28mrange\u001b[39m(\u001b[38;5;28;43mlen\u001b[39;49m\u001b[43m(\u001b[49m\u001b[43mconfig\u001b[49m\u001b[43m[\u001b[49m\u001b[38;5;124;43m'\u001b[39;49m\u001b[38;5;124;43mnum_heads\u001b[39;49m\u001b[38;5;124;43m'\u001b[39;49m\u001b[43m]\u001b[49m\u001b[43m)\u001b[49m):\n\u001b[1;32m     23\u001b[0m         \u001b[38;5;28;01mfor\u001b[39;00m k \u001b[38;5;129;01min\u001b[39;00m \u001b[38;5;28mself\u001b[39m\u001b[38;5;241m.\u001b[39mfeatures:\n\u001b[1;32m     24\u001b[0m             \u001b[38;5;28;01mif\u001b[39;00m k \u001b[38;5;241m==\u001b[39m \u001b[38;5;124m'\u001b[39m\u001b[38;5;124mhead_num\u001b[39m\u001b[38;5;124m'\u001b[39m:\n",
      "\u001b[0;31mTypeError\u001b[0m: object of type 'int' has no len()"
     ]
    }
   ],
   "source": [
    "linear_model = BertWrapperLin(initial_model, LinearClassifierBertAttention, config, layer_nums=[6, 7, 8, 9, 10, 11])"
   ]
  },
  {
   "cell_type": "code",
   "execution_count": null,
   "id": "5786fc47-42be-4ec6-a9fe-c10280c5a7f7",
   "metadata": {},
   "outputs": [],
   "source": [
    "linear_model"
   ]
  },
  {
   "cell_type": "code",
   "execution_count": 16,
   "id": "3ddce93d-a19a-4dc1-9522-66d22a433496",
   "metadata": {},
   "outputs": [],
   "source": [
    "encoded_inputs = tokenizer.encode(\n",
    "                                'Hello! My name is... Hi, my name is... Slim Shady',\n",
    "                                truncation=True,\n",
    "                                return_tensors='pt'\n",
    "                            ).to(config.general.device)"
   ]
  },
  {
   "cell_type": "code",
   "execution_count": 17,
   "id": "934e9d46-faea-4092-9edf-b2708807cd7d",
   "metadata": {},
   "outputs": [],
   "source": [
    "aa = initial_model(encoded_inputs, output_hidden_states=True, output_attentions=True)"
   ]
  },
  {
   "cell_type": "code",
   "execution_count": 18,
   "id": "b9a31f1c-3998-45a2-a593-f46e49627c8c",
   "metadata": {},
   "outputs": [
    {
     "data": {
      "text/plain": [
       "(12, torch.Size([1, 12, 20, 20]))"
      ]
     },
     "execution_count": 18,
     "metadata": {},
     "output_type": "execute_result"
    }
   ],
   "source": [
    "len(aa.attentions), aa.attentions[0].shape"
   ]
  },
  {
   "cell_type": "code",
   "execution_count": null,
   "id": "6d91aa20-6c65-457a-972c-9223e5fef1ab",
   "metadata": {},
   "outputs": [],
   "source": [
    "linear_model.to(config.general.device)"
   ]
  },
  {
   "cell_type": "code",
   "execution_count": null,
   "id": "1ae505b7-3df5-40b7-a563-0e5431c07055",
   "metadata": {},
   "outputs": [],
   "source": [
    "aa = linear_model(encoded_inputs.to(config.general.device), output_hidden_states=True, output_attentions=True)"
   ]
  },
  {
   "cell_type": "code",
   "execution_count": null,
   "id": "e03f1115-9d45-48e5-9a9e-710cbe8916a7",
   "metadata": {},
   "outputs": [],
   "source": [
    "len(aa.attentions)"
   ]
  },
  {
   "cell_type": "code",
   "execution_count": null,
   "id": "f49e1d9d-783f-4ccd-821c-e10c667932c5",
   "metadata": {},
   "outputs": [],
   "source": [
    "aa.attentions[-1].shape"
   ]
  },
  {
   "cell_type": "code",
   "execution_count": null,
   "id": "499ad032-69da-43e3-b4d5-0e412cc43763",
   "metadata": {},
   "outputs": [],
   "source": []
  },
  {
   "cell_type": "code",
   "execution_count": null,
   "id": "4fd4e168-4025-421a-a2fa-6fd72924cfad",
   "metadata": {},
   "outputs": [],
   "source": []
  }
 ],
 "metadata": {
  "kernelspec": {
   "display_name": "Python 3 (ipykernel)",
   "language": "python",
   "name": "python3"
  },
  "language_info": {
   "codemirror_mode": {
    "name": "ipython",
    "version": 3
   },
   "file_extension": ".py",
   "mimetype": "text/x-python",
   "name": "python",
   "nbconvert_exporter": "python",
   "pygments_lexer": "ipython3",
   "version": "3.11.3"
  }
 },
 "nbformat": 4,
 "nbformat_minor": 5
}
