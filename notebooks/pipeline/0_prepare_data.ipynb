{
 "cells": [
  {
   "cell_type": "code",
   "execution_count": 1,
   "id": "afe2a8a7-954c-4c89-9234-772f34bbaec5",
   "metadata": {},
   "outputs": [
    {
     "name": "stdout",
     "output_type": "stream",
     "text": [
      "/home/shapkin/effective-inference\n"
     ]
    }
   ],
   "source": [
    "%cd ../.."
   ]
  },
  {
   "cell_type": "markdown",
   "id": "971ddbf5-5f1d-482e-b04c-209c4a2631f9",
   "metadata": {},
   "source": [
    "## Import libs"
   ]
  },
  {
   "cell_type": "code",
   "execution_count": 11,
   "id": "811b1121-1d36-4c02-a2bf-f73f94f49ee2",
   "metadata": {},
   "outputs": [],
   "source": [
    "import yaml\n",
    "import os\n",
    "import h5py\n",
    "import numpy as np\n",
    "import torch\n",
    "\n",
    "from utils.prepare_dataset import load_datasets, cut_datasets\n",
    "from utils.dataset_cache import cache_embeddings, get_dataset_for_regression, build_dataset_from_cached, load_cached_dataset\n",
    "from utils.config import ConfigWrapper\n",
    "from tqdm.auto import tqdm\n",
    "from transformers import AutoTokenizer, AutoModel\n",
    "from numpy.random import shuffle"
   ]
  },
  {
   "cell_type": "markdown",
   "id": "70547211-6cf5-46af-9ba9-c0807ee44fe2",
   "metadata": {},
   "source": [
    "## Project configuration"
   ]
  },
  {
   "cell_type": "code",
   "execution_count": 3,
   "id": "8bae2658-d3ec-4b50-bd30-b5c1986cfe32",
   "metadata": {},
   "outputs": [],
   "source": [
    "config_path = 'config.yaml'\n",
    "\n",
    "with open(config_path, \"r\") as f:\n",
    "    config = ConfigWrapper(yaml.load(f, Loader=yaml.FullLoader))"
   ]
  },
  {
   "cell_type": "code",
   "execution_count": 4,
   "id": "4d2d75e7-bfae-463a-bddb-b98dc84b606a",
   "metadata": {},
   "outputs": [],
   "source": [
    "if not os.path.exists(config.data.data_path):\n",
    "    os.makedirs(config.data.data_path)\n",
    "else:\n",
    "    print('This directory already exists')"
   ]
  },
  {
   "cell_type": "code",
   "execution_count": 5,
   "id": "8a143f50-fc4f-41d8-90d2-c9c10ab65e86",
   "metadata": {},
   "outputs": [],
   "source": [
    "train_datasets = load_datasets(config.data.train_datasets, config.data.cut_size)"
   ]
  },
  {
   "cell_type": "code",
   "execution_count": 6,
   "id": "b8902fa7-ea9f-4e05-b9dc-8c67d03af7b0",
   "metadata": {},
   "outputs": [
    {
     "data": {
      "text/plain": [
       "{'imdb': DatasetDict({\n",
       "     train: Dataset({\n",
       "         features: ['text', 'label'],\n",
       "         num_rows: 25000\n",
       "     })\n",
       "     test: Dataset({\n",
       "         features: ['text', 'label'],\n",
       "         num_rows: 25000\n",
       "     })\n",
       "     unsupervised: Dataset({\n",
       "         features: ['text', 'label'],\n",
       "         num_rows: 50000\n",
       "     })\n",
       " })}"
      ]
     },
     "execution_count": 6,
     "metadata": {},
     "output_type": "execute_result"
    }
   ],
   "source": [
    "train_datasets"
   ]
  },
  {
   "cell_type": "code",
   "execution_count": 7,
   "id": "129212f7-5fa2-4506-9f05-07a843a13b42",
   "metadata": {},
   "outputs": [],
   "source": [
    "tokenizer = AutoTokenizer.from_pretrained(config.model.model_name, max_length=config.general.max_len)\n",
    "initial_model = AutoModel.from_pretrained(config.model.model_name).to(config.general.device)"
   ]
  },
  {
   "cell_type": "markdown",
   "id": "5e4127fd-f82f-41f8-b1dc-b15a1a0b2ad6",
   "metadata": {},
   "source": [
    "## Cache embeddings"
   ]
  },
  {
   "cell_type": "code",
   "execution_count": 8,
   "id": "8ea1e3bb-1eb0-44c8-a866-734f1941ec04",
   "metadata": {},
   "outputs": [
    {
     "data": {
      "application/vnd.jupyter.widget-view+json": {
       "model_id": "b684d111ab7c408a9ad25c0726e6d641",
       "version_major": 2,
       "version_minor": 0
      },
      "text/plain": [
       "0it [00:00, ?it/s]"
      ]
     },
     "metadata": {},
     "output_type": "display_data"
    }
   ],
   "source": [
    "cache_embeddings(config, train_datasets, tokenizer, initial_model)"
   ]
  },
  {
   "cell_type": "markdown",
   "id": "1b6b417e-1af5-4bbf-9162-2229fca62a34",
   "metadata": {},
   "source": [
    "## Cache dataset"
   ]
  },
  {
   "cell_type": "code",
   "execution_count": 9,
   "id": "3ab88ba1-80e0-477b-8123-684bfed60667",
   "metadata": {},
   "outputs": [
    {
     "data": {
      "application/vnd.jupyter.widget-view+json": {
       "model_id": "31e12d4841824f13b46a2814a27ac3ea",
       "version_major": 2,
       "version_minor": 0
      },
      "text/plain": [
       "  0%|          | 0/25000 [00:00<?, ?it/s]"
      ]
     },
     "metadata": {},
     "output_type": "display_data"
    }
   ],
   "source": [
    "X_train, y_train, X_test, y_test = get_dataset_for_regression(config, train_datasets, tokenizer, initial_model, layer=0, heads=[0, 1])"
   ]
  },
  {
   "cell_type": "code",
   "execution_count": 10,
   "id": "755fe0f9-c23b-4ea0-90ce-650dc9a79df4",
   "metadata": {},
   "outputs": [
    {
     "data": {
      "text/plain": [
       "((3213, 1539), (169, 1539))"
      ]
     },
     "execution_count": 10,
     "metadata": {},
     "output_type": "execute_result"
    }
   ],
   "source": [
    "X_train.shape, X_test.shape"
   ]
  },
  {
   "cell_type": "markdown",
   "id": "038ca31c-8d96-45a9-b85e-ac0776d5255b",
   "metadata": {},
   "source": [
    "## Get X_train from cached"
   ]
  },
  {
   "cell_type": "code",
   "execution_count": 11,
   "id": "d4b00de5-b78f-4680-93d9-ed49aa5cb88b",
   "metadata": {},
   "outputs": [
    {
     "name": "stderr",
     "output_type": "stream",
     "text": [
      "\n",
      "KeyboardInterrupt\n",
      "\n"
     ]
    }
   ],
   "source": [
    "X_train, y_train, X_test, y_test = build_dataset_from_cached(config, train_datasets, layer=0, heads=[0, 1])"
   ]
  },
  {
   "cell_type": "code",
   "execution_count": null,
   "id": "9374fa83-565b-447d-9451-87cd5378424d",
   "metadata": {},
   "outputs": [],
   "source": [
    "X_train.shape, X_test.shape"
   ]
  },
  {
   "cell_type": "code",
   "execution_count": 13,
   "id": "f659141d-bbc6-42cc-b10f-7877037544ea",
   "metadata": {},
   "outputs": [],
   "source": [
    "X_train, y_train, X_test, y_test = load_cached_dataset(config)"
   ]
  },
  {
   "cell_type": "code",
   "execution_count": 14,
   "id": "04b9ae7a-7711-4ce6-b978-04de291d1461",
   "metadata": {},
   "outputs": [
    {
     "data": {
      "text/plain": [
       "((1862, 1538), (98, 1538))"
      ]
     },
     "execution_count": 14,
     "metadata": {},
     "output_type": "execute_result"
    }
   ],
   "source": [
    "X_train.shape, X_test.shape"
   ]
  },
  {
   "cell_type": "code",
   "execution_count": null,
   "id": "353268a0-1bd1-4007-844c-3f31f4f872a6",
   "metadata": {},
   "outputs": [],
   "source": []
  },
  {
   "cell_type": "code",
   "execution_count": null,
   "id": "f8866f55-c5f6-484d-9b76-400fdc167642",
   "metadata": {},
   "outputs": [],
   "source": []
  }
 ],
 "metadata": {
  "kernelspec": {
   "display_name": "Python 3 (ipykernel)",
   "language": "python",
   "name": "python3"
  },
  "language_info": {
   "codemirror_mode": {
    "name": "ipython",
    "version": 3
   },
   "file_extension": ".py",
   "mimetype": "text/x-python",
   "name": "python",
   "nbconvert_exporter": "python",
   "pygments_lexer": "ipython3",
   "version": "3.11.3"
  }
 },
 "nbformat": 4,
 "nbformat_minor": 5
}
