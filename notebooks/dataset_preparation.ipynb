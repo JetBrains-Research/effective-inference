{
 "cells": [
  {
   "cell_type": "code",
   "execution_count": 1,
   "metadata": {
    "colab": {
     "base_uri": "https://localhost:8080/",
     "height": 145,
     "referenced_widgets": [
      "0516ffd7d8084d9a9d4b38a60d88125c",
      "86ef227d1798411e8f8d23448c94b030",
      "4cbfc2fb81dc46fdb64d92571a661821",
      "4cc4f9038ce14d5b99c15989b5d51199",
      "359e7a16279146cfbac78d3683b642d2",
      "e21edc7c70bc4a0b8ca81b8ac5a1e0f4",
      "b7c199039f6449c28d3b17821b25fc5a",
      "0b4effcc442d49d5ae25fcc2b5820fde",
      "b632f1ae4f6d4261881959a5f4df3b5f",
      "ab938d5e8fb74190bfaf7f63e3c607fd",
      "1c9d033d7b1d4a2a82ff643d55fdc835",
      "1cad27ed6c8d4d6da90412cce9df63dd",
      "8bfb37f6e5ba47f4b6587f8d1fa8c195",
      "ec75231f1ade489ab8a1440d79fc0489",
      "b8be3f3c1e904e1186cee6002e6f6528",
      "b372d43ff809418e90fb480bdde0e2fe",
      "94c329b2b2034f1f84b16dd2a47f30b5",
      "64c2bcaf1ffe41eca8acced00ba064d7",
      "e69f4c9e49574196bef42c57891a4a00",
      "c737fd704b03447fbafed151e2c4dc20",
      "c609fc83f8f54b8088583fcc36b9d9aa",
      "4fec8d7cdab847f486590b26167b6cfc",
      "711c6ccdefb14062b883d81c2d4ab619",
      "51613356b8894bcc82e9c26e7b89530f",
      "7297f5e8b983444aad7aa29bcb81e6af",
      "73cc5c016e944030b7d76a52881fec12",
      "0ea384fb8da840e091cff82a3ebeedf4",
      "e4700057e6c54809a18b744fe5e3a0d5",
      "dd181ab8376d4768afae2feee5964589",
      "6c32537bf6c64170990e5c3018b12143",
      "e92b73d4d94a4f889cbbb4de0f38ec46",
      "42ab3e7fb26547219925b38d2bf96eed"
     ]
    },
    "id": "r04cZMyjVgbJ",
    "outputId": "758b51e7-e2fa-4f42-f791-e592d7c52246"
   },
   "outputs": [
    {
     "data": {
      "application/vnd.jupyter.widget-view+json": {
       "model_id": "db62fdee66394968bdcb75167f711263",
       "version_major": 2,
       "version_minor": 0
      },
      "text/plain": [
       "VBox(children=(HTML(value='<center> <img\\nsrc=https://huggingface.co/front/assets/huggingface_logo-noborder.sv…"
      ]
     },
     "metadata": {},
     "output_type": "display_data"
    }
   ],
   "source": [
    "from huggingface_hub import login\n",
    "login()"
   ]
  },
  {
   "cell_type": "code",
   "execution_count": 2,
   "metadata": {
    "id": "Jr22bY0HU7pw"
   },
   "outputs": [],
   "source": [
    "from  datasets  import  load_dataset"
   ]
  },
  {
   "cell_type": "code",
   "execution_count": 3,
   "metadata": {
    "colab": {
     "base_uri": "https://localhost:8080/",
     "height": 49,
     "referenced_widgets": [
      "7af141b27b364c74a5bd95586e876864",
      "4822551f95f846b184d3c1ad89db08e9",
      "1494256b2f3a4f0b94f39aedd7f42f16",
      "a2f4c7210e6645359eeb356d3ed7a36f",
      "cf214ca51c6e4e7a83e0e7c48af4de5d",
      "44dabc81edd34666b6cd842acc6d01e3",
      "64d86df40e8e4b76a24f14fc7a09ce22",
      "6aef8fa94d774c8f877e9ff07e6f0c07",
      "8aaee8dd9a814725b77882e9aaeba04d",
      "658c50cedc974bfdbd41ffffa42a8b7b",
      "40971f9f987c49b8837024e8f3e3dcd1"
     ]
    },
    "id": "3OgGmtmWUdcZ",
    "outputId": "202b79b0-a8c5-4e16-a5fb-8ee130737f49"
   },
   "outputs": [
    {
     "data": {
      "application/vnd.jupyter.widget-view+json": {
       "model_id": "910ffed7198040cba5389ed927006227",
       "version_major": 2,
       "version_minor": 0
      },
      "text/plain": [
       "Resolving data files:   0%|          | 0/206 [00:00<?, ?it/s]"
      ]
     },
     "metadata": {},
     "output_type": "display_data"
    }
   ],
   "source": [
    "ds = load_dataset(\"bigcode/the-stack\", data_dir=\"data/python\", streaming=True, split=\"train\")"
   ]
  },
  {
   "cell_type": "code",
   "execution_count": 4,
   "metadata": {
    "colab": {
     "base_uri": "https://localhost:8080/"
    },
    "id": "YUO6OlpCZdmE",
    "outputId": "2919b3d4-649d-4072-ef36-49403eb0d56c"
   },
   "outputs": [
    {
     "name": "stdout",
     "output_type": "stream",
     "text": [
      "def str(val):\n",
      "    \"\"\"Convert float to string, taking the locale into account.\"\"\"\n",
      "    return _format(\"%.12g\", val)\n",
      "\n",
      "def colnum2name(n):\n",
      "    \"Translate a column number to name (e.g. 1->'A', etc.).\"\n",
      "    assert n > 0\n",
      "    s = \"\"\n",
      "    while n:\n",
      "        n, m = divmod(n-1, 26)\n",
      "        s = chr(m+ord('A')) + s\n",
      "    return s\n",
      "def cellname(x, y):\n",
      "    \"Translate a cell coordinate to a fancy cell name (e.g. (1, 1)->'A1').\"\n",
      "    assert x > 0 # Column 0 has an empty name, so can't use that\n",
      "    return colnum2name(x) + str(y)\n"
     ]
    }
   ],
   "source": [
    "true_ex = 'def str(val):\\n    \"\"\"Convert float to string, taking the locale into account.\"\"\"\\n    return _format(\"%.12g\", val)\\n\\ndef colnum2name(n):\\n    \"Translate a column number to name (e.g. 1->\\'A\\', etc.).\"\\n    assert n > 0\\n    s = \"\"\\n    while n:\\n        n, m = divmod(n-1, 26)\\n        s = chr(m+ord(\\'A\\')) + s\\n    return s\\ndef cellname(x, y):\\n    \"Translate a cell coordinate to a fancy cell name (e.g. (1, 1)->\\'A1\\').\"\\n    assert x > 0 # Column 0 has an empty name, so can\\'t use that\\n    return colnum2name(x) + str(y)'\n",
    "print(true_ex)"
   ]
  },
  {
   "cell_type": "code",
   "execution_count": 5,
   "metadata": {
    "id": "dQ8gquy8VZWd"
   },
   "outputs": [],
   "source": [
    "import re\n",
    "def is_usefull_class(code):\n",
    "  pattern = r'def\\s+([^\\s]+)\\('\n",
    "  func_names = re.findall(pattern, code)\n",
    "  functions = code.split('def ')\n",
    "  #if contains less than 2 functions - throw them \n",
    "  if len(re.findall(pattern, code)) < 2:\n",
    "    return False\n",
    "  #if first function is not used in next functions - throw them\n",
    "  elif not any([func_names[0]+'(' in i for i in functions[2:]]):\n",
    "    return False\n",
    "  else: return True\n",
    "\n",
    "def is_useful(code):\n",
    "  # print(functions)\n",
    "  #if more than 1 star - throw\n",
    "  if code['max_stars_count'] and code['max_stars_count']> 1:\n",
    "    return False\n",
    "\n",
    "  classes= code[\"content\"].split('class ')\n",
    "  return any([is_usefull_class(cl) for cl in classes])"
   ]
  },
  {
   "cell_type": "code",
   "execution_count": 44,
   "metadata": {
    "colab": {
     "base_uri": "https://localhost:8080/"
    },
    "id": "v4LW4yidWtvs",
    "outputId": "42869ae2-47a6-4291-8050-984f965805dc"
   },
   "outputs": [
    {
     "data": {
      "text/plain": [
       "True"
      ]
     },
     "execution_count": 44,
     "metadata": {},
     "output_type": "execute_result"
    }
   ],
   "source": [
    "is_useful({\"content\": true_ex, 'max_stars_count':None})"
   ]
  },
  {
   "cell_type": "code",
   "execution_count": 7,
   "metadata": {
    "id": "2DqQJOldXiql"
   },
   "outputs": [],
   "source": [
    "import pandas as pd\n",
    "df = pd.DataFrame(columns = ['code'])"
   ]
  },
  {
   "cell_type": "code",
   "execution_count": 45,
   "metadata": {
    "id": "__pb-S88ah2G",
    "scrolled": true
   },
   "outputs": [],
   "source": [
    "for n, sample in enumerate(iter(ds)):\n",
    "  if n > 100:\n",
    "    break\n",
    "  for e, cl in enumerate(sample[\"content\"].split('class ')):\n",
    "      if is_usefull_class(cl):\n",
    "        df.loc[df.shape[0]] = ['class ' + cl if e > 0 else cl]"
   ]
  },
  {
   "cell_type": "code",
   "execution_count": 46,
   "metadata": {
    "id": "K7a5xZ5RbLrJ"
   },
   "outputs": [],
   "source": [
    "pattern = r'def\\s+([^\\s]+)\\('\n",
    "df['func_names'] = df['code'].apply(lambda x: re.findall(pattern, x))"
   ]
  },
  {
   "cell_type": "code",
   "execution_count": 47,
   "metadata": {
    "colab": {
     "base_uri": "https://localhost:8080/",
     "height": 289
    },
    "id": "eEzHBGykbTBD",
    "outputId": "a3a58977-4ce0-402d-b4bb-3c338f7e7bd2"
   },
   "outputs": [
    {
     "data": {
      "text/html": [
       "<div>\n",
       "<style scoped>\n",
       "    .dataframe tbody tr th:only-of-type {\n",
       "        vertical-align: middle;\n",
       "    }\n",
       "\n",
       "    .dataframe tbody tr th {\n",
       "        vertical-align: top;\n",
       "    }\n",
       "\n",
       "    .dataframe thead th {\n",
       "        text-align: right;\n",
       "    }\n",
       "</style>\n",
       "<table border=\"1\" class=\"dataframe\">\n",
       "  <thead>\n",
       "    <tr style=\"text-align: right;\">\n",
       "      <th></th>\n",
       "      <th>code</th>\n",
       "      <th>func_names</th>\n",
       "    </tr>\n",
       "  </thead>\n",
       "  <tbody>\n",
       "    <tr>\n",
       "      <th>0</th>\n",
       "      <td># UCF Senior Design 2017-18\\n# Group 38\\n\\nfro...</td>\n",
       "      <td>[calc_hash, compare, limit, resize, set_standard]</td>\n",
       "    </tr>\n",
       "    <tr>\n",
       "      <th>1</th>\n",
       "      <td>#!/usr/bin/env python3\\n\\nUNKNOWN = -1\\n\\ndef ...</td>\n",
       "      <td>[read_val, read_row, read_grid, make_blank_row...</td>\n",
       "    </tr>\n",
       "    <tr>\n",
       "      <th>2</th>\n",
       "      <td>import numpy as np\\n\\n\\ndef train_ml_squarer()...</td>\n",
       "      <td>[train_ml_squarer, square]</td>\n",
       "    </tr>\n",
       "    <tr>\n",
       "      <th>3</th>\n",
       "      <td>class and set up the window\\n        super()._...</td>\n",
       "      <td>[setup, on_draw, on_key_press, on_key_release,...</td>\n",
       "    </tr>\n",
       "    <tr>\n",
       "      <th>4</th>\n",
       "      <td>class = serializers.GameSessionSerializer\\n   ...</td>\n",
       "      <td>[get_parent_game, get_queryset, dispatch]</td>\n",
       "    </tr>\n",
       "  </tbody>\n",
       "</table>\n",
       "</div>"
      ],
      "text/plain": [
       "                                                code  \\\n",
       "0  # UCF Senior Design 2017-18\\n# Group 38\\n\\nfro...   \n",
       "1  #!/usr/bin/env python3\\n\\nUNKNOWN = -1\\n\\ndef ...   \n",
       "2  import numpy as np\\n\\n\\ndef train_ml_squarer()...   \n",
       "3  class and set up the window\\n        super()._...   \n",
       "4  class = serializers.GameSessionSerializer\\n   ...   \n",
       "\n",
       "                                          func_names  \n",
       "0  [calc_hash, compare, limit, resize, set_standard]  \n",
       "1  [read_val, read_row, read_grid, make_blank_row...  \n",
       "2                         [train_ml_squarer, square]  \n",
       "3  [setup, on_draw, on_key_press, on_key_release,...  \n",
       "4          [get_parent_game, get_queryset, dispatch]  "
      ]
     },
     "execution_count": 47,
     "metadata": {},
     "output_type": "execute_result"
    }
   ],
   "source": [
    "df.head()"
   ]
  },
  {
   "cell_type": "markdown",
   "metadata": {
    "id": "BJjYffFkgONB"
   },
   "source": [
    "Надо получить примеры как из базового датасета"
   ]
  },
  {
   "cell_type": "code",
   "execution_count": 48,
   "metadata": {
    "id": "Mjrr7W0Fg0kg"
   },
   "outputs": [],
   "source": [
    "import ast\n",
    "import re\n",
    "\n",
    "def extract_function_code_with_regex(code):\n",
    "    pattern = re.compile(r'\\bdef\\s+([a-zA-Z_][a-zA-Z0-9_]*)\\s*\\((.*?)\\)\\s*:\\s*(.*?)(?=def|$)', re.DOTALL)\n",
    "    matches = pattern.findall(code)\n",
    "    functions = {}\n",
    "\n",
    "    for match in matches:\n",
    "        function_name = match[0]\n",
    "        function_args = match[1]\n",
    "        function_body = match[2]\n",
    "        functions[function_name] = f\"def {function_name}({function_args}):\\n    {function_body}\"\n",
    "\n",
    "    return functions"
   ]
  },
  {
   "cell_type": "code",
   "execution_count": 49,
   "metadata": {},
   "outputs": [],
   "source": [
    "from transformers import LlamaForCausalLM, CodeLlamaTokenizer, StoppingCriteria, StoppingCriteriaList\n",
    "import pandas as pd\n",
    "MODEL_NAME = \"codellama/CodeLlama-7b-hf\"\n",
    "tokenizer = CodeLlamaTokenizer.from_pretrained(MODEL_NAME)\n",
    "# model = LlamaForCausalLM.from_pretrained(MODEL_NAME, load_in_8bit=True)\n",
    "# model.config.forced_eos_token_id = [13]\n"
   ]
  },
  {
   "cell_type": "code",
   "execution_count": 1,
   "metadata": {
    "id": "osMtWjNUfVqE"
   },
   "outputs": [],
   "source": [
    "def get_prompt(line):\n",
    "  code = line['code']\n",
    "  # func_names = line['func_names']\n",
    "  target_functioons = []\n",
    "  functions = extract_function_code_with_regex(code)\n",
    "  for k,v in functions.items():\n",
    "    splited = code.split(v)\n",
    "    if len(tokenizer(code, return_tensors=\"pt\")[\"input_ids\"]) > 500:\n",
    "        continue\n",
    "    if k+'(' in splited[-1]:\n",
    "      target_functioons.append(k)\n",
    "    data.loc[data.shape[0]] = [splited[0]+v,k, splited[-1], code]\n",
    "  # print(target_functioons)\n",
    "  return True\n"
   ]
  },
  {
   "cell_type": "code",
   "execution_count": 14,
   "metadata": {
    "colab": {
     "base_uri": "https://localhost:8080/",
     "height": 53
    },
    "id": "XoUSSahGmVdJ",
    "outputId": "674f0d43-c807-443f-d6fd-e802ae51700b"
   },
   "outputs": [
    {
     "data": {
      "text/html": [
       "<div>\n",
       "<style scoped>\n",
       "    .dataframe tbody tr th:only-of-type {\n",
       "        vertical-align: middle;\n",
       "    }\n",
       "\n",
       "    .dataframe tbody tr th {\n",
       "        vertical-align: top;\n",
       "    }\n",
       "\n",
       "    .dataframe thead th {\n",
       "        text-align: right;\n",
       "    }\n",
       "</style>\n",
       "<table border=\"1\" class=\"dataframe\">\n",
       "  <thead>\n",
       "    <tr style=\"text-align: right;\">\n",
       "      <th></th>\n",
       "      <th>prompt</th>\n",
       "      <th>target_function</th>\n",
       "      <th>code</th>\n",
       "      <th>full</th>\n",
       "    </tr>\n",
       "  </thead>\n",
       "  <tbody>\n",
       "  </tbody>\n",
       "</table>\n",
       "</div>"
      ],
      "text/plain": [
       "Empty DataFrame\n",
       "Columns: [prompt, target_function, code, full]\n",
       "Index: []"
      ]
     },
     "execution_count": 14,
     "metadata": {},
     "output_type": "execute_result"
    }
   ],
   "source": [
    "data = pd.DataFrame(columns = ['prompt', 'target_function', 'code', 'full'])\n",
    "data"
   ]
  },
  {
   "cell_type": "code",
   "execution_count": 15,
   "metadata": {
    "colab": {
     "base_uri": "https://localhost:8080/"
    },
    "id": "gpXLHfUvhOMM",
    "outputId": "6967eb22-46e7-4448-c378-daabcd5e5874"
   },
   "outputs": [
    {
     "data": {
      "text/plain": [
       "True"
      ]
     },
     "execution_count": 15,
     "metadata": {},
     "output_type": "execute_result"
    }
   ],
   "source": [
    "get_prompt(df.loc[0])"
   ]
  },
  {
   "cell_type": "code",
   "execution_count": 16,
   "metadata": {
    "colab": {
     "base_uri": "https://localhost:8080/"
    },
    "id": "OpAcJIfMhWQE",
    "outputId": "f24dc97e-03b8-4915-fb71-0ef450e26522"
   },
   "outputs": [
    {
     "name": "stdout",
     "output_type": "stream",
     "text": [
      "# UCF Senior Design 2017-18\n",
      "# Group 38\n",
      "\n",
      "from PIL import Image\n",
      "import cv2\n",
      "import imagehash\n",
      "import math\n",
      "import numpy as np\n",
      "\n",
      "DIFF_THRES = 20\n",
      "LIMIT = 2\n",
      "RESIZE = 1000\n",
      "\n",
      "\n",
      "def calc_hash(img):\n",
      "    \"\"\"\n",
      "    Calculate the wavelet hash of the image\n",
      "        img: (ndarray) image file\n",
      "    \"\"\"\n",
      "    # resize image if height > 1000\n",
      "    img = resize(img)\n",
      "    return imagehash.whash(Image.fromarray(img))\n",
      "\n",
      "\n",
      "def compare(hash1, hash2):\n",
      "    \"\"\"\n",
      "    Calculate the difference between two images\n",
      "        hash1: (array) first wavelet hash\n",
      "        hash2: (array) second wavelet hash\n",
      "    \"\"\"\n",
      "    return hash1 - hash2\n",
      "\n",
      "\n",
      "\n"
     ]
    }
   ],
   "source": [
    "ex = data.loc[1]\n",
    "print(ex['prompt'])"
   ]
  },
  {
   "cell_type": "code",
   "execution_count": 17,
   "metadata": {
    "colab": {
     "base_uri": "https://localhost:8080/"
    },
    "id": "et4MEFwXkvUG",
    "outputId": "ff7e3e85-e2b8-4033-d079-fa5329e62ef0"
   },
   "outputs": [
    {
     "name": "stdout",
     "output_type": "stream",
     "text": [
      "We are expecting 'compare'\n",
      "def limit(img, std_hash, count):\n",
      "    \"\"\"\n",
      "    Determine whether image should be removed from image dictionary in main.py\n",
      "        img: (ndarray) image file\n",
      "        std_hash: (array) wavelet hash of comparison standard\n",
      "        count: (int) global count of images similar to comparison standard\n",
      "    \"\"\"\n",
      "    # calculate hash for given image\n",
      "    cmp_hash = calc_hash(img)\n",
      "\n",
      "    # compare to standard\n",
      "    diff = \n"
     ]
    }
   ],
   "source": [
    "print(f\"We are expecting '{ex['target_function']}'\")\n",
    "print(ex['code'].split(ex['target_function']+'(')[0])"
   ]
  },
  {
   "cell_type": "markdown",
   "metadata": {
    "id": "OzY9NSyCmiiq"
   },
   "source": [
    "Ок, работает, запускаем по существующему"
   ]
  },
  {
   "cell_type": "code",
   "execution_count": 18,
   "metadata": {
    "colab": {
     "base_uri": "https://localhost:8080/",
     "height": 53
    },
    "id": "K4XephBhlk-x",
    "outputId": "d180d899-79cd-4d95-a903-c2eb36f6902b"
   },
   "outputs": [
    {
     "data": {
      "text/html": [
       "<div>\n",
       "<style scoped>\n",
       "    .dataframe tbody tr th:only-of-type {\n",
       "        vertical-align: middle;\n",
       "    }\n",
       "\n",
       "    .dataframe tbody tr th {\n",
       "        vertical-align: top;\n",
       "    }\n",
       "\n",
       "    .dataframe thead th {\n",
       "        text-align: right;\n",
       "    }\n",
       "</style>\n",
       "<table border=\"1\" class=\"dataframe\">\n",
       "  <thead>\n",
       "    <tr style=\"text-align: right;\">\n",
       "      <th></th>\n",
       "      <th>prompt</th>\n",
       "      <th>target_function</th>\n",
       "      <th>code</th>\n",
       "      <th>full</th>\n",
       "    </tr>\n",
       "  </thead>\n",
       "  <tbody>\n",
       "  </tbody>\n",
       "</table>\n",
       "</div>"
      ],
      "text/plain": [
       "Empty DataFrame\n",
       "Columns: [prompt, target_function, code, full]\n",
       "Index: []"
      ]
     },
     "execution_count": 18,
     "metadata": {},
     "output_type": "execute_result"
    }
   ],
   "source": [
    "data = pd.DataFrame(columns = ['prompt', 'target_function', 'code', 'full'])\n",
    "data"
   ]
  },
  {
   "cell_type": "code",
   "execution_count": 63,
   "metadata": {
    "colab": {
     "base_uri": "https://localhost:8080/"
    },
    "id": "1khouBHJm8nI",
    "outputId": "4705a76d-4de0-40c2-8d3d-e054d7c7dd2a"
   },
   "outputs": [
    {
     "name": "stdout",
     "output_type": "stream",
     "text": [
      "319.2361972332001\n"
     ]
    }
   ],
   "source": [
    "import time\n",
    "s  = time.time()\n",
    "df.apply(get_prompt, axis = 1)\n",
    "print(time.time() - s)"
   ]
  },
  {
   "cell_type": "code",
   "execution_count": 64,
   "metadata": {},
   "outputs": [
    {
     "data": {
      "text/html": [
       "<div>\n",
       "<style scoped>\n",
       "    .dataframe tbody tr th:only-of-type {\n",
       "        vertical-align: middle;\n",
       "    }\n",
       "\n",
       "    .dataframe tbody tr th {\n",
       "        vertical-align: top;\n",
       "    }\n",
       "\n",
       "    .dataframe thead th {\n",
       "        text-align: right;\n",
       "    }\n",
       "</style>\n",
       "<table border=\"1\" class=\"dataframe\">\n",
       "  <thead>\n",
       "    <tr style=\"text-align: right;\">\n",
       "      <th></th>\n",
       "      <th>prompt</th>\n",
       "      <th>target_function</th>\n",
       "      <th>code</th>\n",
       "      <th>full</th>\n",
       "    </tr>\n",
       "  </thead>\n",
       "  <tbody>\n",
       "    <tr>\n",
       "      <th>0</th>\n",
       "      <td># UCF Senior Design 2017-18\\n# Group 38\\n\\nfro...</td>\n",
       "      <td>calc_hash</td>\n",
       "      <td>def compare(hash1, hash2):\\n    \"\"\"\\n    Calcu...</td>\n",
       "      <td># UCF Senior Design 2017-18\\n# Group 38\\n\\nfro...</td>\n",
       "    </tr>\n",
       "    <tr>\n",
       "      <th>1</th>\n",
       "      <td># UCF Senior Design 2017-18\\n# Group 38\\n\\nfro...</td>\n",
       "      <td>compare</td>\n",
       "      <td>def limit(img, std_hash, count):\\n    \"\"\"\\n   ...</td>\n",
       "      <td># UCF Senior Design 2017-18\\n# Group 38\\n\\nfro...</td>\n",
       "    </tr>\n",
       "    <tr>\n",
       "      <th>2</th>\n",
       "      <td># UCF Senior Design 2017-18\\n# Group 38\\n\\nfro...</td>\n",
       "      <td>limit</td>\n",
       "      <td>def resize(img):\\n    \"\"\"\\n    Resize an image...</td>\n",
       "      <td># UCF Senior Design 2017-18\\n# Group 38\\n\\nfro...</td>\n",
       "    </tr>\n",
       "    <tr>\n",
       "      <th>3</th>\n",
       "      <td># UCF Senior Design 2017-18\\n# Group 38\\n\\nfro...</td>\n",
       "      <td>resize</td>\n",
       "      <td>def set_standard(images, filename):\\n    \"\"\"\\n...</td>\n",
       "      <td># UCF Senior Design 2017-18\\n# Group 38\\n\\nfro...</td>\n",
       "    </tr>\n",
       "    <tr>\n",
       "      <th>4</th>\n",
       "      <td>#!/usr/bin/env python3\\n\\nUNKNOWN = -1\\n\\ndef ...</td>\n",
       "      <td>read_val</td>\n",
       "      <td>def read_row():\\n    return list(map(int, inpu...</td>\n",
       "      <td>#!/usr/bin/env python3\\n\\nUNKNOWN = -1\\n\\ndef ...</td>\n",
       "    </tr>\n",
       "    <tr>\n",
       "      <th>...</th>\n",
       "      <td>...</td>\n",
       "      <td>...</td>\n",
       "      <td>...</td>\n",
       "      <td>...</td>\n",
       "    </tr>\n",
       "    <tr>\n",
       "      <th>11276</th>\n",
       "      <td>#coding:utf-8\\n# Copyright (c) 2019  PaddlePad...</td>\n",
       "      <td>hub_stat</td>\n",
       "      <td>\\n</td>\n",
       "      <td>#coding:utf-8\\n# Copyright (c) 2019  PaddlePad...</td>\n",
       "    </tr>\n",
       "    <tr>\n",
       "      <th>11277</th>\n",
       "      <td>import distro\\nimport logging\\nimport os\\nimpo...</td>\n",
       "      <td>generate_meta_iso</td>\n",
       "      <td>def gentemp(prefix):\\n        return tempfile....</td>\n",
       "      <td>import distro\\nimport logging\\nimport os\\nimpo...</td>\n",
       "    </tr>\n",
       "    <tr>\n",
       "      <th>11278</th>\n",
       "      <td>import distro\\nimport logging\\nimport os\\nimpo...</td>\n",
       "      <td>upload_volume</td>\n",
       "      <td>def handler(stream, nbytes, _):\\n        data ...</td>\n",
       "      <td>import distro\\nimport logging\\nimport os\\nimpo...</td>\n",
       "    </tr>\n",
       "    <tr>\n",
       "      <th>11279</th>\n",
       "      <td>class MeanSquaredError(Loss):\\n\\n    def call(...</td>\n",
       "      <td>__init__</td>\n",
       "      <td>defaults to `SUM_OVER_BATCH_SIZE`. When used w...</td>\n",
       "      <td>class MeanSquaredError(Loss):\\n\\n    def call(...</td>\n",
       "    </tr>\n",
       "    <tr>\n",
       "      <th>11280</th>\n",
       "      <td>#!/usr/bin/env python\\n\"\"\"\\nCopyright 2018 Ama...</td>\n",
       "      <td>assume_role</td>\n",
       "      <td>def get_master_members(sh_client, aws_region):...</td>\n",
       "      <td>#!/usr/bin/env python\\n\"\"\"\\nCopyright 2018 Ama...</td>\n",
       "    </tr>\n",
       "  </tbody>\n",
       "</table>\n",
       "<p>11281 rows × 4 columns</p>\n",
       "</div>"
      ],
      "text/plain": [
       "                                                  prompt    target_function  \\\n",
       "0      # UCF Senior Design 2017-18\\n# Group 38\\n\\nfro...          calc_hash   \n",
       "1      # UCF Senior Design 2017-18\\n# Group 38\\n\\nfro...            compare   \n",
       "2      # UCF Senior Design 2017-18\\n# Group 38\\n\\nfro...              limit   \n",
       "3      # UCF Senior Design 2017-18\\n# Group 38\\n\\nfro...             resize   \n",
       "4      #!/usr/bin/env python3\\n\\nUNKNOWN = -1\\n\\ndef ...           read_val   \n",
       "...                                                  ...                ...   \n",
       "11276  #coding:utf-8\\n# Copyright (c) 2019  PaddlePad...           hub_stat   \n",
       "11277  import distro\\nimport logging\\nimport os\\nimpo...  generate_meta_iso   \n",
       "11278  import distro\\nimport logging\\nimport os\\nimpo...      upload_volume   \n",
       "11279  class MeanSquaredError(Loss):\\n\\n    def call(...           __init__   \n",
       "11280  #!/usr/bin/env python\\n\"\"\"\\nCopyright 2018 Ama...        assume_role   \n",
       "\n",
       "                                                    code  \\\n",
       "0      def compare(hash1, hash2):\\n    \"\"\"\\n    Calcu...   \n",
       "1      def limit(img, std_hash, count):\\n    \"\"\"\\n   ...   \n",
       "2      def resize(img):\\n    \"\"\"\\n    Resize an image...   \n",
       "3      def set_standard(images, filename):\\n    \"\"\"\\n...   \n",
       "4      def read_row():\\n    return list(map(int, inpu...   \n",
       "...                                                  ...   \n",
       "11276                                                 \\n   \n",
       "11277  def gentemp(prefix):\\n        return tempfile....   \n",
       "11278  def handler(stream, nbytes, _):\\n        data ...   \n",
       "11279  defaults to `SUM_OVER_BATCH_SIZE`. When used w...   \n",
       "11280  def get_master_members(sh_client, aws_region):...   \n",
       "\n",
       "                                                    full  \n",
       "0      # UCF Senior Design 2017-18\\n# Group 38\\n\\nfro...  \n",
       "1      # UCF Senior Design 2017-18\\n# Group 38\\n\\nfro...  \n",
       "2      # UCF Senior Design 2017-18\\n# Group 38\\n\\nfro...  \n",
       "3      # UCF Senior Design 2017-18\\n# Group 38\\n\\nfro...  \n",
       "4      #!/usr/bin/env python3\\n\\nUNKNOWN = -1\\n\\ndef ...  \n",
       "...                                                  ...  \n",
       "11276  #coding:utf-8\\n# Copyright (c) 2019  PaddlePad...  \n",
       "11277  import distro\\nimport logging\\nimport os\\nimpo...  \n",
       "11278  import distro\\nimport logging\\nimport os\\nimpo...  \n",
       "11279  class MeanSquaredError(Loss):\\n\\n    def call(...  \n",
       "11280  #!/usr/bin/env python\\n\"\"\"\\nCopyright 2018 Ama...  \n",
       "\n",
       "[11281 rows x 4 columns]"
      ]
     },
     "execution_count": 64,
     "metadata": {},
     "output_type": "execute_result"
    }
   ],
   "source": [
    "data"
   ]
  },
  {
   "cell_type": "code",
   "execution_count": 79,
   "metadata": {
    "colab": {
     "base_uri": "https://localhost:8080/"
    },
    "id": "VWwQqBnqnIvu",
    "outputId": "b4ec7297-f980-42f6-ca5c-ed9545d21e3a"
   },
   "outputs": [
    {
     "data": {
      "text/plain": [
       "(8501, 6)"
      ]
     },
     "execution_count": 79,
     "metadata": {},
     "output_type": "execute_result"
    }
   ],
   "source": [
    "data.shape"
   ]
  },
  {
   "cell_type": "code",
   "execution_count": 69,
   "metadata": {},
   "outputs": [],
   "source": [
    "data['count'] = data.apply(lambda x:x['code'].count(x['target_function']) , axis = 1)"
   ]
  },
  {
   "cell_type": "code",
   "execution_count": 75,
   "metadata": {},
   "outputs": [],
   "source": [
    "data = data[data['count'] > 0]\n",
    "data = data.reset_index()"
   ]
  },
  {
   "cell_type": "code",
   "execution_count": 76,
   "metadata": {},
   "outputs": [
    {
     "data": {
      "text/html": [
       "<div>\n",
       "<style scoped>\n",
       "    .dataframe tbody tr th:only-of-type {\n",
       "        vertical-align: middle;\n",
       "    }\n",
       "\n",
       "    .dataframe tbody tr th {\n",
       "        vertical-align: top;\n",
       "    }\n",
       "\n",
       "    .dataframe thead th {\n",
       "        text-align: right;\n",
       "    }\n",
       "</style>\n",
       "<table border=\"1\" class=\"dataframe\">\n",
       "  <thead>\n",
       "    <tr style=\"text-align: right;\">\n",
       "      <th></th>\n",
       "      <th>index</th>\n",
       "      <th>prompt</th>\n",
       "      <th>target_function</th>\n",
       "      <th>code</th>\n",
       "      <th>full</th>\n",
       "      <th>count</th>\n",
       "    </tr>\n",
       "  </thead>\n",
       "  <tbody>\n",
       "    <tr>\n",
       "      <th>0</th>\n",
       "      <td>0</td>\n",
       "      <td># UCF Senior Design 2017-18\\n# Group 38\\n\\nfro...</td>\n",
       "      <td>calc_hash</td>\n",
       "      <td>def compare(hash1, hash2):\\n    \"\"\"\\n    Calcu...</td>\n",
       "      <td># UCF Senior Design 2017-18\\n# Group 38\\n\\nfro...</td>\n",
       "      <td>2</td>\n",
       "    </tr>\n",
       "    <tr>\n",
       "      <th>1</th>\n",
       "      <td>1</td>\n",
       "      <td># UCF Senior Design 2017-18\\n# Group 38\\n\\nfro...</td>\n",
       "      <td>compare</td>\n",
       "      <td>def limit(img, std_hash, count):\\n    \"\"\"\\n   ...</td>\n",
       "      <td># UCF Senior Design 2017-18\\n# Group 38\\n\\nfro...</td>\n",
       "      <td>2</td>\n",
       "    </tr>\n",
       "    <tr>\n",
       "      <th>2</th>\n",
       "      <td>4</td>\n",
       "      <td>#!/usr/bin/env python3\\n\\nUNKNOWN = -1\\n\\ndef ...</td>\n",
       "      <td>read_val</td>\n",
       "      <td>def read_row():\\n    return list(map(int, inpu...</td>\n",
       "      <td>#!/usr/bin/env python3\\n\\nUNKNOWN = -1\\n\\ndef ...</td>\n",
       "      <td>2</td>\n",
       "    </tr>\n",
       "    <tr>\n",
       "      <th>3</th>\n",
       "      <td>5</td>\n",
       "      <td>#!/usr/bin/env python3\\n\\nUNKNOWN = -1\\n\\ndef ...</td>\n",
       "      <td>read_row</td>\n",
       "      <td>def read_grid():\\n    return [read_row() for _...</td>\n",
       "      <td>#!/usr/bin/env python3\\n\\nUNKNOWN = -1\\n\\ndef ...</td>\n",
       "      <td>1</td>\n",
       "    </tr>\n",
       "    <tr>\n",
       "      <th>4</th>\n",
       "      <td>6</td>\n",
       "      <td>#!/usr/bin/env python3\\n\\nUNKNOWN = -1\\n\\ndef ...</td>\n",
       "      <td>read_grid</td>\n",
       "      <td>def make_blank_row(i):\\n    return [UNKNOWN] *...</td>\n",
       "      <td>#!/usr/bin/env python3\\n\\nUNKNOWN = -1\\n\\ndef ...</td>\n",
       "      <td>1</td>\n",
       "    </tr>\n",
       "    <tr>\n",
       "      <th>...</th>\n",
       "      <td>...</td>\n",
       "      <td>...</td>\n",
       "      <td>...</td>\n",
       "      <td>...</td>\n",
       "      <td>...</td>\n",
       "      <td>...</td>\n",
       "    </tr>\n",
       "    <tr>\n",
       "      <th>8496</th>\n",
       "      <td>11271</td>\n",
       "      <td>class SourcesTest(unittest.TestCase):\\n  def _...</td>\n",
       "      <td>_create_temp_file</td>\n",
       "      <td>def test_read_from_source(self):\\n    file_nam...</td>\n",
       "      <td>class SourcesTest(unittest.TestCase):\\n  def _...</td>\n",
       "      <td>3</td>\n",
       "    </tr>\n",
       "    <tr>\n",
       "      <th>8497</th>\n",
       "      <td>11275</td>\n",
       "      <td>#coding:utf-8\\n# Copyright (c) 2019  PaddlePad...</td>\n",
       "      <td>get_stat_server</td>\n",
       "      <td>default_stat_config\\n    return server_list[ra...</td>\n",
       "      <td>#coding:utf-8\\n# Copyright (c) 2019  PaddlePad...</td>\n",
       "      <td>1</td>\n",
       "    </tr>\n",
       "    <tr>\n",
       "      <th>8498</th>\n",
       "      <td>11277</td>\n",
       "      <td>import distro\\nimport logging\\nimport os\\nimpo...</td>\n",
       "      <td>generate_meta_iso</td>\n",
       "      <td>def gentemp(prefix):\\n        return tempfile....</td>\n",
       "      <td>import distro\\nimport logging\\nimport os\\nimpo...</td>\n",
       "      <td>1</td>\n",
       "    </tr>\n",
       "    <tr>\n",
       "      <th>8499</th>\n",
       "      <td>11278</td>\n",
       "      <td>import distro\\nimport logging\\nimport os\\nimpo...</td>\n",
       "      <td>upload_volume</td>\n",
       "      <td>def handler(stream, nbytes, _):\\n        data ...</td>\n",
       "      <td>import distro\\nimport logging\\nimport os\\nimpo...</td>\n",
       "      <td>1</td>\n",
       "    </tr>\n",
       "    <tr>\n",
       "      <th>8500</th>\n",
       "      <td>11280</td>\n",
       "      <td>#!/usr/bin/env python\\n\"\"\"\\nCopyright 2018 Ama...</td>\n",
       "      <td>assume_role</td>\n",
       "      <td>def get_master_members(sh_client, aws_region):...</td>\n",
       "      <td>#!/usr/bin/env python\\n\"\"\"\\nCopyright 2018 Ama...</td>\n",
       "      <td>5</td>\n",
       "    </tr>\n",
       "  </tbody>\n",
       "</table>\n",
       "<p>8501 rows × 6 columns</p>\n",
       "</div>"
      ],
      "text/plain": [
       "      index                                             prompt  \\\n",
       "0         0  # UCF Senior Design 2017-18\\n# Group 38\\n\\nfro...   \n",
       "1         1  # UCF Senior Design 2017-18\\n# Group 38\\n\\nfro...   \n",
       "2         4  #!/usr/bin/env python3\\n\\nUNKNOWN = -1\\n\\ndef ...   \n",
       "3         5  #!/usr/bin/env python3\\n\\nUNKNOWN = -1\\n\\ndef ...   \n",
       "4         6  #!/usr/bin/env python3\\n\\nUNKNOWN = -1\\n\\ndef ...   \n",
       "...     ...                                                ...   \n",
       "8496  11271  class SourcesTest(unittest.TestCase):\\n  def _...   \n",
       "8497  11275  #coding:utf-8\\n# Copyright (c) 2019  PaddlePad...   \n",
       "8498  11277  import distro\\nimport logging\\nimport os\\nimpo...   \n",
       "8499  11278  import distro\\nimport logging\\nimport os\\nimpo...   \n",
       "8500  11280  #!/usr/bin/env python\\n\"\"\"\\nCopyright 2018 Ama...   \n",
       "\n",
       "        target_function                                               code  \\\n",
       "0             calc_hash  def compare(hash1, hash2):\\n    \"\"\"\\n    Calcu...   \n",
       "1               compare  def limit(img, std_hash, count):\\n    \"\"\"\\n   ...   \n",
       "2              read_val  def read_row():\\n    return list(map(int, inpu...   \n",
       "3              read_row  def read_grid():\\n    return [read_row() for _...   \n",
       "4             read_grid  def make_blank_row(i):\\n    return [UNKNOWN] *...   \n",
       "...                 ...                                                ...   \n",
       "8496  _create_temp_file  def test_read_from_source(self):\\n    file_nam...   \n",
       "8497    get_stat_server  default_stat_config\\n    return server_list[ra...   \n",
       "8498  generate_meta_iso  def gentemp(prefix):\\n        return tempfile....   \n",
       "8499      upload_volume  def handler(stream, nbytes, _):\\n        data ...   \n",
       "8500        assume_role  def get_master_members(sh_client, aws_region):...   \n",
       "\n",
       "                                                   full  count  \n",
       "0     # UCF Senior Design 2017-18\\n# Group 38\\n\\nfro...      2  \n",
       "1     # UCF Senior Design 2017-18\\n# Group 38\\n\\nfro...      2  \n",
       "2     #!/usr/bin/env python3\\n\\nUNKNOWN = -1\\n\\ndef ...      2  \n",
       "3     #!/usr/bin/env python3\\n\\nUNKNOWN = -1\\n\\ndef ...      1  \n",
       "4     #!/usr/bin/env python3\\n\\nUNKNOWN = -1\\n\\ndef ...      1  \n",
       "...                                                 ...    ...  \n",
       "8496  class SourcesTest(unittest.TestCase):\\n  def _...      3  \n",
       "8497  #coding:utf-8\\n# Copyright (c) 2019  PaddlePad...      1  \n",
       "8498  import distro\\nimport logging\\nimport os\\nimpo...      1  \n",
       "8499  import distro\\nimport logging\\nimport os\\nimpo...      1  \n",
       "8500  #!/usr/bin/env python\\n\"\"\"\\nCopyright 2018 Ama...      5  \n",
       "\n",
       "[8501 rows x 6 columns]"
      ]
     },
     "execution_count": 76,
     "metadata": {},
     "output_type": "execute_result"
    }
   ],
   "source": [
    "data"
   ]
  },
  {
   "cell_type": "code",
   "execution_count": 15,
   "metadata": {},
   "outputs": [],
   "source": [
    "data['ids'] = data['full'].apply(lambda x: tokenizer(x, return_tensors=\"pt\")[\"input_ids\"].shape[-1])"
   ]
  },
  {
   "cell_type": "code",
   "execution_count": 22,
   "metadata": {},
   "outputs": [],
   "source": [
    "data = data[data['ids'] < 500]"
   ]
  },
  {
   "cell_type": "code",
   "execution_count": 25,
   "metadata": {},
   "outputs": [],
   "source": [
    "small_data = data[:1000]"
   ]
  },
  {
   "cell_type": "code",
   "execution_count": null,
   "metadata": {},
   "outputs": [],
   "source": [
    "#small_data.to_csv('/home/sasha/effective-inference/clean_naming/small_data.csv')"
   ]
  },
  {
   "cell_type": "code",
   "execution_count": 37,
   "metadata": {
    "id": "fVdF5kRvnl3O"
   },
   "outputs": [],
   "source": [
    "def get_defenitions(line):\n",
    "    code = line['code']\n",
    "    # func_names = line['func_names']\n",
    "    target_functioons = []\n",
    "    functions = extract_function_code_with_regex(code)\n",
    "    for k,v in functions.items():\n",
    "        func_data.loc[func_data.shape[0]] = [v, k]\n",
    "    # print(target_functioons)"
   ]
  },
  {
   "cell_type": "code",
   "execution_count": 38,
   "metadata": {},
   "outputs": [],
   "source": [
    "func_data = pd.DataFrame(columns = ['func_definition', 'func_name'])"
   ]
  },
  {
   "cell_type": "code",
   "execution_count": 39,
   "metadata": {},
   "outputs": [
    {
     "data": {
      "text/plain": [
       "2       None\n",
       "3       None\n",
       "4       None\n",
       "5       None\n",
       "6       None\n",
       "        ... \n",
       "2501    None\n",
       "2515    None\n",
       "2516    None\n",
       "2525    None\n",
       "2526    None\n",
       "Length: 1000, dtype: object"
      ]
     },
     "execution_count": 39,
     "metadata": {},
     "output_type": "execute_result"
    }
   ],
   "source": [
    "small_data.apply(get_defenitions, axis=1)\n"
   ]
  },
  {
   "cell_type": "code",
   "execution_count": 35,
   "metadata": {},
   "outputs": [],
   "source": [
    "# func_data.drop_duplicates().reset_index().to_csv('/home/sasha/effective-inference/clean_naming/big_func_data.csv')"
   ]
  },
  {
   "cell_type": "code",
   "execution_count": 31,
   "metadata": {},
   "outputs": [],
   "source": [
    "# func_data.drop_duplicates().reset_index().to_csv('/home/sasha/effective-inference/clean_naming/small_func_data.csv')"
   ]
  },
  {
   "cell_type": "code",
   "execution_count": 40,
   "metadata": {},
   "outputs": [
    {
     "data": {
      "text/html": [
       "<div>\n",
       "<style scoped>\n",
       "    .dataframe tbody tr th:only-of-type {\n",
       "        vertical-align: middle;\n",
       "    }\n",
       "\n",
       "    .dataframe tbody tr th {\n",
       "        vertical-align: top;\n",
       "    }\n",
       "\n",
       "    .dataframe thead th {\n",
       "        text-align: right;\n",
       "    }\n",
       "</style>\n",
       "<table border=\"1\" class=\"dataframe\">\n",
       "  <thead>\n",
       "    <tr style=\"text-align: right;\">\n",
       "      <th></th>\n",
       "      <th>index</th>\n",
       "      <th>func_definition</th>\n",
       "      <th>func_name</th>\n",
       "    </tr>\n",
       "  </thead>\n",
       "  <tbody>\n",
       "    <tr>\n",
       "      <th>0</th>\n",
       "      <td>0</td>\n",
       "      <td>def read_row():\\n    return list(map(int, inpu...</td>\n",
       "      <td>read_row</td>\n",
       "    </tr>\n",
       "    <tr>\n",
       "      <th>1</th>\n",
       "      <td>1</td>\n",
       "      <td>def read_grid():\\n    return [read_row() for _...</td>\n",
       "      <td>read_grid</td>\n",
       "    </tr>\n",
       "    <tr>\n",
       "      <th>2</th>\n",
       "      <td>2</td>\n",
       "      <td>def make_blank_row(i):\\n    return [UNKNOWN] *...</td>\n",
       "      <td>make_blank_row</td>\n",
       "    </tr>\n",
       "    <tr>\n",
       "      <th>3</th>\n",
       "      <td>3</td>\n",
       "      <td>def make_blank_grid(n):\\n    return [make_blan...</td>\n",
       "      <td>make_blank_grid</td>\n",
       "    </tr>\n",
       "    <tr>\n",
       "      <th>4</th>\n",
       "      <td>4</td>\n",
       "      <td>def compute_max_path_sum(grid):\\n    memo = ma...</td>\n",
       "      <td>compute_max_path_sum</td>\n",
       "    </tr>\n",
       "    <tr>\n",
       "      <th>...</th>\n",
       "      <td>...</td>\n",
       "      <td>...</td>\n",
       "      <td>...</td>\n",
       "    </tr>\n",
       "    <tr>\n",
       "      <th>1107</th>\n",
       "      <td>3186</td>\n",
       "      <td>def dp(n):\\n    # 查备忘录，避免重复计算\\n            if ...</td>\n",
       "      <td>dp</td>\n",
       "    </tr>\n",
       "    <tr>\n",
       "      <th>1108</th>\n",
       "      <td>3189</td>\n",
       "      <td>def get_datetime():\\n    daytime = datetime.da...</td>\n",
       "      <td>get_datetime</td>\n",
       "    </tr>\n",
       "    <tr>\n",
       "      <th>1109</th>\n",
       "      <td>3190</td>\n",
       "      <td>def update_json(file=r'update.json'):\\n    inf...</td>\n",
       "      <td>update_json</td>\n",
       "    </tr>\n",
       "    <tr>\n",
       "      <th>1110</th>\n",
       "      <td>3192</td>\n",
       "      <td>def getPrinters():\\n    global printers\\n\\tif ...</td>\n",
       "      <td>getPrinters</td>\n",
       "    </tr>\n",
       "    <tr>\n",
       "      <th>1111</th>\n",
       "      <td>3193</td>\n",
       "      <td>def printFile(file, printer):\\n    cmd = [\"lpr...</td>\n",
       "      <td>printFile</td>\n",
       "    </tr>\n",
       "  </tbody>\n",
       "</table>\n",
       "<p>1112 rows × 3 columns</p>\n",
       "</div>"
      ],
      "text/plain": [
       "      index                                    func_definition  \\\n",
       "0         0  def read_row():\\n    return list(map(int, inpu...   \n",
       "1         1  def read_grid():\\n    return [read_row() for _...   \n",
       "2         2  def make_blank_row(i):\\n    return [UNKNOWN] *...   \n",
       "3         3  def make_blank_grid(n):\\n    return [make_blan...   \n",
       "4         4  def compute_max_path_sum(grid):\\n    memo = ma...   \n",
       "...     ...                                                ...   \n",
       "1107   3186  def dp(n):\\n    # 查备忘录，避免重复计算\\n            if ...   \n",
       "1108   3189  def get_datetime():\\n    daytime = datetime.da...   \n",
       "1109   3190  def update_json(file=r'update.json'):\\n    inf...   \n",
       "1110   3192  def getPrinters():\\n    global printers\\n\\tif ...   \n",
       "1111   3193  def printFile(file, printer):\\n    cmd = [\"lpr...   \n",
       "\n",
       "                 func_name  \n",
       "0                 read_row  \n",
       "1                read_grid  \n",
       "2           make_blank_row  \n",
       "3          make_blank_grid  \n",
       "4     compute_max_path_sum  \n",
       "...                    ...  \n",
       "1107                    dp  \n",
       "1108          get_datetime  \n",
       "1109           update_json  \n",
       "1110           getPrinters  \n",
       "1111             printFile  \n",
       "\n",
       "[1112 rows x 3 columns]"
      ]
     },
     "execution_count": 40,
     "metadata": {},
     "output_type": "execute_result"
    }
   ],
   "source": [
    "func_data.drop_duplicates().reset_index()"
   ]
  },
  {
   "cell_type": "code",
   "execution_count": 22,
   "metadata": {},
   "outputs": [
    {
     "name": "stdout",
     "output_type": "stream",
     "text": [
      "def compare(hash1, hash2):\n",
      "    \"\"\"\n",
      "    Calculate the difference between two images\n",
      "        hash1: (array) first wavelet hash\n",
      "        hash2: (array) second wavelet hash\n",
      "    \"\"\"\n",
      "    return hash1 - hash2\n",
      "\n",
      "\n",
      "\n"
     ]
    }
   ],
   "source": [
    "print(func_data.loc[0]['func_definition'])"
   ]
  }
 ],
 "metadata": {
  "colab": {
   "provenance": []
  },
  "kernelspec": {
   "display_name": "Python 3 (ipykernel)",
   "language": "python",
   "name": "python3"
  },
  "language_info": {
   "codemirror_mode": {
    "name": "ipython",
    "version": 3
   },
   "file_extension": ".py",
   "mimetype": "text/x-python",
   "name": "python",
   "nbconvert_exporter": "python",
   "pygments_lexer": "ipython3",
   "version": "3.10.3"
  },
  "widgets": {
   "application/vnd.jupyter.widget-state+json": {
    "0516ffd7d8084d9a9d4b38a60d88125c": {
     "model_module": "@jupyter-widgets/controls",
     "model_module_version": "1.5.0",
     "model_name": "VBoxModel",
     "state": {
      "_dom_classes": [],
      "_model_module": "@jupyter-widgets/controls",
      "_model_module_version": "1.5.0",
      "_model_name": "VBoxModel",
      "_view_count": null,
      "_view_module": "@jupyter-widgets/controls",
      "_view_module_version": "1.5.0",
      "_view_name": "VBoxView",
      "box_style": "",
      "children": [
       "IPY_MODEL_c609fc83f8f54b8088583fcc36b9d9aa",
       "IPY_MODEL_4fec8d7cdab847f486590b26167b6cfc",
       "IPY_MODEL_711c6ccdefb14062b883d81c2d4ab619",
       "IPY_MODEL_51613356b8894bcc82e9c26e7b89530f"
      ],
      "layout": "IPY_MODEL_b7c199039f6449c28d3b17821b25fc5a"
     }
    },
    "0b4effcc442d49d5ae25fcc2b5820fde": {
     "model_module": "@jupyter-widgets/base",
     "model_module_version": "1.2.0",
     "model_name": "LayoutModel",
     "state": {
      "_model_module": "@jupyter-widgets/base",
      "_model_module_version": "1.2.0",
      "_model_name": "LayoutModel",
      "_view_count": null,
      "_view_module": "@jupyter-widgets/base",
      "_view_module_version": "1.2.0",
      "_view_name": "LayoutView",
      "align_content": null,
      "align_items": null,
      "align_self": null,
      "border": null,
      "bottom": null,
      "display": null,
      "flex": null,
      "flex_flow": null,
      "grid_area": null,
      "grid_auto_columns": null,
      "grid_auto_flow": null,
      "grid_auto_rows": null,
      "grid_column": null,
      "grid_gap": null,
      "grid_row": null,
      "grid_template_areas": null,
      "grid_template_columns": null,
      "grid_template_rows": null,
      "height": null,
      "justify_content": null,
      "justify_items": null,
      "left": null,
      "margin": null,
      "max_height": null,
      "max_width": null,
      "min_height": null,
      "min_width": null,
      "object_fit": null,
      "object_position": null,
      "order": null,
      "overflow": null,
      "overflow_x": null,
      "overflow_y": null,
      "padding": null,
      "right": null,
      "top": null,
      "visibility": null,
      "width": null
     }
    },
    "0ea384fb8da840e091cff82a3ebeedf4": {
     "model_module": "@jupyter-widgets/base",
     "model_module_version": "1.2.0",
     "model_name": "LayoutModel",
     "state": {
      "_model_module": "@jupyter-widgets/base",
      "_model_module_version": "1.2.0",
      "_model_name": "LayoutModel",
      "_view_count": null,
      "_view_module": "@jupyter-widgets/base",
      "_view_module_version": "1.2.0",
      "_view_name": "LayoutView",
      "align_content": null,
      "align_items": null,
      "align_self": null,
      "border": null,
      "bottom": null,
      "display": null,
      "flex": null,
      "flex_flow": null,
      "grid_area": null,
      "grid_auto_columns": null,
      "grid_auto_flow": null,
      "grid_auto_rows": null,
      "grid_column": null,
      "grid_gap": null,
      "grid_row": null,
      "grid_template_areas": null,
      "grid_template_columns": null,
      "grid_template_rows": null,
      "height": null,
      "justify_content": null,
      "justify_items": null,
      "left": null,
      "margin": null,
      "max_height": null,
      "max_width": null,
      "min_height": null,
      "min_width": null,
      "object_fit": null,
      "object_position": null,
      "order": null,
      "overflow": null,
      "overflow_x": null,
      "overflow_y": null,
      "padding": null,
      "right": null,
      "top": null,
      "visibility": null,
      "width": null
     }
    },
    "1494256b2f3a4f0b94f39aedd7f42f16": {
     "model_module": "@jupyter-widgets/controls",
     "model_module_version": "1.5.0",
     "model_name": "FloatProgressModel",
     "state": {
      "_dom_classes": [],
      "_model_module": "@jupyter-widgets/controls",
      "_model_module_version": "1.5.0",
      "_model_name": "FloatProgressModel",
      "_view_count": null,
      "_view_module": "@jupyter-widgets/controls",
      "_view_module_version": "1.5.0",
      "_view_name": "ProgressView",
      "bar_style": "success",
      "description": "",
      "description_tooltip": null,
      "layout": "IPY_MODEL_6aef8fa94d774c8f877e9ff07e6f0c07",
      "max": 206,
      "min": 0,
      "orientation": "horizontal",
      "style": "IPY_MODEL_8aaee8dd9a814725b77882e9aaeba04d",
      "value": 206
     }
    },
    "1c9d033d7b1d4a2a82ff643d55fdc835": {
     "model_module": "@jupyter-widgets/controls",
     "model_module_version": "1.5.0",
     "model_name": "DescriptionStyleModel",
     "state": {
      "_model_module": "@jupyter-widgets/controls",
      "_model_module_version": "1.5.0",
      "_model_name": "DescriptionStyleModel",
      "_view_count": null,
      "_view_module": "@jupyter-widgets/base",
      "_view_module_version": "1.2.0",
      "_view_name": "StyleView",
      "description_width": ""
     }
    },
    "1cad27ed6c8d4d6da90412cce9df63dd": {
     "model_module": "@jupyter-widgets/base",
     "model_module_version": "1.2.0",
     "model_name": "LayoutModel",
     "state": {
      "_model_module": "@jupyter-widgets/base",
      "_model_module_version": "1.2.0",
      "_model_name": "LayoutModel",
      "_view_count": null,
      "_view_module": "@jupyter-widgets/base",
      "_view_module_version": "1.2.0",
      "_view_name": "LayoutView",
      "align_content": null,
      "align_items": null,
      "align_self": null,
      "border": null,
      "bottom": null,
      "display": null,
      "flex": null,
      "flex_flow": null,
      "grid_area": null,
      "grid_auto_columns": null,
      "grid_auto_flow": null,
      "grid_auto_rows": null,
      "grid_column": null,
      "grid_gap": null,
      "grid_row": null,
      "grid_template_areas": null,
      "grid_template_columns": null,
      "grid_template_rows": null,
      "height": null,
      "justify_content": null,
      "justify_items": null,
      "left": null,
      "margin": null,
      "max_height": null,
      "max_width": null,
      "min_height": null,
      "min_width": null,
      "object_fit": null,
      "object_position": null,
      "order": null,
      "overflow": null,
      "overflow_x": null,
      "overflow_y": null,
      "padding": null,
      "right": null,
      "top": null,
      "visibility": null,
      "width": null
     }
    },
    "359e7a16279146cfbac78d3683b642d2": {
     "model_module": "@jupyter-widgets/controls",
     "model_module_version": "1.5.0",
     "model_name": "ButtonModel",
     "state": {
      "_dom_classes": [],
      "_model_module": "@jupyter-widgets/controls",
      "_model_module_version": "1.5.0",
      "_model_name": "ButtonModel",
      "_view_count": null,
      "_view_module": "@jupyter-widgets/controls",
      "_view_module_version": "1.5.0",
      "_view_name": "ButtonView",
      "button_style": "",
      "description": "Login",
      "disabled": false,
      "icon": "",
      "layout": "IPY_MODEL_ec75231f1ade489ab8a1440d79fc0489",
      "style": "IPY_MODEL_b8be3f3c1e904e1186cee6002e6f6528",
      "tooltip": ""
     }
    },
    "40971f9f987c49b8837024e8f3e3dcd1": {
     "model_module": "@jupyter-widgets/controls",
     "model_module_version": "1.5.0",
     "model_name": "DescriptionStyleModel",
     "state": {
      "_model_module": "@jupyter-widgets/controls",
      "_model_module_version": "1.5.0",
      "_model_name": "DescriptionStyleModel",
      "_view_count": null,
      "_view_module": "@jupyter-widgets/base",
      "_view_module_version": "1.2.0",
      "_view_name": "StyleView",
      "description_width": ""
     }
    },
    "42ab3e7fb26547219925b38d2bf96eed": {
     "model_module": "@jupyter-widgets/controls",
     "model_module_version": "1.5.0",
     "model_name": "DescriptionStyleModel",
     "state": {
      "_model_module": "@jupyter-widgets/controls",
      "_model_module_version": "1.5.0",
      "_model_name": "DescriptionStyleModel",
      "_view_count": null,
      "_view_module": "@jupyter-widgets/base",
      "_view_module_version": "1.2.0",
      "_view_name": "StyleView",
      "description_width": ""
     }
    },
    "44dabc81edd34666b6cd842acc6d01e3": {
     "model_module": "@jupyter-widgets/base",
     "model_module_version": "1.2.0",
     "model_name": "LayoutModel",
     "state": {
      "_model_module": "@jupyter-widgets/base",
      "_model_module_version": "1.2.0",
      "_model_name": "LayoutModel",
      "_view_count": null,
      "_view_module": "@jupyter-widgets/base",
      "_view_module_version": "1.2.0",
      "_view_name": "LayoutView",
      "align_content": null,
      "align_items": null,
      "align_self": null,
      "border": null,
      "bottom": null,
      "display": null,
      "flex": null,
      "flex_flow": null,
      "grid_area": null,
      "grid_auto_columns": null,
      "grid_auto_flow": null,
      "grid_auto_rows": null,
      "grid_column": null,
      "grid_gap": null,
      "grid_row": null,
      "grid_template_areas": null,
      "grid_template_columns": null,
      "grid_template_rows": null,
      "height": null,
      "justify_content": null,
      "justify_items": null,
      "left": null,
      "margin": null,
      "max_height": null,
      "max_width": null,
      "min_height": null,
      "min_width": null,
      "object_fit": null,
      "object_position": null,
      "order": null,
      "overflow": null,
      "overflow_x": null,
      "overflow_y": null,
      "padding": null,
      "right": null,
      "top": null,
      "visibility": null,
      "width": null
     }
    },
    "4822551f95f846b184d3c1ad89db08e9": {
     "model_module": "@jupyter-widgets/controls",
     "model_module_version": "1.5.0",
     "model_name": "HTMLModel",
     "state": {
      "_dom_classes": [],
      "_model_module": "@jupyter-widgets/controls",
      "_model_module_version": "1.5.0",
      "_model_name": "HTMLModel",
      "_view_count": null,
      "_view_module": "@jupyter-widgets/controls",
      "_view_module_version": "1.5.0",
      "_view_name": "HTMLView",
      "description": "",
      "description_tooltip": null,
      "layout": "IPY_MODEL_44dabc81edd34666b6cd842acc6d01e3",
      "placeholder": "​",
      "style": "IPY_MODEL_64d86df40e8e4b76a24f14fc7a09ce22",
      "value": "Resolving data files: 100%"
     }
    },
    "4cbfc2fb81dc46fdb64d92571a661821": {
     "model_module": "@jupyter-widgets/controls",
     "model_module_version": "1.5.0",
     "model_name": "PasswordModel",
     "state": {
      "_dom_classes": [],
      "_model_module": "@jupyter-widgets/controls",
      "_model_module_version": "1.5.0",
      "_model_name": "PasswordModel",
      "_view_count": null,
      "_view_module": "@jupyter-widgets/controls",
      "_view_module_version": "1.5.0",
      "_view_name": "PasswordView",
      "continuous_update": true,
      "description": "Token:",
      "description_tooltip": null,
      "disabled": false,
      "layout": "IPY_MODEL_ab938d5e8fb74190bfaf7f63e3c607fd",
      "placeholder": "​",
      "style": "IPY_MODEL_1c9d033d7b1d4a2a82ff643d55fdc835",
      "value": ""
     }
    },
    "4cc4f9038ce14d5b99c15989b5d51199": {
     "model_module": "@jupyter-widgets/controls",
     "model_module_version": "1.5.0",
     "model_name": "CheckboxModel",
     "state": {
      "_dom_classes": [],
      "_model_module": "@jupyter-widgets/controls",
      "_model_module_version": "1.5.0",
      "_model_name": "CheckboxModel",
      "_view_count": null,
      "_view_module": "@jupyter-widgets/controls",
      "_view_module_version": "1.5.0",
      "_view_name": "CheckboxView",
      "description": "Add token as git credential?",
      "description_tooltip": null,
      "disabled": false,
      "indent": true,
      "layout": "IPY_MODEL_1cad27ed6c8d4d6da90412cce9df63dd",
      "style": "IPY_MODEL_8bfb37f6e5ba47f4b6587f8d1fa8c195",
      "value": true
     }
    },
    "4fec8d7cdab847f486590b26167b6cfc": {
     "model_module": "@jupyter-widgets/controls",
     "model_module_version": "1.5.0",
     "model_name": "LabelModel",
     "state": {
      "_dom_classes": [],
      "_model_module": "@jupyter-widgets/controls",
      "_model_module_version": "1.5.0",
      "_model_name": "LabelModel",
      "_view_count": null,
      "_view_module": "@jupyter-widgets/controls",
      "_view_module_version": "1.5.0",
      "_view_name": "LabelView",
      "description": "",
      "description_tooltip": null,
      "layout": "IPY_MODEL_0ea384fb8da840e091cff82a3ebeedf4",
      "placeholder": "​",
      "style": "IPY_MODEL_e4700057e6c54809a18b744fe5e3a0d5",
      "value": "Your token has been saved in your configured git credential helpers (store)."
     }
    },
    "51613356b8894bcc82e9c26e7b89530f": {
     "model_module": "@jupyter-widgets/controls",
     "model_module_version": "1.5.0",
     "model_name": "LabelModel",
     "state": {
      "_dom_classes": [],
      "_model_module": "@jupyter-widgets/controls",
      "_model_module_version": "1.5.0",
      "_model_name": "LabelModel",
      "_view_count": null,
      "_view_module": "@jupyter-widgets/controls",
      "_view_module_version": "1.5.0",
      "_view_name": "LabelView",
      "description": "",
      "description_tooltip": null,
      "layout": "IPY_MODEL_e92b73d4d94a4f889cbbb4de0f38ec46",
      "placeholder": "​",
      "style": "IPY_MODEL_42ab3e7fb26547219925b38d2bf96eed",
      "value": "Login successful"
     }
    },
    "64c2bcaf1ffe41eca8acced00ba064d7": {
     "model_module": "@jupyter-widgets/controls",
     "model_module_version": "1.5.0",
     "model_name": "LabelModel",
     "state": {
      "_dom_classes": [],
      "_model_module": "@jupyter-widgets/controls",
      "_model_module_version": "1.5.0",
      "_model_name": "LabelModel",
      "_view_count": null,
      "_view_module": "@jupyter-widgets/controls",
      "_view_module_version": "1.5.0",
      "_view_name": "LabelView",
      "description": "",
      "description_tooltip": null,
      "layout": "IPY_MODEL_e69f4c9e49574196bef42c57891a4a00",
      "placeholder": "​",
      "style": "IPY_MODEL_c737fd704b03447fbafed151e2c4dc20",
      "value": "Connecting..."
     }
    },
    "64d86df40e8e4b76a24f14fc7a09ce22": {
     "model_module": "@jupyter-widgets/controls",
     "model_module_version": "1.5.0",
     "model_name": "DescriptionStyleModel",
     "state": {
      "_model_module": "@jupyter-widgets/controls",
      "_model_module_version": "1.5.0",
      "_model_name": "DescriptionStyleModel",
      "_view_count": null,
      "_view_module": "@jupyter-widgets/base",
      "_view_module_version": "1.2.0",
      "_view_name": "StyleView",
      "description_width": ""
     }
    },
    "658c50cedc974bfdbd41ffffa42a8b7b": {
     "model_module": "@jupyter-widgets/base",
     "model_module_version": "1.2.0",
     "model_name": "LayoutModel",
     "state": {
      "_model_module": "@jupyter-widgets/base",
      "_model_module_version": "1.2.0",
      "_model_name": "LayoutModel",
      "_view_count": null,
      "_view_module": "@jupyter-widgets/base",
      "_view_module_version": "1.2.0",
      "_view_name": "LayoutView",
      "align_content": null,
      "align_items": null,
      "align_self": null,
      "border": null,
      "bottom": null,
      "display": null,
      "flex": null,
      "flex_flow": null,
      "grid_area": null,
      "grid_auto_columns": null,
      "grid_auto_flow": null,
      "grid_auto_rows": null,
      "grid_column": null,
      "grid_gap": null,
      "grid_row": null,
      "grid_template_areas": null,
      "grid_template_columns": null,
      "grid_template_rows": null,
      "height": null,
      "justify_content": null,
      "justify_items": null,
      "left": null,
      "margin": null,
      "max_height": null,
      "max_width": null,
      "min_height": null,
      "min_width": null,
      "object_fit": null,
      "object_position": null,
      "order": null,
      "overflow": null,
      "overflow_x": null,
      "overflow_y": null,
      "padding": null,
      "right": null,
      "top": null,
      "visibility": null,
      "width": null
     }
    },
    "6aef8fa94d774c8f877e9ff07e6f0c07": {
     "model_module": "@jupyter-widgets/base",
     "model_module_version": "1.2.0",
     "model_name": "LayoutModel",
     "state": {
      "_model_module": "@jupyter-widgets/base",
      "_model_module_version": "1.2.0",
      "_model_name": "LayoutModel",
      "_view_count": null,
      "_view_module": "@jupyter-widgets/base",
      "_view_module_version": "1.2.0",
      "_view_name": "LayoutView",
      "align_content": null,
      "align_items": null,
      "align_self": null,
      "border": null,
      "bottom": null,
      "display": null,
      "flex": null,
      "flex_flow": null,
      "grid_area": null,
      "grid_auto_columns": null,
      "grid_auto_flow": null,
      "grid_auto_rows": null,
      "grid_column": null,
      "grid_gap": null,
      "grid_row": null,
      "grid_template_areas": null,
      "grid_template_columns": null,
      "grid_template_rows": null,
      "height": null,
      "justify_content": null,
      "justify_items": null,
      "left": null,
      "margin": null,
      "max_height": null,
      "max_width": null,
      "min_height": null,
      "min_width": null,
      "object_fit": null,
      "object_position": null,
      "order": null,
      "overflow": null,
      "overflow_x": null,
      "overflow_y": null,
      "padding": null,
      "right": null,
      "top": null,
      "visibility": null,
      "width": null
     }
    },
    "6c32537bf6c64170990e5c3018b12143": {
     "model_module": "@jupyter-widgets/controls",
     "model_module_version": "1.5.0",
     "model_name": "DescriptionStyleModel",
     "state": {
      "_model_module": "@jupyter-widgets/controls",
      "_model_module_version": "1.5.0",
      "_model_name": "DescriptionStyleModel",
      "_view_count": null,
      "_view_module": "@jupyter-widgets/base",
      "_view_module_version": "1.2.0",
      "_view_name": "StyleView",
      "description_width": ""
     }
    },
    "711c6ccdefb14062b883d81c2d4ab619": {
     "model_module": "@jupyter-widgets/controls",
     "model_module_version": "1.5.0",
     "model_name": "LabelModel",
     "state": {
      "_dom_classes": [],
      "_model_module": "@jupyter-widgets/controls",
      "_model_module_version": "1.5.0",
      "_model_name": "LabelModel",
      "_view_count": null,
      "_view_module": "@jupyter-widgets/controls",
      "_view_module_version": "1.5.0",
      "_view_name": "LabelView",
      "description": "",
      "description_tooltip": null,
      "layout": "IPY_MODEL_dd181ab8376d4768afae2feee5964589",
      "placeholder": "​",
      "style": "IPY_MODEL_6c32537bf6c64170990e5c3018b12143",
      "value": "Your token has been saved to /root/.cache/huggingface/token"
     }
    },
    "7297f5e8b983444aad7aa29bcb81e6af": {
     "model_module": "@jupyter-widgets/base",
     "model_module_version": "1.2.0",
     "model_name": "LayoutModel",
     "state": {
      "_model_module": "@jupyter-widgets/base",
      "_model_module_version": "1.2.0",
      "_model_name": "LayoutModel",
      "_view_count": null,
      "_view_module": "@jupyter-widgets/base",
      "_view_module_version": "1.2.0",
      "_view_name": "LayoutView",
      "align_content": null,
      "align_items": null,
      "align_self": null,
      "border": null,
      "bottom": null,
      "display": null,
      "flex": null,
      "flex_flow": null,
      "grid_area": null,
      "grid_auto_columns": null,
      "grid_auto_flow": null,
      "grid_auto_rows": null,
      "grid_column": null,
      "grid_gap": null,
      "grid_row": null,
      "grid_template_areas": null,
      "grid_template_columns": null,
      "grid_template_rows": null,
      "height": null,
      "justify_content": null,
      "justify_items": null,
      "left": null,
      "margin": null,
      "max_height": null,
      "max_width": null,
      "min_height": null,
      "min_width": null,
      "object_fit": null,
      "object_position": null,
      "order": null,
      "overflow": null,
      "overflow_x": null,
      "overflow_y": null,
      "padding": null,
      "right": null,
      "top": null,
      "visibility": null,
      "width": null
     }
    },
    "73cc5c016e944030b7d76a52881fec12": {
     "model_module": "@jupyter-widgets/controls",
     "model_module_version": "1.5.0",
     "model_name": "DescriptionStyleModel",
     "state": {
      "_model_module": "@jupyter-widgets/controls",
      "_model_module_version": "1.5.0",
      "_model_name": "DescriptionStyleModel",
      "_view_count": null,
      "_view_module": "@jupyter-widgets/base",
      "_view_module_version": "1.2.0",
      "_view_name": "StyleView",
      "description_width": ""
     }
    },
    "7af141b27b364c74a5bd95586e876864": {
     "model_module": "@jupyter-widgets/controls",
     "model_module_version": "1.5.0",
     "model_name": "HBoxModel",
     "state": {
      "_dom_classes": [],
      "_model_module": "@jupyter-widgets/controls",
      "_model_module_version": "1.5.0",
      "_model_name": "HBoxModel",
      "_view_count": null,
      "_view_module": "@jupyter-widgets/controls",
      "_view_module_version": "1.5.0",
      "_view_name": "HBoxView",
      "box_style": "",
      "children": [
       "IPY_MODEL_4822551f95f846b184d3c1ad89db08e9",
       "IPY_MODEL_1494256b2f3a4f0b94f39aedd7f42f16",
       "IPY_MODEL_a2f4c7210e6645359eeb356d3ed7a36f"
      ],
      "layout": "IPY_MODEL_cf214ca51c6e4e7a83e0e7c48af4de5d"
     }
    },
    "86ef227d1798411e8f8d23448c94b030": {
     "model_module": "@jupyter-widgets/controls",
     "model_module_version": "1.5.0",
     "model_name": "HTMLModel",
     "state": {
      "_dom_classes": [],
      "_model_module": "@jupyter-widgets/controls",
      "_model_module_version": "1.5.0",
      "_model_name": "HTMLModel",
      "_view_count": null,
      "_view_module": "@jupyter-widgets/controls",
      "_view_module_version": "1.5.0",
      "_view_name": "HTMLView",
      "description": "",
      "description_tooltip": null,
      "layout": "IPY_MODEL_0b4effcc442d49d5ae25fcc2b5820fde",
      "placeholder": "​",
      "style": "IPY_MODEL_b632f1ae4f6d4261881959a5f4df3b5f",
      "value": "<center> <img\nsrc=https://huggingface.co/front/assets/huggingface_logo-noborder.svg\nalt='Hugging Face'> <br> Copy a token from <a\nhref=\"https://huggingface.co/settings/tokens\" target=\"_blank\">your Hugging Face\ntokens page</a> and paste it below. <br> Immediately click login after copying\nyour token or it might be stored in plain text in this notebook file. </center>"
     }
    },
    "8aaee8dd9a814725b77882e9aaeba04d": {
     "model_module": "@jupyter-widgets/controls",
     "model_module_version": "1.5.0",
     "model_name": "ProgressStyleModel",
     "state": {
      "_model_module": "@jupyter-widgets/controls",
      "_model_module_version": "1.5.0",
      "_model_name": "ProgressStyleModel",
      "_view_count": null,
      "_view_module": "@jupyter-widgets/base",
      "_view_module_version": "1.2.0",
      "_view_name": "StyleView",
      "bar_color": null,
      "description_width": ""
     }
    },
    "8bfb37f6e5ba47f4b6587f8d1fa8c195": {
     "model_module": "@jupyter-widgets/controls",
     "model_module_version": "1.5.0",
     "model_name": "DescriptionStyleModel",
     "state": {
      "_model_module": "@jupyter-widgets/controls",
      "_model_module_version": "1.5.0",
      "_model_name": "DescriptionStyleModel",
      "_view_count": null,
      "_view_module": "@jupyter-widgets/base",
      "_view_module_version": "1.2.0",
      "_view_name": "StyleView",
      "description_width": ""
     }
    },
    "94c329b2b2034f1f84b16dd2a47f30b5": {
     "model_module": "@jupyter-widgets/controls",
     "model_module_version": "1.5.0",
     "model_name": "DescriptionStyleModel",
     "state": {
      "_model_module": "@jupyter-widgets/controls",
      "_model_module_version": "1.5.0",
      "_model_name": "DescriptionStyleModel",
      "_view_count": null,
      "_view_module": "@jupyter-widgets/base",
      "_view_module_version": "1.2.0",
      "_view_name": "StyleView",
      "description_width": ""
     }
    },
    "a2f4c7210e6645359eeb356d3ed7a36f": {
     "model_module": "@jupyter-widgets/controls",
     "model_module_version": "1.5.0",
     "model_name": "HTMLModel",
     "state": {
      "_dom_classes": [],
      "_model_module": "@jupyter-widgets/controls",
      "_model_module_version": "1.5.0",
      "_model_name": "HTMLModel",
      "_view_count": null,
      "_view_module": "@jupyter-widgets/controls",
      "_view_module_version": "1.5.0",
      "_view_name": "HTMLView",
      "description": "",
      "description_tooltip": null,
      "layout": "IPY_MODEL_658c50cedc974bfdbd41ffffa42a8b7b",
      "placeholder": "​",
      "style": "IPY_MODEL_40971f9f987c49b8837024e8f3e3dcd1",
      "value": " 206/206 [00:00&lt;00:00, 3181.73it/s]"
     }
    },
    "ab938d5e8fb74190bfaf7f63e3c607fd": {
     "model_module": "@jupyter-widgets/base",
     "model_module_version": "1.2.0",
     "model_name": "LayoutModel",
     "state": {
      "_model_module": "@jupyter-widgets/base",
      "_model_module_version": "1.2.0",
      "_model_name": "LayoutModel",
      "_view_count": null,
      "_view_module": "@jupyter-widgets/base",
      "_view_module_version": "1.2.0",
      "_view_name": "LayoutView",
      "align_content": null,
      "align_items": null,
      "align_self": null,
      "border": null,
      "bottom": null,
      "display": null,
      "flex": null,
      "flex_flow": null,
      "grid_area": null,
      "grid_auto_columns": null,
      "grid_auto_flow": null,
      "grid_auto_rows": null,
      "grid_column": null,
      "grid_gap": null,
      "grid_row": null,
      "grid_template_areas": null,
      "grid_template_columns": null,
      "grid_template_rows": null,
      "height": null,
      "justify_content": null,
      "justify_items": null,
      "left": null,
      "margin": null,
      "max_height": null,
      "max_width": null,
      "min_height": null,
      "min_width": null,
      "object_fit": null,
      "object_position": null,
      "order": null,
      "overflow": null,
      "overflow_x": null,
      "overflow_y": null,
      "padding": null,
      "right": null,
      "top": null,
      "visibility": null,
      "width": null
     }
    },
    "b372d43ff809418e90fb480bdde0e2fe": {
     "model_module": "@jupyter-widgets/base",
     "model_module_version": "1.2.0",
     "model_name": "LayoutModel",
     "state": {
      "_model_module": "@jupyter-widgets/base",
      "_model_module_version": "1.2.0",
      "_model_name": "LayoutModel",
      "_view_count": null,
      "_view_module": "@jupyter-widgets/base",
      "_view_module_version": "1.2.0",
      "_view_name": "LayoutView",
      "align_content": null,
      "align_items": null,
      "align_self": null,
      "border": null,
      "bottom": null,
      "display": null,
      "flex": null,
      "flex_flow": null,
      "grid_area": null,
      "grid_auto_columns": null,
      "grid_auto_flow": null,
      "grid_auto_rows": null,
      "grid_column": null,
      "grid_gap": null,
      "grid_row": null,
      "grid_template_areas": null,
      "grid_template_columns": null,
      "grid_template_rows": null,
      "height": null,
      "justify_content": null,
      "justify_items": null,
      "left": null,
      "margin": null,
      "max_height": null,
      "max_width": null,
      "min_height": null,
      "min_width": null,
      "object_fit": null,
      "object_position": null,
      "order": null,
      "overflow": null,
      "overflow_x": null,
      "overflow_y": null,
      "padding": null,
      "right": null,
      "top": null,
      "visibility": null,
      "width": null
     }
    },
    "b632f1ae4f6d4261881959a5f4df3b5f": {
     "model_module": "@jupyter-widgets/controls",
     "model_module_version": "1.5.0",
     "model_name": "DescriptionStyleModel",
     "state": {
      "_model_module": "@jupyter-widgets/controls",
      "_model_module_version": "1.5.0",
      "_model_name": "DescriptionStyleModel",
      "_view_count": null,
      "_view_module": "@jupyter-widgets/base",
      "_view_module_version": "1.2.0",
      "_view_name": "StyleView",
      "description_width": ""
     }
    },
    "b7c199039f6449c28d3b17821b25fc5a": {
     "model_module": "@jupyter-widgets/base",
     "model_module_version": "1.2.0",
     "model_name": "LayoutModel",
     "state": {
      "_model_module": "@jupyter-widgets/base",
      "_model_module_version": "1.2.0",
      "_model_name": "LayoutModel",
      "_view_count": null,
      "_view_module": "@jupyter-widgets/base",
      "_view_module_version": "1.2.0",
      "_view_name": "LayoutView",
      "align_content": null,
      "align_items": "center",
      "align_self": null,
      "border": null,
      "bottom": null,
      "display": "flex",
      "flex": null,
      "flex_flow": "column",
      "grid_area": null,
      "grid_auto_columns": null,
      "grid_auto_flow": null,
      "grid_auto_rows": null,
      "grid_column": null,
      "grid_gap": null,
      "grid_row": null,
      "grid_template_areas": null,
      "grid_template_columns": null,
      "grid_template_rows": null,
      "height": null,
      "justify_content": null,
      "justify_items": null,
      "left": null,
      "margin": null,
      "max_height": null,
      "max_width": null,
      "min_height": null,
      "min_width": null,
      "object_fit": null,
      "object_position": null,
      "order": null,
      "overflow": null,
      "overflow_x": null,
      "overflow_y": null,
      "padding": null,
      "right": null,
      "top": null,
      "visibility": null,
      "width": "50%"
     }
    },
    "b8be3f3c1e904e1186cee6002e6f6528": {
     "model_module": "@jupyter-widgets/controls",
     "model_module_version": "1.5.0",
     "model_name": "ButtonStyleModel",
     "state": {
      "_model_module": "@jupyter-widgets/controls",
      "_model_module_version": "1.5.0",
      "_model_name": "ButtonStyleModel",
      "_view_count": null,
      "_view_module": "@jupyter-widgets/base",
      "_view_module_version": "1.2.0",
      "_view_name": "StyleView",
      "button_color": null,
      "font_weight": ""
     }
    },
    "c609fc83f8f54b8088583fcc36b9d9aa": {
     "model_module": "@jupyter-widgets/controls",
     "model_module_version": "1.5.0",
     "model_name": "LabelModel",
     "state": {
      "_dom_classes": [],
      "_model_module": "@jupyter-widgets/controls",
      "_model_module_version": "1.5.0",
      "_model_name": "LabelModel",
      "_view_count": null,
      "_view_module": "@jupyter-widgets/controls",
      "_view_module_version": "1.5.0",
      "_view_name": "LabelView",
      "description": "",
      "description_tooltip": null,
      "layout": "IPY_MODEL_7297f5e8b983444aad7aa29bcb81e6af",
      "placeholder": "​",
      "style": "IPY_MODEL_73cc5c016e944030b7d76a52881fec12",
      "value": "Token is valid (permission: write)."
     }
    },
    "c737fd704b03447fbafed151e2c4dc20": {
     "model_module": "@jupyter-widgets/controls",
     "model_module_version": "1.5.0",
     "model_name": "DescriptionStyleModel",
     "state": {
      "_model_module": "@jupyter-widgets/controls",
      "_model_module_version": "1.5.0",
      "_model_name": "DescriptionStyleModel",
      "_view_count": null,
      "_view_module": "@jupyter-widgets/base",
      "_view_module_version": "1.2.0",
      "_view_name": "StyleView",
      "description_width": ""
     }
    },
    "cf214ca51c6e4e7a83e0e7c48af4de5d": {
     "model_module": "@jupyter-widgets/base",
     "model_module_version": "1.2.0",
     "model_name": "LayoutModel",
     "state": {
      "_model_module": "@jupyter-widgets/base",
      "_model_module_version": "1.2.0",
      "_model_name": "LayoutModel",
      "_view_count": null,
      "_view_module": "@jupyter-widgets/base",
      "_view_module_version": "1.2.0",
      "_view_name": "LayoutView",
      "align_content": null,
      "align_items": null,
      "align_self": null,
      "border": null,
      "bottom": null,
      "display": null,
      "flex": null,
      "flex_flow": null,
      "grid_area": null,
      "grid_auto_columns": null,
      "grid_auto_flow": null,
      "grid_auto_rows": null,
      "grid_column": null,
      "grid_gap": null,
      "grid_row": null,
      "grid_template_areas": null,
      "grid_template_columns": null,
      "grid_template_rows": null,
      "height": null,
      "justify_content": null,
      "justify_items": null,
      "left": null,
      "margin": null,
      "max_height": null,
      "max_width": null,
      "min_height": null,
      "min_width": null,
      "object_fit": null,
      "object_position": null,
      "order": null,
      "overflow": null,
      "overflow_x": null,
      "overflow_y": null,
      "padding": null,
      "right": null,
      "top": null,
      "visibility": null,
      "width": null
     }
    },
    "dd181ab8376d4768afae2feee5964589": {
     "model_module": "@jupyter-widgets/base",
     "model_module_version": "1.2.0",
     "model_name": "LayoutModel",
     "state": {
      "_model_module": "@jupyter-widgets/base",
      "_model_module_version": "1.2.0",
      "_model_name": "LayoutModel",
      "_view_count": null,
      "_view_module": "@jupyter-widgets/base",
      "_view_module_version": "1.2.0",
      "_view_name": "LayoutView",
      "align_content": null,
      "align_items": null,
      "align_self": null,
      "border": null,
      "bottom": null,
      "display": null,
      "flex": null,
      "flex_flow": null,
      "grid_area": null,
      "grid_auto_columns": null,
      "grid_auto_flow": null,
      "grid_auto_rows": null,
      "grid_column": null,
      "grid_gap": null,
      "grid_row": null,
      "grid_template_areas": null,
      "grid_template_columns": null,
      "grid_template_rows": null,
      "height": null,
      "justify_content": null,
      "justify_items": null,
      "left": null,
      "margin": null,
      "max_height": null,
      "max_width": null,
      "min_height": null,
      "min_width": null,
      "object_fit": null,
      "object_position": null,
      "order": null,
      "overflow": null,
      "overflow_x": null,
      "overflow_y": null,
      "padding": null,
      "right": null,
      "top": null,
      "visibility": null,
      "width": null
     }
    },
    "e21edc7c70bc4a0b8ca81b8ac5a1e0f4": {
     "model_module": "@jupyter-widgets/controls",
     "model_module_version": "1.5.0",
     "model_name": "HTMLModel",
     "state": {
      "_dom_classes": [],
      "_model_module": "@jupyter-widgets/controls",
      "_model_module_version": "1.5.0",
      "_model_name": "HTMLModel",
      "_view_count": null,
      "_view_module": "@jupyter-widgets/controls",
      "_view_module_version": "1.5.0",
      "_view_name": "HTMLView",
      "description": "",
      "description_tooltip": null,
      "layout": "IPY_MODEL_b372d43ff809418e90fb480bdde0e2fe",
      "placeholder": "​",
      "style": "IPY_MODEL_94c329b2b2034f1f84b16dd2a47f30b5",
      "value": "\n<b>Pro Tip:</b> If you don't already have one, you can create a dedicated\n'notebooks' token with 'write' access, that you can then easily reuse for all\nnotebooks. </center>"
     }
    },
    "e4700057e6c54809a18b744fe5e3a0d5": {
     "model_module": "@jupyter-widgets/controls",
     "model_module_version": "1.5.0",
     "model_name": "DescriptionStyleModel",
     "state": {
      "_model_module": "@jupyter-widgets/controls",
      "_model_module_version": "1.5.0",
      "_model_name": "DescriptionStyleModel",
      "_view_count": null,
      "_view_module": "@jupyter-widgets/base",
      "_view_module_version": "1.2.0",
      "_view_name": "StyleView",
      "description_width": ""
     }
    },
    "e69f4c9e49574196bef42c57891a4a00": {
     "model_module": "@jupyter-widgets/base",
     "model_module_version": "1.2.0",
     "model_name": "LayoutModel",
     "state": {
      "_model_module": "@jupyter-widgets/base",
      "_model_module_version": "1.2.0",
      "_model_name": "LayoutModel",
      "_view_count": null,
      "_view_module": "@jupyter-widgets/base",
      "_view_module_version": "1.2.0",
      "_view_name": "LayoutView",
      "align_content": null,
      "align_items": null,
      "align_self": null,
      "border": null,
      "bottom": null,
      "display": null,
      "flex": null,
      "flex_flow": null,
      "grid_area": null,
      "grid_auto_columns": null,
      "grid_auto_flow": null,
      "grid_auto_rows": null,
      "grid_column": null,
      "grid_gap": null,
      "grid_row": null,
      "grid_template_areas": null,
      "grid_template_columns": null,
      "grid_template_rows": null,
      "height": null,
      "justify_content": null,
      "justify_items": null,
      "left": null,
      "margin": null,
      "max_height": null,
      "max_width": null,
      "min_height": null,
      "min_width": null,
      "object_fit": null,
      "object_position": null,
      "order": null,
      "overflow": null,
      "overflow_x": null,
      "overflow_y": null,
      "padding": null,
      "right": null,
      "top": null,
      "visibility": null,
      "width": null
     }
    },
    "e92b73d4d94a4f889cbbb4de0f38ec46": {
     "model_module": "@jupyter-widgets/base",
     "model_module_version": "1.2.0",
     "model_name": "LayoutModel",
     "state": {
      "_model_module": "@jupyter-widgets/base",
      "_model_module_version": "1.2.0",
      "_model_name": "LayoutModel",
      "_view_count": null,
      "_view_module": "@jupyter-widgets/base",
      "_view_module_version": "1.2.0",
      "_view_name": "LayoutView",
      "align_content": null,
      "align_items": null,
      "align_self": null,
      "border": null,
      "bottom": null,
      "display": null,
      "flex": null,
      "flex_flow": null,
      "grid_area": null,
      "grid_auto_columns": null,
      "grid_auto_flow": null,
      "grid_auto_rows": null,
      "grid_column": null,
      "grid_gap": null,
      "grid_row": null,
      "grid_template_areas": null,
      "grid_template_columns": null,
      "grid_template_rows": null,
      "height": null,
      "justify_content": null,
      "justify_items": null,
      "left": null,
      "margin": null,
      "max_height": null,
      "max_width": null,
      "min_height": null,
      "min_width": null,
      "object_fit": null,
      "object_position": null,
      "order": null,
      "overflow": null,
      "overflow_x": null,
      "overflow_y": null,
      "padding": null,
      "right": null,
      "top": null,
      "visibility": null,
      "width": null
     }
    },
    "ec75231f1ade489ab8a1440d79fc0489": {
     "model_module": "@jupyter-widgets/base",
     "model_module_version": "1.2.0",
     "model_name": "LayoutModel",
     "state": {
      "_model_module": "@jupyter-widgets/base",
      "_model_module_version": "1.2.0",
      "_model_name": "LayoutModel",
      "_view_count": null,
      "_view_module": "@jupyter-widgets/base",
      "_view_module_version": "1.2.0",
      "_view_name": "LayoutView",
      "align_content": null,
      "align_items": null,
      "align_self": null,
      "border": null,
      "bottom": null,
      "display": null,
      "flex": null,
      "flex_flow": null,
      "grid_area": null,
      "grid_auto_columns": null,
      "grid_auto_flow": null,
      "grid_auto_rows": null,
      "grid_column": null,
      "grid_gap": null,
      "grid_row": null,
      "grid_template_areas": null,
      "grid_template_columns": null,
      "grid_template_rows": null,
      "height": null,
      "justify_content": null,
      "justify_items": null,
      "left": null,
      "margin": null,
      "max_height": null,
      "max_width": null,
      "min_height": null,
      "min_width": null,
      "object_fit": null,
      "object_position": null,
      "order": null,
      "overflow": null,
      "overflow_x": null,
      "overflow_y": null,
      "padding": null,
      "right": null,
      "top": null,
      "visibility": null,
      "width": null
     }
    }
   }
  }
 },
 "nbformat": 4,
 "nbformat_minor": 4
}
